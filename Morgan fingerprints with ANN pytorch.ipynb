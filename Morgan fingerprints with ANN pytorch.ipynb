{
 "cells": [
  {
   "cell_type": "markdown",
   "metadata": {},
   "source": [
    "# Importing libraries"
   ]
  },
  {
   "cell_type": "code",
   "execution_count": 1,
   "metadata": {},
   "outputs": [
    {
     "name": "stderr",
     "output_type": "stream",
     "text": [
      "C:\\Users\\prate\\anaconda3\\envs\\my-rdkit-env1\\lib\\site-packages\\tqdm\\auto.py:22: TqdmWarning: IProgress not found. Please update jupyter and ipywidgets. See https://ipywidgets.readthedocs.io/en/stable/user_install.html\n",
      "  from .autonotebook import tqdm as notebook_tqdm\n",
      "WARNING:root:No normalization for BCUT2D_MWHI\n",
      "WARNING:root:No normalization for BCUT2D_MWLOW\n",
      "WARNING:root:No normalization for BCUT2D_CHGHI\n",
      "WARNING:root:No normalization for BCUT2D_CHGLO\n",
      "WARNING:root:No normalization for BCUT2D_LOGPHI\n",
      "WARNING:root:No normalization for BCUT2D_LOGPLOW\n",
      "WARNING:root:No normalization for BCUT2D_MRHI\n",
      "WARNING:root:No normalization for BCUT2D_MRLOW\n"
     ]
    }
   ],
   "source": [
    "import os\n",
    "import chemprop\n",
    "import pandas as pd\n",
    "import numpy as np\n",
    "import matplotlib.pyplot as plt\n",
    "from matplotlib.offsetbox import AnchoredText\n",
    "from sklearn.metrics import mean_absolute_error, mean_squared_error\n",
    "from sklearn.decomposition import PCA              "
   ]
  },
  {
   "cell_type": "code",
   "execution_count": 2,
   "metadata": {},
   "outputs": [],
   "source": [
    "def plot_parity(y_true, y_pred, y_pred_unc=None):\n",
    "    \n",
    "    axmin = min(min(y_true), min(y_pred)) - 0.1*(max(y_true)-min(y_true))\n",
    "    axmax = max(max(y_true), max(y_pred)) + 0.1*(max(y_true)-min(y_true))\n",
    "    \n",
    "    mae = mean_absolute_error(y_true, y_pred)\n",
    "    rmse = mean_squared_error(y_true, y_pred, squared=False)\n",
    "    \n",
    "    plt.plot([axmin, axmax], [axmin, axmax], '--k')\n",
    "\n",
    "    plt.errorbar(y_true, y_pred, yerr=y_pred_unc, linewidth=0, marker='o', markeredgecolor='w', alpha=1, elinewidth=1)\n",
    "    \n",
    "    plt.xlim((axmin, axmax))\n",
    "    plt.ylim((axmin, axmax))\n",
    "    \n",
    "    ax = plt.gca()\n",
    "    ax.set_aspect('equal')\n",
    "    \n",
    "    at = AnchoredText(\n",
    "    f\"MAE = {mae:.2f}\\nRMSE = {rmse:.2f}\", prop=dict(size=10), frameon=True, loc='upper left')\n",
    "    at.patch.set_boxstyle(\"round,pad=0.,rounding_size=0.2\")\n",
    "    ax.add_artist(at)\n",
    "    \n",
    "    plt.xlabel('True')\n",
    "    plt.ylabel('Chemprop Predicted')\n",
    "    \n",
    "    plt.show()\n",
    "    \n",
    "    return"
   ]
  },
  {
   "cell_type": "markdown",
   "metadata": {},
   "source": [
    "# Generating Mordred descriptors"
   ]
  },
  {
   "cell_type": "code",
   "execution_count": 3,
   "metadata": {},
   "outputs": [
    {
     "data": {
      "text/html": [
       "<div>\n",
       "<style scoped>\n",
       "    .dataframe tbody tr th:only-of-type {\n",
       "        vertical-align: middle;\n",
       "    }\n",
       "\n",
       "    .dataframe tbody tr th {\n",
       "        vertical-align: top;\n",
       "    }\n",
       "\n",
       "    .dataframe thead th {\n",
       "        text-align: right;\n",
       "    }\n",
       "</style>\n",
       "<table border=\"1\" class=\"dataframe\">\n",
       "  <thead>\n",
       "    <tr style=\"text-align: right;\">\n",
       "      <th></th>\n",
       "      <th>p(SMILES)</th>\n",
       "      <th>n(SMILES)</th>\n",
       "    </tr>\n",
       "  </thead>\n",
       "  <tbody>\n",
       "    <tr>\n",
       "      <th>0</th>\n",
       "      <td>CC1=CC(CCCCCC)=C(C)S1</td>\n",
       "      <td>O=C1N(CCCCCC)C(C2=C1N=CC(C#CC3=CC=C(C#CC(C=C4)...</td>\n",
       "    </tr>\n",
       "    <tr>\n",
       "      <th>1</th>\n",
       "      <td>O=C(OCC(CC)CCCC)C1=C(F)C2=C(C)SC(C3=CC4=C(C(C5...</td>\n",
       "      <td>O=C(N(C(CCCCC)CCCCC)C1=O)C2=CC3=C(C4=C5C=CC1C4...</td>\n",
       "    </tr>\n",
       "    <tr>\n",
       "      <th>2</th>\n",
       "      <td>CC1=CC(CCCCCC)=C(C)S1</td>\n",
       "      <td>CCCCCCC(C=C1)=CC=C1C2(C3=CC=C(CCCCCC)C=C3)C4=C...</td>\n",
       "    </tr>\n",
       "    <tr>\n",
       "      <th>3</th>\n",
       "      <td>CC1=CC(C(S1)=C2C3=CC(Cl)=C(CC(CC)CCCC)S3)=C(C4...</td>\n",
       "      <td>CCCCCCC(C=C1)=CC=C1C2(C3=CC=C(CCCCCC)C=C3)C4=C...</td>\n",
       "    </tr>\n",
       "    <tr>\n",
       "      <th>4</th>\n",
       "      <td>CC1=CC2=C(S1)C(C3=CC=C(SCCCCCCCC)S3)=C4C(OC(C5...</td>\n",
       "      <td>O=C(/C(S1)=C/C(C2=NSN=C32)=CC=C3C(S4)=CC5=C4C6...</td>\n",
       "    </tr>\n",
       "    <tr>\n",
       "      <th>...</th>\n",
       "      <td>...</td>\n",
       "      <td>...</td>\n",
       "    </tr>\n",
       "    <tr>\n",
       "      <th>127</th>\n",
       "      <td>O=C(OCC(CC)CCCC)C1=C(F)C2=C(C)SC(C3=CC4=C(C(C5...</td>\n",
       "      <td>CCCCCCC(C=C1)=CC=C1C(C2=C3SC(C4=C(CC(CC)CCCC)C...</td>\n",
       "    </tr>\n",
       "    <tr>\n",
       "      <th>128</th>\n",
       "      <td>CC(SC1=C2C3=CC=C(CC(CC)CCCC)S3)=CC1=C(C4=CC=C(...</td>\n",
       "      <td>O=C1C2=C(C(/C1=C/C3=CC4=C(C5=CC6=C(C=C5C4(C7=C...</td>\n",
       "    </tr>\n",
       "    <tr>\n",
       "      <th>129</th>\n",
       "      <td>CC1=CC(CCCCCC)=C(C)S1</td>\n",
       "      <td>O=C1C(C2=C(C3=CC=CS3)N1CCCCCCCCCCCC)=C(C4=CC=C...</td>\n",
       "    </tr>\n",
       "    <tr>\n",
       "      <th>130</th>\n",
       "      <td>CC(SC1=C2C3=CC=C(CC(CC)CCCC)S3)=CC1=C(C4=CC=C(...</td>\n",
       "      <td>CCCCCCC(C=C1)=CC=C1C(C2=CC=C(CCCCCC)C=C2)(O3)C...</td>\n",
       "    </tr>\n",
       "    <tr>\n",
       "      <th>131</th>\n",
       "      <td>CC1=CC(CC(CC)CCCC)=C(C2=NC(SC(C3=C(CC(CCCC)CC)...</td>\n",
       "      <td>O=C(N(CC(CCCCCCCCCC)CCCCCCCCCCCC)C1=O)C2=CC=C3...</td>\n",
       "    </tr>\n",
       "  </tbody>\n",
       "</table>\n",
       "<p>132 rows × 2 columns</p>\n",
       "</div>"
      ],
      "text/plain": [
       "                                             p(SMILES)  \\\n",
       "0                                CC1=CC(CCCCCC)=C(C)S1   \n",
       "1    O=C(OCC(CC)CCCC)C1=C(F)C2=C(C)SC(C3=CC4=C(C(C5...   \n",
       "2                                CC1=CC(CCCCCC)=C(C)S1   \n",
       "3    CC1=CC(C(S1)=C2C3=CC(Cl)=C(CC(CC)CCCC)S3)=C(C4...   \n",
       "4    CC1=CC2=C(S1)C(C3=CC=C(SCCCCCCCC)S3)=C4C(OC(C5...   \n",
       "..                                                 ...   \n",
       "127  O=C(OCC(CC)CCCC)C1=C(F)C2=C(C)SC(C3=CC4=C(C(C5...   \n",
       "128  CC(SC1=C2C3=CC=C(CC(CC)CCCC)S3)=CC1=C(C4=CC=C(...   \n",
       "129                              CC1=CC(CCCCCC)=C(C)S1   \n",
       "130  CC(SC1=C2C3=CC=C(CC(CC)CCCC)S3)=CC1=C(C4=CC=C(...   \n",
       "131  CC1=CC(CC(CC)CCCC)=C(C2=NC(SC(C3=C(CC(CCCC)CC)...   \n",
       "\n",
       "                                             n(SMILES)  \n",
       "0    O=C1N(CCCCCC)C(C2=C1N=CC(C#CC3=CC=C(C#CC(C=C4)...  \n",
       "1    O=C(N(C(CCCCC)CCCCC)C1=O)C2=CC3=C(C4=C5C=CC1C4...  \n",
       "2    CCCCCCC(C=C1)=CC=C1C2(C3=CC=C(CCCCCC)C=C3)C4=C...  \n",
       "3    CCCCCCC(C=C1)=CC=C1C2(C3=CC=C(CCCCCC)C=C3)C4=C...  \n",
       "4    O=C(/C(S1)=C/C(C2=NSN=C32)=CC=C3C(S4)=CC5=C4C6...  \n",
       "..                                                 ...  \n",
       "127  CCCCCCC(C=C1)=CC=C1C(C2=C3SC(C4=C(CC(CC)CCCC)C...  \n",
       "128  O=C1C2=C(C(/C1=C/C3=CC4=C(C5=CC6=C(C=C5C4(C7=C...  \n",
       "129  O=C1C(C2=C(C3=CC=CS3)N1CCCCCCCCCCCC)=C(C4=CC=C...  \n",
       "130  CCCCCCC(C=C1)=CC=C1C(C2=CC=C(CCCCCC)C=C2)(O3)C...  \n",
       "131  O=C(N(CC(CCCCCCCCCC)CCCCCCCCCCCC)C1=O)C2=CC=C3...  \n",
       "\n",
       "[132 rows x 2 columns]"
      ]
     },
     "execution_count": 3,
     "metadata": {},
     "output_type": "execute_result"
    }
   ],
   "source": [
    "import pandas as pd\n",
    "import numpy as np\n",
    "\n",
    "X_train = pd.read_csv('test_checkpoints_reg/fold_0/train_full.csv')\n",
    "X_train = X_train.drop(['PCE_max(%)'], axis = 1)\n",
    "X_train = X_train.drop([191])  # Mordred is  not able to calculate descriptors for acceptor at this posotion\n",
    "X_train\n",
    "\n",
    "X_val=pd.read_csv('test_checkpoints_reg/fold_0/val_full.csv')\n",
    "X_val = X_val.drop(['PCE_max(%)'], axis = 1)\n",
    "X_val\n",
    "\n",
    "X_test=pd.read_csv('test_checkpoints_reg/fold_0/test_full.csv')\n",
    "X_test = X_test.drop(['PCE_max(%)'], axis = 1)\n",
    "X_test"
   ]
  },
  {
   "cell_type": "code",
   "execution_count": 4,
   "metadata": {},
   "outputs": [
    {
     "name": "stderr",
     "output_type": "stream",
     "text": [
      "  0%|                                                                                         | 0/1053 [00:00<?, ?it/s]C:\\Users\\prate\\anaconda3\\envs\\my-rdkit-env1\\lib\\site-packages\\ipykernel_launcher.py:14: DeprecationWarning: `np.int` is a deprecated alias for the builtin `int`. To silence this warning, use `int` by itself. Doing this will not modify any behavior and is safe. When replacing `np.int`, you may wish to use e.g. `np.int64` or `np.int32` to specify the precision. If you wish to review your current use, check the release note link for additional information.\n",
      "Deprecated in NumPy 1.20; for more details and guidance: https://numpy.org/devdocs/release/1.20.0-notes.html#deprecations\n",
      "  \n",
      "100%|█████████████████████████████████████████████████████████████████████████████| 1053/1053 [00:01<00:00, 796.92it/s]\n",
      "100%|██████████████████████████████████████████████████████████████████████████████| 1053/1053 [00:14<00:00, 71.86it/s]\n",
      "100%|███████████████████████████████████████████████████████████████████████████████| 132/132 [00:00<00:00, 839.02it/s]\n",
      "100%|███████████████████████████████████████████████████████████████████████████████| 132/132 [00:00<00:00, 467.00it/s]\n",
      "100%|███████████████████████████████████████████████████████████████████████████████| 132/132 [00:00<00:00, 842.41it/s]\n",
      "100%|███████████████████████████████████████████████████████████████████████████████| 132/132 [00:00<00:00, 442.47it/s]\n"
     ]
    }
   ],
   "source": [
    "from rdkit import Chem, DataStructs\n",
    "from rdkit.Chem import AllChem\n",
    "from tqdm import tqdm\n",
    "\n",
    "def fp_list_from_smiles_list(smiles_list,n_bits=512):                        # This code snippet is taken from http://practicalcheminformatics.blogspot.com/2019/11/visualizing-chemical-space.html\n",
    "    fp_list = []\n",
    "    for smiles in tqdm(smiles_list):\n",
    "        mol = Chem.MolFromSmiles(smiles)\n",
    "        fp_list.append(fp_as_array(mol,n_bits))\n",
    "    return fp_list\n",
    "\n",
    "def fp_as_array(mol,n_bits=512):\n",
    "    fp = AllChem.GetMorganFingerprintAsBitVect(mol, 2, nBits=n_bits)\n",
    "    arr = np.zeros((1,), np.int)\n",
    "    DataStructs.ConvertToNumpyArray(fp, arr)\n",
    "    return arr\n",
    "\n",
    "donor_morgan_fp = fp_list_from_smiles_list(X_train['p(SMILES)'])\n",
    "donor_morgan_fp_train = pd.DataFrame(donor_morgan_fp)\n",
    "\n",
    "acceptor_morgan_fp = fp_list_from_smiles_list(X_train['n(SMILES)'])\n",
    "acceptor_morgan_fp_train = pd.DataFrame(acceptor_morgan_fp)\n",
    "\n",
    "frames_train = [donor_morgan_fp_train, acceptor_morgan_fp_train]\n",
    "X_train_morgan = pd.concat(frames_train, axis =1)\n",
    "\n",
    "\n",
    "\n",
    "donor_morgan_fp = fp_list_from_smiles_list(X_val['p(SMILES)'])\n",
    "donor_morgan_fp_val = pd.DataFrame(donor_morgan_fp)\n",
    "\n",
    "acceptor_morgan_fp = fp_list_from_smiles_list(X_val['n(SMILES)'])\n",
    "acceptor_morgan_fp_val = pd.DataFrame(acceptor_morgan_fp)\n",
    "\n",
    "frames_val = [donor_morgan_fp_val, acceptor_morgan_fp_val]\n",
    "X_val_morgan = pd.concat(frames_val, axis =1)\n",
    "\n",
    "\n",
    "\n",
    "\n",
    "donor_morgan_fp = fp_list_from_smiles_list(X_test['p(SMILES)'])\n",
    "donor_morgan_fp_test = pd.DataFrame(donor_morgan_fp)\n",
    "\n",
    "acceptor_morgan_fp = fp_list_from_smiles_list(X_test['n(SMILES)'])\n",
    "acceptor_morgan_fp_test = pd.DataFrame(acceptor_morgan_fp)\n",
    "\n",
    "frames_test = [donor_morgan_fp_test, acceptor_morgan_fp_test]\n",
    "X_test_morgan = pd.concat(frames_test, axis =1)\n",
    "\n",
    "X_train_morgan.to_csv('X_train_morgan.csv')\n",
    "X_val_morgan.to_csv('X_val_morgan.csv')\n",
    "X_test_morgan.to_csv('X_test_morgan.csv')\n"
   ]
  },
  {
   "cell_type": "code",
   "execution_count": 5,
   "metadata": {},
   "outputs": [],
   "source": [
    "all_data = pd.concat([X_train_morgan,X_val_morgan,X_test_morgan])"
   ]
  },
  {
   "cell_type": "code",
   "execution_count": 6,
   "metadata": {},
   "outputs": [
    {
     "name": "stdout",
     "output_type": "stream",
     "text": [
      "Features with zero standard deviation : 86\n",
      "Features selected by using variance threshold of 0.8 : 126\n"
     ]
    }
   ],
   "source": [
    "all_data=all_data.select_dtypes(exclude=object)\n",
    "all_data= all_data.replace([np.inf, -np.inf], np.nan)\n",
    "all_data=all_data.dropna()\n",
    "all_data= all_data.replace(np.nan,0)\n",
    "print('Features with zero standard deviation :',len(all_data.std()[all_data.std() == 0]))\n",
    "all_data=all_data.drop(all_data.std()[all_data.std() == 0].index.values, axis=1)   #To remove columns with std deviation equals to zero\n",
    "\n",
    "from sklearn.feature_selection import VarianceThreshold\n",
    "sel = VarianceThreshold(threshold=(.8 * (1 - .8)))\n",
    "a=sel.fit_transform(all_data)\n",
    "sel.get_support()\n",
    "features = all_data.columns[sel.get_support()]\n",
    "print('Features selected by using variance threshold of 0.8 :',len(features))\n",
    "f = features\n",
    "\n",
    "\n",
    "X_train = X_train_morgan[f]\n",
    "X_val = X_val_morgan[f]\n",
    "X_test = X_test_morgan[f]"
   ]
  },
  {
   "cell_type": "code",
   "execution_count": 7,
   "metadata": {},
   "outputs": [],
   "source": [
    "y_train=pd.read_csv('test_checkpoints_reg/fold_0/train_full.csv')\n",
    "y_train = y_train.drop(['p(SMILES)', 'n(SMILES)'], axis = 1)\n",
    "y_train=y_train.drop([191])  # Mordred is  not able to calculate descriptors for acceptor at this posotion\n",
    "\n",
    "y_val=pd.read_csv('test_checkpoints_reg/fold_0/val_full.csv')\n",
    "y_val = y_val.drop(['p(SMILES)', 'n(SMILES)'], axis = 1)\n",
    "\n",
    "y_test=pd.read_csv('test_checkpoints_reg/fold_0/test_full.csv')\n",
    "y_test = y_test.drop(['p(SMILES)', 'n(SMILES)'], axis = 1)"
   ]
  },
  {
   "cell_type": "code",
   "execution_count": null,
   "metadata": {},
   "outputs": [],
   "source": []
  },
  {
   "cell_type": "code",
   "execution_count": 8,
   "metadata": {
    "id": "zO_eW3JMRpx9"
   },
   "outputs": [],
   "source": [
    "# import pandas as pd\n",
    "# import numpy as np\n",
    "\n",
    "# X_train = pd.read_csv('test_checkpoints_reg/fold_0/train_full.csv')\n",
    "# X_train = X_train.drop(['PCE_max(%)'], axis = 1)\n",
    "# X_train = X_train.drop([191])  # Mordred is  not able to calculate descriptors for acceptor at this posotion\n",
    "# X_train\n",
    "\n",
    "# X_val=pd.read_csv('test_checkpoints_reg/fold_0/val_full.csv')\n",
    "# X_val = X_val.drop(['PCE_max(%)'], axis = 1)\n",
    "# X_val\n",
    "\n",
    "# X_test=pd.read_csv('test_checkpoints_reg/fold_0/test_full.csv')\n",
    "# X_test = X_test.drop(['PCE_max(%)'], axis = 1)\n",
    "# X_test\n",
    "\n",
    "\n",
    "# from rdkit.Chem import Descriptors\n",
    "# from rdkit import Chem\n",
    "# from rdkit.Chem import Draw\n",
    "# from rdkit.Chem.Draw import IPythonConsole\n",
    "# from mordred import Calculator,descriptors\n",
    "\n",
    "\n",
    "# from rdkit.ML.Descriptors import MoleculeDescriptors\n",
    "# des_list = [x[0] for x in Descriptors._descList]\n",
    "\n",
    "# # Calculating Mordred descriptors for donors and acceptors\n",
    "# def mordred_des(d,a):\n",
    "\n",
    "#     smis = d   \n",
    "#     mols = []\n",
    "#     for smi in smis:\n",
    "#         mols.append(Chem.MolFromSmiles(smi))\n",
    "        \n",
    "#     calc_d = Calculator(descriptors,ignore_3D=True)\n",
    "    \n",
    "# #     return calc_d.pandas(mols)\n",
    "\n",
    "\n",
    "#     smis = a   \n",
    "#     mols = []\n",
    "#     for smi in smis:\n",
    "#         mols.append(Chem.MolFromSmiles(smi))\n",
    "        \n",
    "#     calc_a = Calculator(descriptors,ignore_3D=True)\n",
    "    \n",
    "#     return pd.concat([calc_d.pandas(mols),calc_a.pandas(mols)], axis=1)\n",
    "\n",
    "\n",
    "# D_smiles = X_train[\"p(SMILES)\"]\n",
    "# A_smiles = X_train[\"n(SMILES)\"]\n",
    "# X_train_mordred = mordred_des(D_smiles,A_smiles)\n",
    "\n",
    "# D_smiles = X_val[\"p(SMILES)\"]\n",
    "# A_smiles = X_val[\"n(SMILES)\"]\n",
    "# X_val_mordred = mordred_des(D_smiles,A_smiles)\n",
    "\n",
    "# D_smiles = X_test[\"p(SMILES)\"]\n",
    "# A_smiles = X_test[\"n(SMILES)\"]\n",
    "# X_test_mordred = mordred_des(D_smiles,A_smiles)\n",
    "\n",
    "# X_train_mordred.to_csv('X_train_mordred.csv')\n",
    "# X_val_mordred.to_csv('X_val_mordred.csv')\n",
    "# X_test_mordred.to_csv('X_test_mordred.csv')"
   ]
  },
  {
   "cell_type": "markdown",
   "metadata": {},
   "source": [
    "# Using saved files for Mordred descriptors"
   ]
  },
  {
   "cell_type": "code",
   "execution_count": 9,
   "metadata": {},
   "outputs": [],
   "source": [
    "# X_train_mordred = pd.read_csv('X_train_mordred.csv')\n",
    "# X_val_mordred = pd.read_csv('X_val_mordred.csv')\n",
    "# X_test_mordred = pd.read_csv('X_test_mordred.csv')"
   ]
  },
  {
   "cell_type": "code",
   "execution_count": 10,
   "metadata": {},
   "outputs": [],
   "source": [
    "y_train=pd.read_csv('test_checkpoints_reg/fold_0/train_full.csv')\n",
    "y_train = y_train.drop(['p(SMILES)', 'n(SMILES)'], axis = 1)\n",
    "y_train=y_train.drop([191])  # Mordred is  not able to calculate descriptors for acceptor at this posotion\n",
    "\n",
    "y_val=pd.read_csv('test_checkpoints_reg/fold_0/val_full.csv')\n",
    "y_val = y_val.drop(['p(SMILES)', 'n(SMILES)'], axis = 1)\n",
    "\n",
    "y_test=pd.read_csv('test_checkpoints_reg/fold_0/test_full.csv')\n",
    "y_test = y_test.drop(['p(SMILES)', 'n(SMILES)'], axis = 1)"
   ]
  },
  {
   "cell_type": "code",
   "execution_count": 11,
   "metadata": {},
   "outputs": [],
   "source": [
    "# all_data = pd.concat([X_train_mordred,X_val_mordred,X_test_mordred])\n",
    "\n",
    "# all_data=all_data.select_dtypes(include='number')  \n",
    "# print('Features with zero standard deviation :',len(all_data.std()[all_data.std() == 0])) #displaying features with zero std deviation\n",
    "# all_data=all_data.drop(all_data.std()[all_data.std() == 0].index.values, axis=1)  # Dropping features with zero std deviation\n",
    "# all_data = all_data.replace([np.inf, -np.inf], np.nan)\n",
    "# all_data = all_data.replace(np.nan,0)  #replace null values with zero\n",
    "\n",
    "# def correlation(dataset, threshold):\n",
    "#     col_corr = set()  # Set of all the names of correlated columns\n",
    "#     corr_matrix = dataset.corr()\n",
    "#     for i in range(len(corr_matrix.columns)):\n",
    "#         for j in range(i):\n",
    "#             if (corr_matrix.iloc[i, j]) > threshold: # we are interested in absolute coeff value\n",
    "#                 colname = corr_matrix.columns[i]  # getting the name of column\n",
    "#                 col_corr.add(colname)\n",
    "#     return col_corr\n",
    "# corr_features = correlation(all_data, 0.8)\n",
    "# print('Features with correlation more than 0.8 :',len(set(corr_features)))\n",
    "# all_data=all_data.drop(corr_features,axis=1)   # Dropping features with correlation more than 0.8\n",
    "\n",
    "# X_train=X_train_mordred[all_data.columns]\n",
    "# X_val=X_val_mordred[all_data.columns]\n",
    "# X_test=X_test_mordred[all_data.columns]"
   ]
  },
  {
   "cell_type": "code",
   "execution_count": 12,
   "metadata": {},
   "outputs": [],
   "source": [
    "# X_train[np.isinf(X_train).any(1)]"
   ]
  },
  {
   "cell_type": "code",
   "execution_count": 13,
   "metadata": {},
   "outputs": [],
   "source": [
    "# Defining Metrics\n",
    "def R2Score(X,Y):\n",
    "    r2=metrics.r2_score(X,Y)\n",
    "    return r2\n",
    "def PearsonCoefficient(X, Y):\n",
    "    corr, _ = pearsonr(X,Y)\n",
    "    return corr\n",
    "def MSE(X,Y):\n",
    "    mse=mean_squared_error(X,Y)\n",
    "    return mse\n",
    "def RMSE(X,Y):\n",
    "    rmse=np.sqrt(mean_squared_error(X,Y))\n",
    "    return rmse\n",
    "def MAPE(X,Y):\n",
    "    mape=np.average(abs(np.array(X)-np.array(Y))/np.array(Y))*100\n",
    "    return mape\n",
    "\n",
    "\n",
    "from sklearn.metrics import r2_score\n",
    "import sklearn.metrics as metrics\n",
    "from scipy.stats.stats import pearsonr"
   ]
  },
  {
   "cell_type": "code",
   "execution_count": null,
   "metadata": {},
   "outputs": [],
   "source": []
  },
  {
   "cell_type": "code",
   "execution_count": 14,
   "metadata": {},
   "outputs": [],
   "source": [
    "import torch\n",
    "import torch.nn as nn\n",
    "import torch.optim as optim\n",
    "import pandas as pd\n",
    "from sklearn.preprocessing import StandardScaler\n"
   ]
  },
  {
   "cell_type": "code",
   "execution_count": 15,
   "metadata": {},
   "outputs": [],
   "source": [
    "# Normalize input variables using StandardScaler\n",
    "scaler = StandardScaler()\n",
    "X_train = scaler.fit_transform(X_train)\n",
    "X_val = scaler.transform(X_val)\n",
    "X_test = scaler.transform(X_test)"
   ]
  },
  {
   "cell_type": "code",
   "execution_count": 16,
   "metadata": {},
   "outputs": [
    {
     "data": {
      "text/plain": [
       "<torch._C.Generator at 0x1e353762390>"
      ]
     },
     "execution_count": 16,
     "metadata": {},
     "output_type": "execute_result"
    }
   ],
   "source": [
    "import torch.nn.functional as F\n",
    "class ANN(nn.Module):\n",
    "    \n",
    "    def __init__(self, input_size):\n",
    "        super(ANN, self).__init__()\n",
    "        self.layer1 = nn.Linear(input_size, 64)\n",
    "        self.layer2 = nn.Linear(64, 32)\n",
    "        self.out = nn.Linear(32, 1)\n",
    "    \n",
    "    def forward(self, x):\n",
    "        x = F.relu(self.layer1(x))\n",
    "        x = F.relu(self.layer2(x))\n",
    "        x = self.out(x)\n",
    "        return x\n",
    "\n",
    "\n",
    "torch.manual_seed(42)\n",
    "# ANN = ANN()\n",
    "# net=net.cuda()"
   ]
  },
  {
   "cell_type": "code",
   "execution_count": 17,
   "metadata": {},
   "outputs": [],
   "source": [
    "input_size = X_train.shape[1]\n",
    "model = ANN(input_size)\n",
    "\n",
    "learning_rate = 0.001\n",
    "criterion = nn.MSELoss()\n",
    "optimizer = optim.SGD(model.parameters(), lr=learning_rate)\n"
   ]
  },
  {
   "cell_type": "code",
   "execution_count": 18,
   "metadata": {},
   "outputs": [],
   "source": [
    "X_train = torch.tensor(X_train).type(torch.float32)\n",
    "y_train = torch.tensor(np.array(y_train)).type(torch.float32)\n",
    "\n",
    "X_val = torch.tensor(X_val).type(torch.float32)\n",
    "y_val = torch.tensor(np.array(y_val)).type(torch.float32)\n",
    "\n",
    "X_test = torch.tensor(X_test).type(torch.float32)\n",
    "y_test = torch.tensor(np.array(y_test)).type(torch.float32)"
   ]
  },
  {
   "cell_type": "code",
   "execution_count": 19,
   "metadata": {},
   "outputs": [],
   "source": [
    "# # Train the model\n",
    "# n_epochs = 400\n",
    "# train_losses = []\n",
    "# val_losses = []\n",
    "\n",
    "# for epoch in range(n_epochs):\n",
    "#     # Train the model\n",
    "#     model.train()\n",
    "#     optimizer.zero_grad()\n",
    "#     y_pred_train = model(X_train)\n",
    "#     loss_train = criterion(y_pred_train.squeeze(), y_train.squeeze())\n",
    "#     loss_train.backward()\n",
    "#     optimizer.step()\n",
    "#     train_losses.append(loss_train.item())\n",
    "\n",
    "#     # Evaluate the model on validation set\n",
    "#     model.eval()\n",
    "#     with torch.no_grad():\n",
    "#         y_pred_val = model(X_val)\n",
    "#         loss_val = criterion(y_pred_val.squeeze(), y_val.squeeze())\n",
    "#         val_losses.append(loss_val.item())\n",
    "\n",
    "#     # Print progress\n",
    "#     if epoch % 10 == 0:\n",
    "#         print(f\"Epoch {epoch} - Train Loss: {loss_train.item():.4f}, Validation Loss: {loss_val.item():.4f}\")"
   ]
  },
  {
   "cell_type": "code",
   "execution_count": 20,
   "metadata": {},
   "outputs": [
    {
     "name": "stdout",
     "output_type": "stream",
     "text": [
      "Epoch 0 - Train Loss: 79.8748, Validation Loss: 77.7794\n",
      "Epoch 10 - Train Loss: 74.4383, Validation Loss: 72.4045\n",
      "Epoch 20 - Train Loss: 68.4978, Validation Loss: 66.3847\n",
      "Epoch 30 - Train Loss: 60.1281, Validation Loss: 57.7362\n",
      "Epoch 40 - Train Loss: 46.0507, Validation Loss: 43.1282\n",
      "Epoch 50 - Train Loss: 24.9670, Validation Loss: 22.3706\n",
      "Epoch 60 - Train Loss: 11.8452, Validation Loss: 10.9742\n",
      "Epoch 70 - Train Loss: 8.6400, Validation Loss: 8.2395\n",
      "Epoch 80 - Train Loss: 7.5020, Validation Loss: 7.2595\n",
      "Epoch 90 - Train Loss: 6.9437, Validation Loss: 6.8087\n",
      "Epoch 100 - Train Loss: 6.5950, Validation Loss: 6.5568\n",
      "Epoch 110 - Train Loss: 6.3395, Validation Loss: 6.3842\n",
      "Epoch 120 - Train Loss: 6.1353, Validation Loss: 6.2567\n",
      "Epoch 130 - Train Loss: 5.9648, Validation Loss: 6.1589\n",
      "Epoch 140 - Train Loss: 5.8179, Validation Loss: 6.0818\n",
      "Epoch 150 - Train Loss: 5.6904, Validation Loss: 6.0215\n",
      "Epoch 160 - Train Loss: 5.5777, Validation Loss: 5.9733\n",
      "Epoch 170 - Train Loss: 5.4775, Validation Loss: 5.9322\n",
      "Epoch 180 - Train Loss: 5.3866, Validation Loss: 5.8965\n",
      "Epoch 190 - Train Loss: 5.3031, Validation Loss: 5.8656\n",
      "Epoch 200 - Train Loss: 5.2254, Validation Loss: 5.8388\n",
      "Epoch 210 - Train Loss: 5.1521, Validation Loss: 5.8136\n",
      "Epoch 220 - Train Loss: 5.0824, Validation Loss: 5.7919\n",
      "Epoch 230 - Train Loss: 5.0164, Validation Loss: 5.7715\n",
      "Epoch 240 - Train Loss: 4.9541, Validation Loss: 5.7523\n",
      "Epoch 250 - Train Loss: 4.8949, Validation Loss: 5.7340\n",
      "Epoch 260 - Train Loss: 4.8379, Validation Loss: 5.7170\n",
      "Epoch 270 - Train Loss: 4.7832, Validation Loss: 5.7005\n",
      "Epoch 280 - Train Loss: 4.7305, Validation Loss: 5.6842\n",
      "Epoch 290 - Train Loss: 4.6799, Validation Loss: 5.6695\n",
      "Epoch 300 - Train Loss: 4.6312, Validation Loss: 5.6562\n",
      "Epoch 310 - Train Loss: 4.5844, Validation Loss: 5.6434\n",
      "Epoch 320 - Train Loss: 4.5392, Validation Loss: 5.6310\n",
      "Epoch 330 - Train Loss: 4.4952, Validation Loss: 5.6191\n",
      "Epoch 340 - Train Loss: 4.4525, Validation Loss: 5.6087\n",
      "Epoch 350 - Train Loss: 4.4112, Validation Loss: 5.6000\n",
      "Epoch 360 - Train Loss: 4.3707, Validation Loss: 5.5914\n",
      "Epoch 370 - Train Loss: 4.3310, Validation Loss: 5.5820\n",
      "Epoch 380 - Train Loss: 4.2925, Validation Loss: 5.5723\n",
      "Epoch 390 - Train Loss: 4.2552, Validation Loss: 5.5634\n"
     ]
    }
   ],
   "source": [
    "# Train the model\n",
    "n_epochs = 400\n",
    "train_losses = []\n",
    "val_losses = []\n",
    "patience = 10  # number of epochs to wait for validation loss improvement before stopping early\n",
    "best_val_loss = float('inf')\n",
    "best_model = None\n",
    "no_improvement_count = 0  # count of epochs with no improvement in validation loss\n",
    "\n",
    "for epoch in range(n_epochs):\n",
    "    # Train the model\n",
    "    model.train()\n",
    "    optimizer.zero_grad()\n",
    "    y_pred_train = model(X_train)\n",
    "    loss_train = criterion(y_pred_train.squeeze(), y_train.squeeze())\n",
    "    loss_train.backward()\n",
    "    optimizer.step()\n",
    "    train_losses.append(loss_train.item())\n",
    "\n",
    "    # Evaluate the model on validation set\n",
    "    model.eval()\n",
    "    with torch.no_grad():\n",
    "        y_pred_val = model(X_val)\n",
    "        loss_val = criterion(y_pred_val.squeeze(), y_val.squeeze())\n",
    "        val_losses.append(loss_val.item())\n",
    "\n",
    "    # Print progress\n",
    "    if epoch % 10 == 0:\n",
    "        print(f\"Epoch {epoch} - Train Loss: {loss_train.item():.4f}, Validation Loss: {loss_val.item():.4f}\")\n",
    "        "
   ]
  },
  {
   "cell_type": "code",
   "execution_count": 21,
   "metadata": {},
   "outputs": [
    {
     "name": "stdout",
     "output_type": "stream",
     "text": [
      "Test Loss: 5.5614\n"
     ]
    }
   ],
   "source": [
    "# Load the best model (based on validation loss) and evaluate on test data\n",
    "model.eval()\n",
    "with torch.no_grad():\n",
    "    y_pred_test = model(X_test)\n",
    "    loss_test = criterion(y_pred_test.squeeze(), y_test.squeeze())\n",
    "print(f\"Test Loss: {loss_test.item():.4f}\")"
   ]
  },
  {
   "cell_type": "code",
   "execution_count": 22,
   "metadata": {},
   "outputs": [
    {
     "data": {
      "image/png": "[encoded data removed]",
      "text/plain": [
       "<Figure size 432x288 with 1 Axes>"
      ]
     },
     "metadata": {
      "needs_background": "light"
     },
     "output_type": "display_data"
    }
   ],
   "source": [
    "# Plot the training and validation loss curves\n",
    "import matplotlib.pyplot as plt\n",
    "plt.plot(train_losses, label='Train')\n",
    "plt.plot(val_losses, label='Validation')\n",
    "plt.xlabel('Epoch')\n",
    "plt.ylabel('Loss')\n",
    "plt.legend()\n",
    "plt.show()"
   ]
  },
  {
   "cell_type": "code",
   "execution_count": 23,
   "metadata": {},
   "outputs": [],
   "source": [
    "y_pred_test = model(torch.Tensor(X_test))"
   ]
  },
  {
   "cell_type": "code",
   "execution_count": 24,
   "metadata": {},
   "outputs": [],
   "source": [
    "y_test = y_test.reshape(132)\n",
    "y_pred_test = y_pred_test.reshape(132)"
   ]
  },
  {
   "cell_type": "code",
   "execution_count": 25,
   "metadata": {},
   "outputs": [
    {
     "data": {
      "text/plain": [
       "<matplotlib.collections.PathCollection at 0x1e37d579408>"
      ]
     },
     "execution_count": 25,
     "metadata": {},
     "output_type": "execute_result"
    },
    {
     "data": {
      "image/png": "[encoded data removed]",
      "text/plain": [
       "<Figure size 432x288 with 1 Axes>"
      ]
     },
     "metadata": {
      "needs_background": "light"
     },
     "output_type": "display_data"
    }
   ],
   "source": [
    "y_test = y_test.detach().numpy()\n",
    "y_pred_test = y_pred_test.detach().numpy()\n",
    "plt.scatter(y_test,y_pred_test)"
   ]
  },
  {
   "cell_type": "code",
   "execution_count": 26,
   "metadata": {},
   "outputs": [
    {
     "name": "stdout",
     "output_type": "stream",
     "text": [
      "R2 Score:  0.6187560828595609\n"
     ]
    }
   ],
   "source": [
    "print('R2 Score: ',R2Score(y_test, y_pred_test))"
   ]
  },
  {
   "cell_type": "code",
   "execution_count": 27,
   "metadata": {},
   "outputs": [
    {
     "data": {
      "text/plain": [
       "0.7871692375666006"
      ]
     },
     "execution_count": 27,
     "metadata": {},
     "output_type": "execute_result"
    }
   ],
   "source": [
    "PearsonCoefficient(y_test, y_pred_test)"
   ]
  },
  {
   "cell_type": "code",
   "execution_count": 28,
   "metadata": {},
   "outputs": [
    {
     "data": {
      "text/plain": [
       "2.3582633"
      ]
     },
     "execution_count": 28,
     "metadata": {},
     "output_type": "execute_result"
    }
   ],
   "source": [
    "import numpy as np\n",
    "RMSE(y_test, y_pred_test)"
   ]
  },
  {
   "cell_type": "code",
   "execution_count": null,
   "metadata": {},
   "outputs": [],
   "source": []
  }
 ],
 "metadata": {
  "accelerator": "GPU",
  "colab": {
   "collapsed_sections": [],
   "machine_shape": "hm",
   "name": "Untitled6.ipynb",
   "provenance": []
  },
  "hide_input": false,
  "kernelspec": {
   "display_name": "Python 3 (ipykernel)",
   "language": "python",
   "name": "python3"
  },
  "language_info": {
   "codemirror_mode": {
    "name": "ipython",
    "version": 3
   },
   "file_extension": ".py",
   "mimetype": "text/x-python",
   "name": "python",
   "nbconvert_exporter": "python",
   "pygments_lexer": "ipython3",
   "version": "3.7.13"
  }
 },
 "nbformat": 4,
 "nbformat_minor": 1
}
