{
 "cells": [
  {
   "cell_type": "markdown",
   "metadata": {},
   "source": [
    "# Importing libraries"
   ]
  },
  {
   "cell_type": "code",
   "execution_count": 1,
   "metadata": {},
   "outputs": [
    {
     "name": "stderr",
     "output_type": "stream",
     "text": [
      "C:\\Users\\prate\\anaconda3\\envs\\my-rdkit-env1\\lib\\site-packages\\tqdm\\auto.py:22: TqdmWarning: IProgress not found. Please update jupyter and ipywidgets. See https://ipywidgets.readthedocs.io/en/stable/user_install.html\n",
      "  from .autonotebook import tqdm as notebook_tqdm\n",
      "WARNING:root:No normalization for BCUT2D_MWHI\n",
      "WARNING:root:No normalization for BCUT2D_MWLOW\n",
      "WARNING:root:No normalization for BCUT2D_CHGHI\n",
      "WARNING:root:No normalization for BCUT2D_CHGLO\n",
      "WARNING:root:No normalization for BCUT2D_LOGPHI\n",
      "WARNING:root:No normalization for BCUT2D_LOGPLOW\n",
      "WARNING:root:No normalization for BCUT2D_MRHI\n",
      "WARNING:root:No normalization for BCUT2D_MRLOW\n"
     ]
    }
   ],
   "source": [
    "import os\n",
    "import chemprop\n",
    "import pandas as pd\n",
    "import matplotlib.pyplot as plt\n",
    "from matplotlib.offsetbox import AnchoredText\n",
    "from sklearn.metrics import mean_absolute_error, mean_squared_error\n",
    "from sklearn.decomposition import PCA              "
   ]
  },
  {
   "cell_type": "code",
   "execution_count": 2,
   "metadata": {},
   "outputs": [],
   "source": [
    "def plot_parity(y_true, y_pred, y_pred_unc=None):\n",
    "    \n",
    "    axmin = min(min(y_true), min(y_pred)) - 0.1*(max(y_true)-min(y_true))\n",
    "    axmax = max(max(y_true), max(y_pred)) + 0.1*(max(y_true)-min(y_true))\n",
    "    \n",
    "    mae = mean_absolute_error(y_true, y_pred)\n",
    "    rmse = mean_squared_error(y_true, y_pred, squared=False)\n",
    "    \n",
    "    plt.plot([axmin, axmax], [axmin, axmax], '--k')\n",
    "\n",
    "    plt.errorbar(y_true, y_pred, yerr=y_pred_unc, linewidth=0, marker='o', markeredgecolor='w', alpha=1, elinewidth=1)\n",
    "    \n",
    "    plt.xlim((axmin, axmax))\n",
    "    plt.ylim((axmin, axmax))\n",
    "    \n",
    "    ax = plt.gca()\n",
    "    ax.set_aspect('equal')\n",
    "    \n",
    "    at = AnchoredText(\n",
    "    f\"MAE = {mae:.2f}\\nRMSE = {rmse:.2f}\", prop=dict(size=10), frameon=True, loc='upper left')\n",
    "    at.patch.set_boxstyle(\"round,pad=0.,rounding_size=0.2\")\n",
    "    ax.add_artist(at)\n",
    "    \n",
    "    plt.xlabel('True')\n",
    "    plt.ylabel('Chemprop Predicted')\n",
    "    \n",
    "    plt.show()\n",
    "    \n",
    "    return"
   ]
  },
  {
   "cell_type": "markdown",
   "metadata": {},
   "source": [
    "# Generating RDKit descriptors"
   ]
  },
  {
   "cell_type": "code",
   "execution_count": 3,
   "metadata": {
    "id": "zO_eW3JMRpx9"
   },
   "outputs": [],
   "source": [
    "# import pandas as pd\n",
    "# import numpy as np\n",
    "\n",
    "# X_train=pd.read_csv('test_checkpoints_reg/fold_0/train_full.csv')\n",
    "# X_train = X_train.drop(['PCE_max(%)'], axis = 1)\n",
    "# X_train\n",
    "\n",
    "# X_val=pd.read_csv('test_checkpoints_reg/fold_0/val_full.csv')\n",
    "# X_val = X_val.drop(['PCE_max(%)'], axis = 1)\n",
    "# X_val\n",
    "\n",
    "# X_test=pd.read_csv('test_checkpoints_reg/fold_0/test_full.csv')\n",
    "# X_test = X_test.drop(['PCE_max(%)'], axis = 1)\n",
    "# X_test\n",
    "\n",
    "# # rdkit desciptors for test set\n",
    "\n",
    "\n",
    "# from rdkit.Chem import Descriptors\n",
    "# from rdkit import Chem\n",
    "# from rdkit.Chem import Draw\n",
    "# from rdkit.Chem.Draw import IPythonConsole\n",
    "\n",
    "# from rdkit.ML.Descriptors import MoleculeDescriptors\n",
    "# des_list = [x[0] for x in Descriptors._descList]\n",
    "\n",
    "\n",
    "# def rdkit_des(D,A):\n",
    "\n",
    "#     mols = [ Chem.MolFromSmiles(x) for x in D_smiles if x != None ]\n",
    "#     desc_calc = MoleculeDescriptors.MolecularDescriptorCalculator(des_list)\n",
    "#     values_rdkit_donor = [desc_calc.CalcDescriptors(mol) for mol in mols]\n",
    "#     values_rdkit_donor\n",
    "\n",
    "#     df_rdkit_donor = pd.DataFrame(values_rdkit_donor, columns=des_list)\n",
    "#     df_rdkit_donor\n",
    "\n",
    "#     df_rdkit_donor=df_rdkit_donor.add_prefix('Donor_')\n",
    "#     df_rdkit_donor\n",
    "\n",
    "\n",
    "#     mols = [ Chem.MolFromSmiles(x) for x in A_smiles if x != None ]\n",
    "#     desc_calc = MoleculeDescriptors.MolecularDescriptorCalculator(des_list)\n",
    "#     values_rdkit_acceptor = [desc_calc.CalcDescriptors(mol) for mol in mols]\n",
    "#     values_rdkit_acceptor\n",
    "\n",
    "\n",
    "#     df_rdkit_acceptor = pd.DataFrame(values_rdkit_acceptor, columns=des_list)\n",
    "#     df_rdkit_acceptor\n",
    "\n",
    "\n",
    "#     df_rdkit_acceptor=df_rdkit_acceptor.add_prefix('Acceptor_')\n",
    "#     df_rdkit_acceptor\n",
    "\n",
    "\n",
    "#     frames =[df_rdkit_donor, df_rdkit_acceptor]\n",
    "#     rdkit_descriptors = pd.concat(frames, axis =1)\n",
    "#     return rdkit_descriptors\n",
    "\n",
    "\n",
    "# D_smiles = X_train[\"p(SMILES)\"]\n",
    "# A_smiles = X_train[\"n(SMILES)\"]\n",
    "# X_train_rdkit = rdkit_des(D_smiles,A_smiles)\n",
    "\n",
    "# D_smiles = X_val[\"p(SMILES)\"]\n",
    "# A_smiles = X_val[\"n(SMILES)\"]\n",
    "# X_val_rdkit = rdkit_des(D_smiles,A_smiles)\n",
    "\n",
    "# D_smiles = X_test[\"p(SMILES)\"]\n",
    "# A_smiles = X_test[\"n(SMILES)\"]\n",
    "# X_test_rdkit = rdkit_des(D_smiles,A_smiles)\n",
    "\n",
    "# X_train_rdkit.to_csv('X_train_rdkit.csv')\n",
    "# X_val_rdkit.to_csv('X_val_rdkit.csv')\n",
    "# X_test_rdkit.to_csv('X_test_rdkit.csv')"
   ]
  },
  {
   "cell_type": "markdown",
   "metadata": {},
   "source": [
    "# Using saved files for RDKit descriptors"
   ]
  },
  {
   "cell_type": "code",
   "execution_count": 4,
   "metadata": {},
   "outputs": [],
   "source": [
    "import pandas as pd\n",
    "import numpy as np\n",
    "\n",
    "X_train_rdkit=pd.read_csv('X_train_rdkit.csv')\n",
    "X_val_rdkit=pd.read_csv('X_val_rdkit.csv')\n",
    "X_test_rdkit=pd.read_csv('X_test_rdkit.csv')\n",
    "\n",
    "X_train_rdkit=X_train_rdkit.drop(['Donor_Ipc','Acceptor_Ipc'],axis=1)\n",
    "X_val_rdkit=X_val_rdkit.drop(['Donor_Ipc','Acceptor_Ipc'],axis=1)\n",
    "X_test_rdkit=X_test_rdkit.drop(['Donor_Ipc','Acceptor_Ipc'],axis=1)"
   ]
  },
  {
   "cell_type": "code",
   "execution_count": 5,
   "metadata": {},
   "outputs": [
    {
     "name": "stdout",
     "output_type": "stream",
     "text": [
      "Features with zero standard deviation : 114\n",
      "Features with correlation more than 0.8 : 171\n"
     ]
    }
   ],
   "source": [
    "all_data = pd.concat([X_train_rdkit,X_val_rdkit,X_test_rdkit])\n",
    "\n",
    "all_data=all_data.select_dtypes(include='number')  \n",
    "print('Features with zero standard deviation :',len(all_data.std()[all_data.std() == 0])) #displaying features with zero std deviation\n",
    "all_data=all_data.drop(all_data.std()[all_data.std() == 0].index.values, axis=1)  # Dropping features with zero std deviation\n",
    "all_data = all_data.replace([np.inf, -np.inf], np.nan)\n",
    "all_data = all_data.replace(np.nan,0)  #replace null values with zero\n",
    "\n",
    "def correlation(dataset, threshold):\n",
    "    col_corr = set()  # Set of all the names of correlated columns\n",
    "    corr_matrix = dataset.corr()\n",
    "    for i in range(len(corr_matrix.columns)):\n",
    "        for j in range(i):\n",
    "            if (corr_matrix.iloc[i, j]) > threshold: # we are interested in absolute coeff value\n",
    "                colname = corr_matrix.columns[i]  # getting the name of column\n",
    "                col_corr.add(colname)\n",
    "    return col_corr\n",
    "corr_features = correlation(all_data, 0.8)\n",
    "print('Features with correlation more than 0.8 :',len(set(corr_features)))\n",
    "all_data=all_data.drop(corr_features,axis=1)   # Dropping features with correlation more than 0.8"
   ]
  },
  {
   "cell_type": "code",
   "execution_count": 6,
   "metadata": {},
   "outputs": [],
   "source": [
    "X_train_rdkit = X_train_rdkit[all_data.columns]\n",
    "X_train_rdkit = X_train_rdkit.replace([np.inf, -np.inf], np.nan)\n",
    "X_train = X_train_rdkit.replace(np.nan,0)  #replace null values with zero\n",
    "\n",
    "X_val_rdkit = X_val_rdkit[all_data.columns]\n",
    "X_val_rdkit = X_val_rdkit.replace([np.inf, -np.inf], np.nan)\n",
    "X_val = X_val_rdkit.replace(np.nan,0)  #replace null values with zero\n",
    "\n",
    "X_test_rdkit = X_test_rdkit[all_data.columns]\n",
    "X_test_rdkit = X_test_rdkit.replace([np.inf, -np.inf], np.nan)\n",
    "X_test = X_test_rdkit.replace(np.nan,0)  #replace null values with zero"
   ]
  },
  {
   "cell_type": "code",
   "execution_count": 7,
   "metadata": {},
   "outputs": [
    {
     "data": {
      "text/html": [
       "<div>\n",
       "<style scoped>\n",
       "    .dataframe tbody tr th:only-of-type {\n",
       "        vertical-align: middle;\n",
       "    }\n",
       "\n",
       "    .dataframe tbody tr th {\n",
       "        vertical-align: top;\n",
       "    }\n",
       "\n",
       "    .dataframe thead th {\n",
       "        text-align: right;\n",
       "    }\n",
       "</style>\n",
       "<table border=\"1\" class=\"dataframe\">\n",
       "  <thead>\n",
       "    <tr style=\"text-align: right;\">\n",
       "      <th></th>\n",
       "      <th>Unnamed: 0</th>\n",
       "      <th>Donor_MaxEStateIndex</th>\n",
       "      <th>Donor_MinEStateIndex</th>\n",
       "      <th>Donor_MinAbsEStateIndex</th>\n",
       "      <th>Donor_MolWt</th>\n",
       "      <th>Donor_NumRadicalElectrons</th>\n",
       "      <th>Donor_MaxPartialCharge</th>\n",
       "      <th>Donor_MinPartialCharge</th>\n",
       "      <th>Donor_MaxAbsPartialCharge</th>\n",
       "      <th>Donor_BCUT2D_MWHI</th>\n",
       "      <th>...</th>\n",
       "      <th>Acceptor_fr_barbitur</th>\n",
       "      <th>Acceptor_fr_bicyclic</th>\n",
       "      <th>Acceptor_fr_ester</th>\n",
       "      <th>Acceptor_fr_furan</th>\n",
       "      <th>Acceptor_fr_hdrzine</th>\n",
       "      <th>Acceptor_fr_methoxy</th>\n",
       "      <th>Acceptor_fr_para_hydroxylation</th>\n",
       "      <th>Acceptor_fr_sulfide</th>\n",
       "      <th>Acceptor_fr_sulfone</th>\n",
       "      <th>Acceptor_fr_thiazole</th>\n",
       "    </tr>\n",
       "  </thead>\n",
       "  <tbody>\n",
       "  </tbody>\n",
       "</table>\n",
       "<p>0 rows × 130 columns</p>\n",
       "</div>"
      ],
      "text/plain": [
       "Empty DataFrame\n",
       "Columns: [Unnamed: 0, Donor_MaxEStateIndex, Donor_MinEStateIndex, Donor_MinAbsEStateIndex, Donor_MolWt, Donor_NumRadicalElectrons, Donor_MaxPartialCharge, Donor_MinPartialCharge, Donor_MaxAbsPartialCharge, Donor_BCUT2D_MWHI, Donor_BCUT2D_CHGHI, Donor_BCUT2D_CHGLO, Donor_PEOE_VSA1, Donor_PEOE_VSA10, Donor_PEOE_VSA11, Donor_PEOE_VSA12, Donor_PEOE_VSA13, Donor_PEOE_VSA2, Donor_PEOE_VSA3, Donor_PEOE_VSA4, Donor_PEOE_VSA9, Donor_SMR_VSA1, Donor_SMR_VSA2, Donor_SMR_VSA4, Donor_SlogP_VSA1, Donor_SlogP_VSA11, Donor_SlogP_VSA2, Donor_SlogP_VSA3, Donor_SlogP_VSA4, Donor_SlogP_VSA7, Donor_EState_VSA1, Donor_EState_VSA10, Donor_EState_VSA11, Donor_EState_VSA5, Donor_EState_VSA7, Donor_EState_VSA9, Donor_VSA_EState3, Donor_VSA_EState5, Donor_VSA_EState9, Donor_FractionCSP3, Donor_NHOHCount, Donor_NumAliphaticCarbocycles, Donor_NumAliphaticHeterocycles, Donor_NumAromaticCarbocycles, Donor_NumSaturatedCarbocycles, Donor_NumSaturatedHeterocycles, Donor_fr_allylic_oxid, Donor_fr_amide, Donor_fr_aryl_methyl, Donor_fr_ester, Donor_fr_furan, Donor_fr_ketone_Topliss, Donor_fr_methoxy, Donor_fr_pyridine, Donor_fr_sulfide, Donor_fr_thiazole, Donor_fr_unbrch_alkane, Acceptor_MaxEStateIndex, Acceptor_MinEStateIndex, Acceptor_MinAbsEStateIndex, Acceptor_qed, Acceptor_MolWt, Acceptor_NumRadicalElectrons, Acceptor_MaxPartialCharge, Acceptor_MinPartialCharge, Acceptor_MaxAbsPartialCharge, Acceptor_FpDensityMorgan1, Acceptor_BCUT2D_MWHI, Acceptor_BCUT2D_MWLOW, Acceptor_BCUT2D_CHGLO, Acceptor_BCUT2D_MRLOW, Acceptor_BalabanJ, Acceptor_HallKierAlpha, Acceptor_PEOE_VSA1, Acceptor_PEOE_VSA10, Acceptor_PEOE_VSA11, Acceptor_PEOE_VSA12, Acceptor_PEOE_VSA13, Acceptor_PEOE_VSA3, Acceptor_PEOE_VSA5, Acceptor_PEOE_VSA8, Acceptor_PEOE_VSA9, Acceptor_SMR_VSA1, Acceptor_SMR_VSA2, Acceptor_SMR_VSA3, Acceptor_SMR_VSA4, Acceptor_SMR_VSA6, Acceptor_SMR_VSA7, Acceptor_SMR_VSA9, Acceptor_SlogP_VSA1, Acceptor_SlogP_VSA11, Acceptor_SlogP_VSA12, Acceptor_SlogP_VSA2, Acceptor_SlogP_VSA3, Acceptor_SlogP_VSA4, Acceptor_SlogP_VSA7, Acceptor_EState_VSA1, Acceptor_EState_VSA2, Acceptor_EState_VSA4, Acceptor_EState_VSA5, ...]\n",
       "Index: []\n",
       "\n",
       "[0 rows x 130 columns]"
      ]
     },
     "execution_count": 7,
     "metadata": {},
     "output_type": "execute_result"
    }
   ],
   "source": [
    "X_train[np.isinf(X_train).any(1)]"
   ]
  },
  {
   "cell_type": "code",
   "execution_count": 8,
   "metadata": {},
   "outputs": [],
   "source": [
    "# Defining Metrics\n",
    "def R2Score(X,Y):\n",
    "    r2=metrics.r2_score(X,Y)\n",
    "    return r2\n",
    "def PearsonCoefficient(X, Y):\n",
    "    corr, _ = pearsonr(X,Y)\n",
    "    return corr\n",
    "def MSE(X,Y):\n",
    "    mse=mean_squared_error(X,Y)\n",
    "    return mse\n",
    "def RMSE(X,Y):\n",
    "    rmse=np.sqrt(mean_squared_error(X,Y))\n",
    "    return rmse\n",
    "def MAPE(X,Y):\n",
    "    mape=np.average(abs(np.array(X)-np.array(Y))/np.array(Y))*100\n",
    "    return mape\n",
    "\n",
    "\n",
    "from sklearn.metrics import r2_score\n",
    "import sklearn.metrics as metrics\n",
    "from scipy.stats.stats import pearsonr"
   ]
  },
  {
   "cell_type": "code",
   "execution_count": 9,
   "metadata": {},
   "outputs": [],
   "source": [
    "y_train=pd.read_csv('test_checkpoints_reg/fold_0/train_full.csv')\n",
    "y_train = y_train.drop(['p(SMILES)', 'n(SMILES)'], axis = 1)\n",
    "\n",
    "y_val=pd.read_csv('test_checkpoints_reg/fold_0/val_full.csv')\n",
    "y_val = y_val.drop(['p(SMILES)', 'n(SMILES)'], axis = 1)\n",
    "\n",
    "y_test=pd.read_csv('test_checkpoints_reg/fold_0/test_full.csv')\n",
    "y_test = y_test.drop(['p(SMILES)', 'n(SMILES)'], axis = 1)"
   ]
  },
  {
   "cell_type": "code",
   "execution_count": 10,
   "metadata": {},
   "outputs": [],
   "source": [
    "import torch\n",
    "import torch.nn as nn\n",
    "import torch.optim as optim\n",
    "import pandas as pd\n",
    "from sklearn.preprocessing import StandardScaler\n"
   ]
  },
  {
   "cell_type": "code",
   "execution_count": 11,
   "metadata": {},
   "outputs": [],
   "source": [
    "# Normalize input variables using StandardScaler\n",
    "scaler = StandardScaler()\n",
    "X_train = scaler.fit_transform(X_train)\n",
    "X_val = scaler.transform(X_val)\n",
    "X_test = scaler.transform(X_test)"
   ]
  },
  {
   "cell_type": "code",
   "execution_count": 12,
   "metadata": {},
   "outputs": [
    {
     "data": {
      "text/plain": [
       "<torch._C.Generator at 0x1c6d48133b0>"
      ]
     },
     "execution_count": 12,
     "metadata": {},
     "output_type": "execute_result"
    }
   ],
   "source": [
    "import torch.nn.functional as F\n",
    "class ANN(nn.Module):\n",
    "    \n",
    "    def __init__(self, input_size):\n",
    "        super(ANN, self).__init__()\n",
    "        self.layer1 = nn.Linear(input_size, 64)\n",
    "        self.layer2 = nn.Linear(64, 32)\n",
    "        self.out = nn.Linear(32, 1)\n",
    "    \n",
    "    def forward(self, x):\n",
    "        x = F.relu(self.layer1(x))\n",
    "        x = F.relu(self.layer2(x))\n",
    "        x = self.out(x)\n",
    "        return x\n",
    "\n",
    "\n",
    "torch.manual_seed(42)\n",
    "# ANN = ANN()\n",
    "# net=net.cuda()"
   ]
  },
  {
   "cell_type": "code",
   "execution_count": 13,
   "metadata": {},
   "outputs": [],
   "source": [
    "input_size = X_train.shape[1]\n",
    "model = ANN(input_size)\n",
    "\n",
    "learning_rate = 0.001\n",
    "criterion = nn.MSELoss()\n",
    "optimizer = optim.SGD(model.parameters(), lr=learning_rate)\n"
   ]
  },
  {
   "cell_type": "code",
   "execution_count": 14,
   "metadata": {},
   "outputs": [],
   "source": [
    "X_train = torch.tensor(X_train).type(torch.float32)\n",
    "y_train = torch.tensor(np.array(y_train)).type(torch.float32)\n",
    "\n",
    "X_val = torch.tensor(X_val).type(torch.float32)\n",
    "y_val = torch.tensor(np.array(y_val)).type(torch.float32)\n",
    "\n",
    "X_test = torch.tensor(X_test).type(torch.float32)\n",
    "y_test = torch.tensor(np.array(y_test)).type(torch.float32)"
   ]
  },
  {
   "cell_type": "code",
   "execution_count": 15,
   "metadata": {},
   "outputs": [],
   "source": [
    "# # Train the model\n",
    "# n_epochs = 400\n",
    "# train_losses = []\n",
    "# val_losses = []\n",
    "\n",
    "# for epoch in range(n_epochs):\n",
    "#     # Train the model\n",
    "#     model.train()\n",
    "#     optimizer.zero_grad()\n",
    "#     y_pred_train = model(X_train)\n",
    "#     loss_train = criterion(y_pred_train.squeeze(), y_train.squeeze())\n",
    "#     loss_train.backward()\n",
    "#     optimizer.step()\n",
    "#     train_losses.append(loss_train.item())\n",
    "\n",
    "#     # Evaluate the model on validation set\n",
    "#     model.eval()\n",
    "#     with torch.no_grad():\n",
    "#         y_pred_val = model(X_val)\n",
    "#         loss_val = criterion(y_pred_val.squeeze(), y_val.squeeze())\n",
    "#         val_losses.append(loss_val.item())\n",
    "\n",
    "#     # Print progress\n",
    "#     if epoch % 10 == 0:\n",
    "#         print(f\"Epoch {epoch} - Train Loss: {loss_train.item():.4f}, Validation Loss: {loss_val.item():.4f}\")"
   ]
  },
  {
   "cell_type": "code",
   "execution_count": 16,
   "metadata": {},
   "outputs": [
    {
     "name": "stdout",
     "output_type": "stream",
     "text": [
      "Epoch 0 - Train Loss: 76.0841, Validation Loss: 74.2287\n",
      "Epoch 10 - Train Loss: 71.7017, Validation Loss: 69.9306\n",
      "Epoch 20 - Train Loss: 66.8486, Validation Loss: 65.0994\n",
      "Epoch 30 - Train Loss: 60.7092, Validation Loss: 58.9172\n",
      "Epoch 40 - Train Loss: 52.2680, Validation Loss: 50.3614\n",
      "Epoch 50 - Train Loss: 40.5519, Validation Loss: 38.5253\n",
      "Epoch 60 - Train Loss: 26.5360, Validation Loss: 24.7711\n",
      "Epoch 70 - Train Loss: 15.6069, Validation Loss: 14.8243\n",
      "Epoch 80 - Train Loss: 11.0599, Validation Loss: 11.1132\n",
      "Epoch 90 - Train Loss: 9.5758, Validation Loss: 9.9457\n",
      "Epoch 100 - Train Loss: 8.8176, Validation Loss: 9.3003\n",
      "Epoch 110 - Train Loss: 8.2818, Validation Loss: 8.8198\n",
      "Epoch 120 - Train Loss: 7.8667, Validation Loss: 8.4453\n",
      "Epoch 130 - Train Loss: 7.5370, Validation Loss: 8.1489\n",
      "Epoch 140 - Train Loss: 7.2699, Validation Loss: 7.9090\n",
      "Epoch 150 - Train Loss: 7.0476, Validation Loss: 7.7126\n",
      "Epoch 160 - Train Loss: 6.8575, Validation Loss: 7.5479\n",
      "Epoch 170 - Train Loss: 6.6939, Validation Loss: 7.4112\n",
      "Epoch 180 - Train Loss: 6.5499, Validation Loss: 7.2928\n",
      "Epoch 190 - Train Loss: 6.4218, Validation Loss: 7.1873\n",
      "Epoch 200 - Train Loss: 6.3063, Validation Loss: 7.0944\n",
      "Epoch 210 - Train Loss: 6.2012, Validation Loss: 7.0118\n",
      "Epoch 220 - Train Loss: 6.1055, Validation Loss: 6.9368\n",
      "Epoch 230 - Train Loss: 6.0178, Validation Loss: 6.8668\n",
      "Epoch 240 - Train Loss: 5.9363, Validation Loss: 6.8045\n",
      "Epoch 250 - Train Loss: 5.8609, Validation Loss: 6.7500\n",
      "Epoch 260 - Train Loss: 5.7915, Validation Loss: 6.7024\n",
      "Epoch 270 - Train Loss: 5.7252, Validation Loss: 6.6577\n",
      "Epoch 280 - Train Loss: 5.6628, Validation Loss: 6.6165\n",
      "Epoch 290 - Train Loss: 5.6043, Validation Loss: 6.5797\n",
      "Epoch 300 - Train Loss: 5.5492, Validation Loss: 6.5457\n",
      "Epoch 310 - Train Loss: 5.4975, Validation Loss: 6.5142\n",
      "Epoch 320 - Train Loss: 5.4491, Validation Loss: 6.4850\n",
      "Epoch 330 - Train Loss: 5.4034, Validation Loss: 6.4579\n",
      "Epoch 340 - Train Loss: 5.3599, Validation Loss: 6.4325\n",
      "Epoch 350 - Train Loss: 5.3190, Validation Loss: 6.4089\n",
      "Epoch 360 - Train Loss: 5.2801, Validation Loss: 6.3865\n",
      "Epoch 370 - Train Loss: 5.2429, Validation Loss: 6.3654\n",
      "Epoch 380 - Train Loss: 5.2070, Validation Loss: 6.3458\n",
      "Epoch 390 - Train Loss: 5.1726, Validation Loss: 6.3280\n"
     ]
    }
   ],
   "source": [
    "# Train the model\n",
    "n_epochs = 400\n",
    "train_losses = []\n",
    "val_losses = []\n",
    "patience = 10  # number of epochs to wait for validation loss improvement before stopping early\n",
    "best_val_loss = float('inf')\n",
    "best_model = None\n",
    "no_improvement_count = 0  # count of epochs with no improvement in validation loss\n",
    "\n",
    "for epoch in range(n_epochs):\n",
    "    # Train the model\n",
    "    model.train()\n",
    "    optimizer.zero_grad()\n",
    "    y_pred_train = model(X_train)\n",
    "    loss_train = criterion(y_pred_train.squeeze(), y_train.squeeze())\n",
    "    loss_train.backward()\n",
    "    optimizer.step()\n",
    "    train_losses.append(loss_train.item())\n",
    "\n",
    "    # Evaluate the model on validation set\n",
    "    model.eval()\n",
    "    with torch.no_grad():\n",
    "        y_pred_val = model(X_val)\n",
    "        loss_val = criterion(y_pred_val.squeeze(), y_val.squeeze())\n",
    "        val_losses.append(loss_val.item())\n",
    "\n",
    "    # Print progress\n",
    "    if epoch % 10 == 0:\n",
    "        print(f\"Epoch {epoch} - Train Loss: {loss_train.item():.4f}, Validation Loss: {loss_val.item():.4f}\")\n",
    "        "
   ]
  },
  {
   "cell_type": "code",
   "execution_count": 17,
   "metadata": {},
   "outputs": [
    {
     "name": "stdout",
     "output_type": "stream",
     "text": [
      "Test Loss: 5.0893\n"
     ]
    }
   ],
   "source": [
    "# Load the best model (based on validation loss) and evaluate on test data\n",
    "model.eval()\n",
    "with torch.no_grad():\n",
    "    y_pred_test = model(X_test)\n",
    "    loss_test = criterion(y_pred_test.squeeze(), y_test.squeeze())\n",
    "print(f\"Test Loss: {loss_test.item():.4f}\")"
   ]
  },
  {
   "cell_type": "code",
   "execution_count": 18,
   "metadata": {},
   "outputs": [
    {
     "data": {
      "image/png": "[encoded data removed]",
      "text/plain": [
       "<Figure size 432x288 with 1 Axes>"
      ]
     },
     "metadata": {
      "needs_background": "light"
     },
     "output_type": "display_data"
    }
   ],
   "source": [
    "# Plot the training and validation loss curves\n",
    "import matplotlib.pyplot as plt\n",
    "plt.plot(train_losses, label='Train')\n",
    "plt.plot(val_losses, label='Validation')\n",
    "plt.xlabel('Epoch')\n",
    "plt.ylabel('Loss')\n",
    "plt.legend()\n",
    "plt.show()"
   ]
  },
  {
   "cell_type": "code",
   "execution_count": 19,
   "metadata": {},
   "outputs": [],
   "source": [
    "y_pred_test = model(torch.Tensor(X_test))"
   ]
  },
  {
   "cell_type": "code",
   "execution_count": 20,
   "metadata": {},
   "outputs": [],
   "source": [
    "y_test = y_test.reshape(132)\n",
    "y_pred_test = y_pred_test.reshape(132)"
   ]
  },
  {
   "cell_type": "code",
   "execution_count": 21,
   "metadata": {},
   "outputs": [
    {
     "data": {
      "text/plain": [
       "<matplotlib.collections.PathCollection at 0x1c6ffd5c9c8>"
      ]
     },
     "execution_count": 21,
     "metadata": {},
     "output_type": "execute_result"
    },
    {
     "data": {
      "image/png": "[encoded data removed]",
      "text/plain": [
       "<Figure size 432x288 with 1 Axes>"
      ]
     },
     "metadata": {
      "needs_background": "light"
     },
     "output_type": "display_data"
    }
   ],
   "source": [
    "y_test = y_test.detach().numpy()\n",
    "y_pred_test = y_pred_test.detach().numpy()\n",
    "plt.scatter(y_test,y_pred_test)"
   ]
  },
  {
   "cell_type": "code",
   "execution_count": 22,
   "metadata": {},
   "outputs": [
    {
     "name": "stdout",
     "output_type": "stream",
     "text": [
      "R2 Score:  0.6511174991562244\n"
     ]
    }
   ],
   "source": [
    "print('R2 Score: ',R2Score(y_test, y_pred_test))"
   ]
  },
  {
   "cell_type": "code",
   "execution_count": 23,
   "metadata": {},
   "outputs": [
    {
     "data": {
      "text/plain": [
       "0.8078761510507967"
      ]
     },
     "execution_count": 23,
     "metadata": {},
     "output_type": "execute_result"
    }
   ],
   "source": [
    "PearsonCoefficient(y_test, y_pred_test)"
   ]
  },
  {
   "cell_type": "code",
   "execution_count": 24,
   "metadata": {},
   "outputs": [
    {
     "data": {
      "text/plain": [
       "2.255955"
      ]
     },
     "execution_count": 24,
     "metadata": {},
     "output_type": "execute_result"
    }
   ],
   "source": [
    "import numpy as np\n",
    "RMSE(y_test, y_pred_test)"
   ]
  },
  {
   "cell_type": "code",
   "execution_count": null,
   "metadata": {},
   "outputs": [],
   "source": []
  }
 ],
 "metadata": {
  "accelerator": "GPU",
  "colab": {
   "collapsed_sections": [],
   "machine_shape": "hm",
   "name": "Untitled6.ipynb",
   "provenance": []
  },
  "hide_input": false,
  "kernelspec": {
   "display_name": "Python 3 (ipykernel)",
   "language": "python",
   "name": "python3"
  },
  "language_info": {
   "codemirror_mode": {
    "name": "ipython",
    "version": 3
   },
   "file_extension": ".py",
   "mimetype": "text/x-python",
   "name": "python",
   "nbconvert_exporter": "python",
   "pygments_lexer": "ipython3",
   "version": "3.7.13"
  }
 },
 "nbformat": 4,
 "nbformat_minor": 1
}
