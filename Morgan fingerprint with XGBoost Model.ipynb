{
 "cells": [
  {
   "cell_type": "markdown",
   "metadata": {},
   "source": [
    "# Importing libraries"
   ]
  },
  {
   "cell_type": "code",
   "execution_count": 1,
   "metadata": {},
   "outputs": [
    {
     "name": "stderr",
     "output_type": "stream",
     "text": [
      "C:\\Users\\prate\\anaconda3\\envs\\my-rdkit-env1\\lib\\site-packages\\tqdm\\auto.py:22: TqdmWarning: IProgress not found. Please update jupyter and ipywidgets. See https://ipywidgets.readthedocs.io/en/stable/user_install.html\n",
      "  from .autonotebook import tqdm as notebook_tqdm\n",
      "WARNING:root:No normalization for BCUT2D_MWHI\n",
      "WARNING:root:No normalization for BCUT2D_MWLOW\n",
      "WARNING:root:No normalization for BCUT2D_CHGHI\n",
      "WARNING:root:No normalization for BCUT2D_CHGLO\n",
      "WARNING:root:No normalization for BCUT2D_LOGPHI\n",
      "WARNING:root:No normalization for BCUT2D_LOGPLOW\n",
      "WARNING:root:No normalization for BCUT2D_MRHI\n",
      "WARNING:root:No normalization for BCUT2D_MRLOW\n"
     ]
    }
   ],
   "source": [
    "import os\n",
    "import chemprop\n",
    "import pandas as pd\n",
    "import numpy as np\n",
    "import matplotlib.pyplot as plt\n",
    "from matplotlib.offsetbox import AnchoredText\n",
    "from sklearn.metrics import mean_absolute_error, mean_squared_error\n",
    "from sklearn.decomposition import PCA"
   ]
  },
  {
   "cell_type": "code",
   "execution_count": 2,
   "metadata": {},
   "outputs": [],
   "source": [
    "def plot_parity(y_true, y_pred, y_pred_unc=None):\n",
    "    \n",
    "    axmin = min(min(y_true), min(y_pred)) - 0.1*(max(y_true)-min(y_true))\n",
    "    axmax = max(max(y_true), max(y_pred)) + 0.1*(max(y_true)-min(y_true))\n",
    "    \n",
    "    mae = mean_absolute_error(y_true, y_pred)\n",
    "    rmse = mean_squared_error(y_true, y_pred, squared=False)\n",
    "    \n",
    "    plt.plot([axmin, axmax], [axmin, axmax], '--k')\n",
    "\n",
    "    plt.errorbar(y_true, y_pred, yerr=y_pred_unc, linewidth=0, marker='o', markeredgecolor='w', alpha=1, elinewidth=1)\n",
    "    \n",
    "    plt.xlim((axmin, axmax))\n",
    "    plt.ylim((axmin, axmax))\n",
    "    \n",
    "    ax = plt.gca()\n",
    "    ax.set_aspect('equal')\n",
    "    \n",
    "    at = AnchoredText(\n",
    "    f\"MAE = {mae:.2f}\\nRMSE = {rmse:.2f}\", prop=dict(size=10), frameon=True, loc='upper left')\n",
    "    at.patch.set_boxstyle(\"round,pad=0.,rounding_size=0.2\")\n",
    "    ax.add_artist(at)\n",
    "    \n",
    "    plt.xlabel('True')\n",
    "    plt.ylabel('Chemprop Predicted')\n",
    "    \n",
    "    plt.show()\n",
    "    \n",
    "    return"
   ]
  },
  {
   "cell_type": "code",
   "execution_count": 3,
   "metadata": {},
   "outputs": [
    {
     "data": {
      "text/html": [
       "<div>\n",
       "<style scoped>\n",
       "    .dataframe tbody tr th:only-of-type {\n",
       "        vertical-align: middle;\n",
       "    }\n",
       "\n",
       "    .dataframe tbody tr th {\n",
       "        vertical-align: top;\n",
       "    }\n",
       "\n",
       "    .dataframe thead th {\n",
       "        text-align: right;\n",
       "    }\n",
       "</style>\n",
       "<table border=\"1\" class=\"dataframe\">\n",
       "  <thead>\n",
       "    <tr style=\"text-align: right;\">\n",
       "      <th></th>\n",
       "      <th>p(SMILES)</th>\n",
       "      <th>n(SMILES)</th>\n",
       "    </tr>\n",
       "  </thead>\n",
       "  <tbody>\n",
       "    <tr>\n",
       "      <th>0</th>\n",
       "      <td>CC1=CC(CCCCCC)=C(C)S1</td>\n",
       "      <td>O=C1N(CCCCCC)C(C2=C1N=CC(C#CC3=CC=C(C#CC(C=C4)...</td>\n",
       "    </tr>\n",
       "    <tr>\n",
       "      <th>1</th>\n",
       "      <td>O=C(OCC(CC)CCCC)C1=C(F)C2=C(C)SC(C3=CC4=C(C(C5...</td>\n",
       "      <td>O=C(N(C(CCCCC)CCCCC)C1=O)C2=CC3=C(C4=C5C=CC1C4...</td>\n",
       "    </tr>\n",
       "    <tr>\n",
       "      <th>2</th>\n",
       "      <td>CC1=CC(CCCCCC)=C(C)S1</td>\n",
       "      <td>CCCCCCC(C=C1)=CC=C1C2(C3=CC=C(CCCCCC)C=C3)C4=C...</td>\n",
       "    </tr>\n",
       "    <tr>\n",
       "      <th>3</th>\n",
       "      <td>CC1=CC(C(S1)=C2C3=CC(Cl)=C(CC(CC)CCCC)S3)=C(C4...</td>\n",
       "      <td>CCCCCCC(C=C1)=CC=C1C2(C3=CC=C(CCCCCC)C=C3)C4=C...</td>\n",
       "    </tr>\n",
       "    <tr>\n",
       "      <th>4</th>\n",
       "      <td>CC1=CC2=C(S1)C(C3=CC=C(SCCCCCCCC)S3)=C4C(OC(C5...</td>\n",
       "      <td>O=C(/C(S1)=C/C(C2=NSN=C32)=CC=C3C(S4)=CC5=C4C6...</td>\n",
       "    </tr>\n",
       "    <tr>\n",
       "      <th>...</th>\n",
       "      <td>...</td>\n",
       "      <td>...</td>\n",
       "    </tr>\n",
       "    <tr>\n",
       "      <th>127</th>\n",
       "      <td>O=C(OCC(CC)CCCC)C1=C(F)C2=C(C)SC(C3=CC4=C(C(C5...</td>\n",
       "      <td>CCCCCCC(C=C1)=CC=C1C(C2=C3SC(C4=C(CC(CC)CCCC)C...</td>\n",
       "    </tr>\n",
       "    <tr>\n",
       "      <th>128</th>\n",
       "      <td>CC(SC1=C2C3=CC=C(CC(CC)CCCC)S3)=CC1=C(C4=CC=C(...</td>\n",
       "      <td>O=C1C2=C(C(/C1=C/C3=CC4=C(C5=CC6=C(C=C5C4(C7=C...</td>\n",
       "    </tr>\n",
       "    <tr>\n",
       "      <th>129</th>\n",
       "      <td>CC1=CC(CCCCCC)=C(C)S1</td>\n",
       "      <td>O=C1C(C2=C(C3=CC=CS3)N1CCCCCCCCCCCC)=C(C4=CC=C...</td>\n",
       "    </tr>\n",
       "    <tr>\n",
       "      <th>130</th>\n",
       "      <td>CC(SC1=C2C3=CC=C(CC(CC)CCCC)S3)=CC1=C(C4=CC=C(...</td>\n",
       "      <td>CCCCCCC(C=C1)=CC=C1C(C2=CC=C(CCCCCC)C=C2)(O3)C...</td>\n",
       "    </tr>\n",
       "    <tr>\n",
       "      <th>131</th>\n",
       "      <td>CC1=CC(CC(CC)CCCC)=C(C2=NC(SC(C3=C(CC(CCCC)CC)...</td>\n",
       "      <td>O=C(N(CC(CCCCCCCCCC)CCCCCCCCCCCC)C1=O)C2=CC=C3...</td>\n",
       "    </tr>\n",
       "  </tbody>\n",
       "</table>\n",
       "<p>132 rows × 2 columns</p>\n",
       "</div>"
      ],
      "text/plain": [
       "                                             p(SMILES)  \\\n",
       "0                                CC1=CC(CCCCCC)=C(C)S1   \n",
       "1    O=C(OCC(CC)CCCC)C1=C(F)C2=C(C)SC(C3=CC4=C(C(C5...   \n",
       "2                                CC1=CC(CCCCCC)=C(C)S1   \n",
       "3    CC1=CC(C(S1)=C2C3=CC(Cl)=C(CC(CC)CCCC)S3)=C(C4...   \n",
       "4    CC1=CC2=C(S1)C(C3=CC=C(SCCCCCCCC)S3)=C4C(OC(C5...   \n",
       "..                                                 ...   \n",
       "127  O=C(OCC(CC)CCCC)C1=C(F)C2=C(C)SC(C3=CC4=C(C(C5...   \n",
       "128  CC(SC1=C2C3=CC=C(CC(CC)CCCC)S3)=CC1=C(C4=CC=C(...   \n",
       "129                              CC1=CC(CCCCCC)=C(C)S1   \n",
       "130  CC(SC1=C2C3=CC=C(CC(CC)CCCC)S3)=CC1=C(C4=CC=C(...   \n",
       "131  CC1=CC(CC(CC)CCCC)=C(C2=NC(SC(C3=C(CC(CCCC)CC)...   \n",
       "\n",
       "                                             n(SMILES)  \n",
       "0    O=C1N(CCCCCC)C(C2=C1N=CC(C#CC3=CC=C(C#CC(C=C4)...  \n",
       "1    O=C(N(C(CCCCC)CCCCC)C1=O)C2=CC3=C(C4=C5C=CC1C4...  \n",
       "2    CCCCCCC(C=C1)=CC=C1C2(C3=CC=C(CCCCCC)C=C3)C4=C...  \n",
       "3    CCCCCCC(C=C1)=CC=C1C2(C3=CC=C(CCCCCC)C=C3)C4=C...  \n",
       "4    O=C(/C(S1)=C/C(C2=NSN=C32)=CC=C3C(S4)=CC5=C4C6...  \n",
       "..                                                 ...  \n",
       "127  CCCCCCC(C=C1)=CC=C1C(C2=C3SC(C4=C(CC(CC)CCCC)C...  \n",
       "128  O=C1C2=C(C(/C1=C/C3=CC4=C(C5=CC6=C(C=C5C4(C7=C...  \n",
       "129  O=C1C(C2=C(C3=CC=CS3)N1CCCCCCCCCCCC)=C(C4=CC=C...  \n",
       "130  CCCCCCC(C=C1)=CC=C1C(C2=CC=C(CCCCCC)C=C2)(O3)C...  \n",
       "131  O=C(N(CC(CCCCCCCCCC)CCCCCCCCCCCC)C1=O)C2=CC=C3...  \n",
       "\n",
       "[132 rows x 2 columns]"
      ]
     },
     "execution_count": 3,
     "metadata": {},
     "output_type": "execute_result"
    }
   ],
   "source": [
    "import pandas as pd\n",
    "import numpy as np\n",
    "\n",
    "X_train = pd.read_csv('test_checkpoints_reg/fold_0/train_full.csv')\n",
    "X_train = X_train.drop(['PCE_max(%)'], axis = 1)\n",
    "X_train = X_train.drop([191])  # Mordred is  not able to calculate descriptors for acceptor at this posotion\n",
    "X_train\n",
    "\n",
    "X_val=pd.read_csv('test_checkpoints_reg/fold_0/val_full.csv')\n",
    "X_val = X_val.drop(['PCE_max(%)'], axis = 1)\n",
    "X_val\n",
    "\n",
    "X_test=pd.read_csv('test_checkpoints_reg/fold_0/test_full.csv')\n",
    "X_test = X_test.drop(['PCE_max(%)'], axis = 1)\n",
    "X_test"
   ]
  },
  {
   "cell_type": "code",
   "execution_count": 4,
   "metadata": {},
   "outputs": [
    {
     "name": "stderr",
     "output_type": "stream",
     "text": [
      "  0%|                                                                                         | 0/1053 [00:00<?, ?it/s]C:\\Users\\prate\\anaconda3\\envs\\my-rdkit-env1\\lib\\site-packages\\ipykernel_launcher.py:14: DeprecationWarning: `np.int` is a deprecated alias for the builtin `int`. To silence this warning, use `int` by itself. Doing this will not modify any behavior and is safe. When replacing `np.int`, you may wish to use e.g. `np.int64` or `np.int32` to specify the precision. If you wish to review your current use, check the release note link for additional information.\n",
      "Deprecated in NumPy 1.20; for more details and guidance: https://numpy.org/devdocs/release/1.20.0-notes.html#deprecations\n",
      "  \n",
      "100%|█████████████████████████████████████████████████████████████████████████████| 1053/1053 [00:01<00:00, 818.19it/s]\n",
      "100%|██████████████████████████████████████████████████████████████████████████████| 1053/1053 [00:14<00:00, 72.73it/s]\n",
      "100%|███████████████████████████████████████████████████████████████████████████████| 132/132 [00:00<00:00, 916.26it/s]\n",
      "100%|███████████████████████████████████████████████████████████████████████████████| 132/132 [00:00<00:00, 409.40it/s]\n",
      "100%|███████████████████████████████████████████████████████████████████████████████| 132/132 [00:00<00:00, 672.93it/s]\n",
      "100%|███████████████████████████████████████████████████████████████████████████████| 132/132 [00:00<00:00, 457.48it/s]\n"
     ]
    }
   ],
   "source": [
    "from rdkit import Chem, DataStructs\n",
    "from rdkit.Chem import AllChem\n",
    "from tqdm import tqdm\n",
    "\n",
    "def fp_list_from_smiles_list(smiles_list,n_bits=512):                        # This code snippet is taken from http://practicalcheminformatics.blogspot.com/2019/11/visualizing-chemical-space.html\n",
    "    fp_list = []\n",
    "    for smiles in tqdm(smiles_list):\n",
    "        mol = Chem.MolFromSmiles(smiles)\n",
    "        fp_list.append(fp_as_array(mol,n_bits))\n",
    "    return fp_list\n",
    "\n",
    "def fp_as_array(mol,n_bits=512):\n",
    "    fp = AllChem.GetMorganFingerprintAsBitVect(mol, 2, nBits=n_bits)\n",
    "    arr = np.zeros((1,), np.int)\n",
    "    DataStructs.ConvertToNumpyArray(fp, arr)\n",
    "    return arr\n",
    "\n",
    "donor_morgan_fp = fp_list_from_smiles_list(X_train['p(SMILES)'])\n",
    "donor_morgan_fp_train = pd.DataFrame(donor_morgan_fp)\n",
    "donor_morgan_fp_train = donor_morgan_fp_train.add_prefix('Donor_')\n",
    "\n",
    "acceptor_morgan_fp = fp_list_from_smiles_list(X_train['n(SMILES)'])\n",
    "acceptor_morgan_fp_train = pd.DataFrame(acceptor_morgan_fp)\n",
    "acceptor_morgan_fp_train = acceptor_morgan_fp_train.add_prefix('Acceptor_')\n",
    "\n",
    "frames_train = [donor_morgan_fp_train, acceptor_morgan_fp_train]\n",
    "X_train_morgan = pd.concat(frames_train, axis =1)\n",
    "\n",
    "\n",
    "\n",
    "donor_morgan_fp = fp_list_from_smiles_list(X_val['p(SMILES)'])\n",
    "donor_morgan_fp_val = pd.DataFrame(donor_morgan_fp)\n",
    "donor_morgan_fp_val = donor_morgan_fp_val.add_prefix('Donor_')\n",
    "\n",
    "acceptor_morgan_fp = fp_list_from_smiles_list(X_val['n(SMILES)'])\n",
    "acceptor_morgan_fp_val = pd.DataFrame(acceptor_morgan_fp)\n",
    "acceptor_morgan_fp_val = acceptor_morgan_fp_val.add_prefix('Acceptor_')\n",
    "\n",
    "frames_val = [donor_morgan_fp_val, acceptor_morgan_fp_val]\n",
    "X_val_morgan = pd.concat(frames_val, axis =1)\n",
    "\n",
    "\n",
    "\n",
    "\n",
    "donor_morgan_fp = fp_list_from_smiles_list(X_test['p(SMILES)'])\n",
    "donor_morgan_fp_test = pd.DataFrame(donor_morgan_fp)\n",
    "donor_morgan_fp_test = donor_morgan_fp_test.add_prefix('Donor_')\n",
    "\n",
    "acceptor_morgan_fp = fp_list_from_smiles_list(X_test['n(SMILES)'])\n",
    "acceptor_morgan_fp_test = pd.DataFrame(acceptor_morgan_fp)\n",
    "acceptor_morgan_fp_test = acceptor_morgan_fp_test.add_prefix('Acceptor_')\n",
    "\n",
    "frames_test = [donor_morgan_fp_test, acceptor_morgan_fp_test]\n",
    "X_test_morgan = pd.concat(frames_test, axis =1)\n",
    "\n",
    "X_train_morgan.to_csv('X_train_morgan.csv')\n",
    "X_val_morgan.to_csv('X_val_morgan.csv')\n",
    "X_test_morgan.to_csv('X_test_morgan.csv')\n"
   ]
  },
  {
   "cell_type": "code",
   "execution_count": 5,
   "metadata": {},
   "outputs": [
    {
     "data": {
      "text/html": [
       "<div>\n",
       "<style scoped>\n",
       "    .dataframe tbody tr th:only-of-type {\n",
       "        vertical-align: middle;\n",
       "    }\n",
       "\n",
       "    .dataframe tbody tr th {\n",
       "        vertical-align: top;\n",
       "    }\n",
       "\n",
       "    .dataframe thead th {\n",
       "        text-align: right;\n",
       "    }\n",
       "</style>\n",
       "<table border=\"1\" class=\"dataframe\">\n",
       "  <thead>\n",
       "    <tr style=\"text-align: right;\">\n",
       "      <th></th>\n",
       "      <th>Donor_0</th>\n",
       "      <th>Donor_1</th>\n",
       "      <th>Donor_2</th>\n",
       "      <th>Donor_3</th>\n",
       "      <th>Donor_4</th>\n",
       "      <th>Donor_5</th>\n",
       "      <th>Donor_6</th>\n",
       "      <th>Donor_7</th>\n",
       "      <th>Donor_8</th>\n",
       "      <th>Donor_9</th>\n",
       "      <th>...</th>\n",
       "      <th>Acceptor_502</th>\n",
       "      <th>Acceptor_503</th>\n",
       "      <th>Acceptor_504</th>\n",
       "      <th>Acceptor_505</th>\n",
       "      <th>Acceptor_506</th>\n",
       "      <th>Acceptor_507</th>\n",
       "      <th>Acceptor_508</th>\n",
       "      <th>Acceptor_509</th>\n",
       "      <th>Acceptor_510</th>\n",
       "      <th>Acceptor_511</th>\n",
       "    </tr>\n",
       "  </thead>\n",
       "  <tbody>\n",
       "    <tr>\n",
       "      <th>0</th>\n",
       "      <td>0</td>\n",
       "      <td>1</td>\n",
       "      <td>0</td>\n",
       "      <td>0</td>\n",
       "      <td>0</td>\n",
       "      <td>0</td>\n",
       "      <td>0</td>\n",
       "      <td>1</td>\n",
       "      <td>0</td>\n",
       "      <td>0</td>\n",
       "      <td>...</td>\n",
       "      <td>1</td>\n",
       "      <td>0</td>\n",
       "      <td>0</td>\n",
       "      <td>0</td>\n",
       "      <td>0</td>\n",
       "      <td>0</td>\n",
       "      <td>0</td>\n",
       "      <td>0</td>\n",
       "      <td>0</td>\n",
       "      <td>0</td>\n",
       "    </tr>\n",
       "    <tr>\n",
       "      <th>1</th>\n",
       "      <td>0</td>\n",
       "      <td>1</td>\n",
       "      <td>0</td>\n",
       "      <td>0</td>\n",
       "      <td>0</td>\n",
       "      <td>0</td>\n",
       "      <td>0</td>\n",
       "      <td>1</td>\n",
       "      <td>0</td>\n",
       "      <td>0</td>\n",
       "      <td>...</td>\n",
       "      <td>1</td>\n",
       "      <td>0</td>\n",
       "      <td>0</td>\n",
       "      <td>0</td>\n",
       "      <td>0</td>\n",
       "      <td>0</td>\n",
       "      <td>0</td>\n",
       "      <td>0</td>\n",
       "      <td>1</td>\n",
       "      <td>0</td>\n",
       "    </tr>\n",
       "    <tr>\n",
       "      <th>2</th>\n",
       "      <td>0</td>\n",
       "      <td>1</td>\n",
       "      <td>0</td>\n",
       "      <td>0</td>\n",
       "      <td>0</td>\n",
       "      <td>0</td>\n",
       "      <td>0</td>\n",
       "      <td>0</td>\n",
       "      <td>0</td>\n",
       "      <td>0</td>\n",
       "      <td>...</td>\n",
       "      <td>0</td>\n",
       "      <td>0</td>\n",
       "      <td>0</td>\n",
       "      <td>0</td>\n",
       "      <td>0</td>\n",
       "      <td>0</td>\n",
       "      <td>0</td>\n",
       "      <td>0</td>\n",
       "      <td>0</td>\n",
       "      <td>0</td>\n",
       "    </tr>\n",
       "    <tr>\n",
       "      <th>3</th>\n",
       "      <td>0</td>\n",
       "      <td>1</td>\n",
       "      <td>0</td>\n",
       "      <td>0</td>\n",
       "      <td>0</td>\n",
       "      <td>0</td>\n",
       "      <td>0</td>\n",
       "      <td>0</td>\n",
       "      <td>1</td>\n",
       "      <td>0</td>\n",
       "      <td>...</td>\n",
       "      <td>0</td>\n",
       "      <td>0</td>\n",
       "      <td>0</td>\n",
       "      <td>0</td>\n",
       "      <td>0</td>\n",
       "      <td>1</td>\n",
       "      <td>0</td>\n",
       "      <td>0</td>\n",
       "      <td>0</td>\n",
       "      <td>0</td>\n",
       "    </tr>\n",
       "    <tr>\n",
       "      <th>4</th>\n",
       "      <td>0</td>\n",
       "      <td>1</td>\n",
       "      <td>0</td>\n",
       "      <td>0</td>\n",
       "      <td>0</td>\n",
       "      <td>0</td>\n",
       "      <td>0</td>\n",
       "      <td>0</td>\n",
       "      <td>1</td>\n",
       "      <td>0</td>\n",
       "      <td>...</td>\n",
       "      <td>1</td>\n",
       "      <td>0</td>\n",
       "      <td>0</td>\n",
       "      <td>0</td>\n",
       "      <td>0</td>\n",
       "      <td>0</td>\n",
       "      <td>0</td>\n",
       "      <td>0</td>\n",
       "      <td>0</td>\n",
       "      <td>0</td>\n",
       "    </tr>\n",
       "    <tr>\n",
       "      <th>...</th>\n",
       "      <td>...</td>\n",
       "      <td>...</td>\n",
       "      <td>...</td>\n",
       "      <td>...</td>\n",
       "      <td>...</td>\n",
       "      <td>...</td>\n",
       "      <td>...</td>\n",
       "      <td>...</td>\n",
       "      <td>...</td>\n",
       "      <td>...</td>\n",
       "      <td>...</td>\n",
       "      <td>...</td>\n",
       "      <td>...</td>\n",
       "      <td>...</td>\n",
       "      <td>...</td>\n",
       "      <td>...</td>\n",
       "      <td>...</td>\n",
       "      <td>...</td>\n",
       "      <td>...</td>\n",
       "      <td>...</td>\n",
       "      <td>...</td>\n",
       "    </tr>\n",
       "    <tr>\n",
       "      <th>1048</th>\n",
       "      <td>0</td>\n",
       "      <td>1</td>\n",
       "      <td>0</td>\n",
       "      <td>0</td>\n",
       "      <td>0</td>\n",
       "      <td>0</td>\n",
       "      <td>0</td>\n",
       "      <td>0</td>\n",
       "      <td>1</td>\n",
       "      <td>0</td>\n",
       "      <td>...</td>\n",
       "      <td>0</td>\n",
       "      <td>0</td>\n",
       "      <td>0</td>\n",
       "      <td>0</td>\n",
       "      <td>0</td>\n",
       "      <td>0</td>\n",
       "      <td>0</td>\n",
       "      <td>0</td>\n",
       "      <td>1</td>\n",
       "      <td>0</td>\n",
       "    </tr>\n",
       "    <tr>\n",
       "      <th>1049</th>\n",
       "      <td>0</td>\n",
       "      <td>1</td>\n",
       "      <td>0</td>\n",
       "      <td>0</td>\n",
       "      <td>0</td>\n",
       "      <td>0</td>\n",
       "      <td>0</td>\n",
       "      <td>1</td>\n",
       "      <td>1</td>\n",
       "      <td>0</td>\n",
       "      <td>...</td>\n",
       "      <td>0</td>\n",
       "      <td>0</td>\n",
       "      <td>0</td>\n",
       "      <td>0</td>\n",
       "      <td>0</td>\n",
       "      <td>0</td>\n",
       "      <td>0</td>\n",
       "      <td>0</td>\n",
       "      <td>0</td>\n",
       "      <td>0</td>\n",
       "    </tr>\n",
       "    <tr>\n",
       "      <th>1050</th>\n",
       "      <td>0</td>\n",
       "      <td>0</td>\n",
       "      <td>0</td>\n",
       "      <td>0</td>\n",
       "      <td>0</td>\n",
       "      <td>0</td>\n",
       "      <td>0</td>\n",
       "      <td>0</td>\n",
       "      <td>0</td>\n",
       "      <td>0</td>\n",
       "      <td>...</td>\n",
       "      <td>0</td>\n",
       "      <td>0</td>\n",
       "      <td>0</td>\n",
       "      <td>0</td>\n",
       "      <td>0</td>\n",
       "      <td>1</td>\n",
       "      <td>0</td>\n",
       "      <td>0</td>\n",
       "      <td>0</td>\n",
       "      <td>0</td>\n",
       "    </tr>\n",
       "    <tr>\n",
       "      <th>1051</th>\n",
       "      <td>0</td>\n",
       "      <td>1</td>\n",
       "      <td>0</td>\n",
       "      <td>0</td>\n",
       "      <td>0</td>\n",
       "      <td>0</td>\n",
       "      <td>0</td>\n",
       "      <td>1</td>\n",
       "      <td>1</td>\n",
       "      <td>0</td>\n",
       "      <td>...</td>\n",
       "      <td>0</td>\n",
       "      <td>0</td>\n",
       "      <td>0</td>\n",
       "      <td>0</td>\n",
       "      <td>0</td>\n",
       "      <td>0</td>\n",
       "      <td>0</td>\n",
       "      <td>0</td>\n",
       "      <td>0</td>\n",
       "      <td>0</td>\n",
       "    </tr>\n",
       "    <tr>\n",
       "      <th>1052</th>\n",
       "      <td>0</td>\n",
       "      <td>1</td>\n",
       "      <td>0</td>\n",
       "      <td>0</td>\n",
       "      <td>0</td>\n",
       "      <td>0</td>\n",
       "      <td>0</td>\n",
       "      <td>0</td>\n",
       "      <td>1</td>\n",
       "      <td>0</td>\n",
       "      <td>...</td>\n",
       "      <td>0</td>\n",
       "      <td>0</td>\n",
       "      <td>0</td>\n",
       "      <td>0</td>\n",
       "      <td>0</td>\n",
       "      <td>0</td>\n",
       "      <td>0</td>\n",
       "      <td>0</td>\n",
       "      <td>0</td>\n",
       "      <td>1</td>\n",
       "    </tr>\n",
       "  </tbody>\n",
       "</table>\n",
       "<p>1053 rows × 1024 columns</p>\n",
       "</div>"
      ],
      "text/plain": [
       "      Donor_0  Donor_1  Donor_2  Donor_3  Donor_4  Donor_5  Donor_6  Donor_7  \\\n",
       "0           0        1        0        0        0        0        0        1   \n",
       "1           0        1        0        0        0        0        0        1   \n",
       "2           0        1        0        0        0        0        0        0   \n",
       "3           0        1        0        0        0        0        0        0   \n",
       "4           0        1        0        0        0        0        0        0   \n",
       "...       ...      ...      ...      ...      ...      ...      ...      ...   \n",
       "1048        0        1        0        0        0        0        0        0   \n",
       "1049        0        1        0        0        0        0        0        1   \n",
       "1050        0        0        0        0        0        0        0        0   \n",
       "1051        0        1        0        0        0        0        0        1   \n",
       "1052        0        1        0        0        0        0        0        0   \n",
       "\n",
       "      Donor_8  Donor_9  ...  Acceptor_502  Acceptor_503  Acceptor_504  \\\n",
       "0           0        0  ...             1             0             0   \n",
       "1           0        0  ...             1             0             0   \n",
       "2           0        0  ...             0             0             0   \n",
       "3           1        0  ...             0             0             0   \n",
       "4           1        0  ...             1             0             0   \n",
       "...       ...      ...  ...           ...           ...           ...   \n",
       "1048        1        0  ...             0             0             0   \n",
       "1049        1        0  ...             0             0             0   \n",
       "1050        0        0  ...             0             0             0   \n",
       "1051        1        0  ...             0             0             0   \n",
       "1052        1        0  ...             0             0             0   \n",
       "\n",
       "      Acceptor_505  Acceptor_506  Acceptor_507  Acceptor_508  Acceptor_509  \\\n",
       "0                0             0             0             0             0   \n",
       "1                0             0             0             0             0   \n",
       "2                0             0             0             0             0   \n",
       "3                0             0             1             0             0   \n",
       "4                0             0             0             0             0   \n",
       "...            ...           ...           ...           ...           ...   \n",
       "1048             0             0             0             0             0   \n",
       "1049             0             0             0             0             0   \n",
       "1050             0             0             1             0             0   \n",
       "1051             0             0             0             0             0   \n",
       "1052             0             0             0             0             0   \n",
       "\n",
       "      Acceptor_510  Acceptor_511  \n",
       "0                0             0  \n",
       "1                1             0  \n",
       "2                0             0  \n",
       "3                0             0  \n",
       "4                0             0  \n",
       "...            ...           ...  \n",
       "1048             1             0  \n",
       "1049             0             0  \n",
       "1050             0             0  \n",
       "1051             0             0  \n",
       "1052             0             1  \n",
       "\n",
       "[1053 rows x 1024 columns]"
      ]
     },
     "execution_count": 5,
     "metadata": {},
     "output_type": "execute_result"
    }
   ],
   "source": [
    "X_train_morgan"
   ]
  },
  {
   "cell_type": "code",
   "execution_count": 6,
   "metadata": {},
   "outputs": [
    {
     "data": {
      "text/html": [
       "<div>\n",
       "<style scoped>\n",
       "    .dataframe tbody tr th:only-of-type {\n",
       "        vertical-align: middle;\n",
       "    }\n",
       "\n",
       "    .dataframe tbody tr th {\n",
       "        vertical-align: top;\n",
       "    }\n",
       "\n",
       "    .dataframe thead th {\n",
       "        text-align: right;\n",
       "    }\n",
       "</style>\n",
       "<table border=\"1\" class=\"dataframe\">\n",
       "  <thead>\n",
       "    <tr style=\"text-align: right;\">\n",
       "      <th></th>\n",
       "      <th>Donor_0</th>\n",
       "      <th>Donor_1</th>\n",
       "      <th>Donor_2</th>\n",
       "      <th>Donor_3</th>\n",
       "      <th>Donor_4</th>\n",
       "      <th>Donor_5</th>\n",
       "      <th>Donor_6</th>\n",
       "      <th>Donor_7</th>\n",
       "      <th>Donor_8</th>\n",
       "      <th>Donor_9</th>\n",
       "      <th>...</th>\n",
       "      <th>Acceptor_502</th>\n",
       "      <th>Acceptor_503</th>\n",
       "      <th>Acceptor_504</th>\n",
       "      <th>Acceptor_505</th>\n",
       "      <th>Acceptor_506</th>\n",
       "      <th>Acceptor_507</th>\n",
       "      <th>Acceptor_508</th>\n",
       "      <th>Acceptor_509</th>\n",
       "      <th>Acceptor_510</th>\n",
       "      <th>Acceptor_511</th>\n",
       "    </tr>\n",
       "  </thead>\n",
       "  <tbody>\n",
       "    <tr>\n",
       "      <th>0</th>\n",
       "      <td>0</td>\n",
       "      <td>1</td>\n",
       "      <td>0</td>\n",
       "      <td>0</td>\n",
       "      <td>0</td>\n",
       "      <td>0</td>\n",
       "      <td>0</td>\n",
       "      <td>0</td>\n",
       "      <td>1</td>\n",
       "      <td>0</td>\n",
       "      <td>...</td>\n",
       "      <td>0</td>\n",
       "      <td>0</td>\n",
       "      <td>0</td>\n",
       "      <td>0</td>\n",
       "      <td>0</td>\n",
       "      <td>0</td>\n",
       "      <td>1</td>\n",
       "      <td>0</td>\n",
       "      <td>0</td>\n",
       "      <td>0</td>\n",
       "    </tr>\n",
       "    <tr>\n",
       "      <th>1</th>\n",
       "      <td>0</td>\n",
       "      <td>0</td>\n",
       "      <td>0</td>\n",
       "      <td>0</td>\n",
       "      <td>0</td>\n",
       "      <td>0</td>\n",
       "      <td>0</td>\n",
       "      <td>0</td>\n",
       "      <td>0</td>\n",
       "      <td>0</td>\n",
       "      <td>...</td>\n",
       "      <td>0</td>\n",
       "      <td>0</td>\n",
       "      <td>0</td>\n",
       "      <td>0</td>\n",
       "      <td>0</td>\n",
       "      <td>0</td>\n",
       "      <td>0</td>\n",
       "      <td>0</td>\n",
       "      <td>0</td>\n",
       "      <td>0</td>\n",
       "    </tr>\n",
       "    <tr>\n",
       "      <th>2</th>\n",
       "      <td>0</td>\n",
       "      <td>0</td>\n",
       "      <td>0</td>\n",
       "      <td>0</td>\n",
       "      <td>0</td>\n",
       "      <td>0</td>\n",
       "      <td>0</td>\n",
       "      <td>0</td>\n",
       "      <td>0</td>\n",
       "      <td>0</td>\n",
       "      <td>...</td>\n",
       "      <td>0</td>\n",
       "      <td>0</td>\n",
       "      <td>0</td>\n",
       "      <td>0</td>\n",
       "      <td>0</td>\n",
       "      <td>0</td>\n",
       "      <td>0</td>\n",
       "      <td>0</td>\n",
       "      <td>0</td>\n",
       "      <td>0</td>\n",
       "    </tr>\n",
       "    <tr>\n",
       "      <th>3</th>\n",
       "      <td>0</td>\n",
       "      <td>1</td>\n",
       "      <td>0</td>\n",
       "      <td>0</td>\n",
       "      <td>0</td>\n",
       "      <td>0</td>\n",
       "      <td>0</td>\n",
       "      <td>1</td>\n",
       "      <td>1</td>\n",
       "      <td>0</td>\n",
       "      <td>...</td>\n",
       "      <td>0</td>\n",
       "      <td>0</td>\n",
       "      <td>0</td>\n",
       "      <td>0</td>\n",
       "      <td>0</td>\n",
       "      <td>0</td>\n",
       "      <td>0</td>\n",
       "      <td>0</td>\n",
       "      <td>0</td>\n",
       "      <td>0</td>\n",
       "    </tr>\n",
       "    <tr>\n",
       "      <th>4</th>\n",
       "      <td>0</td>\n",
       "      <td>0</td>\n",
       "      <td>0</td>\n",
       "      <td>0</td>\n",
       "      <td>0</td>\n",
       "      <td>0</td>\n",
       "      <td>0</td>\n",
       "      <td>1</td>\n",
       "      <td>0</td>\n",
       "      <td>0</td>\n",
       "      <td>...</td>\n",
       "      <td>0</td>\n",
       "      <td>0</td>\n",
       "      <td>0</td>\n",
       "      <td>0</td>\n",
       "      <td>0</td>\n",
       "      <td>0</td>\n",
       "      <td>0</td>\n",
       "      <td>0</td>\n",
       "      <td>0</td>\n",
       "      <td>0</td>\n",
       "    </tr>\n",
       "    <tr>\n",
       "      <th>...</th>\n",
       "      <td>...</td>\n",
       "      <td>...</td>\n",
       "      <td>...</td>\n",
       "      <td>...</td>\n",
       "      <td>...</td>\n",
       "      <td>...</td>\n",
       "      <td>...</td>\n",
       "      <td>...</td>\n",
       "      <td>...</td>\n",
       "      <td>...</td>\n",
       "      <td>...</td>\n",
       "      <td>...</td>\n",
       "      <td>...</td>\n",
       "      <td>...</td>\n",
       "      <td>...</td>\n",
       "      <td>...</td>\n",
       "      <td>...</td>\n",
       "      <td>...</td>\n",
       "      <td>...</td>\n",
       "      <td>...</td>\n",
       "      <td>...</td>\n",
       "    </tr>\n",
       "    <tr>\n",
       "      <th>127</th>\n",
       "      <td>0</td>\n",
       "      <td>1</td>\n",
       "      <td>0</td>\n",
       "      <td>0</td>\n",
       "      <td>0</td>\n",
       "      <td>0</td>\n",
       "      <td>0</td>\n",
       "      <td>0</td>\n",
       "      <td>1</td>\n",
       "      <td>0</td>\n",
       "      <td>...</td>\n",
       "      <td>1</td>\n",
       "      <td>0</td>\n",
       "      <td>0</td>\n",
       "      <td>0</td>\n",
       "      <td>0</td>\n",
       "      <td>0</td>\n",
       "      <td>0</td>\n",
       "      <td>0</td>\n",
       "      <td>0</td>\n",
       "      <td>0</td>\n",
       "    </tr>\n",
       "    <tr>\n",
       "      <th>128</th>\n",
       "      <td>0</td>\n",
       "      <td>1</td>\n",
       "      <td>0</td>\n",
       "      <td>0</td>\n",
       "      <td>0</td>\n",
       "      <td>0</td>\n",
       "      <td>0</td>\n",
       "      <td>1</td>\n",
       "      <td>1</td>\n",
       "      <td>0</td>\n",
       "      <td>...</td>\n",
       "      <td>1</td>\n",
       "      <td>0</td>\n",
       "      <td>0</td>\n",
       "      <td>0</td>\n",
       "      <td>0</td>\n",
       "      <td>0</td>\n",
       "      <td>0</td>\n",
       "      <td>0</td>\n",
       "      <td>0</td>\n",
       "      <td>0</td>\n",
       "    </tr>\n",
       "    <tr>\n",
       "      <th>129</th>\n",
       "      <td>0</td>\n",
       "      <td>1</td>\n",
       "      <td>0</td>\n",
       "      <td>0</td>\n",
       "      <td>0</td>\n",
       "      <td>0</td>\n",
       "      <td>0</td>\n",
       "      <td>0</td>\n",
       "      <td>1</td>\n",
       "      <td>0</td>\n",
       "      <td>...</td>\n",
       "      <td>0</td>\n",
       "      <td>0</td>\n",
       "      <td>0</td>\n",
       "      <td>0</td>\n",
       "      <td>0</td>\n",
       "      <td>0</td>\n",
       "      <td>0</td>\n",
       "      <td>0</td>\n",
       "      <td>0</td>\n",
       "      <td>0</td>\n",
       "    </tr>\n",
       "    <tr>\n",
       "      <th>130</th>\n",
       "      <td>0</td>\n",
       "      <td>1</td>\n",
       "      <td>0</td>\n",
       "      <td>0</td>\n",
       "      <td>0</td>\n",
       "      <td>0</td>\n",
       "      <td>0</td>\n",
       "      <td>0</td>\n",
       "      <td>1</td>\n",
       "      <td>0</td>\n",
       "      <td>...</td>\n",
       "      <td>0</td>\n",
       "      <td>0</td>\n",
       "      <td>0</td>\n",
       "      <td>0</td>\n",
       "      <td>0</td>\n",
       "      <td>0</td>\n",
       "      <td>0</td>\n",
       "      <td>0</td>\n",
       "      <td>0</td>\n",
       "      <td>0</td>\n",
       "    </tr>\n",
       "    <tr>\n",
       "      <th>131</th>\n",
       "      <td>0</td>\n",
       "      <td>1</td>\n",
       "      <td>0</td>\n",
       "      <td>0</td>\n",
       "      <td>0</td>\n",
       "      <td>0</td>\n",
       "      <td>0</td>\n",
       "      <td>1</td>\n",
       "      <td>0</td>\n",
       "      <td>0</td>\n",
       "      <td>...</td>\n",
       "      <td>1</td>\n",
       "      <td>0</td>\n",
       "      <td>0</td>\n",
       "      <td>0</td>\n",
       "      <td>0</td>\n",
       "      <td>0</td>\n",
       "      <td>0</td>\n",
       "      <td>0</td>\n",
       "      <td>0</td>\n",
       "      <td>0</td>\n",
       "    </tr>\n",
       "  </tbody>\n",
       "</table>\n",
       "<p>132 rows × 1024 columns</p>\n",
       "</div>"
      ],
      "text/plain": [
       "     Donor_0  Donor_1  Donor_2  Donor_3  Donor_4  Donor_5  Donor_6  Donor_7  \\\n",
       "0          0        1        0        0        0        0        0        0   \n",
       "1          0        0        0        0        0        0        0        0   \n",
       "2          0        0        0        0        0        0        0        0   \n",
       "3          0        1        0        0        0        0        0        1   \n",
       "4          0        0        0        0        0        0        0        1   \n",
       "..       ...      ...      ...      ...      ...      ...      ...      ...   \n",
       "127        0        1        0        0        0        0        0        0   \n",
       "128        0        1        0        0        0        0        0        1   \n",
       "129        0        1        0        0        0        0        0        0   \n",
       "130        0        1        0        0        0        0        0        0   \n",
       "131        0        1        0        0        0        0        0        1   \n",
       "\n",
       "     Donor_8  Donor_9  ...  Acceptor_502  Acceptor_503  Acceptor_504  \\\n",
       "0          1        0  ...             0             0             0   \n",
       "1          0        0  ...             0             0             0   \n",
       "2          0        0  ...             0             0             0   \n",
       "3          1        0  ...             0             0             0   \n",
       "4          0        0  ...             0             0             0   \n",
       "..       ...      ...  ...           ...           ...           ...   \n",
       "127        1        0  ...             1             0             0   \n",
       "128        1        0  ...             1             0             0   \n",
       "129        1        0  ...             0             0             0   \n",
       "130        1        0  ...             0             0             0   \n",
       "131        0        0  ...             1             0             0   \n",
       "\n",
       "     Acceptor_505  Acceptor_506  Acceptor_507  Acceptor_508  Acceptor_509  \\\n",
       "0               0             0             0             1             0   \n",
       "1               0             0             0             0             0   \n",
       "2               0             0             0             0             0   \n",
       "3               0             0             0             0             0   \n",
       "4               0             0             0             0             0   \n",
       "..            ...           ...           ...           ...           ...   \n",
       "127             0             0             0             0             0   \n",
       "128             0             0             0             0             0   \n",
       "129             0             0             0             0             0   \n",
       "130             0             0             0             0             0   \n",
       "131             0             0             0             0             0   \n",
       "\n",
       "     Acceptor_510  Acceptor_511  \n",
       "0               0             0  \n",
       "1               0             0  \n",
       "2               0             0  \n",
       "3               0             0  \n",
       "4               0             0  \n",
       "..            ...           ...  \n",
       "127             0             0  \n",
       "128             0             0  \n",
       "129             0             0  \n",
       "130             0             0  \n",
       "131             0             0  \n",
       "\n",
       "[132 rows x 1024 columns]"
      ]
     },
     "execution_count": 6,
     "metadata": {},
     "output_type": "execute_result"
    }
   ],
   "source": [
    "X_val_morgan"
   ]
  },
  {
   "cell_type": "code",
   "execution_count": 7,
   "metadata": {},
   "outputs": [
    {
     "data": {
      "text/html": [
       "<div>\n",
       "<style scoped>\n",
       "    .dataframe tbody tr th:only-of-type {\n",
       "        vertical-align: middle;\n",
       "    }\n",
       "\n",
       "    .dataframe tbody tr th {\n",
       "        vertical-align: top;\n",
       "    }\n",
       "\n",
       "    .dataframe thead th {\n",
       "        text-align: right;\n",
       "    }\n",
       "</style>\n",
       "<table border=\"1\" class=\"dataframe\">\n",
       "  <thead>\n",
       "    <tr style=\"text-align: right;\">\n",
       "      <th></th>\n",
       "      <th>Donor_0</th>\n",
       "      <th>Donor_1</th>\n",
       "      <th>Donor_2</th>\n",
       "      <th>Donor_3</th>\n",
       "      <th>Donor_4</th>\n",
       "      <th>Donor_5</th>\n",
       "      <th>Donor_6</th>\n",
       "      <th>Donor_7</th>\n",
       "      <th>Donor_8</th>\n",
       "      <th>Donor_9</th>\n",
       "      <th>...</th>\n",
       "      <th>Acceptor_502</th>\n",
       "      <th>Acceptor_503</th>\n",
       "      <th>Acceptor_504</th>\n",
       "      <th>Acceptor_505</th>\n",
       "      <th>Acceptor_506</th>\n",
       "      <th>Acceptor_507</th>\n",
       "      <th>Acceptor_508</th>\n",
       "      <th>Acceptor_509</th>\n",
       "      <th>Acceptor_510</th>\n",
       "      <th>Acceptor_511</th>\n",
       "    </tr>\n",
       "  </thead>\n",
       "  <tbody>\n",
       "    <tr>\n",
       "      <th>0</th>\n",
       "      <td>0</td>\n",
       "      <td>0</td>\n",
       "      <td>0</td>\n",
       "      <td>0</td>\n",
       "      <td>0</td>\n",
       "      <td>0</td>\n",
       "      <td>0</td>\n",
       "      <td>0</td>\n",
       "      <td>0</td>\n",
       "      <td>0</td>\n",
       "      <td>...</td>\n",
       "      <td>0</td>\n",
       "      <td>0</td>\n",
       "      <td>0</td>\n",
       "      <td>0</td>\n",
       "      <td>0</td>\n",
       "      <td>0</td>\n",
       "      <td>0</td>\n",
       "      <td>0</td>\n",
       "      <td>0</td>\n",
       "      <td>1</td>\n",
       "    </tr>\n",
       "    <tr>\n",
       "      <th>1</th>\n",
       "      <td>0</td>\n",
       "      <td>1</td>\n",
       "      <td>0</td>\n",
       "      <td>0</td>\n",
       "      <td>0</td>\n",
       "      <td>0</td>\n",
       "      <td>0</td>\n",
       "      <td>0</td>\n",
       "      <td>1</td>\n",
       "      <td>0</td>\n",
       "      <td>...</td>\n",
       "      <td>0</td>\n",
       "      <td>0</td>\n",
       "      <td>0</td>\n",
       "      <td>0</td>\n",
       "      <td>0</td>\n",
       "      <td>1</td>\n",
       "      <td>0</td>\n",
       "      <td>0</td>\n",
       "      <td>0</td>\n",
       "      <td>0</td>\n",
       "    </tr>\n",
       "    <tr>\n",
       "      <th>2</th>\n",
       "      <td>0</td>\n",
       "      <td>0</td>\n",
       "      <td>0</td>\n",
       "      <td>0</td>\n",
       "      <td>0</td>\n",
       "      <td>0</td>\n",
       "      <td>0</td>\n",
       "      <td>0</td>\n",
       "      <td>0</td>\n",
       "      <td>0</td>\n",
       "      <td>...</td>\n",
       "      <td>0</td>\n",
       "      <td>0</td>\n",
       "      <td>0</td>\n",
       "      <td>0</td>\n",
       "      <td>0</td>\n",
       "      <td>0</td>\n",
       "      <td>1</td>\n",
       "      <td>0</td>\n",
       "      <td>0</td>\n",
       "      <td>0</td>\n",
       "    </tr>\n",
       "    <tr>\n",
       "      <th>3</th>\n",
       "      <td>0</td>\n",
       "      <td>1</td>\n",
       "      <td>0</td>\n",
       "      <td>0</td>\n",
       "      <td>0</td>\n",
       "      <td>0</td>\n",
       "      <td>0</td>\n",
       "      <td>1</td>\n",
       "      <td>1</td>\n",
       "      <td>0</td>\n",
       "      <td>...</td>\n",
       "      <td>1</td>\n",
       "      <td>0</td>\n",
       "      <td>0</td>\n",
       "      <td>0</td>\n",
       "      <td>0</td>\n",
       "      <td>0</td>\n",
       "      <td>0</td>\n",
       "      <td>0</td>\n",
       "      <td>0</td>\n",
       "      <td>0</td>\n",
       "    </tr>\n",
       "    <tr>\n",
       "      <th>4</th>\n",
       "      <td>0</td>\n",
       "      <td>0</td>\n",
       "      <td>0</td>\n",
       "      <td>0</td>\n",
       "      <td>0</td>\n",
       "      <td>1</td>\n",
       "      <td>0</td>\n",
       "      <td>0</td>\n",
       "      <td>0</td>\n",
       "      <td>0</td>\n",
       "      <td>...</td>\n",
       "      <td>0</td>\n",
       "      <td>0</td>\n",
       "      <td>0</td>\n",
       "      <td>0</td>\n",
       "      <td>0</td>\n",
       "      <td>0</td>\n",
       "      <td>1</td>\n",
       "      <td>0</td>\n",
       "      <td>0</td>\n",
       "      <td>0</td>\n",
       "    </tr>\n",
       "    <tr>\n",
       "      <th>...</th>\n",
       "      <td>...</td>\n",
       "      <td>...</td>\n",
       "      <td>...</td>\n",
       "      <td>...</td>\n",
       "      <td>...</td>\n",
       "      <td>...</td>\n",
       "      <td>...</td>\n",
       "      <td>...</td>\n",
       "      <td>...</td>\n",
       "      <td>...</td>\n",
       "      <td>...</td>\n",
       "      <td>...</td>\n",
       "      <td>...</td>\n",
       "      <td>...</td>\n",
       "      <td>...</td>\n",
       "      <td>...</td>\n",
       "      <td>...</td>\n",
       "      <td>...</td>\n",
       "      <td>...</td>\n",
       "      <td>...</td>\n",
       "      <td>...</td>\n",
       "    </tr>\n",
       "    <tr>\n",
       "      <th>127</th>\n",
       "      <td>0</td>\n",
       "      <td>1</td>\n",
       "      <td>0</td>\n",
       "      <td>0</td>\n",
       "      <td>0</td>\n",
       "      <td>0</td>\n",
       "      <td>0</td>\n",
       "      <td>0</td>\n",
       "      <td>1</td>\n",
       "      <td>0</td>\n",
       "      <td>...</td>\n",
       "      <td>0</td>\n",
       "      <td>0</td>\n",
       "      <td>0</td>\n",
       "      <td>0</td>\n",
       "      <td>0</td>\n",
       "      <td>0</td>\n",
       "      <td>0</td>\n",
       "      <td>0</td>\n",
       "      <td>0</td>\n",
       "      <td>0</td>\n",
       "    </tr>\n",
       "    <tr>\n",
       "      <th>128</th>\n",
       "      <td>0</td>\n",
       "      <td>1</td>\n",
       "      <td>0</td>\n",
       "      <td>0</td>\n",
       "      <td>0</td>\n",
       "      <td>0</td>\n",
       "      <td>0</td>\n",
       "      <td>0</td>\n",
       "      <td>1</td>\n",
       "      <td>0</td>\n",
       "      <td>...</td>\n",
       "      <td>1</td>\n",
       "      <td>0</td>\n",
       "      <td>0</td>\n",
       "      <td>0</td>\n",
       "      <td>0</td>\n",
       "      <td>0</td>\n",
       "      <td>0</td>\n",
       "      <td>0</td>\n",
       "      <td>0</td>\n",
       "      <td>0</td>\n",
       "    </tr>\n",
       "    <tr>\n",
       "      <th>129</th>\n",
       "      <td>0</td>\n",
       "      <td>0</td>\n",
       "      <td>0</td>\n",
       "      <td>0</td>\n",
       "      <td>0</td>\n",
       "      <td>0</td>\n",
       "      <td>0</td>\n",
       "      <td>0</td>\n",
       "      <td>0</td>\n",
       "      <td>0</td>\n",
       "      <td>...</td>\n",
       "      <td>0</td>\n",
       "      <td>0</td>\n",
       "      <td>0</td>\n",
       "      <td>0</td>\n",
       "      <td>0</td>\n",
       "      <td>1</td>\n",
       "      <td>0</td>\n",
       "      <td>0</td>\n",
       "      <td>0</td>\n",
       "      <td>0</td>\n",
       "    </tr>\n",
       "    <tr>\n",
       "      <th>130</th>\n",
       "      <td>0</td>\n",
       "      <td>1</td>\n",
       "      <td>0</td>\n",
       "      <td>0</td>\n",
       "      <td>0</td>\n",
       "      <td>0</td>\n",
       "      <td>0</td>\n",
       "      <td>1</td>\n",
       "      <td>1</td>\n",
       "      <td>0</td>\n",
       "      <td>...</td>\n",
       "      <td>0</td>\n",
       "      <td>0</td>\n",
       "      <td>0</td>\n",
       "      <td>0</td>\n",
       "      <td>0</td>\n",
       "      <td>0</td>\n",
       "      <td>0</td>\n",
       "      <td>0</td>\n",
       "      <td>0</td>\n",
       "      <td>1</td>\n",
       "    </tr>\n",
       "    <tr>\n",
       "      <th>131</th>\n",
       "      <td>1</td>\n",
       "      <td>1</td>\n",
       "      <td>0</td>\n",
       "      <td>0</td>\n",
       "      <td>0</td>\n",
       "      <td>0</td>\n",
       "      <td>0</td>\n",
       "      <td>1</td>\n",
       "      <td>1</td>\n",
       "      <td>0</td>\n",
       "      <td>...</td>\n",
       "      <td>0</td>\n",
       "      <td>0</td>\n",
       "      <td>0</td>\n",
       "      <td>0</td>\n",
       "      <td>0</td>\n",
       "      <td>0</td>\n",
       "      <td>0</td>\n",
       "      <td>0</td>\n",
       "      <td>0</td>\n",
       "      <td>0</td>\n",
       "    </tr>\n",
       "  </tbody>\n",
       "</table>\n",
       "<p>132 rows × 1024 columns</p>\n",
       "</div>"
      ],
      "text/plain": [
       "     Donor_0  Donor_1  Donor_2  Donor_3  Donor_4  Donor_5  Donor_6  Donor_7  \\\n",
       "0          0        0        0        0        0        0        0        0   \n",
       "1          0        1        0        0        0        0        0        0   \n",
       "2          0        0        0        0        0        0        0        0   \n",
       "3          0        1        0        0        0        0        0        1   \n",
       "4          0        0        0        0        0        1        0        0   \n",
       "..       ...      ...      ...      ...      ...      ...      ...      ...   \n",
       "127        0        1        0        0        0        0        0        0   \n",
       "128        0        1        0        0        0        0        0        0   \n",
       "129        0        0        0        0        0        0        0        0   \n",
       "130        0        1        0        0        0        0        0        1   \n",
       "131        1        1        0        0        0        0        0        1   \n",
       "\n",
       "     Donor_8  Donor_9  ...  Acceptor_502  Acceptor_503  Acceptor_504  \\\n",
       "0          0        0  ...             0             0             0   \n",
       "1          1        0  ...             0             0             0   \n",
       "2          0        0  ...             0             0             0   \n",
       "3          1        0  ...             1             0             0   \n",
       "4          0        0  ...             0             0             0   \n",
       "..       ...      ...  ...           ...           ...           ...   \n",
       "127        1        0  ...             0             0             0   \n",
       "128        1        0  ...             1             0             0   \n",
       "129        0        0  ...             0             0             0   \n",
       "130        1        0  ...             0             0             0   \n",
       "131        1        0  ...             0             0             0   \n",
       "\n",
       "     Acceptor_505  Acceptor_506  Acceptor_507  Acceptor_508  Acceptor_509  \\\n",
       "0               0             0             0             0             0   \n",
       "1               0             0             1             0             0   \n",
       "2               0             0             0             1             0   \n",
       "3               0             0             0             0             0   \n",
       "4               0             0             0             1             0   \n",
       "..            ...           ...           ...           ...           ...   \n",
       "127             0             0             0             0             0   \n",
       "128             0             0             0             0             0   \n",
       "129             0             0             1             0             0   \n",
       "130             0             0             0             0             0   \n",
       "131             0             0             0             0             0   \n",
       "\n",
       "     Acceptor_510  Acceptor_511  \n",
       "0               0             1  \n",
       "1               0             0  \n",
       "2               0             0  \n",
       "3               0             0  \n",
       "4               0             0  \n",
       "..            ...           ...  \n",
       "127             0             0  \n",
       "128             0             0  \n",
       "129             0             0  \n",
       "130             0             1  \n",
       "131             0             0  \n",
       "\n",
       "[132 rows x 1024 columns]"
      ]
     },
     "execution_count": 7,
     "metadata": {},
     "output_type": "execute_result"
    }
   ],
   "source": [
    "X_test_morgan"
   ]
  },
  {
   "cell_type": "code",
   "execution_count": 8,
   "metadata": {},
   "outputs": [],
   "source": [
    "# X_train_morgan = pd.read_csv('X_train_morgan.csv')\n",
    "# X_val_morgan = pd.read_csv('X_val_morgan.csv')\n",
    "# X_test_morgan = pd.read_csv('X_test_morgan.csv')"
   ]
  },
  {
   "cell_type": "code",
   "execution_count": 9,
   "metadata": {},
   "outputs": [],
   "source": [
    "all_data = pd.concat([X_train_morgan,X_val_morgan,X_test_morgan])"
   ]
  },
  {
   "cell_type": "code",
   "execution_count": 10,
   "metadata": {},
   "outputs": [
    {
     "name": "stdout",
     "output_type": "stream",
     "text": [
      "Features with zero standard deviation : 86\n",
      "Features selected by using variance threshold of 0.8 : 126\n"
     ]
    }
   ],
   "source": [
    "all_data=all_data.select_dtypes(exclude=object)\n",
    "all_data= all_data.replace([np.inf, -np.inf], np.nan)\n",
    "all_data=all_data.dropna()\n",
    "all_data= all_data.replace(np.nan,0)\n",
    "print('Features with zero standard deviation :',len(all_data.std()[all_data.std() == 0]))\n",
    "all_data=all_data.drop(all_data.std()[all_data.std() == 0].index.values, axis=1)   #To remove columns with std deviation equals to zero\n",
    "\n",
    "from sklearn.feature_selection import VarianceThreshold\n",
    "sel = VarianceThreshold(threshold=(.8 * (1 - .8)))\n",
    "a=sel.fit_transform(all_data)\n",
    "sel.get_support()\n",
    "features = all_data.columns[sel.get_support()]\n",
    "print('Features selected by using variance threshold of 0.8 :',len(features))\n",
    "f = features\n",
    "\n",
    "\n",
    "X_train_morgan = X_train_morgan[f]\n",
    "X_val_morgan = X_val_morgan[f]\n",
    "X_test_morgan = X_test_morgan[f]"
   ]
  },
  {
   "cell_type": "code",
   "execution_count": 11,
   "metadata": {},
   "outputs": [],
   "source": [
    "y_train=pd.read_csv('test_checkpoints_reg/fold_0/train_full.csv')\n",
    "y_train = y_train.drop(['p(SMILES)', 'n(SMILES)'], axis = 1)\n",
    "y_train=y_train.drop([191])  # Mordred is  not able to calculate descriptors for acceptor at this posotion\n",
    "\n",
    "y_val=pd.read_csv('test_checkpoints_reg/fold_0/val_full.csv')\n",
    "y_val = y_val.drop(['p(SMILES)', 'n(SMILES)'], axis = 1)\n",
    "\n",
    "y_test=pd.read_csv('test_checkpoints_reg/fold_0/test_full.csv')\n",
    "y_test = y_test.drop(['p(SMILES)', 'n(SMILES)'], axis = 1)"
   ]
  },
  {
   "cell_type": "code",
   "execution_count": 12,
   "metadata": {},
   "outputs": [],
   "source": [
    "# Defining Metrics\n",
    "def R2Score(X,Y):\n",
    "    r2=metrics.r2_score(X,Y)\n",
    "    return r2\n",
    "def PearsonCoefficient(X, Y):\n",
    "    corr, _ = pearsonr(X,Y)\n",
    "    return corr\n",
    "def MSE(X,Y):\n",
    "    mse=mean_squared_error(X,Y)\n",
    "    return mse\n",
    "def RMSE(X,Y):\n",
    "    rmse=np.sqrt(mean_squared_error(X,Y))\n",
    "    return rmse\n",
    "def MAPE(X,Y):\n",
    "    mape=np.average(abs(np.array(X)-np.array(Y))/np.array(Y))*100\n",
    "    return mape\n",
    "\n",
    "\n",
    "from sklearn.metrics import r2_score\n",
    "import sklearn.metrics as metrics\n",
    "from scipy.stats.stats import pearsonr"
   ]
  },
  {
   "cell_type": "code",
   "execution_count": null,
   "metadata": {},
   "outputs": [],
   "source": [
    "from sklearn.model_selection import GridSearchCV\n",
    "param_grid = {\n",
    "    'n_estimators': [50, 100, 150, 200, 250, 300],\n",
    "    'learning_rate': [0.01, 0.05, 0.1],\n",
    "    'max_depth': [3, 5, 7],\n",
    "    'subsample': [0.6, 0.8, 1],\n",
    "    'colsample_bytree': [0.6, 0.8, 1],\n",
    "}"
   ]
  },
  {
   "cell_type": "code",
   "execution_count": null,
   "metadata": {},
   "outputs": [],
   "source": [
    "X_train_morgan"
   ]
  },
  {
   "cell_type": "code",
   "execution_count": null,
   "metadata": {},
   "outputs": [],
   "source": [
    "from xgboost import XGBRegressor\n",
    "xgb = XGBRegressor()\n",
    "tune_xgb = GridSearchCV(estimator=xgb, param_grid=param_grid, scoring='neg_mean_squared_error', n_jobs=-1, verbose=3)\n",
    "tune_xgb.fit(X_train_morgan, y_train)\n",
    "# print clf.best_score_\n",
    "tune_xgb.best_params_"
   ]
  },
  {
   "cell_type": "code",
   "execution_count": null,
   "metadata": {},
   "outputs": [],
   "source": [
    "from sklearn.metrics import mean_absolute_error, mean_squared_error\n",
    "import matplotlib.pyplot as plt\n",
    " \n",
    " # create regressor object\n",
    "regressor = XGBRegressor(random_state = 42)\n",
    " \n",
    "# fit the regressor with x and y data\n",
    "regressor.fit(X_train_morgan, y_train)  \n",
    "\n",
    "pred = regressor.predict(X_test_morgan)\n",
    "\n",
    "y_test = y_test.to_numpy().ravel()"
   ]
  },
  {
   "cell_type": "markdown",
   "metadata": {},
   "source": [
    "# Or use the saved model"
   ]
  },
  {
   "cell_type": "code",
   "execution_count": 15,
   "metadata": {},
   "outputs": [],
   "source": [
    "import pickle\n",
    "with open('./Models/morgan_xgboost.pkl', 'rb') as f:\n",
    "    regressor = pickle.load(f)\n",
    "    \n",
    "# fit the regressor with x and y data\n",
    "regressor.fit(X_train_morgan, y_train) \n",
    "\n",
    "pred = regressor.predict(X_test_morgan)\n",
    "y_test = y_test.to_numpy().ravel()"
   ]
  },
  {
   "cell_type": "code",
   "execution_count": 16,
   "metadata": {},
   "outputs": [
    {
     "data": {
      "image/png": "[encoded data removed]",
      "text/plain": [
       "<Figure size 432x288 with 1 Axes>"
      ]
     },
     "metadata": {
      "needs_background": "light"
     },
     "output_type": "display_data"
    }
   ],
   "source": [
    "plot_parity(y_test, pred)"
   ]
  },
  {
   "cell_type": "code",
   "execution_count": 17,
   "metadata": {},
   "outputs": [
    {
     "data": {
      "text/plain": [
       "0.7736639614324669"
      ]
     },
     "execution_count": 17,
     "metadata": {},
     "output_type": "execute_result"
    }
   ],
   "source": [
    "PearsonCoefficient(y_test, pred)"
   ]
  },
  {
   "cell_type": "code",
   "execution_count": 18,
   "metadata": {},
   "outputs": [
    {
     "data": {
      "text/plain": [
       "0.5585606242882257"
      ]
     },
     "execution_count": 18,
     "metadata": {},
     "output_type": "execute_result"
    }
   ],
   "source": [
    "R2Score(y_test, pred)"
   ]
  },
  {
   "cell_type": "code",
   "execution_count": 19,
   "metadata": {},
   "outputs": [
    {
     "data": {
      "text/plain": [
       "2.5376187339139844"
      ]
     },
     "execution_count": 19,
     "metadata": {},
     "output_type": "execute_result"
    }
   ],
   "source": [
    "import numpy as np\n",
    "RMSE(y_test, pred)"
   ]
  },
  {
   "cell_type": "code",
   "execution_count": 20,
   "metadata": {},
   "outputs": [
    {
     "data": {
      "text/html": [
       "        <script type=\"text/javascript\">\n",
       "        window.PlotlyConfig = {MathJaxConfig: 'local'};\n",
       "        if (window.MathJax) {MathJax.Hub.Config({SVG: {font: \"STIX-Web\"}});}\n",
       "        if (typeof require !== 'undefined') {\n",
       "        require.undef(\"plotly\");\n",
       "        requirejs.config({\n",
       "            paths: {\n",
       "                'plotly': ['https://cdn.plot.ly/plotly-2.6.3.min']\n",
       "            }\n",
       "        });\n",
       "        require(['plotly'], function(Plotly) {\n",
       "            window._Plotly = Plotly;\n",
       "        });\n",
       "        }\n",
       "        </script>\n",
       "        "
      ]
     },
     "metadata": {},
     "output_type": "display_data"
    },
    {
     "data": {
      "application/vnd.plotly.v1+json": {
       "config": {
        "linkText": "Export to plot.ly",
        "plotlyServerURL": "https://plot.ly",
        "showLink": false
       },
       "data": [
        {
         "marker": {
          "color": "blue",
          "size": 12
         },
         "mode": "markers",
         "name": "Test Data",
         "type": "scatter",
         "x": [
          0.32,
          7.9,
          5.24,
          11.53,
          8.67,
          10.62,
          11.5,
          6.91,
          13.13,
          1.6,
          11.91,
          7.3,
          8.12,
          4.03,
          9.2,
          11,
          1.87,
          2.28,
          6.3,
          11.02,
          13.2,
          13.15,
          1.71,
          2.93,
          9.19,
          7.4,
          12.1,
          10.81,
          4.39,
          12.6,
          10.1,
          7.92,
          1.3,
          13.46,
          2.06,
          6.69,
          11.82,
          12.05,
          11.29,
          4.3,
          1.1,
          12.74,
          11.03,
          11.25,
          9.3,
          10.27,
          10.52,
          8.61,
          10.8,
          2.76,
          6.32,
          12.02,
          12.12,
          5.8,
          3.38,
          10.2,
          7.6,
          13.13,
          4.69,
          5.45,
          6.61,
          13.46,
          12.87,
          9.81,
          10.24,
          5.95,
          10.42,
          8.9,
          9.24,
          12.8,
          10.05,
          13.16,
          3.3,
          15.6,
          6,
          15.3,
          13.1,
          2.11,
          0.1,
          3.83,
          11.87,
          13.1,
          8.64,
          5.3,
          11.93,
          10.9,
          3.7,
          7.11,
          13.9,
          5.48,
          6.3,
          13.41,
          6.5,
          12.21,
          11.53,
          6.09,
          4.11,
          3.68,
          7.13,
          7.86,
          8.42,
          10.51,
          0.57,
          10.51,
          9.16,
          3.95,
          9.36,
          8.33,
          7.4,
          5.59,
          10.41,
          8.13,
          11.22,
          11.1,
          13,
          12.86,
          11.06,
          11.08,
          10.04,
          7.52,
          13.5,
          7.57,
          16.1,
          8.34,
          10.5,
          11.41,
          11.9,
          6.31,
          8.27,
          0.45,
          7.73,
          1.26
         ],
         "y": [
          0.46442148089408875,
          5.6905741691589355,
          4.470480918884277,
          7.839691162109375,
          0.8553031086921692,
          12.131011962890625,
          14.0987548828125,
          5.843095779418945,
          11.147079467773438,
          1.8913036584854126,
          10.424095153808594,
          5.969052791595459,
          9.772117614746094,
          4.46529483795166,
          10.767197608947754,
          6.622014999389648,
          1.4021480083465576,
          3.857389211654663,
          4.969785690307617,
          11.245964050292969,
          8.582367897033691,
          10.046712875366211,
          1.5647711753845215,
          5.079047679901123,
          9.847759246826172,
          7.845651149749756,
          10.875370979309082,
          7.771386623382568,
          5.392256259918213,
          11.09194278717041,
          10.166837692260742,
          9.008402824401855,
          0.14511896669864655,
          11.646233558654785,
          1.6940535306930542,
          8.159393310546875,
          6.638988018035889,
          10.139111518859863,
          11.00472640991211,
          2.2422876358032227,
          0.6942669749259949,
          5.872653484344482,
          11.768089294433594,
          10.34144115447998,
          9.847759246826172,
          7.0453057289123535,
          5.723686695098877,
          8.732632637023926,
          12.207489967346191,
          7.7459306716918945,
          9.34564208984375,
          11.983759880065918,
          12.910111427307129,
          6.053409576416016,
          5.149473667144775,
          10.476588249206543,
          8.880572319030762,
          7.087777614593506,
          4.022383689880371,
          9.907127380371094,
          8.312214851379395,
          9.431994438171387,
          12.617777824401855,
          9.075557708740234,
          13.340102195739746,
          7.886345386505127,
          6.540362358093262,
          9.495384216308594,
          12.737508773803711,
          7.533054828643799,
          9.847759246826172,
          10.648950576782227,
          6.630901336669922,
          15.673381805419922,
          4.441468238830566,
          15.673381805419922,
          12.924424171447754,
          1.892549991607666,
          1.725066900253296,
          12.331918716430664,
          10.046712875366211,
          12.523600578308105,
          6.605650901794434,
          5.339937210083008,
          13.276422500610352,
          11.072985649108887,
          7.864875316619873,
          9.358433723449707,
          10.988885879516602,
          4.256882667541504,
          7.081768989562988,
          11.09194278717041,
          6.420462131500244,
          9.350554466247559,
          11.147079467773438,
          5.390198230743408,
          4.351780891418457,
          5.188635349273682,
          7.945040225982666,
          7.750046253204346,
          8.13325309753418,
          11.770356178283691,
          2.4992172718048096,
          13.276422500610352,
          1.39566969871521,
          5.199712753295898,
          11.82201099395752,
          10.699705123901367,
          9.709846496582031,
          3.4427268505096436,
          11.964645385742188,
          7.182553291320801,
          10.537212371826172,
          4.4448442459106445,
          12.730728149414062,
          12.677907943725586,
          7.9345855712890625,
          10.28555965423584,
          10.743276596069336,
          11.092220306396484,
          12.417475700378418,
          7.506406784057617,
          13.707222938537598,
          8.704818725585938,
          15.752432823181152,
          10.28555965423584,
          12.02835464477539,
          6.308681964874268,
          8.374407768249512,
          0.393277645111084,
          7.272925853729248,
          2.205280065536499
         ]
        },
        {
         "marker": {
          "color": "black",
          "size": 12
         },
         "mode": "lines",
         "name": "Linear Fit",
         "text": "Fit",
         "type": "scatter",
         "x": [
          0.1,
          0.42653061224489797,
          0.7530612244897958,
          1.079591836734694,
          1.4061224489795918,
          1.7326530612244897,
          2.059183673469388,
          2.3857142857142857,
          2.7122448979591836,
          3.0387755102040814,
          3.3653061224489793,
          3.691836734693877,
          4.018367346938775,
          4.3448979591836725,
          4.671428571428571,
          4.997959183673468,
          5.324489795918367,
          5.651020408163265,
          5.977551020408162,
          6.304081632653061,
          6.630612244897958,
          6.957142857142856,
          7.283673469387754,
          7.610204081632652,
          7.9367346938775505,
          8.263265306122449,
          8.589795918367345,
          8.916326530612244,
          9.242857142857142,
          9.56938775510204,
          9.895918367346937,
          10.222448979591835,
          10.548979591836734,
          10.875510204081632,
          11.20204081632653,
          11.528571428571427,
          11.855102040816325,
          12.181632653061223,
          12.508163265306122,
          12.834693877551018,
          13.161224489795917,
          13.487755102040815,
          13.814285714285713,
          14.140816326530611,
          14.467346938775508,
          14.793877551020406,
          15.120408163265305,
          15.446938775510203,
          15.773469387755101,
          16.1
         ],
         "y": [
          0.1,
          0.42653061224489797,
          0.7530612244897958,
          1.079591836734694,
          1.4061224489795918,
          1.7326530612244897,
          2.059183673469388,
          2.3857142857142857,
          2.7122448979591836,
          3.0387755102040814,
          3.3653061224489793,
          3.691836734693877,
          4.018367346938775,
          4.3448979591836725,
          4.671428571428571,
          4.997959183673468,
          5.324489795918367,
          5.651020408163265,
          5.977551020408162,
          6.304081632653061,
          6.630612244897958,
          6.957142857142856,
          7.283673469387754,
          7.610204081632652,
          7.9367346938775505,
          8.263265306122449,
          8.589795918367345,
          8.916326530612244,
          9.242857142857142,
          9.56938775510204,
          9.895918367346937,
          10.222448979591835,
          10.548979591836734,
          10.875510204081632,
          11.20204081632653,
          11.528571428571427,
          11.855102040816325,
          12.181632653061223,
          12.508163265306122,
          12.834693877551018,
          13.161224489795917,
          13.487755102040815,
          13.814285714285713,
          14.140816326530611,
          14.467346938775508,
          14.793877551020406,
          15.120408163265305,
          15.446938775510203,
          15.773469387755101,
          16.1
         ]
        }
       ],
       "layout": {
        "font": {
         "family": "Times New Roman",
         "size": 28
        },
        "height": 600,
        "hovermode": "closest",
        "showlegend": true,
        "template": {
         "data": {
          "bar": [
           {
            "error_x": {
             "color": "#2a3f5f"
            },
            "error_y": {
             "color": "#2a3f5f"
            },
            "marker": {
             "line": {
              "color": "#E5ECF6",
              "width": 0.5
             },
             "pattern": {
              "fillmode": "overlay",
              "size": 10,
              "solidity": 0.2
             }
            },
            "type": "bar"
           }
          ],
          "barpolar": [
           {
            "marker": {
             "line": {
              "color": "#E5ECF6",
              "width": 0.5
             },
             "pattern": {
              "fillmode": "overlay",
              "size": 10,
              "solidity": 0.2
             }
            },
            "type": "barpolar"
           }
          ],
          "carpet": [
           {
            "aaxis": {
             "endlinecolor": "#2a3f5f",
             "gridcolor": "white",
             "linecolor": "white",
             "minorgridcolor": "white",
             "startlinecolor": "#2a3f5f"
            },
            "baxis": {
             "endlinecolor": "#2a3f5f",
             "gridcolor": "white",
             "linecolor": "white",
             "minorgridcolor": "white",
             "startlinecolor": "#2a3f5f"
            },
            "type": "carpet"
           }
          ],
          "choropleth": [
           {
            "colorbar": {
             "outlinewidth": 0,
             "ticks": ""
            },
            "type": "choropleth"
           }
          ],
          "contour": [
           {
            "colorbar": {
             "outlinewidth": 0,
             "ticks": ""
            },
            "colorscale": [
             [
              0,
              "#0d0887"
             ],
             [
              0.1111111111111111,
              "#46039f"
             ],
             [
              0.2222222222222222,
              "#7201a8"
             ],
             [
              0.3333333333333333,
              "#9c179e"
             ],
             [
              0.4444444444444444,
              "#bd3786"
             ],
             [
              0.5555555555555556,
              "#d8576b"
             ],
             [
              0.6666666666666666,
              "#ed7953"
             ],
             [
              0.7777777777777778,
              "#fb9f3a"
             ],
             [
              0.8888888888888888,
              "#fdca26"
             ],
             [
              1,
              "#f0f921"
             ]
            ],
            "type": "contour"
           }
          ],
          "contourcarpet": [
           {
            "colorbar": {
             "outlinewidth": 0,
             "ticks": ""
            },
            "type": "contourcarpet"
           }
          ],
          "heatmap": [
           {
            "colorbar": {
             "outlinewidth": 0,
             "ticks": ""
            },
            "colorscale": [
             [
              0,
              "#0d0887"
             ],
             [
              0.1111111111111111,
              "#46039f"
             ],
             [
              0.2222222222222222,
              "#7201a8"
             ],
             [
              0.3333333333333333,
              "#9c179e"
             ],
             [
              0.4444444444444444,
              "#bd3786"
             ],
             [
              0.5555555555555556,
              "#d8576b"
             ],
             [
              0.6666666666666666,
              "#ed7953"
             ],
             [
              0.7777777777777778,
              "#fb9f3a"
             ],
             [
              0.8888888888888888,
              "#fdca26"
             ],
             [
              1,
              "#f0f921"
             ]
            ],
            "type": "heatmap"
           }
          ],
          "heatmapgl": [
           {
            "colorbar": {
             "outlinewidth": 0,
             "ticks": ""
            },
            "colorscale": [
             [
              0,
              "#0d0887"
             ],
             [
              0.1111111111111111,
              "#46039f"
             ],
             [
              0.2222222222222222,
              "#7201a8"
             ],
             [
              0.3333333333333333,
              "#9c179e"
             ],
             [
              0.4444444444444444,
              "#bd3786"
             ],
             [
              0.5555555555555556,
              "#d8576b"
             ],
             [
              0.6666666666666666,
              "#ed7953"
             ],
             [
              0.7777777777777778,
              "#fb9f3a"
             ],
             [
              0.8888888888888888,
              "#fdca26"
             ],
             [
              1,
              "#f0f921"
             ]
            ],
            "type": "heatmapgl"
           }
          ],
          "histogram": [
           {
            "marker": {
             "pattern": {
              "fillmode": "overlay",
              "size": 10,
              "solidity": 0.2
             }
            },
            "type": "histogram"
           }
          ],
          "histogram2d": [
           {
            "colorbar": {
             "outlinewidth": 0,
             "ticks": ""
            },
            "colorscale": [
             [
              0,
              "#0d0887"
             ],
             [
              0.1111111111111111,
              "#46039f"
             ],
             [
              0.2222222222222222,
              "#7201a8"
             ],
             [
              0.3333333333333333,
              "#9c179e"
             ],
             [
              0.4444444444444444,
              "#bd3786"
             ],
             [
              0.5555555555555556,
              "#d8576b"
             ],
             [
              0.6666666666666666,
              "#ed7953"
             ],
             [
              0.7777777777777778,
              "#fb9f3a"
             ],
             [
              0.8888888888888888,
              "#fdca26"
             ],
             [
              1,
              "#f0f921"
             ]
            ],
            "type": "histogram2d"
           }
          ],
          "histogram2dcontour": [
           {
            "colorbar": {
             "outlinewidth": 0,
             "ticks": ""
            },
            "colorscale": [
             [
              0,
              "#0d0887"
             ],
             [
              0.1111111111111111,
              "#46039f"
             ],
             [
              0.2222222222222222,
              "#7201a8"
             ],
             [
              0.3333333333333333,
              "#9c179e"
             ],
             [
              0.4444444444444444,
              "#bd3786"
             ],
             [
              0.5555555555555556,
              "#d8576b"
             ],
             [
              0.6666666666666666,
              "#ed7953"
             ],
             [
              0.7777777777777778,
              "#fb9f3a"
             ],
             [
              0.8888888888888888,
              "#fdca26"
             ],
             [
              1,
              "#f0f921"
             ]
            ],
            "type": "histogram2dcontour"
           }
          ],
          "mesh3d": [
           {
            "colorbar": {
             "outlinewidth": 0,
             "ticks": ""
            },
            "type": "mesh3d"
           }
          ],
          "parcoords": [
           {
            "line": {
             "colorbar": {
              "outlinewidth": 0,
              "ticks": ""
             }
            },
            "type": "parcoords"
           }
          ],
          "pie": [
           {
            "automargin": true,
            "type": "pie"
           }
          ],
          "scatter": [
           {
            "marker": {
             "colorbar": {
              "outlinewidth": 0,
              "ticks": ""
             }
            },
            "type": "scatter"
           }
          ],
          "scatter3d": [
           {
            "line": {
             "colorbar": {
              "outlinewidth": 0,
              "ticks": ""
             }
            },
            "marker": {
             "colorbar": {
              "outlinewidth": 0,
              "ticks": ""
             }
            },
            "type": "scatter3d"
           }
          ],
          "scattercarpet": [
           {
            "marker": {
             "colorbar": {
              "outlinewidth": 0,
              "ticks": ""
             }
            },
            "type": "scattercarpet"
           }
          ],
          "scattergeo": [
           {
            "marker": {
             "colorbar": {
              "outlinewidth": 0,
              "ticks": ""
             }
            },
            "type": "scattergeo"
           }
          ],
          "scattergl": [
           {
            "marker": {
             "colorbar": {
              "outlinewidth": 0,
              "ticks": ""
             }
            },
            "type": "scattergl"
           }
          ],
          "scattermapbox": [
           {
            "marker": {
             "colorbar": {
              "outlinewidth": 0,
              "ticks": ""
             }
            },
            "type": "scattermapbox"
           }
          ],
          "scatterpolar": [
           {
            "marker": {
             "colorbar": {
              "outlinewidth": 0,
              "ticks": ""
             }
            },
            "type": "scatterpolar"
           }
          ],
          "scatterpolargl": [
           {
            "marker": {
             "colorbar": {
              "outlinewidth": 0,
              "ticks": ""
             }
            },
            "type": "scatterpolargl"
           }
          ],
          "scatterternary": [
           {
            "marker": {
             "colorbar": {
              "outlinewidth": 0,
              "ticks": ""
             }
            },
            "type": "scatterternary"
           }
          ],
          "surface": [
           {
            "colorbar": {
             "outlinewidth": 0,
             "ticks": ""
            },
            "colorscale": [
             [
              0,
              "#0d0887"
             ],
             [
              0.1111111111111111,
              "#46039f"
             ],
             [
              0.2222222222222222,
              "#7201a8"
             ],
             [
              0.3333333333333333,
              "#9c179e"
             ],
             [
              0.4444444444444444,
              "#bd3786"
             ],
             [
              0.5555555555555556,
              "#d8576b"
             ],
             [
              0.6666666666666666,
              "#ed7953"
             ],
             [
              0.7777777777777778,
              "#fb9f3a"
             ],
             [
              0.8888888888888888,
              "#fdca26"
             ],
             [
              1,
              "#f0f921"
             ]
            ],
            "type": "surface"
           }
          ],
          "table": [
           {
            "cells": {
             "fill": {
              "color": "#EBF0F8"
             },
             "line": {
              "color": "white"
             }
            },
            "header": {
             "fill": {
              "color": "#C8D4E3"
             },
             "line": {
              "color": "white"
             }
            },
            "type": "table"
           }
          ]
         },
         "layout": {
          "annotationdefaults": {
           "arrowcolor": "#2a3f5f",
           "arrowhead": 0,
           "arrowwidth": 1
          },
          "autotypenumbers": "strict",
          "coloraxis": {
           "colorbar": {
            "outlinewidth": 0,
            "ticks": ""
           }
          },
          "colorscale": {
           "diverging": [
            [
             0,
             "#8e0152"
            ],
            [
             0.1,
             "#c51b7d"
            ],
            [
             0.2,
             "#de77ae"
            ],
            [
             0.3,
             "#f1b6da"
            ],
            [
             0.4,
             "#fde0ef"
            ],
            [
             0.5,
             "#f7f7f7"
            ],
            [
             0.6,
             "#e6f5d0"
            ],
            [
             0.7,
             "#b8e186"
            ],
            [
             0.8,
             "#7fbc41"
            ],
            [
             0.9,
             "#4d9221"
            ],
            [
             1,
             "#276419"
            ]
           ],
           "sequential": [
            [
             0,
             "#0d0887"
            ],
            [
             0.1111111111111111,
             "#46039f"
            ],
            [
             0.2222222222222222,
             "#7201a8"
            ],
            [
             0.3333333333333333,
             "#9c179e"
            ],
            [
             0.4444444444444444,
             "#bd3786"
            ],
            [
             0.5555555555555556,
             "#d8576b"
            ],
            [
             0.6666666666666666,
             "#ed7953"
            ],
            [
             0.7777777777777778,
             "#fb9f3a"
            ],
            [
             0.8888888888888888,
             "#fdca26"
            ],
            [
             1,
             "#f0f921"
            ]
           ],
           "sequentialminus": [
            [
             0,
             "#0d0887"
            ],
            [
             0.1111111111111111,
             "#46039f"
            ],
            [
             0.2222222222222222,
             "#7201a8"
            ],
            [
             0.3333333333333333,
             "#9c179e"
            ],
            [
             0.4444444444444444,
             "#bd3786"
            ],
            [
             0.5555555555555556,
             "#d8576b"
            ],
            [
             0.6666666666666666,
             "#ed7953"
            ],
            [
             0.7777777777777778,
             "#fb9f3a"
            ],
            [
             0.8888888888888888,
             "#fdca26"
            ],
            [
             1,
             "#f0f921"
            ]
           ]
          },
          "colorway": [
           "#636efa",
           "#EF553B",
           "#00cc96",
           "#ab63fa",
           "#FFA15A",
           "#19d3f3",
           "#FF6692",
           "#B6E880",
           "#FF97FF",
           "#FECB52"
          ],
          "font": {
           "color": "#2a3f5f"
          },
          "geo": {
           "bgcolor": "white",
           "lakecolor": "white",
           "landcolor": "#E5ECF6",
           "showlakes": true,
           "showland": true,
           "subunitcolor": "white"
          },
          "hoverlabel": {
           "align": "left"
          },
          "hovermode": "closest",
          "mapbox": {
           "style": "light"
          },
          "paper_bgcolor": "white",
          "plot_bgcolor": "#E5ECF6",
          "polar": {
           "angularaxis": {
            "gridcolor": "white",
            "linecolor": "white",
            "ticks": ""
           },
           "bgcolor": "#E5ECF6",
           "radialaxis": {
            "gridcolor": "white",
            "linecolor": "white",
            "ticks": ""
           }
          },
          "scene": {
           "xaxis": {
            "backgroundcolor": "#E5ECF6",
            "gridcolor": "white",
            "gridwidth": 2,
            "linecolor": "white",
            "showbackground": true,
            "ticks": "",
            "zerolinecolor": "white"
           },
           "yaxis": {
            "backgroundcolor": "#E5ECF6",
            "gridcolor": "white",
            "gridwidth": 2,
            "linecolor": "white",
            "showbackground": true,
            "ticks": "",
            "zerolinecolor": "white"
           },
           "zaxis": {
            "backgroundcolor": "#E5ECF6",
            "gridcolor": "white",
            "gridwidth": 2,
            "linecolor": "white",
            "showbackground": true,
            "ticks": "",
            "zerolinecolor": "white"
           }
          },
          "shapedefaults": {
           "line": {
            "color": "#2a3f5f"
           }
          },
          "ternary": {
           "aaxis": {
            "gridcolor": "white",
            "linecolor": "white",
            "ticks": ""
           },
           "baxis": {
            "gridcolor": "white",
            "linecolor": "white",
            "ticks": ""
           },
           "bgcolor": "#E5ECF6",
           "caxis": {
            "gridcolor": "white",
            "linecolor": "white",
            "ticks": ""
           }
          },
          "title": {
           "x": 0.05
          },
          "xaxis": {
           "automargin": true,
           "gridcolor": "white",
           "linecolor": "white",
           "ticks": "",
           "title": {
            "standoff": 15
           },
           "zerolinecolor": "white",
           "zerolinewidth": 2
          },
          "yaxis": {
           "automargin": true,
           "gridcolor": "white",
           "linecolor": "white",
           "ticks": "",
           "title": {
            "standoff": 15
           },
           "zerolinecolor": "white",
           "zerolinewidth": 2
          }
         }
        },
        "title": {
         "text": "PCE"
        },
        "width": 800,
        "xaxis": {
         "dtick": 2,
         "gridwidth": 2,
         "title": {
          "text": "Reported PCE (%)"
         },
         "zeroline": false
        },
        "yaxis": {
         "gridwidth": 2,
         "title": {
          "text": "Predicted PCE (%)"
         },
         "zeroline": false
        }
       }
      },
      "text/html": [
       "<div>                            <div id=\"65091d27-08b0-47f7-86cd-3283b4a6ad46\" class=\"plotly-graph-div\" style=\"height:600px; width:800px;\"></div>            <script type=\"text/javascript\">                require([\"plotly\"], function(Plotly) {                    window.PLOTLYENV=window.PLOTLYENV || {};                                    if (document.getElementById(\"65091d27-08b0-47f7-86cd-3283b4a6ad46\")) {                    Plotly.newPlot(                        \"65091d27-08b0-47f7-86cd-3283b4a6ad46\",                        [{\"marker\":{\"color\":\"blue\",\"size\":12},\"mode\":\"markers\",\"name\":\"Test Data\",\"x\":[0.32,7.9,5.24,11.53,8.67,10.62,11.5,6.91,13.13,1.6,11.91,7.3,8.12,4.03,9.2,11.0,1.87,2.28,6.3,11.02,13.2,13.15,1.71,2.93,9.19,7.4,12.1,10.81,4.39,12.6,10.1,7.92,1.3,13.46,2.06,6.69,11.82,12.05,11.29,4.3,1.1,12.74,11.03,11.25,9.3,10.27,10.52,8.61,10.8,2.76,6.32,12.02,12.12,5.8,3.38,10.2,7.6,13.13,4.69,5.45,6.61,13.46,12.87,9.81,10.24,5.95,10.42,8.9,9.24,12.8,10.05,13.16,3.3,15.6,6.0,15.3,13.1,2.11,0.1,3.83,11.87,13.1,8.64,5.3,11.93,10.9,3.7,7.11,13.9,5.48,6.3,13.41,6.5,12.21,11.53,6.09,4.11,3.68,7.13,7.86,8.42,10.51,0.57,10.51,9.16,3.95,9.36,8.33,7.4,5.59,10.41,8.13,11.22,11.1,13.0,12.86,11.06,11.08,10.04,7.52,13.5,7.57,16.1,8.34,10.5,11.41,11.9,6.31,8.27,0.45,7.73,1.26],\"y\":[0.46442148089408875,5.6905741691589355,4.470480918884277,7.839691162109375,0.8553031086921692,12.131011962890625,14.0987548828125,5.843095779418945,11.147079467773438,1.8913036584854126,10.424095153808594,5.969052791595459,9.772117614746094,4.46529483795166,10.767197608947754,6.622014999389648,1.4021480083465576,3.857389211654663,4.969785690307617,11.245964050292969,8.582367897033691,10.046712875366211,1.5647711753845215,5.079047679901123,9.847759246826172,7.845651149749756,10.875370979309082,7.771386623382568,5.392256259918213,11.09194278717041,10.166837692260742,9.008402824401855,0.14511896669864655,11.646233558654785,1.6940535306930542,8.159393310546875,6.638988018035889,10.139111518859863,11.00472640991211,2.2422876358032227,0.6942669749259949,5.872653484344482,11.768089294433594,10.34144115447998,9.847759246826172,7.0453057289123535,5.723686695098877,8.732632637023926,12.207489967346191,7.7459306716918945,9.34564208984375,11.983759880065918,12.910111427307129,6.053409576416016,5.149473667144775,10.476588249206543,8.880572319030762,7.087777614593506,4.022383689880371,9.907127380371094,8.312214851379395,9.431994438171387,12.617777824401855,9.075557708740234,13.340102195739746,7.886345386505127,6.540362358093262,9.495384216308594,12.737508773803711,7.533054828643799,9.847759246826172,10.648950576782227,6.630901336669922,15.673381805419922,4.441468238830566,15.673381805419922,12.924424171447754,1.892549991607666,1.725066900253296,12.331918716430664,10.046712875366211,12.523600578308105,6.605650901794434,5.339937210083008,13.276422500610352,11.072985649108887,7.864875316619873,9.358433723449707,10.988885879516602,4.256882667541504,7.081768989562988,11.09194278717041,6.420462131500244,9.350554466247559,11.147079467773438,5.390198230743408,4.351780891418457,5.188635349273682,7.945040225982666,7.750046253204346,8.13325309753418,11.770356178283691,2.4992172718048096,13.276422500610352,1.39566969871521,5.199712753295898,11.82201099395752,10.699705123901367,9.709846496582031,3.4427268505096436,11.964645385742188,7.182553291320801,10.537212371826172,4.4448442459106445,12.730728149414062,12.677907943725586,7.9345855712890625,10.28555965423584,10.743276596069336,11.092220306396484,12.417475700378418,7.506406784057617,13.707222938537598,8.704818725585938,15.752432823181152,10.28555965423584,12.02835464477539,6.308681964874268,8.374407768249512,0.393277645111084,7.272925853729248,2.205280065536499],\"type\":\"scatter\"},{\"marker\":{\"color\":\"black\",\"size\":12},\"mode\":\"lines\",\"name\":\"Linear Fit\",\"text\":\"Fit\",\"x\":[0.1,0.42653061224489797,0.7530612244897958,1.079591836734694,1.4061224489795918,1.7326530612244897,2.059183673469388,2.3857142857142857,2.7122448979591836,3.0387755102040814,3.3653061224489793,3.691836734693877,4.018367346938775,4.3448979591836725,4.671428571428571,4.997959183673468,5.324489795918367,5.651020408163265,5.977551020408162,6.304081632653061,6.630612244897958,6.957142857142856,7.283673469387754,7.610204081632652,7.9367346938775505,8.263265306122449,8.589795918367345,8.916326530612244,9.242857142857142,9.56938775510204,9.895918367346937,10.222448979591835,10.548979591836734,10.875510204081632,11.20204081632653,11.528571428571427,11.855102040816325,12.181632653061223,12.508163265306122,12.834693877551018,13.161224489795917,13.487755102040815,13.814285714285713,14.140816326530611,14.467346938775508,14.793877551020406,15.120408163265305,15.446938775510203,15.773469387755101,16.1],\"y\":[0.1,0.42653061224489797,0.7530612244897958,1.079591836734694,1.4061224489795918,1.7326530612244897,2.059183673469388,2.3857142857142857,2.7122448979591836,3.0387755102040814,3.3653061224489793,3.691836734693877,4.018367346938775,4.3448979591836725,4.671428571428571,4.997959183673468,5.324489795918367,5.651020408163265,5.977551020408162,6.304081632653061,6.630612244897958,6.957142857142856,7.283673469387754,7.610204081632652,7.9367346938775505,8.263265306122449,8.589795918367345,8.916326530612244,9.242857142857142,9.56938775510204,9.895918367346937,10.222448979591835,10.548979591836734,10.875510204081632,11.20204081632653,11.528571428571427,11.855102040816325,12.181632653061223,12.508163265306122,12.834693877551018,13.161224489795917,13.487755102040815,13.814285714285713,14.140816326530611,14.467346938775508,14.793877551020406,15.120408163265305,15.446938775510203,15.773469387755101,16.1],\"type\":\"scatter\"}],                        {\"font\":{\"family\":\"Times New Roman\",\"size\":28},\"height\":600,\"hovermode\":\"closest\",\"showlegend\":true,\"template\":{\"data\":{\"barpolar\":[{\"marker\":{\"line\":{\"color\":\"#E5ECF6\",\"width\":0.5},\"pattern\":{\"fillmode\":\"overlay\",\"size\":10,\"solidity\":0.2}},\"type\":\"barpolar\"}],\"bar\":[{\"error_x\":{\"color\":\"#2a3f5f\"},\"error_y\":{\"color\":\"#2a3f5f\"},\"marker\":{\"line\":{\"color\":\"#E5ECF6\",\"width\":0.5},\"pattern\":{\"fillmode\":\"overlay\",\"size\":10,\"solidity\":0.2}},\"type\":\"bar\"}],\"carpet\":[{\"aaxis\":{\"endlinecolor\":\"#2a3f5f\",\"gridcolor\":\"white\",\"linecolor\":\"white\",\"minorgridcolor\":\"white\",\"startlinecolor\":\"#2a3f5f\"},\"baxis\":{\"endlinecolor\":\"#2a3f5f\",\"gridcolor\":\"white\",\"linecolor\":\"white\",\"minorgridcolor\":\"white\",\"startlinecolor\":\"#2a3f5f\"},\"type\":\"carpet\"}],\"choropleth\":[{\"colorbar\":{\"outlinewidth\":0,\"ticks\":\"\"},\"type\":\"choropleth\"}],\"contourcarpet\":[{\"colorbar\":{\"outlinewidth\":0,\"ticks\":\"\"},\"type\":\"contourcarpet\"}],\"contour\":[{\"colorbar\":{\"outlinewidth\":0,\"ticks\":\"\"},\"colorscale\":[[0.0,\"#0d0887\"],[0.1111111111111111,\"#46039f\"],[0.2222222222222222,\"#7201a8\"],[0.3333333333333333,\"#9c179e\"],[0.4444444444444444,\"#bd3786\"],[0.5555555555555556,\"#d8576b\"],[0.6666666666666666,\"#ed7953\"],[0.7777777777777778,\"#fb9f3a\"],[0.8888888888888888,\"#fdca26\"],[1.0,\"#f0f921\"]],\"type\":\"contour\"}],\"heatmapgl\":[{\"colorbar\":{\"outlinewidth\":0,\"ticks\":\"\"},\"colorscale\":[[0.0,\"#0d0887\"],[0.1111111111111111,\"#46039f\"],[0.2222222222222222,\"#7201a8\"],[0.3333333333333333,\"#9c179e\"],[0.4444444444444444,\"#bd3786\"],[0.5555555555555556,\"#d8576b\"],[0.6666666666666666,\"#ed7953\"],[0.7777777777777778,\"#fb9f3a\"],[0.8888888888888888,\"#fdca26\"],[1.0,\"#f0f921\"]],\"type\":\"heatmapgl\"}],\"heatmap\":[{\"colorbar\":{\"outlinewidth\":0,\"ticks\":\"\"},\"colorscale\":[[0.0,\"#0d0887\"],[0.1111111111111111,\"#46039f\"],[0.2222222222222222,\"#7201a8\"],[0.3333333333333333,\"#9c179e\"],[0.4444444444444444,\"#bd3786\"],[0.5555555555555556,\"#d8576b\"],[0.6666666666666666,\"#ed7953\"],[0.7777777777777778,\"#fb9f3a\"],[0.8888888888888888,\"#fdca26\"],[1.0,\"#f0f921\"]],\"type\":\"heatmap\"}],\"histogram2dcontour\":[{\"colorbar\":{\"outlinewidth\":0,\"ticks\":\"\"},\"colorscale\":[[0.0,\"#0d0887\"],[0.1111111111111111,\"#46039f\"],[0.2222222222222222,\"#7201a8\"],[0.3333333333333333,\"#9c179e\"],[0.4444444444444444,\"#bd3786\"],[0.5555555555555556,\"#d8576b\"],[0.6666666666666666,\"#ed7953\"],[0.7777777777777778,\"#fb9f3a\"],[0.8888888888888888,\"#fdca26\"],[1.0,\"#f0f921\"]],\"type\":\"histogram2dcontour\"}],\"histogram2d\":[{\"colorbar\":{\"outlinewidth\":0,\"ticks\":\"\"},\"colorscale\":[[0.0,\"#0d0887\"],[0.1111111111111111,\"#46039f\"],[0.2222222222222222,\"#7201a8\"],[0.3333333333333333,\"#9c179e\"],[0.4444444444444444,\"#bd3786\"],[0.5555555555555556,\"#d8576b\"],[0.6666666666666666,\"#ed7953\"],[0.7777777777777778,\"#fb9f3a\"],[0.8888888888888888,\"#fdca26\"],[1.0,\"#f0f921\"]],\"type\":\"histogram2d\"}],\"histogram\":[{\"marker\":{\"pattern\":{\"fillmode\":\"overlay\",\"size\":10,\"solidity\":0.2}},\"type\":\"histogram\"}],\"mesh3d\":[{\"colorbar\":{\"outlinewidth\":0,\"ticks\":\"\"},\"type\":\"mesh3d\"}],\"parcoords\":[{\"line\":{\"colorbar\":{\"outlinewidth\":0,\"ticks\":\"\"}},\"type\":\"parcoords\"}],\"pie\":[{\"automargin\":true,\"type\":\"pie\"}],\"scatter3d\":[{\"line\":{\"colorbar\":{\"outlinewidth\":0,\"ticks\":\"\"}},\"marker\":{\"colorbar\":{\"outlinewidth\":0,\"ticks\":\"\"}},\"type\":\"scatter3d\"}],\"scattercarpet\":[{\"marker\":{\"colorbar\":{\"outlinewidth\":0,\"ticks\":\"\"}},\"type\":\"scattercarpet\"}],\"scattergeo\":[{\"marker\":{\"colorbar\":{\"outlinewidth\":0,\"ticks\":\"\"}},\"type\":\"scattergeo\"}],\"scattergl\":[{\"marker\":{\"colorbar\":{\"outlinewidth\":0,\"ticks\":\"\"}},\"type\":\"scattergl\"}],\"scattermapbox\":[{\"marker\":{\"colorbar\":{\"outlinewidth\":0,\"ticks\":\"\"}},\"type\":\"scattermapbox\"}],\"scatterpolargl\":[{\"marker\":{\"colorbar\":{\"outlinewidth\":0,\"ticks\":\"\"}},\"type\":\"scatterpolargl\"}],\"scatterpolar\":[{\"marker\":{\"colorbar\":{\"outlinewidth\":0,\"ticks\":\"\"}},\"type\":\"scatterpolar\"}],\"scatter\":[{\"marker\":{\"colorbar\":{\"outlinewidth\":0,\"ticks\":\"\"}},\"type\":\"scatter\"}],\"scatterternary\":[{\"marker\":{\"colorbar\":{\"outlinewidth\":0,\"ticks\":\"\"}},\"type\":\"scatterternary\"}],\"surface\":[{\"colorbar\":{\"outlinewidth\":0,\"ticks\":\"\"},\"colorscale\":[[0.0,\"#0d0887\"],[0.1111111111111111,\"#46039f\"],[0.2222222222222222,\"#7201a8\"],[0.3333333333333333,\"#9c179e\"],[0.4444444444444444,\"#bd3786\"],[0.5555555555555556,\"#d8576b\"],[0.6666666666666666,\"#ed7953\"],[0.7777777777777778,\"#fb9f3a\"],[0.8888888888888888,\"#fdca26\"],[1.0,\"#f0f921\"]],\"type\":\"surface\"}],\"table\":[{\"cells\":{\"fill\":{\"color\":\"#EBF0F8\"},\"line\":{\"color\":\"white\"}},\"header\":{\"fill\":{\"color\":\"#C8D4E3\"},\"line\":{\"color\":\"white\"}},\"type\":\"table\"}]},\"layout\":{\"annotationdefaults\":{\"arrowcolor\":\"#2a3f5f\",\"arrowhead\":0,\"arrowwidth\":1},\"autotypenumbers\":\"strict\",\"coloraxis\":{\"colorbar\":{\"outlinewidth\":0,\"ticks\":\"\"}},\"colorscale\":{\"diverging\":[[0,\"#8e0152\"],[0.1,\"#c51b7d\"],[0.2,\"#de77ae\"],[0.3,\"#f1b6da\"],[0.4,\"#fde0ef\"],[0.5,\"#f7f7f7\"],[0.6,\"#e6f5d0\"],[0.7,\"#b8e186\"],[0.8,\"#7fbc41\"],[0.9,\"#4d9221\"],[1,\"#276419\"]],\"sequential\":[[0.0,\"#0d0887\"],[0.1111111111111111,\"#46039f\"],[0.2222222222222222,\"#7201a8\"],[0.3333333333333333,\"#9c179e\"],[0.4444444444444444,\"#bd3786\"],[0.5555555555555556,\"#d8576b\"],[0.6666666666666666,\"#ed7953\"],[0.7777777777777778,\"#fb9f3a\"],[0.8888888888888888,\"#fdca26\"],[1.0,\"#f0f921\"]],\"sequentialminus\":[[0.0,\"#0d0887\"],[0.1111111111111111,\"#46039f\"],[0.2222222222222222,\"#7201a8\"],[0.3333333333333333,\"#9c179e\"],[0.4444444444444444,\"#bd3786\"],[0.5555555555555556,\"#d8576b\"],[0.6666666666666666,\"#ed7953\"],[0.7777777777777778,\"#fb9f3a\"],[0.8888888888888888,\"#fdca26\"],[1.0,\"#f0f921\"]]},\"colorway\":[\"#636efa\",\"#EF553B\",\"#00cc96\",\"#ab63fa\",\"#FFA15A\",\"#19d3f3\",\"#FF6692\",\"#B6E880\",\"#FF97FF\",\"#FECB52\"],\"font\":{\"color\":\"#2a3f5f\"},\"geo\":{\"bgcolor\":\"white\",\"lakecolor\":\"white\",\"landcolor\":\"#E5ECF6\",\"showlakes\":true,\"showland\":true,\"subunitcolor\":\"white\"},\"hoverlabel\":{\"align\":\"left\"},\"hovermode\":\"closest\",\"mapbox\":{\"style\":\"light\"},\"paper_bgcolor\":\"white\",\"plot_bgcolor\":\"#E5ECF6\",\"polar\":{\"angularaxis\":{\"gridcolor\":\"white\",\"linecolor\":\"white\",\"ticks\":\"\"},\"bgcolor\":\"#E5ECF6\",\"radialaxis\":{\"gridcolor\":\"white\",\"linecolor\":\"white\",\"ticks\":\"\"}},\"scene\":{\"xaxis\":{\"backgroundcolor\":\"#E5ECF6\",\"gridcolor\":\"white\",\"gridwidth\":2,\"linecolor\":\"white\",\"showbackground\":true,\"ticks\":\"\",\"zerolinecolor\":\"white\"},\"yaxis\":{\"backgroundcolor\":\"#E5ECF6\",\"gridcolor\":\"white\",\"gridwidth\":2,\"linecolor\":\"white\",\"showbackground\":true,\"ticks\":\"\",\"zerolinecolor\":\"white\"},\"zaxis\":{\"backgroundcolor\":\"#E5ECF6\",\"gridcolor\":\"white\",\"gridwidth\":2,\"linecolor\":\"white\",\"showbackground\":true,\"ticks\":\"\",\"zerolinecolor\":\"white\"}},\"shapedefaults\":{\"line\":{\"color\":\"#2a3f5f\"}},\"ternary\":{\"aaxis\":{\"gridcolor\":\"white\",\"linecolor\":\"white\",\"ticks\":\"\"},\"baxis\":{\"gridcolor\":\"white\",\"linecolor\":\"white\",\"ticks\":\"\"},\"bgcolor\":\"#E5ECF6\",\"caxis\":{\"gridcolor\":\"white\",\"linecolor\":\"white\",\"ticks\":\"\"}},\"title\":{\"x\":0.05},\"xaxis\":{\"automargin\":true,\"gridcolor\":\"white\",\"linecolor\":\"white\",\"ticks\":\"\",\"title\":{\"standoff\":15},\"zerolinecolor\":\"white\",\"zerolinewidth\":2},\"yaxis\":{\"automargin\":true,\"gridcolor\":\"white\",\"linecolor\":\"white\",\"ticks\":\"\",\"title\":{\"standoff\":15},\"zerolinecolor\":\"white\",\"zerolinewidth\":2}}},\"title\":{\"text\":\"PCE\"},\"width\":800,\"xaxis\":{\"dtick\":2,\"gridwidth\":2,\"title\":{\"text\":\"Reported PCE (%)\"},\"zeroline\":false},\"yaxis\":{\"gridwidth\":2,\"title\":{\"text\":\"Predicted PCE (%)\"},\"zeroline\":false}},                        {\"responsive\": true}                    ).then(function(){\n",
       "                            \n",
       "var gd = document.getElementById('65091d27-08b0-47f7-86cd-3283b4a6ad46');\n",
       "var x = new MutationObserver(function (mutations, observer) {{\n",
       "        var display = window.getComputedStyle(gd).display;\n",
       "        if (!display || display === 'none') {{\n",
       "            console.log([gd, 'removed!']);\n",
       "            Plotly.purge(gd);\n",
       "            observer.disconnect();\n",
       "        }}\n",
       "}});\n",
       "\n",
       "// Listen for the removal of the full notebook cells\n",
       "var notebookContainer = gd.closest('#notebook-container');\n",
       "if (notebookContainer) {{\n",
       "    x.observe(notebookContainer, {childList: true});\n",
       "}}\n",
       "\n",
       "// Listen for the clearing of the current output cell\n",
       "var outputEl = gd.closest('.output');\n",
       "if (outputEl) {{\n",
       "    x.observe(outputEl, {childList: true});\n",
       "}}\n",
       "\n",
       "                        })                };                });            </script>        </div>"
      ]
     },
     "metadata": {},
     "output_type": "display_data"
    }
   ],
   "source": [
    "import plotly\n",
    "import plotly.graph_objs as go\n",
    "from plotly.offline import iplot\n",
    "plotly.offline.init_notebook_mode(connected=True)\n",
    "\n",
    "layout0= go.Layout(title= \"PCE\", hovermode= 'closest',\n",
    "                   font = dict(family='Times New Roman',size=28),\n",
    "                   xaxis= dict(title= 'Reported PCE (%)',zeroline= False, gridwidth= 2, dtick=2),\n",
    "                   yaxis= dict(title= 'Predicted PCE (%)',zeroline= False, gridwidth= 2),#range=[-350,3750]),\n",
    "                   height=600,\n",
    "                   width=800,\n",
    "                   showlegend= True                 \n",
    ")\n",
    "\n",
    "fit  = np.linspace(min(y_test), max(y_test))\n",
    "trace0 = go.Scatter(x = y_test, y = pred, mode = 'markers', marker= dict(size= 12, color= 'blue'),name='Test Data')\n",
    "# trace1 = go.Scatter(x = test_outputs ,y = y_pred, mode = 'markers', text=test_inputs.index,marker= dict(size= 12, color= 'red'), \n",
    "#                     error_y = dict(type='data',array=y_std,visible=True),name='Testing Data')\n",
    "trace2 = go.Scatter(x = fit ,y = fit, mode = 'lines', marker= dict(size= 12, color= 'black'), text = 'Fit',name='Linear Fit')\n",
    "\n",
    "data = [trace0,trace2]\n",
    "fig= go.Figure(data, layout=layout0)\n",
    "iplot(fig)"
   ]
  },
  {
   "cell_type": "markdown",
   "metadata": {},
   "source": [
    "# Save the model"
   ]
  },
  {
   "cell_type": "code",
   "execution_count": null,
   "metadata": {},
   "outputs": [],
   "source": [
    "# import pickle\n",
    "# with open('morgan_xgboost.pkl', 'wb') as f:\n",
    "#     pickle.dump(regressor, f)"
   ]
  },
  {
   "cell_type": "code",
   "execution_count": null,
   "metadata": {},
   "outputs": [],
   "source": []
  }
 ],
 "metadata": {
  "accelerator": "GPU",
  "colab": {
   "collapsed_sections": [],
   "machine_shape": "hm",
   "name": "Untitled6.ipynb",
   "provenance": []
  },
  "hide_input": false,
  "kernelspec": {
   "display_name": "Python 3 (ipykernel)",
   "language": "python",
   "name": "python3"
  },
  "language_info": {
   "codemirror_mode": {
    "name": "ipython",
    "version": 3
   },
   "file_extension": ".py",
   "mimetype": "text/x-python",
   "name": "python",
   "nbconvert_exporter": "python",
   "pygments_lexer": "ipython3",
   "version": "3.7.13"
  }
 },
 "nbformat": 4,
 "nbformat_minor": 1
}
