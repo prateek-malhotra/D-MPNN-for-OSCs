{
 "cells": [
  {
   "cell_type": "markdown",
   "metadata": {},
   "source": [
    "# Importing libraries"
   ]
  },
  {
   "cell_type": "code",
   "execution_count": 1,
   "metadata": {},
   "outputs": [
    {
     "name": "stderr",
     "output_type": "stream",
     "text": [
      "C:\\Users\\prate\\anaconda3\\envs\\my-rdkit-env1\\lib\\site-packages\\tqdm\\auto.py:22: TqdmWarning: IProgress not found. Please update jupyter and ipywidgets. See https://ipywidgets.readthedocs.io/en/stable/user_install.html\n",
      "  from .autonotebook import tqdm as notebook_tqdm\n",
      "WARNING:root:No normalization for BCUT2D_MWHI\n",
      "WARNING:root:No normalization for BCUT2D_MWLOW\n",
      "WARNING:root:No normalization for BCUT2D_CHGHI\n",
      "WARNING:root:No normalization for BCUT2D_CHGLO\n",
      "WARNING:root:No normalization for BCUT2D_LOGPHI\n",
      "WARNING:root:No normalization for BCUT2D_LOGPLOW\n",
      "WARNING:root:No normalization for BCUT2D_MRHI\n",
      "WARNING:root:No normalization for BCUT2D_MRLOW\n"
     ]
    }
   ],
   "source": [
    "import os\n",
    "import chemprop\n",
    "import pandas as pd\n",
    "import matplotlib.pyplot as plt\n",
    "from matplotlib.offsetbox import AnchoredText\n",
    "from sklearn.metrics import mean_absolute_error, mean_squared_error\n",
    "from sklearn.decomposition import PCA              "
   ]
  },
  {
   "cell_type": "code",
   "execution_count": 2,
   "metadata": {},
   "outputs": [],
   "source": [
    "def plot_parity(y_true, y_pred, y_pred_unc=None):\n",
    "    \n",
    "    axmin = min(min(y_true), min(y_pred)) - 0.1*(max(y_true)-min(y_true))\n",
    "    axmax = max(max(y_true), max(y_pred)) + 0.1*(max(y_true)-min(y_true))\n",
    "    \n",
    "    mae = mean_absolute_error(y_true, y_pred)\n",
    "    rmse = mean_squared_error(y_true, y_pred, squared=False)\n",
    "    \n",
    "    plt.plot([axmin, axmax], [axmin, axmax], '--k')\n",
    "\n",
    "    plt.errorbar(y_true, y_pred, yerr=y_pred_unc, linewidth=0, marker='o', markeredgecolor='w', alpha=1, elinewidth=1)\n",
    "    \n",
    "    plt.xlim((axmin, axmax))\n",
    "    plt.ylim((axmin, axmax))\n",
    "    \n",
    "    ax = plt.gca()\n",
    "    ax.set_aspect('equal')\n",
    "    \n",
    "    at = AnchoredText(\n",
    "    f\"MAE = {mae:.2f}\\nRMSE = {rmse:.2f}\", prop=dict(size=10), frameon=True, loc='upper left')\n",
    "    at.patch.set_boxstyle(\"round,pad=0.,rounding_size=0.2\")\n",
    "    ax.add_artist(at)\n",
    "    \n",
    "    plt.xlabel('True')\n",
    "    plt.ylabel('Chemprop Predicted')\n",
    "    \n",
    "    plt.show()\n",
    "    \n",
    "    return"
   ]
  },
  {
   "cell_type": "markdown",
   "metadata": {},
   "source": [
    "# Generating RDKit descriptors"
   ]
  },
  {
   "cell_type": "code",
   "execution_count": 3,
   "metadata": {
    "id": "zO_eW3JMRpx9"
   },
   "outputs": [],
   "source": [
    "# import pandas as pd\n",
    "# import numpy as np\n",
    "\n",
    "# X_train=pd.read_csv('test_checkpoints_reg/fold_0/train_full.csv')\n",
    "# X_train = X_train.drop(['PCE_max(%)'], axis = 1)\n",
    "# X_train\n",
    "\n",
    "# X_val=pd.read_csv('test_checkpoints_reg/fold_0/val_full.csv')\n",
    "# X_val = X_val.drop(['PCE_max(%)'], axis = 1)\n",
    "# X_val\n",
    "\n",
    "# X_test=pd.read_csv('test_checkpoints_reg/fold_0/test_full.csv')\n",
    "# X_test = X_test.drop(['PCE_max(%)'], axis = 1)\n",
    "# X_test\n",
    "\n",
    "# # rdkit desciptors for test set\n",
    "\n",
    "\n",
    "# from rdkit.Chem import Descriptors\n",
    "# from rdkit import Chem\n",
    "# from rdkit.Chem import Draw\n",
    "# from rdkit.Chem.Draw import IPythonConsole\n",
    "\n",
    "# from rdkit.ML.Descriptors import MoleculeDescriptors\n",
    "# des_list = [x[0] for x in Descriptors._descList]\n",
    "\n",
    "\n",
    "# def rdkit_des(D,A):\n",
    "\n",
    "#     mols = [ Chem.MolFromSmiles(x) for x in D_smiles if x != None ]\n",
    "#     desc_calc = MoleculeDescriptors.MolecularDescriptorCalculator(des_list)\n",
    "#     values_rdkit_donor = [desc_calc.CalcDescriptors(mol) for mol in mols]\n",
    "#     values_rdkit_donor\n",
    "\n",
    "#     df_rdkit_donor = pd.DataFrame(values_rdkit_donor, columns=des_list)\n",
    "#     df_rdkit_donor\n",
    "\n",
    "#     df_rdkit_donor=df_rdkit_donor.add_prefix('Donor_')\n",
    "#     df_rdkit_donor\n",
    "\n",
    "\n",
    "#     mols = [ Chem.MolFromSmiles(x) for x in A_smiles if x != None ]\n",
    "#     desc_calc = MoleculeDescriptors.MolecularDescriptorCalculator(des_list)\n",
    "#     values_rdkit_acceptor = [desc_calc.CalcDescriptors(mol) for mol in mols]\n",
    "#     values_rdkit_acceptor\n",
    "\n",
    "\n",
    "#     df_rdkit_acceptor = pd.DataFrame(values_rdkit_acceptor, columns=des_list)\n",
    "#     df_rdkit_acceptor\n",
    "\n",
    "\n",
    "#     df_rdkit_acceptor=df_rdkit_acceptor.add_prefix('Acceptor_')\n",
    "#     df_rdkit_acceptor\n",
    "\n",
    "\n",
    "#     frames =[df_rdkit_donor, df_rdkit_acceptor]\n",
    "#     rdkit_descriptors = pd.concat(frames, axis =1)\n",
    "#     return rdkit_descriptors\n",
    "\n",
    "\n",
    "# D_smiles = X_train[\"p(SMILES)\"]\n",
    "# A_smiles = X_train[\"n(SMILES)\"]\n",
    "# X_train_rdkit = rdkit_des(D_smiles,A_smiles)\n",
    "\n",
    "# D_smiles = X_val[\"p(SMILES)\"]\n",
    "# A_smiles = X_val[\"n(SMILES)\"]\n",
    "# X_val_rdkit = rdkit_des(D_smiles,A_smiles)\n",
    "\n",
    "# D_smiles = X_test[\"p(SMILES)\"]\n",
    "# A_smiles = X_test[\"n(SMILES)\"]\n",
    "# X_test_rdkit = rdkit_des(D_smiles,A_smiles)\n",
    "\n",
    "# X_train_rdkit.to_csv('X_train_rdkit.csv')\n",
    "# X_val_rdkit.to_csv('X_val_rdkit.csv')\n",
    "# X_test_rdkit.to_csv('X_test_rdkit.csv')"
   ]
  },
  {
   "cell_type": "markdown",
   "metadata": {},
   "source": [
    "# Using saved files for RDKit descriptors"
   ]
  },
  {
   "cell_type": "code",
   "execution_count": 4,
   "metadata": {},
   "outputs": [],
   "source": [
    "import pandas as pd\n",
    "import numpy as np\n",
    "\n",
    "X_train_rdkit=pd.read_csv('X_train_rdkit.csv')\n",
    "X_val_rdkit=pd.read_csv('X_val_rdkit.csv')\n",
    "X_test_rdkit=pd.read_csv('X_test_rdkit.csv')"
   ]
  },
  {
   "cell_type": "code",
   "execution_count": 5,
   "metadata": {},
   "outputs": [],
   "source": [
    "X_train_rdkit=X_train_rdkit.drop(['Donor_Ipc','Acceptor_Ipc'],axis=1)\n",
    "X_val_rdkit=X_val_rdkit.drop(['Donor_Ipc','Acceptor_Ipc'],axis=1)\n",
    "X_test_rdkit=X_test_rdkit.drop(['Donor_Ipc','Acceptor_Ipc'],axis=1)"
   ]
  },
  {
   "cell_type": "code",
   "execution_count": 6,
   "metadata": {},
   "outputs": [
    {
     "name": "stdout",
     "output_type": "stream",
     "text": [
      "Features with zero standard deviation : 114\n",
      "Features with correlation more than 0.8 : 171\n"
     ]
    }
   ],
   "source": [
    "all_data = pd.concat([X_train_rdkit,X_val_rdkit,X_test_rdkit])\n",
    "\n",
    "all_data=all_data.select_dtypes(include='number')  \n",
    "print('Features with zero standard deviation :',len(all_data.std()[all_data.std() == 0])) #displaying features with zero std deviation\n",
    "all_data=all_data.drop(all_data.std()[all_data.std() == 0].index.values, axis=1)  # Dropping features with zero std deviation\n",
    "all_data = all_data.replace([np.inf, -np.inf], np.nan)\n",
    "all_data = all_data.replace(np.nan,0)  #replace null values with zero\n",
    "\n",
    "def correlation(dataset, threshold):\n",
    "    col_corr = set()  # Set of all the names of correlated columns\n",
    "    corr_matrix = dataset.corr()\n",
    "    for i in range(len(corr_matrix.columns)):\n",
    "        for j in range(i):\n",
    "            if (corr_matrix.iloc[i, j]) > threshold: # we are interested in absolute coeff value\n",
    "                colname = corr_matrix.columns[i]  # getting the name of column\n",
    "                col_corr.add(colname)\n",
    "    return col_corr\n",
    "corr_features = correlation(all_data, 0.8)\n",
    "print('Features with correlation more than 0.8 :',len(set(corr_features)))\n",
    "all_data=all_data.drop(corr_features,axis=1)   # Dropping features with correlation more than 0.8"
   ]
  },
  {
   "cell_type": "code",
   "execution_count": 7,
   "metadata": {},
   "outputs": [],
   "source": [
    "X_train_rdkit=X_train_rdkit[all_data.columns]\n",
    "X_train_rdkit = X_train_rdkit.replace([np.inf, -np.inf], np.nan)\n",
    "X_train_rdkit = X_train_rdkit.replace(np.nan,0)  #replace null values with zero\n",
    "\n",
    "X_val_rdkit=X_val_rdkit[all_data.columns]\n",
    "X_val_rdkit = X_val_rdkit.replace([np.inf, -np.inf], np.nan)\n",
    "X_val_rdkit = X_val_rdkit.replace(np.nan,0)  #replace null values with zero\n",
    "\n",
    "X_test_rdkit=X_test_rdkit[all_data.columns]\n",
    "X_test_rdkit = X_test_rdkit.replace([np.inf, -np.inf], np.nan)\n",
    "X_test_rdkit = X_test_rdkit.replace(np.nan,0)  #replace null values with zero"
   ]
  },
  {
   "cell_type": "code",
   "execution_count": 8,
   "metadata": {},
   "outputs": [],
   "source": [
    "# Defining Metrics\n",
    "def R2Score(X,Y):\n",
    "    r2=metrics.r2_score(X,Y)\n",
    "    return r2\n",
    "def PearsonCoefficient(X, Y):\n",
    "    corr, _ = pearsonr(X,Y)\n",
    "    return corr\n",
    "def MSE(X,Y):\n",
    "    mse=mean_squared_error(X,Y)\n",
    "    return mse\n",
    "def RMSE(X,Y):\n",
    "    rmse=np.sqrt(mean_squared_error(X,Y))\n",
    "    return rmse\n",
    "def MAPE(X,Y):\n",
    "    mape=np.average(abs(np.array(X)-np.array(Y))/np.array(Y))*100\n",
    "    return mape\n",
    "\n",
    "\n",
    "from sklearn.metrics import r2_score\n",
    "import sklearn.metrics as metrics\n",
    "from scipy.stats.stats import pearsonr"
   ]
  },
  {
   "cell_type": "code",
   "execution_count": 9,
   "metadata": {},
   "outputs": [],
   "source": [
    "y_train=pd.read_csv('test_checkpoints_reg/fold_0/train_full.csv')\n",
    "y_train = y_train.drop(['p(SMILES)', 'n(SMILES)'], axis = 1)\n",
    "\n",
    "y_val=pd.read_csv('test_checkpoints_reg/fold_0/val_full.csv')\n",
    "y_val = y_val.drop(['p(SMILES)', 'n(SMILES)'], axis = 1)\n",
    "\n",
    "y_test=pd.read_csv('test_checkpoints_reg/fold_0/test_full.csv')\n",
    "y_test = y_test.drop(['p(SMILES)', 'n(SMILES)'], axis = 1)"
   ]
  },
  {
   "cell_type": "code",
   "execution_count": null,
   "metadata": {},
   "outputs": [],
   "source": [
    "# from sklearn.model_selection import GridSearchC\n",
    "# param_grid = {'nthread':[4], #when use hyperthread, xgboost may become slower\n",
    "#               'objective':['reg:linear'],\n",
    "#               'learning_rate': [.03, 0.05, .07], #so called `eta` value\n",
    "#               'min_child_weight': [4],\n",
    "#               'subsample': [0.8],\n",
    "#               'colsample_bytree': [0.8],\n",
    "#               'n_estimators': [50,100,150,200,250,300]}\n",
    "# print(param_grid)"
   ]
  },
  {
   "cell_type": "code",
   "execution_count": null,
   "metadata": {},
   "outputs": [],
   "source": [
    "from sklearn.model_selection import GridSearchCV\n",
    "# Create the grid\n",
    "param_grid = {'n_estimators': [50,100,150,200,250,300],\n",
    "          'learning_rate': [0.01, 0.05, 0.1],\n",
    "          'max_depth': [3, 5, 7],\n",
    "          'subsample': [0.6, 0.8, 1],\n",
    "          'colsample_bytree': [0.6, 0.8, 1]}\n",
    "print(param_grid)"
   ]
  },
  {
   "cell_type": "code",
   "execution_count": null,
   "metadata": {},
   "outputs": [],
   "source": [
    "from sklearn.metrics import mean_absolute_error, mean_squared_error\n",
    "import matplotlib.pyplot as plt"
   ]
  },
  {
   "cell_type": "code",
   "execution_count": null,
   "metadata": {},
   "outputs": [],
   "source": [
    "from xgboost.sklearn import XGBRegressor\n",
    "xgb = XGBRegressor()\n",
    "tune_xgb = GridSearchCV(estimator=xgb, param_grid=param_grid, scoring='neg_mean_squared_error', n_jobs=-1, verbose=3)\n",
    "tune_xgb.fit(X_train_rdkit, y_train)\n",
    "# print clf.best_score_\n",
    "tune_xgb.best_params_\n"
   ]
  },
  {
   "cell_type": "code",
   "execution_count": null,
   "metadata": {},
   "outputs": [],
   "source": [
    "from sklearn.ensemble import RandomForestRegressor\n",
    "from sklearn.metrics import mean_absolute_error, mean_squared_error\n",
    "import matplotlib.pyplot as plt\n",
    " \n",
    " # create regressor object\n",
    "regressor = XGBRegressor(**tune_xgb.best_params_,random_state = 42)\n",
    " \n",
    "# fit the regressor with x and y data\n",
    "regressor.fit(X_train_rdkit, y_train) \n",
    "\n",
    "pred = regressor.predict(X_test_rdkit)\n",
    "y_test = y_test.to_numpy().ravel()"
   ]
  },
  {
   "cell_type": "markdown",
   "metadata": {},
   "source": [
    "# Or use the saved model"
   ]
  },
  {
   "cell_type": "code",
   "execution_count": 10,
   "metadata": {},
   "outputs": [],
   "source": [
    "import pickle\n",
    "with open('./Models/rdkit_xgboost.pkl', 'rb') as f:\n",
    "    regressor = pickle.load(f)\n",
    "    \n",
    "# fit the regressor with x and y data\n",
    "regressor.fit(X_train_rdkit, y_train) \n",
    "\n",
    "pred = regressor.predict(X_test_rdkit)\n",
    "y_test = y_test.to_numpy().ravel()"
   ]
  },
  {
   "cell_type": "code",
   "execution_count": 11,
   "metadata": {},
   "outputs": [
    {
     "data": {
      "image/png": "[encoded data removed]",
      "text/plain": [
       "<Figure size 432x288 with 1 Axes>"
      ]
     },
     "metadata": {
      "needs_background": "light"
     },
     "output_type": "display_data"
    }
   ],
   "source": [
    "plot_parity(y_test, pred)"
   ]
  },
  {
   "cell_type": "code",
   "execution_count": 12,
   "metadata": {},
   "outputs": [
    {
     "name": "stdout",
     "output_type": "stream",
     "text": [
      "Pearson r:  0.829807162559819\n",
      "R2 Score:  0.6883724141817946\n"
     ]
    }
   ],
   "source": [
    "print('Pearson r: ',PearsonCoefficient(y_test, pred))\n",
    "print('R2 Score: ',R2Score(y_test, pred))"
   ]
  },
  {
   "cell_type": "code",
   "execution_count": 13,
   "metadata": {},
   "outputs": [
    {
     "data": {
      "text/plain": [
       "2.1321059638026596"
      ]
     },
     "execution_count": 13,
     "metadata": {},
     "output_type": "execute_result"
    }
   ],
   "source": [
    "import numpy as np\n",
    "RMSE(y_test, pred)"
   ]
  },
  {
   "cell_type": "code",
   "execution_count": 14,
   "metadata": {},
   "outputs": [],
   "source": [
    "import plotly\n",
    "import plotly.graph_objs as go"
   ]
  },
  {
   "cell_type": "code",
   "execution_count": 15,
   "metadata": {},
   "outputs": [
    {
     "data": {
      "text/html": [
       "        <script type=\"text/javascript\">\n",
       "        window.PlotlyConfig = {MathJaxConfig: 'local'};\n",
       "        if (window.MathJax) {MathJax.Hub.Config({SVG: {font: \"STIX-Web\"}});}\n",
       "        if (typeof require !== 'undefined') {\n",
       "        require.undef(\"plotly\");\n",
       "        requirejs.config({\n",
       "            paths: {\n",
       "                'plotly': ['https://cdn.plot.ly/plotly-2.6.3.min']\n",
       "            }\n",
       "        });\n",
       "        require(['plotly'], function(Plotly) {\n",
       "            window._Plotly = Plotly;\n",
       "        });\n",
       "        }\n",
       "        </script>\n",
       "        "
      ]
     },
     "metadata": {},
     "output_type": "display_data"
    },
    {
     "data": {
      "application/vnd.plotly.v1+json": {
       "config": {
        "linkText": "Export to plot.ly",
        "plotlyServerURL": "https://plot.ly",
        "showLink": false
       },
       "data": [
        {
         "marker": {
          "color": "blue",
          "size": 12
         },
         "mode": "markers",
         "name": "Test Data",
         "type": "scatter",
         "x": [
          0.32,
          7.9,
          5.24,
          11.53,
          8.67,
          10.62,
          11.5,
          6.91,
          13.13,
          1.6,
          11.91,
          7.3,
          8.12,
          4.03,
          9.2,
          11,
          1.87,
          2.28,
          6.3,
          11.02,
          13.2,
          13.15,
          1.71,
          2.93,
          9.19,
          7.4,
          12.1,
          10.81,
          4.39,
          12.6,
          10.1,
          7.92,
          1.3,
          13.46,
          2.06,
          6.69,
          11.82,
          12.05,
          11.29,
          4.3,
          1.1,
          12.74,
          11.03,
          11.25,
          9.3,
          10.27,
          10.52,
          8.61,
          10.8,
          2.76,
          6.32,
          12.02,
          12.12,
          5.8,
          3.38,
          10.2,
          7.6,
          13.13,
          4.69,
          5.45,
          6.61,
          13.46,
          12.87,
          9.81,
          10.24,
          5.95,
          10.42,
          8.9,
          9.24,
          12.8,
          10.05,
          13.16,
          3.3,
          15.6,
          6,
          15.3,
          13.1,
          2.11,
          0.1,
          3.83,
          11.87,
          13.1,
          8.64,
          5.3,
          11.93,
          10.9,
          3.7,
          7.11,
          13.9,
          5.48,
          6.3,
          13.41,
          6.5,
          12.21,
          11.53,
          6.09,
          4.11,
          3.68,
          7.13,
          7.86,
          8.42,
          10.51,
          0.57,
          10.51,
          9.16,
          3.95,
          9.36,
          8.33,
          7.4,
          5.59,
          10.41,
          8.13,
          11.22,
          11.1,
          13,
          12.86,
          11.06,
          11.08,
          10.04,
          7.52,
          13.5,
          7.57,
          16.1,
          8.34,
          10.5,
          11.41,
          11.9,
          6.31,
          8.27,
          0.45,
          7.73,
          1.26
         ],
         "y": [
          1.0281389951705933,
          5.70753812789917,
          4.717536926269531,
          8.320572853088379,
          5.923332691192627,
          11.61561393737793,
          12.335265159606934,
          6.021067142486572,
          11.025290489196777,
          2.7744510173797607,
          12.646994590759277,
          6.521644592285156,
          10.703715324401855,
          4.66859245300293,
          10.07358169555664,
          8.796724319458008,
          1.7998194694519043,
          3.8103511333465576,
          4.537687301635742,
          10.913715362548828,
          9.191183090209961,
          10.836466789245605,
          2.446244478225708,
          7.973711967468262,
          9.480629920959473,
          9.989459037780762,
          10.44969367980957,
          9.437332153320312,
          4.726040363311768,
          12.347184181213379,
          10.86880874633789,
          9.461813926696777,
          0.24871329963207245,
          12.055307388305664,
          3.2016050815582275,
          6.755402565002441,
          3.968485116958618,
          10.086737632751465,
          10.168375015258789,
          5.070962429046631,
          5.154872417449951,
          10.339869499206543,
          9.812573432922363,
          10.039472579956055,
          9.480629920959473,
          9.380459785461426,
          8.829626083374023,
          9.659602165222168,
          11.020341873168945,
          5.3932671546936035,
          10.624227523803711,
          12.159649848937988,
          12.348119735717773,
          6.206698894500732,
          7.9355340003967285,
          8.320939064025879,
          6.664672374725342,
          9.311027526855469,
          6.118876934051514,
          8.11820125579834,
          8.263303756713867,
          10.19308853149414,
          12.64433479309082,
          10.312886238098145,
          12.443169593811035,
          8.769949913024902,
          9.38731575012207,
          10.084428787231445,
          12.630071640014648,
          8.565478324890137,
          9.706289291381836,
          9.204992294311523,
          8.482577323913574,
          15.5449857711792,
          4.924259662628174,
          15.5449857711792,
          12.684918403625488,
          1.8196415901184082,
          1.2166353464126587,
          5.915347099304199,
          9.902243614196777,
          12.45241928100586,
          6.28988790512085,
          5.341242790222168,
          12.787007331848145,
          11.353121757507324,
          6.915903091430664,
          7.3245134353637695,
          11.419769287109375,
          6.504187107086182,
          10.737542152404785,
          12.347184181213379,
          8.964051246643066,
          10.123652458190918,
          11.349238395690918,
          9.172004699707031,
          4.482095718383789,
          5.002082824707031,
          4.625288486480713,
          6.028046607971191,
          7.838961124420166,
          11.783060073852539,
          2.4583795070648193,
          12.779364585876465,
          5.5283989906311035,
          6.010885715484619,
          9.602043151855469,
          9.6456298828125,
          8.809728622436523,
          4.655574798583984,
          11.748376846313477,
          8.561944007873535,
          10.76930046081543,
          6.390157699584961,
          12.100983619689941,
          11.959553718566895,
          7.505348205566406,
          10.354438781738281,
          6.9722580909729,
          11.15761947631836,
          12.488801956176758,
          8.57878589630127,
          12.06240177154541,
          10.085147857666016,
          11.163935661315918,
          10.354438781738281,
          10.39816951751709,
          6.407520294189453,
          8.719322204589844,
          1.593946099281311,
          7.814057350158691,
          2.1241378784179688
         ]
        },
        {
         "marker": {
          "color": "black",
          "size": 12
         },
         "mode": "lines",
         "name": "Linear Fit",
         "text": "Fit",
         "type": "scatter",
         "x": [
          0.1,
          0.42653061224489797,
          0.7530612244897958,
          1.079591836734694,
          1.4061224489795918,
          1.7326530612244897,
          2.059183673469388,
          2.3857142857142857,
          2.7122448979591836,
          3.0387755102040814,
          3.3653061224489793,
          3.691836734693877,
          4.018367346938775,
          4.3448979591836725,
          4.671428571428571,
          4.997959183673468,
          5.324489795918367,
          5.651020408163265,
          5.977551020408162,
          6.304081632653061,
          6.630612244897958,
          6.957142857142856,
          7.283673469387754,
          7.610204081632652,
          7.9367346938775505,
          8.263265306122449,
          8.589795918367345,
          8.916326530612244,
          9.242857142857142,
          9.56938775510204,
          9.895918367346937,
          10.222448979591835,
          10.548979591836734,
          10.875510204081632,
          11.20204081632653,
          11.528571428571427,
          11.855102040816325,
          12.181632653061223,
          12.508163265306122,
          12.834693877551018,
          13.161224489795917,
          13.487755102040815,
          13.814285714285713,
          14.140816326530611,
          14.467346938775508,
          14.793877551020406,
          15.120408163265305,
          15.446938775510203,
          15.773469387755101,
          16.1
         ],
         "y": [
          0.1,
          0.42653061224489797,
          0.7530612244897958,
          1.079591836734694,
          1.4061224489795918,
          1.7326530612244897,
          2.059183673469388,
          2.3857142857142857,
          2.7122448979591836,
          3.0387755102040814,
          3.3653061224489793,
          3.691836734693877,
          4.018367346938775,
          4.3448979591836725,
          4.671428571428571,
          4.997959183673468,
          5.324489795918367,
          5.651020408163265,
          5.977551020408162,
          6.304081632653061,
          6.630612244897958,
          6.957142857142856,
          7.283673469387754,
          7.610204081632652,
          7.9367346938775505,
          8.263265306122449,
          8.589795918367345,
          8.916326530612244,
          9.242857142857142,
          9.56938775510204,
          9.895918367346937,
          10.222448979591835,
          10.548979591836734,
          10.875510204081632,
          11.20204081632653,
          11.528571428571427,
          11.855102040816325,
          12.181632653061223,
          12.508163265306122,
          12.834693877551018,
          13.161224489795917,
          13.487755102040815,
          13.814285714285713,
          14.140816326530611,
          14.467346938775508,
          14.793877551020406,
          15.120408163265305,
          15.446938775510203,
          15.773469387755101,
          16.1
         ]
        }
       ],
       "layout": {
        "font": {
         "family": "Times New Roman",
         "size": 28
        },
        "height": 600,
        "hovermode": "closest",
        "showlegend": true,
        "template": {
         "data": {
          "bar": [
           {
            "error_x": {
             "color": "#2a3f5f"
            },
            "error_y": {
             "color": "#2a3f5f"
            },
            "marker": {
             "line": {
              "color": "#E5ECF6",
              "width": 0.5
             },
             "pattern": {
              "fillmode": "overlay",
              "size": 10,
              "solidity": 0.2
             }
            },
            "type": "bar"
           }
          ],
          "barpolar": [
           {
            "marker": {
             "line": {
              "color": "#E5ECF6",
              "width": 0.5
             },
             "pattern": {
              "fillmode": "overlay",
              "size": 10,
              "solidity": 0.2
             }
            },
            "type": "barpolar"
           }
          ],
          "carpet": [
           {
            "aaxis": {
             "endlinecolor": "#2a3f5f",
             "gridcolor": "white",
             "linecolor": "white",
             "minorgridcolor": "white",
             "startlinecolor": "#2a3f5f"
            },
            "baxis": {
             "endlinecolor": "#2a3f5f",
             "gridcolor": "white",
             "linecolor": "white",
             "minorgridcolor": "white",
             "startlinecolor": "#2a3f5f"
            },
            "type": "carpet"
           }
          ],
          "choropleth": [
           {
            "colorbar": {
             "outlinewidth": 0,
             "ticks": ""
            },
            "type": "choropleth"
           }
          ],
          "contour": [
           {
            "colorbar": {
             "outlinewidth": 0,
             "ticks": ""
            },
            "colorscale": [
             [
              0,
              "#0d0887"
             ],
             [
              0.1111111111111111,
              "#46039f"
             ],
             [
              0.2222222222222222,
              "#7201a8"
             ],
             [
              0.3333333333333333,
              "#9c179e"
             ],
             [
              0.4444444444444444,
              "#bd3786"
             ],
             [
              0.5555555555555556,
              "#d8576b"
             ],
             [
              0.6666666666666666,
              "#ed7953"
             ],
             [
              0.7777777777777778,
              "#fb9f3a"
             ],
             [
              0.8888888888888888,
              "#fdca26"
             ],
             [
              1,
              "#f0f921"
             ]
            ],
            "type": "contour"
           }
          ],
          "contourcarpet": [
           {
            "colorbar": {
             "outlinewidth": 0,
             "ticks": ""
            },
            "type": "contourcarpet"
           }
          ],
          "heatmap": [
           {
            "colorbar": {
             "outlinewidth": 0,
             "ticks": ""
            },
            "colorscale": [
             [
              0,
              "#0d0887"
             ],
             [
              0.1111111111111111,
              "#46039f"
             ],
             [
              0.2222222222222222,
              "#7201a8"
             ],
             [
              0.3333333333333333,
              "#9c179e"
             ],
             [
              0.4444444444444444,
              "#bd3786"
             ],
             [
              0.5555555555555556,
              "#d8576b"
             ],
             [
              0.6666666666666666,
              "#ed7953"
             ],
             [
              0.7777777777777778,
              "#fb9f3a"
             ],
             [
              0.8888888888888888,
              "#fdca26"
             ],
             [
              1,
              "#f0f921"
             ]
            ],
            "type": "heatmap"
           }
          ],
          "heatmapgl": [
           {
            "colorbar": {
             "outlinewidth": 0,
             "ticks": ""
            },
            "colorscale": [
             [
              0,
              "#0d0887"
             ],
             [
              0.1111111111111111,
              "#46039f"
             ],
             [
              0.2222222222222222,
              "#7201a8"
             ],
             [
              0.3333333333333333,
              "#9c179e"
             ],
             [
              0.4444444444444444,
              "#bd3786"
             ],
             [
              0.5555555555555556,
              "#d8576b"
             ],
             [
              0.6666666666666666,
              "#ed7953"
             ],
             [
              0.7777777777777778,
              "#fb9f3a"
             ],
             [
              0.8888888888888888,
              "#fdca26"
             ],
             [
              1,
              "#f0f921"
             ]
            ],
            "type": "heatmapgl"
           }
          ],
          "histogram": [
           {
            "marker": {
             "pattern": {
              "fillmode": "overlay",
              "size": 10,
              "solidity": 0.2
             }
            },
            "type": "histogram"
           }
          ],
          "histogram2d": [
           {
            "colorbar": {
             "outlinewidth": 0,
             "ticks": ""
            },
            "colorscale": [
             [
              0,
              "#0d0887"
             ],
             [
              0.1111111111111111,
              "#46039f"
             ],
             [
              0.2222222222222222,
              "#7201a8"
             ],
             [
              0.3333333333333333,
              "#9c179e"
             ],
             [
              0.4444444444444444,
              "#bd3786"
             ],
             [
              0.5555555555555556,
              "#d8576b"
             ],
             [
              0.6666666666666666,
              "#ed7953"
             ],
             [
              0.7777777777777778,
              "#fb9f3a"
             ],
             [
              0.8888888888888888,
              "#fdca26"
             ],
             [
              1,
              "#f0f921"
             ]
            ],
            "type": "histogram2d"
           }
          ],
          "histogram2dcontour": [
           {
            "colorbar": {
             "outlinewidth": 0,
             "ticks": ""
            },
            "colorscale": [
             [
              0,
              "#0d0887"
             ],
             [
              0.1111111111111111,
              "#46039f"
             ],
             [
              0.2222222222222222,
              "#7201a8"
             ],
             [
              0.3333333333333333,
              "#9c179e"
             ],
             [
              0.4444444444444444,
              "#bd3786"
             ],
             [
              0.5555555555555556,
              "#d8576b"
             ],
             [
              0.6666666666666666,
              "#ed7953"
             ],
             [
              0.7777777777777778,
              "#fb9f3a"
             ],
             [
              0.8888888888888888,
              "#fdca26"
             ],
             [
              1,
              "#f0f921"
             ]
            ],
            "type": "histogram2dcontour"
           }
          ],
          "mesh3d": [
           {
            "colorbar": {
             "outlinewidth": 0,
             "ticks": ""
            },
            "type": "mesh3d"
           }
          ],
          "parcoords": [
           {
            "line": {
             "colorbar": {
              "outlinewidth": 0,
              "ticks": ""
             }
            },
            "type": "parcoords"
           }
          ],
          "pie": [
           {
            "automargin": true,
            "type": "pie"
           }
          ],
          "scatter": [
           {
            "marker": {
             "colorbar": {
              "outlinewidth": 0,
              "ticks": ""
             }
            },
            "type": "scatter"
           }
          ],
          "scatter3d": [
           {
            "line": {
             "colorbar": {
              "outlinewidth": 0,
              "ticks": ""
             }
            },
            "marker": {
             "colorbar": {
              "outlinewidth": 0,
              "ticks": ""
             }
            },
            "type": "scatter3d"
           }
          ],
          "scattercarpet": [
           {
            "marker": {
             "colorbar": {
              "outlinewidth": 0,
              "ticks": ""
             }
            },
            "type": "scattercarpet"
           }
          ],
          "scattergeo": [
           {
            "marker": {
             "colorbar": {
              "outlinewidth": 0,
              "ticks": ""
             }
            },
            "type": "scattergeo"
           }
          ],
          "scattergl": [
           {
            "marker": {
             "colorbar": {
              "outlinewidth": 0,
              "ticks": ""
             }
            },
            "type": "scattergl"
           }
          ],
          "scattermapbox": [
           {
            "marker": {
             "colorbar": {
              "outlinewidth": 0,
              "ticks": ""
             }
            },
            "type": "scattermapbox"
           }
          ],
          "scatterpolar": [
           {
            "marker": {
             "colorbar": {
              "outlinewidth": 0,
              "ticks": ""
             }
            },
            "type": "scatterpolar"
           }
          ],
          "scatterpolargl": [
           {
            "marker": {
             "colorbar": {
              "outlinewidth": 0,
              "ticks": ""
             }
            },
            "type": "scatterpolargl"
           }
          ],
          "scatterternary": [
           {
            "marker": {
             "colorbar": {
              "outlinewidth": 0,
              "ticks": ""
             }
            },
            "type": "scatterternary"
           }
          ],
          "surface": [
           {
            "colorbar": {
             "outlinewidth": 0,
             "ticks": ""
            },
            "colorscale": [
             [
              0,
              "#0d0887"
             ],
             [
              0.1111111111111111,
              "#46039f"
             ],
             [
              0.2222222222222222,
              "#7201a8"
             ],
             [
              0.3333333333333333,
              "#9c179e"
             ],
             [
              0.4444444444444444,
              "#bd3786"
             ],
             [
              0.5555555555555556,
              "#d8576b"
             ],
             [
              0.6666666666666666,
              "#ed7953"
             ],
             [
              0.7777777777777778,
              "#fb9f3a"
             ],
             [
              0.8888888888888888,
              "#fdca26"
             ],
             [
              1,
              "#f0f921"
             ]
            ],
            "type": "surface"
           }
          ],
          "table": [
           {
            "cells": {
             "fill": {
              "color": "#EBF0F8"
             },
             "line": {
              "color": "white"
             }
            },
            "header": {
             "fill": {
              "color": "#C8D4E3"
             },
             "line": {
              "color": "white"
             }
            },
            "type": "table"
           }
          ]
         },
         "layout": {
          "annotationdefaults": {
           "arrowcolor": "#2a3f5f",
           "arrowhead": 0,
           "arrowwidth": 1
          },
          "autotypenumbers": "strict",
          "coloraxis": {
           "colorbar": {
            "outlinewidth": 0,
            "ticks": ""
           }
          },
          "colorscale": {
           "diverging": [
            [
             0,
             "#8e0152"
            ],
            [
             0.1,
             "#c51b7d"
            ],
            [
             0.2,
             "#de77ae"
            ],
            [
             0.3,
             "#f1b6da"
            ],
            [
             0.4,
             "#fde0ef"
            ],
            [
             0.5,
             "#f7f7f7"
            ],
            [
             0.6,
             "#e6f5d0"
            ],
            [
             0.7,
             "#b8e186"
            ],
            [
             0.8,
             "#7fbc41"
            ],
            [
             0.9,
             "#4d9221"
            ],
            [
             1,
             "#276419"
            ]
           ],
           "sequential": [
            [
             0,
             "#0d0887"
            ],
            [
             0.1111111111111111,
             "#46039f"
            ],
            [
             0.2222222222222222,
             "#7201a8"
            ],
            [
             0.3333333333333333,
             "#9c179e"
            ],
            [
             0.4444444444444444,
             "#bd3786"
            ],
            [
             0.5555555555555556,
             "#d8576b"
            ],
            [
             0.6666666666666666,
             "#ed7953"
            ],
            [
             0.7777777777777778,
             "#fb9f3a"
            ],
            [
             0.8888888888888888,
             "#fdca26"
            ],
            [
             1,
             "#f0f921"
            ]
           ],
           "sequentialminus": [
            [
             0,
             "#0d0887"
            ],
            [
             0.1111111111111111,
             "#46039f"
            ],
            [
             0.2222222222222222,
             "#7201a8"
            ],
            [
             0.3333333333333333,
             "#9c179e"
            ],
            [
             0.4444444444444444,
             "#bd3786"
            ],
            [
             0.5555555555555556,
             "#d8576b"
            ],
            [
             0.6666666666666666,
             "#ed7953"
            ],
            [
             0.7777777777777778,
             "#fb9f3a"
            ],
            [
             0.8888888888888888,
             "#fdca26"
            ],
            [
             1,
             "#f0f921"
            ]
           ]
          },
          "colorway": [
           "#636efa",
           "#EF553B",
           "#00cc96",
           "#ab63fa",
           "#FFA15A",
           "#19d3f3",
           "#FF6692",
           "#B6E880",
           "#FF97FF",
           "#FECB52"
          ],
          "font": {
           "color": "#2a3f5f"
          },
          "geo": {
           "bgcolor": "white",
           "lakecolor": "white",
           "landcolor": "#E5ECF6",
           "showlakes": true,
           "showland": true,
           "subunitcolor": "white"
          },
          "hoverlabel": {
           "align": "left"
          },
          "hovermode": "closest",
          "mapbox": {
           "style": "light"
          },
          "paper_bgcolor": "white",
          "plot_bgcolor": "#E5ECF6",
          "polar": {
           "angularaxis": {
            "gridcolor": "white",
            "linecolor": "white",
            "ticks": ""
           },
           "bgcolor": "#E5ECF6",
           "radialaxis": {
            "gridcolor": "white",
            "linecolor": "white",
            "ticks": ""
           }
          },
          "scene": {
           "xaxis": {
            "backgroundcolor": "#E5ECF6",
            "gridcolor": "white",
            "gridwidth": 2,
            "linecolor": "white",
            "showbackground": true,
            "ticks": "",
            "zerolinecolor": "white"
           },
           "yaxis": {
            "backgroundcolor": "#E5ECF6",
            "gridcolor": "white",
            "gridwidth": 2,
            "linecolor": "white",
            "showbackground": true,
            "ticks": "",
            "zerolinecolor": "white"
           },
           "zaxis": {
            "backgroundcolor": "#E5ECF6",
            "gridcolor": "white",
            "gridwidth": 2,
            "linecolor": "white",
            "showbackground": true,
            "ticks": "",
            "zerolinecolor": "white"
           }
          },
          "shapedefaults": {
           "line": {
            "color": "#2a3f5f"
           }
          },
          "ternary": {
           "aaxis": {
            "gridcolor": "white",
            "linecolor": "white",
            "ticks": ""
           },
           "baxis": {
            "gridcolor": "white",
            "linecolor": "white",
            "ticks": ""
           },
           "bgcolor": "#E5ECF6",
           "caxis": {
            "gridcolor": "white",
            "linecolor": "white",
            "ticks": ""
           }
          },
          "title": {
           "x": 0.05
          },
          "xaxis": {
           "automargin": true,
           "gridcolor": "white",
           "linecolor": "white",
           "ticks": "",
           "title": {
            "standoff": 15
           },
           "zerolinecolor": "white",
           "zerolinewidth": 2
          },
          "yaxis": {
           "automargin": true,
           "gridcolor": "white",
           "linecolor": "white",
           "ticks": "",
           "title": {
            "standoff": 15
           },
           "zerolinecolor": "white",
           "zerolinewidth": 2
          }
         }
        },
        "title": {
         "text": "PCE"
        },
        "width": 800,
        "xaxis": {
         "dtick": 2,
         "gridwidth": 1,
         "title": {
          "text": "Reported PCE (%)"
         },
         "zeroline": false
        },
        "yaxis": {
         "gridwidth": 1,
         "title": {
          "text": "Predicted PCE (%)"
         },
         "zeroline": false
        }
       }
      },
      "text/html": [
       "<div>                            <div id=\"1db383b1-3268-481a-a7eb-32f3f906a64a\" class=\"plotly-graph-div\" style=\"height:600px; width:800px;\"></div>            <script type=\"text/javascript\">                require([\"plotly\"], function(Plotly) {                    window.PLOTLYENV=window.PLOTLYENV || {};                                    if (document.getElementById(\"1db383b1-3268-481a-a7eb-32f3f906a64a\")) {                    Plotly.newPlot(                        \"1db383b1-3268-481a-a7eb-32f3f906a64a\",                        [{\"marker\":{\"color\":\"blue\",\"size\":12},\"mode\":\"markers\",\"name\":\"Test Data\",\"x\":[0.32,7.9,5.24,11.53,8.67,10.62,11.5,6.91,13.13,1.6,11.91,7.3,8.12,4.03,9.2,11.0,1.87,2.28,6.3,11.02,13.2,13.15,1.71,2.93,9.19,7.4,12.1,10.81,4.39,12.6,10.1,7.92,1.3,13.46,2.06,6.69,11.82,12.05,11.29,4.3,1.1,12.74,11.03,11.25,9.3,10.27,10.52,8.61,10.8,2.76,6.32,12.02,12.12,5.8,3.38,10.2,7.6,13.13,4.69,5.45,6.61,13.46,12.87,9.81,10.24,5.95,10.42,8.9,9.24,12.8,10.05,13.16,3.3,15.6,6.0,15.3,13.1,2.11,0.1,3.83,11.87,13.1,8.64,5.3,11.93,10.9,3.7,7.11,13.9,5.48,6.3,13.41,6.5,12.21,11.53,6.09,4.11,3.68,7.13,7.86,8.42,10.51,0.57,10.51,9.16,3.95,9.36,8.33,7.4,5.59,10.41,8.13,11.22,11.1,13.0,12.86,11.06,11.08,10.04,7.52,13.5,7.57,16.1,8.34,10.5,11.41,11.9,6.31,8.27,0.45,7.73,1.26],\"y\":[1.0281389951705933,5.70753812789917,4.717536926269531,8.320572853088379,5.923332691192627,11.61561393737793,12.335265159606934,6.021067142486572,11.025290489196777,2.7744510173797607,12.646994590759277,6.521644592285156,10.703715324401855,4.66859245300293,10.07358169555664,8.796724319458008,1.7998194694519043,3.8103511333465576,4.537687301635742,10.913715362548828,9.191183090209961,10.836466789245605,2.446244478225708,7.973711967468262,9.480629920959473,9.989459037780762,10.44969367980957,9.437332153320312,4.726040363311768,12.347184181213379,10.86880874633789,9.461813926696777,0.24871329963207245,12.055307388305664,3.2016050815582275,6.755402565002441,3.968485116958618,10.086737632751465,10.168375015258789,5.070962429046631,5.154872417449951,10.339869499206543,9.812573432922363,10.039472579956055,9.480629920959473,9.380459785461426,8.829626083374023,9.659602165222168,11.020341873168945,5.3932671546936035,10.624227523803711,12.159649848937988,12.348119735717773,6.206698894500732,7.9355340003967285,8.320939064025879,6.664672374725342,9.311027526855469,6.118876934051514,8.11820125579834,8.263303756713867,10.19308853149414,12.64433479309082,10.312886238098145,12.443169593811035,8.769949913024902,9.38731575012207,10.084428787231445,12.630071640014648,8.565478324890137,9.706289291381836,9.204992294311523,8.482577323913574,15.5449857711792,4.924259662628174,15.5449857711792,12.684918403625488,1.8196415901184082,1.2166353464126587,5.915347099304199,9.902243614196777,12.45241928100586,6.28988790512085,5.341242790222168,12.787007331848145,11.353121757507324,6.915903091430664,7.3245134353637695,11.419769287109375,6.504187107086182,10.737542152404785,12.347184181213379,8.964051246643066,10.123652458190918,11.349238395690918,9.172004699707031,4.482095718383789,5.002082824707031,4.625288486480713,6.028046607971191,7.838961124420166,11.783060073852539,2.4583795070648193,12.779364585876465,5.5283989906311035,6.010885715484619,9.602043151855469,9.6456298828125,8.809728622436523,4.655574798583984,11.748376846313477,8.561944007873535,10.76930046081543,6.390157699584961,12.100983619689941,11.959553718566895,7.505348205566406,10.354438781738281,6.9722580909729,11.15761947631836,12.488801956176758,8.57878589630127,12.06240177154541,10.085147857666016,11.163935661315918,10.354438781738281,10.39816951751709,6.407520294189453,8.719322204589844,1.593946099281311,7.814057350158691,2.1241378784179688],\"type\":\"scatter\"},{\"marker\":{\"color\":\"black\",\"size\":12},\"mode\":\"lines\",\"name\":\"Linear Fit\",\"text\":\"Fit\",\"x\":[0.1,0.42653061224489797,0.7530612244897958,1.079591836734694,1.4061224489795918,1.7326530612244897,2.059183673469388,2.3857142857142857,2.7122448979591836,3.0387755102040814,3.3653061224489793,3.691836734693877,4.018367346938775,4.3448979591836725,4.671428571428571,4.997959183673468,5.324489795918367,5.651020408163265,5.977551020408162,6.304081632653061,6.630612244897958,6.957142857142856,7.283673469387754,7.610204081632652,7.9367346938775505,8.263265306122449,8.589795918367345,8.916326530612244,9.242857142857142,9.56938775510204,9.895918367346937,10.222448979591835,10.548979591836734,10.875510204081632,11.20204081632653,11.528571428571427,11.855102040816325,12.181632653061223,12.508163265306122,12.834693877551018,13.161224489795917,13.487755102040815,13.814285714285713,14.140816326530611,14.467346938775508,14.793877551020406,15.120408163265305,15.446938775510203,15.773469387755101,16.1],\"y\":[0.1,0.42653061224489797,0.7530612244897958,1.079591836734694,1.4061224489795918,1.7326530612244897,2.059183673469388,2.3857142857142857,2.7122448979591836,3.0387755102040814,3.3653061224489793,3.691836734693877,4.018367346938775,4.3448979591836725,4.671428571428571,4.997959183673468,5.324489795918367,5.651020408163265,5.977551020408162,6.304081632653061,6.630612244897958,6.957142857142856,7.283673469387754,7.610204081632652,7.9367346938775505,8.263265306122449,8.589795918367345,8.916326530612244,9.242857142857142,9.56938775510204,9.895918367346937,10.222448979591835,10.548979591836734,10.875510204081632,11.20204081632653,11.528571428571427,11.855102040816325,12.181632653061223,12.508163265306122,12.834693877551018,13.161224489795917,13.487755102040815,13.814285714285713,14.140816326530611,14.467346938775508,14.793877551020406,15.120408163265305,15.446938775510203,15.773469387755101,16.1],\"type\":\"scatter\"}],                        {\"font\":{\"family\":\"Times New Roman\",\"size\":28},\"height\":600,\"hovermode\":\"closest\",\"showlegend\":true,\"template\":{\"data\":{\"barpolar\":[{\"marker\":{\"line\":{\"color\":\"#E5ECF6\",\"width\":0.5},\"pattern\":{\"fillmode\":\"overlay\",\"size\":10,\"solidity\":0.2}},\"type\":\"barpolar\"}],\"bar\":[{\"error_x\":{\"color\":\"#2a3f5f\"},\"error_y\":{\"color\":\"#2a3f5f\"},\"marker\":{\"line\":{\"color\":\"#E5ECF6\",\"width\":0.5},\"pattern\":{\"fillmode\":\"overlay\",\"size\":10,\"solidity\":0.2}},\"type\":\"bar\"}],\"carpet\":[{\"aaxis\":{\"endlinecolor\":\"#2a3f5f\",\"gridcolor\":\"white\",\"linecolor\":\"white\",\"minorgridcolor\":\"white\",\"startlinecolor\":\"#2a3f5f\"},\"baxis\":{\"endlinecolor\":\"#2a3f5f\",\"gridcolor\":\"white\",\"linecolor\":\"white\",\"minorgridcolor\":\"white\",\"startlinecolor\":\"#2a3f5f\"},\"type\":\"carpet\"}],\"choropleth\":[{\"colorbar\":{\"outlinewidth\":0,\"ticks\":\"\"},\"type\":\"choropleth\"}],\"contourcarpet\":[{\"colorbar\":{\"outlinewidth\":0,\"ticks\":\"\"},\"type\":\"contourcarpet\"}],\"contour\":[{\"colorbar\":{\"outlinewidth\":0,\"ticks\":\"\"},\"colorscale\":[[0.0,\"#0d0887\"],[0.1111111111111111,\"#46039f\"],[0.2222222222222222,\"#7201a8\"],[0.3333333333333333,\"#9c179e\"],[0.4444444444444444,\"#bd3786\"],[0.5555555555555556,\"#d8576b\"],[0.6666666666666666,\"#ed7953\"],[0.7777777777777778,\"#fb9f3a\"],[0.8888888888888888,\"#fdca26\"],[1.0,\"#f0f921\"]],\"type\":\"contour\"}],\"heatmapgl\":[{\"colorbar\":{\"outlinewidth\":0,\"ticks\":\"\"},\"colorscale\":[[0.0,\"#0d0887\"],[0.1111111111111111,\"#46039f\"],[0.2222222222222222,\"#7201a8\"],[0.3333333333333333,\"#9c179e\"],[0.4444444444444444,\"#bd3786\"],[0.5555555555555556,\"#d8576b\"],[0.6666666666666666,\"#ed7953\"],[0.7777777777777778,\"#fb9f3a\"],[0.8888888888888888,\"#fdca26\"],[1.0,\"#f0f921\"]],\"type\":\"heatmapgl\"}],\"heatmap\":[{\"colorbar\":{\"outlinewidth\":0,\"ticks\":\"\"},\"colorscale\":[[0.0,\"#0d0887\"],[0.1111111111111111,\"#46039f\"],[0.2222222222222222,\"#7201a8\"],[0.3333333333333333,\"#9c179e\"],[0.4444444444444444,\"#bd3786\"],[0.5555555555555556,\"#d8576b\"],[0.6666666666666666,\"#ed7953\"],[0.7777777777777778,\"#fb9f3a\"],[0.8888888888888888,\"#fdca26\"],[1.0,\"#f0f921\"]],\"type\":\"heatmap\"}],\"histogram2dcontour\":[{\"colorbar\":{\"outlinewidth\":0,\"ticks\":\"\"},\"colorscale\":[[0.0,\"#0d0887\"],[0.1111111111111111,\"#46039f\"],[0.2222222222222222,\"#7201a8\"],[0.3333333333333333,\"#9c179e\"],[0.4444444444444444,\"#bd3786\"],[0.5555555555555556,\"#d8576b\"],[0.6666666666666666,\"#ed7953\"],[0.7777777777777778,\"#fb9f3a\"],[0.8888888888888888,\"#fdca26\"],[1.0,\"#f0f921\"]],\"type\":\"histogram2dcontour\"}],\"histogram2d\":[{\"colorbar\":{\"outlinewidth\":0,\"ticks\":\"\"},\"colorscale\":[[0.0,\"#0d0887\"],[0.1111111111111111,\"#46039f\"],[0.2222222222222222,\"#7201a8\"],[0.3333333333333333,\"#9c179e\"],[0.4444444444444444,\"#bd3786\"],[0.5555555555555556,\"#d8576b\"],[0.6666666666666666,\"#ed7953\"],[0.7777777777777778,\"#fb9f3a\"],[0.8888888888888888,\"#fdca26\"],[1.0,\"#f0f921\"]],\"type\":\"histogram2d\"}],\"histogram\":[{\"marker\":{\"pattern\":{\"fillmode\":\"overlay\",\"size\":10,\"solidity\":0.2}},\"type\":\"histogram\"}],\"mesh3d\":[{\"colorbar\":{\"outlinewidth\":0,\"ticks\":\"\"},\"type\":\"mesh3d\"}],\"parcoords\":[{\"line\":{\"colorbar\":{\"outlinewidth\":0,\"ticks\":\"\"}},\"type\":\"parcoords\"}],\"pie\":[{\"automargin\":true,\"type\":\"pie\"}],\"scatter3d\":[{\"line\":{\"colorbar\":{\"outlinewidth\":0,\"ticks\":\"\"}},\"marker\":{\"colorbar\":{\"outlinewidth\":0,\"ticks\":\"\"}},\"type\":\"scatter3d\"}],\"scattercarpet\":[{\"marker\":{\"colorbar\":{\"outlinewidth\":0,\"ticks\":\"\"}},\"type\":\"scattercarpet\"}],\"scattergeo\":[{\"marker\":{\"colorbar\":{\"outlinewidth\":0,\"ticks\":\"\"}},\"type\":\"scattergeo\"}],\"scattergl\":[{\"marker\":{\"colorbar\":{\"outlinewidth\":0,\"ticks\":\"\"}},\"type\":\"scattergl\"}],\"scattermapbox\":[{\"marker\":{\"colorbar\":{\"outlinewidth\":0,\"ticks\":\"\"}},\"type\":\"scattermapbox\"}],\"scatterpolargl\":[{\"marker\":{\"colorbar\":{\"outlinewidth\":0,\"ticks\":\"\"}},\"type\":\"scatterpolargl\"}],\"scatterpolar\":[{\"marker\":{\"colorbar\":{\"outlinewidth\":0,\"ticks\":\"\"}},\"type\":\"scatterpolar\"}],\"scatter\":[{\"marker\":{\"colorbar\":{\"outlinewidth\":0,\"ticks\":\"\"}},\"type\":\"scatter\"}],\"scatterternary\":[{\"marker\":{\"colorbar\":{\"outlinewidth\":0,\"ticks\":\"\"}},\"type\":\"scatterternary\"}],\"surface\":[{\"colorbar\":{\"outlinewidth\":0,\"ticks\":\"\"},\"colorscale\":[[0.0,\"#0d0887\"],[0.1111111111111111,\"#46039f\"],[0.2222222222222222,\"#7201a8\"],[0.3333333333333333,\"#9c179e\"],[0.4444444444444444,\"#bd3786\"],[0.5555555555555556,\"#d8576b\"],[0.6666666666666666,\"#ed7953\"],[0.7777777777777778,\"#fb9f3a\"],[0.8888888888888888,\"#fdca26\"],[1.0,\"#f0f921\"]],\"type\":\"surface\"}],\"table\":[{\"cells\":{\"fill\":{\"color\":\"#EBF0F8\"},\"line\":{\"color\":\"white\"}},\"header\":{\"fill\":{\"color\":\"#C8D4E3\"},\"line\":{\"color\":\"white\"}},\"type\":\"table\"}]},\"layout\":{\"annotationdefaults\":{\"arrowcolor\":\"#2a3f5f\",\"arrowhead\":0,\"arrowwidth\":1},\"autotypenumbers\":\"strict\",\"coloraxis\":{\"colorbar\":{\"outlinewidth\":0,\"ticks\":\"\"}},\"colorscale\":{\"diverging\":[[0,\"#8e0152\"],[0.1,\"#c51b7d\"],[0.2,\"#de77ae\"],[0.3,\"#f1b6da\"],[0.4,\"#fde0ef\"],[0.5,\"#f7f7f7\"],[0.6,\"#e6f5d0\"],[0.7,\"#b8e186\"],[0.8,\"#7fbc41\"],[0.9,\"#4d9221\"],[1,\"#276419\"]],\"sequential\":[[0.0,\"#0d0887\"],[0.1111111111111111,\"#46039f\"],[0.2222222222222222,\"#7201a8\"],[0.3333333333333333,\"#9c179e\"],[0.4444444444444444,\"#bd3786\"],[0.5555555555555556,\"#d8576b\"],[0.6666666666666666,\"#ed7953\"],[0.7777777777777778,\"#fb9f3a\"],[0.8888888888888888,\"#fdca26\"],[1.0,\"#f0f921\"]],\"sequentialminus\":[[0.0,\"#0d0887\"],[0.1111111111111111,\"#46039f\"],[0.2222222222222222,\"#7201a8\"],[0.3333333333333333,\"#9c179e\"],[0.4444444444444444,\"#bd3786\"],[0.5555555555555556,\"#d8576b\"],[0.6666666666666666,\"#ed7953\"],[0.7777777777777778,\"#fb9f3a\"],[0.8888888888888888,\"#fdca26\"],[1.0,\"#f0f921\"]]},\"colorway\":[\"#636efa\",\"#EF553B\",\"#00cc96\",\"#ab63fa\",\"#FFA15A\",\"#19d3f3\",\"#FF6692\",\"#B6E880\",\"#FF97FF\",\"#FECB52\"],\"font\":{\"color\":\"#2a3f5f\"},\"geo\":{\"bgcolor\":\"white\",\"lakecolor\":\"white\",\"landcolor\":\"#E5ECF6\",\"showlakes\":true,\"showland\":true,\"subunitcolor\":\"white\"},\"hoverlabel\":{\"align\":\"left\"},\"hovermode\":\"closest\",\"mapbox\":{\"style\":\"light\"},\"paper_bgcolor\":\"white\",\"plot_bgcolor\":\"#E5ECF6\",\"polar\":{\"angularaxis\":{\"gridcolor\":\"white\",\"linecolor\":\"white\",\"ticks\":\"\"},\"bgcolor\":\"#E5ECF6\",\"radialaxis\":{\"gridcolor\":\"white\",\"linecolor\":\"white\",\"ticks\":\"\"}},\"scene\":{\"xaxis\":{\"backgroundcolor\":\"#E5ECF6\",\"gridcolor\":\"white\",\"gridwidth\":2,\"linecolor\":\"white\",\"showbackground\":true,\"ticks\":\"\",\"zerolinecolor\":\"white\"},\"yaxis\":{\"backgroundcolor\":\"#E5ECF6\",\"gridcolor\":\"white\",\"gridwidth\":2,\"linecolor\":\"white\",\"showbackground\":true,\"ticks\":\"\",\"zerolinecolor\":\"white\"},\"zaxis\":{\"backgroundcolor\":\"#E5ECF6\",\"gridcolor\":\"white\",\"gridwidth\":2,\"linecolor\":\"white\",\"showbackground\":true,\"ticks\":\"\",\"zerolinecolor\":\"white\"}},\"shapedefaults\":{\"line\":{\"color\":\"#2a3f5f\"}},\"ternary\":{\"aaxis\":{\"gridcolor\":\"white\",\"linecolor\":\"white\",\"ticks\":\"\"},\"baxis\":{\"gridcolor\":\"white\",\"linecolor\":\"white\",\"ticks\":\"\"},\"bgcolor\":\"#E5ECF6\",\"caxis\":{\"gridcolor\":\"white\",\"linecolor\":\"white\",\"ticks\":\"\"}},\"title\":{\"x\":0.05},\"xaxis\":{\"automargin\":true,\"gridcolor\":\"white\",\"linecolor\":\"white\",\"ticks\":\"\",\"title\":{\"standoff\":15},\"zerolinecolor\":\"white\",\"zerolinewidth\":2},\"yaxis\":{\"automargin\":true,\"gridcolor\":\"white\",\"linecolor\":\"white\",\"ticks\":\"\",\"title\":{\"standoff\":15},\"zerolinecolor\":\"white\",\"zerolinewidth\":2}}},\"title\":{\"text\":\"PCE\"},\"width\":800,\"xaxis\":{\"dtick\":2,\"gridwidth\":1,\"title\":{\"text\":\"Reported PCE (%)\"},\"zeroline\":false},\"yaxis\":{\"gridwidth\":1,\"title\":{\"text\":\"Predicted PCE (%)\"},\"zeroline\":false}},                        {\"responsive\": true}                    ).then(function(){\n",
       "                            \n",
       "var gd = document.getElementById('1db383b1-3268-481a-a7eb-32f3f906a64a');\n",
       "var x = new MutationObserver(function (mutations, observer) {{\n",
       "        var display = window.getComputedStyle(gd).display;\n",
       "        if (!display || display === 'none') {{\n",
       "            console.log([gd, 'removed!']);\n",
       "            Plotly.purge(gd);\n",
       "            observer.disconnect();\n",
       "        }}\n",
       "}});\n",
       "\n",
       "// Listen for the removal of the full notebook cells\n",
       "var notebookContainer = gd.closest('#notebook-container');\n",
       "if (notebookContainer) {{\n",
       "    x.observe(notebookContainer, {childList: true});\n",
       "}}\n",
       "\n",
       "// Listen for the clearing of the current output cell\n",
       "var outputEl = gd.closest('.output');\n",
       "if (outputEl) {{\n",
       "    x.observe(outputEl, {childList: true});\n",
       "}}\n",
       "\n",
       "                        })                };                });            </script>        </div>"
      ]
     },
     "metadata": {},
     "output_type": "display_data"
    }
   ],
   "source": [
    "from plotly.offline import iplot\n",
    "plotly.offline.init_notebook_mode(connected=True)\n",
    "\n",
    "layout0= go.Layout(title= \"PCE\", hovermode= 'closest',\n",
    "                   font = dict(family='Times New Roman',size=28),\n",
    "                   xaxis= dict(title= 'Reported PCE (%)',zeroline= False, gridwidth= 1, dtick=2),\n",
    "                   yaxis= dict(title= 'Predicted PCE (%)',zeroline= False, gridwidth= 1),#range=[-350,3750]),\n",
    "                   height=600,\n",
    "                   width=800,\n",
    "                   showlegend= True                 \n",
    ")\n",
    "\n",
    "fit  = np.linspace(min(y_test), max(y_test))\n",
    "trace0 = go.Scatter(x = y_test, y = pred, mode = 'markers', marker= dict(size= 12, color= 'blue'),name='Test Data')\n",
    "# trace1 = go.Scatter(x = test_outputs ,y = y_pred, mode = 'markers', text=test_inputs.index,marker= dict(size= 12, color= 'red'), \n",
    "#                     error_y = dict(type='data',array=y_std,visible=True),name='Testing Data')\n",
    "trace2 = go.Scatter(x = fit ,y = fit, mode = 'lines', marker= dict(size= 12, color= 'black'), text = 'Fit',name='Linear Fit')\n",
    "\n",
    "data = [trace0,trace2]\n",
    "fig= go.Figure(data, layout=layout0)\n",
    "iplot(fig)"
   ]
  },
  {
   "cell_type": "markdown",
   "metadata": {},
   "source": [
    "# Save the model"
   ]
  },
  {
   "cell_type": "code",
   "execution_count": null,
   "metadata": {},
   "outputs": [],
   "source": [
    "# import pickle\n",
    "# with open('rdkit_xgboost.pkl', 'wb') as f:\n",
    "#     pickle.dump(regressor, f)"
   ]
  },
  {
   "cell_type": "code",
   "execution_count": null,
   "metadata": {},
   "outputs": [],
   "source": []
  }
 ],
 "metadata": {
  "accelerator": "GPU",
  "colab": {
   "collapsed_sections": [],
   "machine_shape": "hm",
   "name": "Untitled6.ipynb",
   "provenance": []
  },
  "hide_input": false,
  "kernelspec": {
   "display_name": "Python 3 (ipykernel)",
   "language": "python",
   "name": "python3"
  },
  "language_info": {
   "codemirror_mode": {
    "name": "ipython",
    "version": 3
   },
   "file_extension": ".py",
   "mimetype": "text/x-python",
   "name": "python",
   "nbconvert_exporter": "python",
   "pygments_lexer": "ipython3",
   "version": "3.7.13"
  }
 },
 "nbformat": 4,
 "nbformat_minor": 1
}
