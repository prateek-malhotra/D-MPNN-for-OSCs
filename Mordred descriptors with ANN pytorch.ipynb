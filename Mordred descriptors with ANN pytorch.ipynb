{
 "cells": [
  {
   "cell_type": "markdown",
   "metadata": {},
   "source": [
    "# Importing libraries"
   ]
  },
  {
   "cell_type": "code",
   "execution_count": 1,
   "metadata": {},
   "outputs": [
    {
     "name": "stderr",
     "output_type": "stream",
     "text": [
      "C:\\Users\\prate\\anaconda3\\envs\\my-rdkit-env1\\lib\\site-packages\\tqdm\\auto.py:22: TqdmWarning: IProgress not found. Please update jupyter and ipywidgets. See https://ipywidgets.readthedocs.io/en/stable/user_install.html\n",
      "  from .autonotebook import tqdm as notebook_tqdm\n",
      "WARNING:root:No normalization for BCUT2D_MWHI\n",
      "WARNING:root:No normalization for BCUT2D_MWLOW\n",
      "WARNING:root:No normalization for BCUT2D_CHGHI\n",
      "WARNING:root:No normalization for BCUT2D_CHGLO\n",
      "WARNING:root:No normalization for BCUT2D_LOGPHI\n",
      "WARNING:root:No normalization for BCUT2D_LOGPLOW\n",
      "WARNING:root:No normalization for BCUT2D_MRHI\n",
      "WARNING:root:No normalization for BCUT2D_MRLOW\n"
     ]
    }
   ],
   "source": [
    "import os\n",
    "import chemprop\n",
    "import pandas as pd\n",
    "import numpy as np\n",
    "import matplotlib.pyplot as plt\n",
    "from matplotlib.offsetbox import AnchoredText\n",
    "from sklearn.metrics import mean_absolute_error, mean_squared_error\n",
    "from sklearn.decomposition import PCA              "
   ]
  },
  {
   "cell_type": "code",
   "execution_count": 2,
   "metadata": {},
   "outputs": [],
   "source": [
    "def plot_parity(y_true, y_pred, y_pred_unc=None):\n",
    "    \n",
    "    axmin = min(min(y_true), min(y_pred)) - 0.1*(max(y_true)-min(y_true))\n",
    "    axmax = max(max(y_true), max(y_pred)) + 0.1*(max(y_true)-min(y_true))\n",
    "    \n",
    "    mae = mean_absolute_error(y_true, y_pred)\n",
    "    rmse = mean_squared_error(y_true, y_pred, squared=False)\n",
    "    \n",
    "    plt.plot([axmin, axmax], [axmin, axmax], '--k')\n",
    "\n",
    "    plt.errorbar(y_true, y_pred, yerr=y_pred_unc, linewidth=0, marker='o', markeredgecolor='w', alpha=1, elinewidth=1)\n",
    "    \n",
    "    plt.xlim((axmin, axmax))\n",
    "    plt.ylim((axmin, axmax))\n",
    "    \n",
    "    ax = plt.gca()\n",
    "    ax.set_aspect('equal')\n",
    "    \n",
    "    at = AnchoredText(\n",
    "    f\"MAE = {mae:.2f}\\nRMSE = {rmse:.2f}\", prop=dict(size=10), frameon=True, loc='upper left')\n",
    "    at.patch.set_boxstyle(\"round,pad=0.,rounding_size=0.2\")\n",
    "    ax.add_artist(at)\n",
    "    \n",
    "    plt.xlabel('True')\n",
    "    plt.ylabel('Chemprop Predicted')\n",
    "    \n",
    "    plt.show()\n",
    "    \n",
    "    return"
   ]
  },
  {
   "cell_type": "markdown",
   "metadata": {},
   "source": [
    "# Generating Mordred descriptors"
   ]
  },
  {
   "cell_type": "code",
   "execution_count": 3,
   "metadata": {
    "id": "zO_eW3JMRpx9"
   },
   "outputs": [],
   "source": [
    "# import pandas as pd\n",
    "# import numpy as np\n",
    "\n",
    "# X_train = pd.read_csv('test_checkpoints_reg/fold_0/train_full.csv')\n",
    "# X_train = X_train.drop(['PCE_max(%)'], axis = 1)\n",
    "# X_train = X_train.drop([191])  # Mordred is  not able to calculate descriptors for acceptor at this posotion\n",
    "# X_train\n",
    "\n",
    "# X_val=pd.read_csv('test_checkpoints_reg/fold_0/val_full.csv')\n",
    "# X_val = X_val.drop(['PCE_max(%)'], axis = 1)\n",
    "# X_val\n",
    "\n",
    "# X_test=pd.read_csv('test_checkpoints_reg/fold_0/test_full.csv')\n",
    "# X_test = X_test.drop(['PCE_max(%)'], axis = 1)\n",
    "# X_test\n",
    "\n",
    "\n",
    "# from rdkit.Chem import Descriptors\n",
    "# from rdkit import Chem\n",
    "# from rdkit.Chem import Draw\n",
    "# from rdkit.Chem.Draw import IPythonConsole\n",
    "# from mordred import Calculator,descriptors\n",
    "\n",
    "\n",
    "# from rdkit.ML.Descriptors import MoleculeDescriptors\n",
    "# des_list = [x[0] for x in Descriptors._descList]\n",
    "\n",
    "# # Calculating Mordred descriptors for donors and acceptors\n",
    "# def mordred_des(d,a):\n",
    "\n",
    "#     smis = d   \n",
    "#     mols = []\n",
    "#     for smi in smis:\n",
    "#         mols.append(Chem.MolFromSmiles(smi))\n",
    "        \n",
    "#     calc_d = Calculator(descriptors,ignore_3D=True)\n",
    "    \n",
    "# #     return calc_d.pandas(mols)\n",
    "\n",
    "\n",
    "#     smis = a   \n",
    "#     mols = []\n",
    "#     for smi in smis:\n",
    "#         mols.append(Chem.MolFromSmiles(smi))\n",
    "        \n",
    "#     calc_a = Calculator(descriptors,ignore_3D=True)\n",
    "    \n",
    "#     return pd.concat([calc_d.pandas(mols),calc_a.pandas(mols)], axis=1)\n",
    "\n",
    "\n",
    "# D_smiles = X_train[\"p(SMILES)\"]\n",
    "# A_smiles = X_train[\"n(SMILES)\"]\n",
    "# X_train_mordred = mordred_des(D_smiles,A_smiles)\n",
    "\n",
    "# D_smiles = X_val[\"p(SMILES)\"]\n",
    "# A_smiles = X_val[\"n(SMILES)\"]\n",
    "# X_val_mordred = mordred_des(D_smiles,A_smiles)\n",
    "\n",
    "# D_smiles = X_test[\"p(SMILES)\"]\n",
    "# A_smiles = X_test[\"n(SMILES)\"]\n",
    "# X_test_mordred = mordred_des(D_smiles,A_smiles)\n",
    "\n",
    "# X_train_mordred.to_csv('X_train_mordred.csv')\n",
    "# X_val_mordred.to_csv('X_val_mordred.csv')\n",
    "# X_test_mordred.to_csv('X_test_mordred.csv')"
   ]
  },
  {
   "cell_type": "markdown",
   "metadata": {},
   "source": [
    "# Using saved files for Mordred descriptors"
   ]
  },
  {
   "cell_type": "code",
   "execution_count": 4,
   "metadata": {},
   "outputs": [
    {
     "name": "stderr",
     "output_type": "stream",
     "text": [
      "C:\\Users\\prate\\anaconda3\\envs\\my-rdkit-env1\\lib\\site-packages\\IPython\\core\\interactiveshell.py:3457: DtypeWarning: Columns (234,235,236,237,238,239,240,241,242,342,343,344,345,346,347,348,349,350,450,451,452,453,454,455,456,457,546,547,548,549,550,551,552,553,642,643,781,782,2669,2671,2674,2679,2697,2748,2750,2753,2758,2776,2839,2840,2841,2842,2843,2844,2845,2846,2847,2848,2849,2850,2851,2852,2855,2858,2860,2973,2974,2975,2983,3196) have mixed types.Specify dtype option on import or set low_memory=False.\n",
      "  exec(code_obj, self.user_global_ns, self.user_ns)\n"
     ]
    }
   ],
   "source": [
    "X_train_mordred = pd.read_csv('X_train_mordred.csv')\n",
    "X_val_mordred = pd.read_csv('X_val_mordred.csv')\n",
    "X_test_mordred = pd.read_csv('X_test_mordred.csv')"
   ]
  },
  {
   "cell_type": "code",
   "execution_count": 5,
   "metadata": {},
   "outputs": [],
   "source": [
    "y_train=pd.read_csv('test_checkpoints_reg/fold_0/train_full.csv')\n",
    "y_train = y_train.drop(['p(SMILES)', 'n(SMILES)'], axis = 1)\n",
    "y_train=y_train.drop([191])  # Mordred is  not able to calculate descriptors for acceptor at this posotion\n",
    "\n",
    "y_val=pd.read_csv('test_checkpoints_reg/fold_0/val_full.csv')\n",
    "y_val = y_val.drop(['p(SMILES)', 'n(SMILES)'], axis = 1)\n",
    "\n",
    "y_test=pd.read_csv('test_checkpoints_reg/fold_0/test_full.csv')\n",
    "y_test = y_test.drop(['p(SMILES)', 'n(SMILES)'], axis = 1)"
   ]
  },
  {
   "cell_type": "code",
   "execution_count": 6,
   "metadata": {},
   "outputs": [
    {
     "name": "stdout",
     "output_type": "stream",
     "text": [
      "Features with zero standard deviation : 367\n",
      "Features with correlation more than 0.8 : 2068\n"
     ]
    }
   ],
   "source": [
    "all_data = pd.concat([X_train_mordred,X_val_mordred,X_test_mordred])\n",
    "\n",
    "all_data=all_data.select_dtypes(include='number')  \n",
    "print('Features with zero standard deviation :',len(all_data.std()[all_data.std() == 0])) #displaying features with zero std deviation\n",
    "all_data=all_data.drop(all_data.std()[all_data.std() == 0].index.values, axis=1)  # Dropping features with zero std deviation\n",
    "all_data = all_data.replace([np.inf, -np.inf], np.nan)\n",
    "all_data = all_data.replace(np.nan,0)  #replace null values with zero\n",
    "\n",
    "def correlation(dataset, threshold):\n",
    "    col_corr = set()  # Set of all the names of correlated columns\n",
    "    corr_matrix = dataset.corr()\n",
    "    for i in range(len(corr_matrix.columns)):\n",
    "        for j in range(i):\n",
    "            if (corr_matrix.iloc[i, j]) > threshold: # we are interested in absolute coeff value\n",
    "                colname = corr_matrix.columns[i]  # getting the name of column\n",
    "                col_corr.add(colname)\n",
    "    return col_corr\n",
    "corr_features = correlation(all_data, 0.8)\n",
    "print('Features with correlation more than 0.8 :',len(set(corr_features)))\n",
    "all_data=all_data.drop(corr_features,axis=1)   # Dropping features with correlation more than 0.8\n",
    "\n",
    "X_train=X_train_mordred[all_data.columns]\n",
    "X_val=X_val_mordred[all_data.columns]\n",
    "X_test=X_test_mordred[all_data.columns]"
   ]
  },
  {
   "cell_type": "code",
   "execution_count": 7,
   "metadata": {},
   "outputs": [
    {
     "data": {
      "text/html": [
       "<div>\n",
       "<style scoped>\n",
       "    .dataframe tbody tr th:only-of-type {\n",
       "        vertical-align: middle;\n",
       "    }\n",
       "\n",
       "    .dataframe tbody tr th {\n",
       "        vertical-align: top;\n",
       "    }\n",
       "\n",
       "    .dataframe thead th {\n",
       "        text-align: right;\n",
       "    }\n",
       "</style>\n",
       "<table border=\"1\" class=\"dataframe\">\n",
       "  <thead>\n",
       "    <tr style=\"text-align: right;\">\n",
       "      <th></th>\n",
       "      <th>Unnamed: 0</th>\n",
       "      <th>ABC</th>\n",
       "      <th>nBase</th>\n",
       "      <th>VE2_A</th>\n",
       "      <th>nBridgehead</th>\n",
       "      <th>nB</th>\n",
       "      <th>nN</th>\n",
       "      <th>nO</th>\n",
       "      <th>nF</th>\n",
       "      <th>nCl</th>\n",
       "      <th>...</th>\n",
       "      <th>JGI2.1</th>\n",
       "      <th>JGI3.1</th>\n",
       "      <th>JGI4.1</th>\n",
       "      <th>JGI5.1</th>\n",
       "      <th>JGI6.1</th>\n",
       "      <th>JGI7.1</th>\n",
       "      <th>JGI8.1</th>\n",
       "      <th>JGI9.1</th>\n",
       "      <th>JGI10.1</th>\n",
       "      <th>TopoShapeIndex.1</th>\n",
       "    </tr>\n",
       "  </thead>\n",
       "  <tbody>\n",
       "  </tbody>\n",
       "</table>\n",
       "<p>0 rows × 328 columns</p>\n",
       "</div>"
      ],
      "text/plain": [
       "Empty DataFrame\n",
       "Columns: [Unnamed: 0, ABC, nBase, VE2_A, nBridgehead, nB, nN, nO, nF, nCl, AATS0dv, AATS0i, ATSC6dv, ATSC7dv, ATSC6d, ATSC1s, ATSC2s, ATSC3s, ATSC4s, ATSC5s, ATSC6s, ATSC7s, ATSC6Z, ATSC7Z, ATSC1se, ATSC2se, ATSC4se, ATSC6se, AATSC8d, MATS1dv, MATS1Z, MATS1se, MATS2se, MATS6se, MATS2pe, GATS1dv, GATS5dv, GATS7d, GATS3s, GATS4s, GATS5s, GATS4Z, GATS7Z, GATS8Z, GATS7v, GATS8v, GATS4se, GATS5se, GATS5pe, GATS5p, GATS7i, GATS8i, BCUTdv-1l, BCUTd-1h, BCUTd-1l, BCUTZ-1h, BCUTZ-1l, SM1_Dzv, nBondsT, C2SP1, C1SP2, C4SP3, NssssB, NdsCH, NaaaC, NssNH, NsssN, NaasN, NssO, NaaO, NssS, SssssB, SdssC, SssssC, SaaSe, MAXsCH3, MAXssCH2, MINsCH3, MINssCH2, MINaaCH, AETA_eta_L, AETA_eta_B, ETA_dAlpha_B, ETA_dBeta, SIC0, PEOE_VSA9, PEOE_VSA10, PEOE_VSA11, PEOE_VSA13, SlogP_VSA1, SlogP_VSA2, SlogP_VSA11, EState_VSA4, EState_VSA7, EState_VSA9, EState_VSA10, VSA_EState5, MDEC-12, MDEC-13, MDEC-22, ...]\n",
       "Index: []\n",
       "\n",
       "[0 rows x 328 columns]"
      ]
     },
     "execution_count": 7,
     "metadata": {},
     "output_type": "execute_result"
    }
   ],
   "source": [
    "X_train[np.isinf(X_train).any(1)]"
   ]
  },
  {
   "cell_type": "code",
   "execution_count": 8,
   "metadata": {},
   "outputs": [],
   "source": [
    "# Defining Metrics\n",
    "def R2Score(X,Y):\n",
    "    r2=metrics.r2_score(X,Y)\n",
    "    return r2\n",
    "def PearsonCoefficient(X, Y):\n",
    "    corr, _ = pearsonr(X,Y)\n",
    "    return corr\n",
    "def MSE(X,Y):\n",
    "    mse=mean_squared_error(X,Y)\n",
    "    return mse\n",
    "def RMSE(X,Y):\n",
    "    rmse=np.sqrt(mean_squared_error(X,Y))\n",
    "    return rmse\n",
    "def MAPE(X,Y):\n",
    "    mape=np.average(abs(np.array(X)-np.array(Y))/np.array(Y))*100\n",
    "    return mape\n",
    "\n",
    "\n",
    "from sklearn.metrics import r2_score\n",
    "import sklearn.metrics as metrics\n",
    "from scipy.stats.stats import pearsonr"
   ]
  },
  {
   "cell_type": "code",
   "execution_count": null,
   "metadata": {},
   "outputs": [],
   "source": []
  },
  {
   "cell_type": "code",
   "execution_count": 9,
   "metadata": {},
   "outputs": [],
   "source": [
    "import torch\n",
    "import torch.nn as nn\n",
    "import torch.optim as optim\n",
    "import pandas as pd\n",
    "from sklearn.preprocessing import StandardScaler\n"
   ]
  },
  {
   "cell_type": "code",
   "execution_count": 10,
   "metadata": {},
   "outputs": [],
   "source": [
    "# Normalize input variables using StandardScaler\n",
    "scaler = StandardScaler()\n",
    "X_train = scaler.fit_transform(X_train)\n",
    "X_val = scaler.transform(X_val)\n",
    "X_test = scaler.transform(X_test)"
   ]
  },
  {
   "cell_type": "code",
   "execution_count": 11,
   "metadata": {},
   "outputs": [
    {
     "data": {
      "text/plain": [
       "<torch._C.Generator at 0x2934a5923d0>"
      ]
     },
     "execution_count": 11,
     "metadata": {},
     "output_type": "execute_result"
    }
   ],
   "source": [
    "import torch.nn.functional as F\n",
    "class ANN(nn.Module):\n",
    "    \n",
    "    def __init__(self, input_size):\n",
    "        super(ANN, self).__init__()\n",
    "        self.layer1 = nn.Linear(input_size, 64)\n",
    "        self.layer2 = nn.Linear(64, 32)\n",
    "        self.out = nn.Linear(32, 1)\n",
    "    \n",
    "    def forward(self, x):\n",
    "        x = F.relu(self.layer1(x))\n",
    "        x = F.relu(self.layer2(x))\n",
    "        x = self.out(x)\n",
    "        return x\n",
    "\n",
    "\n",
    "torch.manual_seed(42)\n",
    "# ANN = ANN()\n",
    "# net=net.cuda()"
   ]
  },
  {
   "cell_type": "code",
   "execution_count": 12,
   "metadata": {},
   "outputs": [],
   "source": [
    "input_size = X_train.shape[1]\n",
    "model = ANN(input_size)\n",
    "\n",
    "learning_rate = 0.001\n",
    "criterion = nn.MSELoss()\n",
    "optimizer = optim.SGD(model.parameters(), lr=learning_rate)\n"
   ]
  },
  {
   "cell_type": "code",
   "execution_count": 13,
   "metadata": {},
   "outputs": [],
   "source": [
    "X_train = torch.tensor(X_train).type(torch.float32)\n",
    "y_train = torch.tensor(np.array(y_train)).type(torch.float32)\n",
    "\n",
    "X_val = torch.tensor(X_val).type(torch.float32)\n",
    "y_val = torch.tensor(np.array(y_val)).type(torch.float32)\n",
    "\n",
    "X_test = torch.tensor(X_test).type(torch.float32)\n",
    "y_test = torch.tensor(np.array(y_test)).type(torch.float32)"
   ]
  },
  {
   "cell_type": "code",
   "execution_count": 14,
   "metadata": {},
   "outputs": [],
   "source": [
    "# # Train the model\n",
    "# n_epochs = 400\n",
    "# train_losses = []\n",
    "# val_losses = []\n",
    "\n",
    "# for epoch in range(n_epochs):\n",
    "#     # Train the model\n",
    "#     model.train()\n",
    "#     optimizer.zero_grad()\n",
    "#     y_pred_train = model(X_train)\n",
    "#     loss_train = criterion(y_pred_train.squeeze(), y_train.squeeze())\n",
    "#     loss_train.backward()\n",
    "#     optimizer.step()\n",
    "#     train_losses.append(loss_train.item())\n",
    "\n",
    "#     # Evaluate the model on validation set\n",
    "#     model.eval()\n",
    "#     with torch.no_grad():\n",
    "#         y_pred_val = model(X_val)\n",
    "#         loss_val = criterion(y_pred_val.squeeze(), y_val.squeeze())\n",
    "#         val_losses.append(loss_val.item())\n",
    "\n",
    "#     # Print progress\n",
    "#     if epoch % 10 == 0:\n",
    "#         print(f\"Epoch {epoch} - Train Loss: {loss_train.item():.4f}, Validation Loss: {loss_val.item():.4f}\")"
   ]
  },
  {
   "cell_type": "code",
   "execution_count": 15,
   "metadata": {},
   "outputs": [
    {
     "name": "stdout",
     "output_type": "stream",
     "text": [
      "Epoch 0 - Train Loss: 76.0891, Validation Loss: 73.9795\n",
      "Epoch 10 - Train Loss: 69.9079, Validation Loss: 67.6977\n",
      "Epoch 20 - Train Loss: 62.0343, Validation Loss: 59.6618\n",
      "Epoch 30 - Train Loss: 50.1707, Validation Loss: 47.6218\n",
      "Epoch 40 - Train Loss: 32.3721, Validation Loss: 30.1629\n",
      "Epoch 50 - Train Loss: 15.6299, Validation Loss: 15.2572\n",
      "Epoch 60 - Train Loss: 9.5473, Validation Loss: 10.5085\n",
      "Epoch 70 - Train Loss: 7.8393, Validation Loss: 9.1286\n",
      "Epoch 80 - Train Loss: 7.0111, Validation Loss: 8.3952\n",
      "Epoch 90 - Train Loss: 6.5074, Validation Loss: 7.9212\n",
      "Epoch 100 - Train Loss: 6.1614, Validation Loss: 7.5896\n",
      "Epoch 110 - Train Loss: 5.9048, Validation Loss: 7.3397\n",
      "Epoch 120 - Train Loss: 5.7016, Validation Loss: 7.1424\n",
      "Epoch 130 - Train Loss: 5.5343, Validation Loss: 6.9861\n",
      "Epoch 140 - Train Loss: 5.3911, Validation Loss: 6.8538\n",
      "Epoch 150 - Train Loss: 5.2661, Validation Loss: 6.7408\n",
      "Epoch 160 - Train Loss: 5.1554, Validation Loss: 6.6446\n",
      "Epoch 170 - Train Loss: 5.0573, Validation Loss: 6.5610\n",
      "Epoch 180 - Train Loss: 4.9689, Validation Loss: 6.4894\n",
      "Epoch 190 - Train Loss: 4.8884, Validation Loss: 6.4290\n",
      "Epoch 200 - Train Loss: 4.8136, Validation Loss: 6.3759\n",
      "Epoch 210 - Train Loss: 4.7440, Validation Loss: 6.3289\n",
      "Epoch 220 - Train Loss: 4.6791, Validation Loss: 6.2876\n",
      "Epoch 230 - Train Loss: 4.6183, Validation Loss: 6.2510\n",
      "Epoch 240 - Train Loss: 4.5611, Validation Loss: 6.2181\n",
      "Epoch 250 - Train Loss: 4.5071, Validation Loss: 6.1891\n",
      "Epoch 260 - Train Loss: 4.4564, Validation Loss: 6.1627\n",
      "Epoch 270 - Train Loss: 4.4084, Validation Loss: 6.1380\n",
      "Epoch 280 - Train Loss: 4.3630, Validation Loss: 6.1164\n",
      "Epoch 290 - Train Loss: 4.3198, Validation Loss: 6.0967\n",
      "Epoch 300 - Train Loss: 4.2782, Validation Loss: 6.0781\n",
      "Epoch 310 - Train Loss: 4.2382, Validation Loss: 6.0607\n",
      "Epoch 320 - Train Loss: 4.1996, Validation Loss: 6.0446\n",
      "Epoch 330 - Train Loss: 4.1626, Validation Loss: 6.0306\n",
      "Epoch 340 - Train Loss: 4.1269, Validation Loss: 6.0174\n",
      "Epoch 350 - Train Loss: 4.0920, Validation Loss: 6.0059\n",
      "Epoch 360 - Train Loss: 4.0583, Validation Loss: 5.9954\n",
      "Epoch 370 - Train Loss: 4.0256, Validation Loss: 5.9868\n",
      "Epoch 380 - Train Loss: 3.9938, Validation Loss: 5.9799\n",
      "Epoch 390 - Train Loss: 3.9630, Validation Loss: 5.9743\n"
     ]
    }
   ],
   "source": [
    "# Train the model\n",
    "n_epochs = 400\n",
    "train_losses = []\n",
    "val_losses = []\n",
    "patience = 10  # number of epochs to wait for validation loss improvement before stopping early\n",
    "best_val_loss = float('inf')\n",
    "best_model = None\n",
    "no_improvement_count = 0  # count of epochs with no improvement in validation loss\n",
    "\n",
    "for epoch in range(n_epochs):\n",
    "    # Train the model\n",
    "    model.train()\n",
    "    optimizer.zero_grad()\n",
    "    y_pred_train = model(X_train)\n",
    "    loss_train = criterion(y_pred_train.squeeze(), y_train.squeeze())\n",
    "    loss_train.backward()\n",
    "    optimizer.step()\n",
    "    train_losses.append(loss_train.item())\n",
    "\n",
    "    # Evaluate the model on validation set\n",
    "    model.eval()\n",
    "    with torch.no_grad():\n",
    "        y_pred_val = model(X_val)\n",
    "        loss_val = criterion(y_pred_val.squeeze(), y_val.squeeze())\n",
    "        val_losses.append(loss_val.item())\n",
    "\n",
    "    # Print progress\n",
    "    if epoch % 10 == 0:\n",
    "        print(f\"Epoch {epoch} - Train Loss: {loss_train.item():.4f}, Validation Loss: {loss_val.item():.4f}\")\n",
    "        "
   ]
  },
  {
   "cell_type": "code",
   "execution_count": 16,
   "metadata": {},
   "outputs": [
    {
     "name": "stdout",
     "output_type": "stream",
     "text": [
      "Test Loss: 4.3056\n"
     ]
    }
   ],
   "source": [
    "# Load the best model (based on validation loss) and evaluate on test data\n",
    "model.eval()\n",
    "with torch.no_grad():\n",
    "    y_pred_test = model(X_test)\n",
    "    loss_test = criterion(y_pred_test.squeeze(), y_test.squeeze())\n",
    "print(f\"Test Loss: {loss_test.item():.4f}\")"
   ]
  },
  {
   "cell_type": "code",
   "execution_count": 17,
   "metadata": {},
   "outputs": [
    {
     "data": {
      "image/png": "[encoded data removed]",
      "text/plain": [
       "<Figure size 432x288 with 1 Axes>"
      ]
     },
     "metadata": {
      "needs_background": "light"
     },
     "output_type": "display_data"
    }
   ],
   "source": [
    "# Plot the training and validation loss curves\n",
    "import matplotlib.pyplot as plt\n",
    "plt.plot(train_losses, label='Train')\n",
    "plt.plot(val_losses, label='Validation')\n",
    "plt.xlabel('Epoch')\n",
    "plt.ylabel('Loss')\n",
    "plt.legend()\n",
    "plt.show()"
   ]
  },
  {
   "cell_type": "code",
   "execution_count": 18,
   "metadata": {},
   "outputs": [],
   "source": [
    "y_pred_test = model(torch.Tensor(X_test))"
   ]
  },
  {
   "cell_type": "code",
   "execution_count": 19,
   "metadata": {},
   "outputs": [],
   "source": [
    "y_test = y_test.reshape(132)\n",
    "y_pred_test = y_pred_test.reshape(132)"
   ]
  },
  {
   "cell_type": "code",
   "execution_count": 20,
   "metadata": {},
   "outputs": [
    {
     "data": {
      "text/plain": [
       "<matplotlib.collections.PathCollection at 0x2937512af48>"
      ]
     },
     "execution_count": 20,
     "metadata": {},
     "output_type": "execute_result"
    },
    {
     "data": {
      "image/png": "[encoded data removed]",
      "text/plain": [
       "<Figure size 432x288 with 1 Axes>"
      ]
     },
     "metadata": {
      "needs_background": "light"
     },
     "output_type": "display_data"
    }
   ],
   "source": [
    "y_test = y_test.detach().numpy()\n",
    "y_pred_test = y_pred_test.detach().numpy()\n",
    "plt.scatter(y_test,y_pred_test)"
   ]
  },
  {
   "cell_type": "code",
   "execution_count": 21,
   "metadata": {},
   "outputs": [
    {
     "name": "stdout",
     "output_type": "stream",
     "text": [
      "R2 Score:  0.704845438958674\n"
     ]
    }
   ],
   "source": [
    "print('R2 Score: ',R2Score(y_test, y_pred_test))"
   ]
  },
  {
   "cell_type": "code",
   "execution_count": 22,
   "metadata": {},
   "outputs": [
    {
     "data": {
      "text/plain": [
       "0.8406642861203807"
      ]
     },
     "execution_count": 22,
     "metadata": {},
     "output_type": "execute_result"
    }
   ],
   "source": [
    "PearsonCoefficient(y_test, y_pred_test)"
   ]
  },
  {
   "cell_type": "code",
   "execution_count": 23,
   "metadata": {},
   "outputs": [
    {
     "data": {
      "text/plain": [
       "2.0749881"
      ]
     },
     "execution_count": 23,
     "metadata": {},
     "output_type": "execute_result"
    }
   ],
   "source": [
    "import numpy as np\n",
    "RMSE(y_test, y_pred_test)"
   ]
  },
  {
   "cell_type": "code",
   "execution_count": null,
   "metadata": {},
   "outputs": [],
   "source": []
  }
 ],
 "metadata": {
  "accelerator": "GPU",
  "colab": {
   "collapsed_sections": [],
   "machine_shape": "hm",
   "name": "Untitled6.ipynb",
   "provenance": []
  },
  "hide_input": false,
  "kernelspec": {
   "display_name": "Python 3 (ipykernel)",
   "language": "python",
   "name": "python3"
  },
  "language_info": {
   "codemirror_mode": {
    "name": "ipython",
    "version": 3
   },
   "file_extension": ".py",
   "mimetype": "text/x-python",
   "name": "python",
   "nbconvert_exporter": "python",
   "pygments_lexer": "ipython3",
   "version": "3.7.13"
  }
 },
 "nbformat": 4,
 "nbformat_minor": 1
}
