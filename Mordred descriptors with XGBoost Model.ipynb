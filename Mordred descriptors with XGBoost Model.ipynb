{
 "cells": [
  {
   "cell_type": "markdown",
   "metadata": {},
   "source": [
    "# Importing libraries"
   ]
  },
  {
   "cell_type": "code",
   "execution_count": 1,
   "metadata": {},
   "outputs": [
    {
     "name": "stderr",
     "output_type": "stream",
     "text": [
      "C:\\Users\\prate\\anaconda3\\envs\\my-rdkit-env1\\lib\\site-packages\\tqdm\\auto.py:22: TqdmWarning: IProgress not found. Please update jupyter and ipywidgets. See https://ipywidgets.readthedocs.io/en/stable/user_install.html\n",
      "  from .autonotebook import tqdm as notebook_tqdm\n",
      "WARNING:root:No normalization for BCUT2D_MWHI\n",
      "WARNING:root:No normalization for BCUT2D_MWLOW\n",
      "WARNING:root:No normalization for BCUT2D_CHGHI\n",
      "WARNING:root:No normalization for BCUT2D_CHGLO\n",
      "WARNING:root:No normalization for BCUT2D_LOGPHI\n",
      "WARNING:root:No normalization for BCUT2D_LOGPLOW\n",
      "WARNING:root:No normalization for BCUT2D_MRHI\n",
      "WARNING:root:No normalization for BCUT2D_MRLOW\n"
     ]
    }
   ],
   "source": [
    "import os\n",
    "import chemprop\n",
    "import pandas as pd\n",
    "import numpy as np\n",
    "import matplotlib.pyplot as plt\n",
    "from matplotlib.offsetbox import AnchoredText\n",
    "from sklearn.metrics import mean_absolute_error, mean_squared_error\n",
    "from sklearn.decomposition import PCA"
   ]
  },
  {
   "cell_type": "code",
   "execution_count": 2,
   "metadata": {},
   "outputs": [],
   "source": [
    "def plot_parity(y_true, y_pred, y_pred_unc=None):\n",
    "    \n",
    "    axmin = min(min(y_true), min(y_pred)) - 0.1*(max(y_true)-min(y_true))\n",
    "    axmax = max(max(y_true), max(y_pred)) + 0.1*(max(y_true)-min(y_true))\n",
    "    \n",
    "    mae = mean_absolute_error(y_true, y_pred)\n",
    "    rmse = mean_squared_error(y_true, y_pred, squared=False)\n",
    "    \n",
    "    plt.plot([axmin, axmax], [axmin, axmax], '--k')\n",
    "\n",
    "    plt.errorbar(y_true, y_pred, yerr=y_pred_unc, linewidth=0, marker='o', markeredgecolor='w', alpha=1, elinewidth=1)\n",
    "    \n",
    "    plt.xlim((axmin, axmax))\n",
    "    plt.ylim((axmin, axmax))\n",
    "    \n",
    "    ax = plt.gca()\n",
    "    ax.set_aspect('equal')\n",
    "    \n",
    "    at = AnchoredText(\n",
    "    f\"MAE = {mae:.2f}\\nRMSE = {rmse:.2f}\", prop=dict(size=10), frameon=True, loc='upper left')\n",
    "    at.patch.set_boxstyle(\"round,pad=0.,rounding_size=0.2\")\n",
    "    ax.add_artist(at)\n",
    "    \n",
    "    plt.xlabel('True')\n",
    "    plt.ylabel('Chemprop Predicted')\n",
    "    \n",
    "    plt.show()\n",
    "    \n",
    "    return"
   ]
  },
  {
   "cell_type": "markdown",
   "metadata": {},
   "source": [
    "# Generate Mordred descriptors"
   ]
  },
  {
   "cell_type": "code",
   "execution_count": 3,
   "metadata": {},
   "outputs": [],
   "source": [
    "# import pandas as pd\n",
    "# import numpy as np\n",
    "\n",
    "# X_train = pd.read_csv('test_checkpoints_reg/fold_0/train_full.csv')\n",
    "# X_train = X_train.drop(['PCE_max(%)'], axis = 1)\n",
    "# X_train = X_train.drop([191])  # Mordred is  not able to calculate descriptors for acceptor at this posotion\n",
    "# X_train\n",
    "\n",
    "# X_val=pd.read_csv('test_checkpoints_reg/fold_0/val_full.csv')\n",
    "# X_val = X_val.drop(['PCE_max(%)'], axis = 1)\n",
    "# X_val\n",
    "\n",
    "# X_test=pd.read_csv('test_checkpoints_reg/fold_0/test_full.csv')\n",
    "# X_test = X_test.drop(['PCE_max(%)'], axis = 1)\n",
    "# X_test\n",
    "\n",
    "\n",
    "# from rdkit.Chem import Descriptors\n",
    "# from rdkit import Chem\n",
    "# from rdkit.Chem import Draw\n",
    "# from rdkit.Chem.Draw import IPythonConsole\n",
    "# from mordred import Calculator,descriptors\n",
    "\n",
    "\n",
    "# from rdkit.ML.Descriptors import MoleculeDescriptors\n",
    "# des_list = [x[0] for x in Descriptors._descList]\n",
    "\n",
    "# # Calculating Mordred descriptors for donors and acceptors\n",
    "# def mordred_des(d,a):\n",
    "\n",
    "#     smis = d   \n",
    "#     mols = []\n",
    "#     for smi in smis:\n",
    "#         mols.append(Chem.MolFromSmiles(smi))\n",
    "        \n",
    "#     calc_d = Calculator(descriptors,ignore_3D=True)\n",
    "    \n",
    "# #     return calc_d.pandas(mols)\n",
    "\n",
    "\n",
    "#     smis = a   \n",
    "#     mols = []\n",
    "#     for smi in smis:\n",
    "#         mols.append(Chem.MolFromSmiles(smi))\n",
    "        \n",
    "#     calc_a = Calculator(descriptors,ignore_3D=True)\n",
    "    \n",
    "#     return pd.concat([calc_d.pandas(mols),calc_a.pandas(mols)], axis=1)\n",
    "\n",
    "\n",
    "# D_smiles = X_train[\"p(SMILES)\"]\n",
    "# A_smiles = X_train[\"n(SMILES)\"]\n",
    "# X_train_mordred = mordred_des(D_smiles,A_smiles)\n",
    "\n",
    "# D_smiles = X_val[\"p(SMILES)\"]\n",
    "# A_smiles = X_val[\"n(SMILES)\"]\n",
    "# X_val_mordred = mordred_des(D_smiles,A_smiles)\n",
    "\n",
    "# D_smiles = X_test[\"p(SMILES)\"]\n",
    "# A_smiles = X_test[\"n(SMILES)\"]\n",
    "# X_test_mordred = mordred_des(D_smiles,A_smiles)\n",
    "\n",
    "# X_train_mordred.to_csv('X_train_mordred.csv')\n",
    "# X_val_mordred.to_csv('X_val_mordred.csv')\n",
    "# X_test_mordred.to_csv('X_test_mordred.csv')\n"
   ]
  },
  {
   "cell_type": "markdown",
   "metadata": {},
   "source": [
    "# Read saved mordred descriptors file"
   ]
  },
  {
   "cell_type": "code",
   "execution_count": 4,
   "metadata": {},
   "outputs": [
    {
     "name": "stderr",
     "output_type": "stream",
     "text": [
      "C:\\Users\\prate\\anaconda3\\envs\\my-rdkit-env1\\lib\\site-packages\\IPython\\core\\interactiveshell.py:3457: DtypeWarning: Columns (234,235,236,237,238,239,240,241,242,342,343,344,345,346,347,348,349,350,450,451,452,453,454,455,456,457,546,547,548,549,550,551,552,553,642,643,781,782,2669,2671,2674,2679,2697,2748,2750,2753,2758,2776,2839,2840,2841,2842,2843,2844,2845,2846,2847,2848,2849,2850,2851,2852,2855,2858,2860,2973,2974,2975,2983,3196) have mixed types.Specify dtype option on import or set low_memory=False.\n",
      "  exec(code_obj, self.user_global_ns, self.user_ns)\n"
     ]
    }
   ],
   "source": [
    "X_train_mordred = pd.read_csv('X_train_mordred.csv')\n",
    "X_val_mordred = pd.read_csv('X_val_mordred.csv')\n",
    "X_test_mordred = pd.read_csv('X_test_mordred.csv')"
   ]
  },
  {
   "cell_type": "code",
   "execution_count": 5,
   "metadata": {},
   "outputs": [],
   "source": [
    "y_train=pd.read_csv('test_checkpoints_reg/fold_0/train_full.csv')\n",
    "y_train = y_train.drop(['p(SMILES)', 'n(SMILES)'], axis = 1)\n",
    "y_train=y_train.drop([191])  # Mordred is  not able to calculate descriptors for acceptor at this posotion\n",
    "\n",
    "y_val=pd.read_csv('test_checkpoints_reg/fold_0/val_full.csv')\n",
    "y_val = y_val.drop(['p(SMILES)', 'n(SMILES)'], axis = 1)\n",
    "\n",
    "y_test=pd.read_csv('test_checkpoints_reg/fold_0/test_full.csv')\n",
    "y_test = y_test.drop(['p(SMILES)', 'n(SMILES)'], axis = 1)"
   ]
  },
  {
   "cell_type": "code",
   "execution_count": 6,
   "metadata": {},
   "outputs": [
    {
     "name": "stdout",
     "output_type": "stream",
     "text": [
      "Features with zero standard deviation : 367\n",
      "Features with correlation more than 0.8 : 2068\n"
     ]
    }
   ],
   "source": [
    "all_data = pd.concat([X_train_mordred,X_val_mordred,X_test_mordred])\n",
    "\n",
    "all_data=all_data.select_dtypes(include='number')  \n",
    "print('Features with zero standard deviation :',len(all_data.std()[all_data.std() == 0])) #displaying features with zero std deviation\n",
    "all_data=all_data.drop(all_data.std()[all_data.std() == 0].index.values, axis=1)  # Dropping features with zero std deviation\n",
    "all_data = all_data.replace([np.inf, -np.inf], np.nan)\n",
    "all_data = all_data.replace(np.nan,0)  #replace null values with zero\n",
    "\n",
    "def correlation(dataset, threshold):\n",
    "    col_corr = set()  # Set of all the names of correlated columns\n",
    "    corr_matrix = dataset.corr()\n",
    "    for i in range(len(corr_matrix.columns)):\n",
    "        for j in range(i):\n",
    "            if (corr_matrix.iloc[i, j]) > threshold: # we are interested in absolute coeff value\n",
    "                colname = corr_matrix.columns[i]  # getting the name of column\n",
    "                col_corr.add(colname)\n",
    "    return col_corr\n",
    "corr_features = correlation(all_data, 0.8)\n",
    "print('Features with correlation more than 0.8 :',len(set(corr_features)))\n",
    "all_data=all_data.drop(corr_features,axis=1)   # Dropping features with correlation more than 0.8\n",
    "\n",
    "X_train_mordred=X_train_mordred[all_data.columns]\n",
    "X_val_mordred=X_val_mordred[all_data.columns]\n",
    "X_test_mordred=X_test_mordred[all_data.columns]"
   ]
  },
  {
   "cell_type": "code",
   "execution_count": null,
   "metadata": {},
   "outputs": [],
   "source": [
    "# Defining Metrics\n",
    "def R2Score(X,Y):\n",
    "    r2=metrics.r2_score(X,Y)\n",
    "    return r2\n",
    "def PearsonCoefficient(X, Y):\n",
    "    corr, _ = pearsonr(X,Y)\n",
    "    return corr\n",
    "def MSE(X,Y):\n",
    "    mse=mean_squared_error(X,Y)\n",
    "    return mse\n",
    "def RMSE(X,Y):\n",
    "    rmse=np.sqrt(mean_squared_error(X,Y))\n",
    "    return rmse\n",
    "def MAPE(X,Y):\n",
    "    mape=np.average(abs(np.array(X)-np.array(Y))/np.array(Y))*100\n",
    "    return mape\n",
    "\n",
    "\n",
    "from sklearn.metrics import r2_score\n",
    "import sklearn.metrics as metrics\n",
    "from scipy.stats.stats import pearsonr"
   ]
  },
  {
   "cell_type": "code",
   "execution_count": null,
   "metadata": {},
   "outputs": [],
   "source": [
    "from sklearn.model_selection import GridSearchCV\n",
    "# Create the grid\n",
    "param_grid = {'n_estimators': [50,100,150,200,250,300],\n",
    "          'learning_rate': [0.01, 0.05, 0.1],\n",
    "          'max_depth': [3, 5, 7],\n",
    "          'subsample': [0.6, 0.8, 1],\n",
    "          'colsample_bytree': [0.6, 0.8, 1]}\n",
    "print(param_grid)"
   ]
  },
  {
   "cell_type": "code",
   "execution_count": null,
   "metadata": {},
   "outputs": [],
   "source": [
    "from xgboost.sklearn import XGBRegressor\n",
    "xgb = XGBRegressor()\n",
    "tune_xgb = GridSearchCV(estimator=xgb, param_grid=param_grid, scoring='neg_mean_squared_error', n_jobs=-1, verbose=3)\n",
    "tune_xgb.fit(X_train_mordred, y_train)\n",
    "# print clf.best_score_\n",
    "tune_xgb.best_params_"
   ]
  },
  {
   "cell_type": "code",
   "execution_count": null,
   "metadata": {},
   "outputs": [],
   "source": [
    "# from sklearn.ensemble import RandomForestRegressor\n",
    " \n",
    "#  # create regressor object\n",
    "# regressor = RandomForestRegressor(random_state = 42)\n",
    " \n",
    "# # fit the regressor with x and y data\n",
    "# regressor.fit(X_train_mordred, y_train) \n",
    "\n",
    "# pred = regressor.predict(X_test_mordred)\n",
    "\n",
    "# y_test = y_test.to_numpy().ravel()"
   ]
  },
  {
   "cell_type": "code",
   "execution_count": null,
   "metadata": {},
   "outputs": [],
   "source": [
    "from sklearn.metrics import mean_absolute_error, mean_squared_error\n",
    "import matplotlib.pyplot as plt\n",
    " \n",
    " # create regressor object\n",
    "regressor = XGBRegressor(**tune_xgb.best_params_,random_state = 42)\n",
    " \n",
    "# fit the regressor with x and y data\n",
    "regressor.fit(X_train_mordred, y_train) \n",
    "\n",
    "pred = regressor.predict(X_test_mordred)\n",
    "y_test = y_test.to_numpy().ravel()"
   ]
  },
  {
   "cell_type": "markdown",
   "metadata": {},
   "source": [
    "# Or use the saved model"
   ]
  },
  {
   "cell_type": "code",
   "execution_count": null,
   "metadata": {},
   "outputs": [],
   "source": [
    "import pickle\n",
    "with open('./Models/mordred_xgboost.pkl', 'rb') as f:\n",
    "    regressor = pickle.load(f)\n",
    "    \n",
    "# fit the regressor with x and y data\n",
    "regressor.fit(X_train_mordred, y_train) \n",
    "\n",
    "pred = regressor.predict(X_test_mordred)\n",
    "y_test = y_test.to_numpy().ravel()"
   ]
  },
  {
   "cell_type": "code",
   "execution_count": null,
   "metadata": {},
   "outputs": [],
   "source": [
    "plot_parity(y_test, pred)"
   ]
  },
  {
   "cell_type": "code",
   "execution_count": null,
   "metadata": {},
   "outputs": [],
   "source": [
    "PearsonCoefficient(y_test, pred)"
   ]
  },
  {
   "cell_type": "code",
   "execution_count": null,
   "metadata": {},
   "outputs": [],
   "source": [
    "R2Score(y_test, pred)"
   ]
  },
  {
   "cell_type": "code",
   "execution_count": null,
   "metadata": {},
   "outputs": [],
   "source": [
    "import numpy as np\n",
    "RMSE(y_test, pred)"
   ]
  },
  {
   "cell_type": "code",
   "execution_count": null,
   "metadata": {},
   "outputs": [],
   "source": [
    "import plotly\n",
    "import plotly.graph_objs as go\n",
    "from plotly.offline import iplot\n",
    "plotly.offline.init_notebook_mode(connected=True)\n",
    "\n",
    "layout0= go.Layout(title= \"PCE\", hovermode= 'closest',\n",
    "                   font = dict(family='Times New Roman',size=28),\n",
    "                   xaxis= dict(title= 'Reported PCE (%)',zeroline= False, gridwidth= 2, dtick=2),\n",
    "                   yaxis= dict(title= 'Predicted PCE (%)',zeroline= False, gridwidth= 2),#range=[-350,3750]),\n",
    "                   height=600,\n",
    "                   width=800,\n",
    "                   showlegend= True                 \n",
    ")\n",
    "\n",
    "fit  = np.linspace(min(y_test), max(y_test))\n",
    "trace0 = go.Scatter(x = y_test, y = pred, mode = 'markers', marker= dict(size= 12, color= 'blue'),name='Test Data')\n",
    "# trace1 = go.Scatter(x = test_outputs ,y = y_pred, mode = 'markers', text=test_inputs.index,marker= dict(size= 12, color= 'red'), \n",
    "#                     error_y = dict(type='data',array=y_std,visible=True),name='Testing Data')\n",
    "trace2 = go.Scatter(x = fit ,y = fit, mode = 'lines', marker= dict(size= 12, color= 'black'), text = 'Fit',name='Linear Fit')\n",
    "\n",
    "data = [trace0,trace2]\n",
    "fig= go.Figure(data, layout=layout0)\n",
    "iplot(fig)"
   ]
  },
  {
   "cell_type": "markdown",
   "metadata": {},
   "source": [
    "# Save the model"
   ]
  },
  {
   "cell_type": "code",
   "execution_count": null,
   "metadata": {},
   "outputs": [],
   "source": [
    "# import pickle\n",
    "# with open('mordred_xgboost.pkl', 'wb') as f:\n",
    "#     pickle.dump(regressor, f)"
   ]
  },
  {
   "cell_type": "code",
   "execution_count": null,
   "metadata": {},
   "outputs": [],
   "source": []
  }
 ],
 "metadata": {
  "accelerator": "GPU",
  "colab": {
   "collapsed_sections": [],
   "machine_shape": "hm",
   "name": "Untitled6.ipynb",
   "provenance": []
  },
  "hide_input": false,
  "kernelspec": {
   "display_name": "Python 3 (ipykernel)",
   "language": "python",
   "name": "python3"
  },
  "language_info": {
   "codemirror_mode": {
    "name": "ipython",
    "version": 3
   },
   "file_extension": ".py",
   "mimetype": "text/x-python",
   "name": "python",
   "nbconvert_exporter": "python",
   "pygments_lexer": "ipython3",
   "version": "3.7.13"
  }
 },
 "nbformat": 4,
 "nbformat_minor": 1
}
