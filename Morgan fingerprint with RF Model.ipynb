{
 "cells": [
  {
   "cell_type": "markdown",
   "metadata": {},
   "source": [
    "# Importing libraries"
   ]
  },
  {
   "cell_type": "code",
   "execution_count": 1,
   "metadata": {},
   "outputs": [
    {
     "name": "stderr",
     "output_type": "stream",
     "text": [
      "C:\\Users\\prate\\anaconda3\\envs\\chemprop\\lib\\site-packages\\tqdm\\auto.py:22: TqdmWarning: IProgress not found. Please update jupyter and ipywidgets. See https://ipywidgets.readthedocs.io/en/stable/user_install.html\n",
      "  from .autonotebook import tqdm as notebook_tqdm\n",
      "WARNING:root:No normalization for BCUT2D_MWHI\n",
      "WARNING:root:No normalization for BCUT2D_MWLOW\n",
      "WARNING:root:No normalization for BCUT2D_CHGHI\n",
      "WARNING:root:No normalization for BCUT2D_CHGLO\n",
      "WARNING:root:No normalization for BCUT2D_LOGPHI\n",
      "WARNING:root:No normalization for BCUT2D_LOGPLOW\n",
      "WARNING:root:No normalization for BCUT2D_MRHI\n",
      "WARNING:root:No normalization for BCUT2D_MRLOW\n"
     ]
    }
   ],
   "source": [
    "import os\n",
    "import chemprop\n",
    "import pandas as pd\n",
    "import numpy as np\n",
    "import matplotlib.pyplot as plt\n",
    "from matplotlib.offsetbox import AnchoredText\n",
    "from sklearn.metrics import mean_absolute_error, mean_squared_error\n",
    "from sklearn.decomposition import PCA"
   ]
  },
  {
   "cell_type": "code",
   "execution_count": 2,
   "metadata": {},
   "outputs": [],
   "source": [
    "def plot_parity(y_true, y_pred, y_pred_unc=None):\n",
    "    \n",
    "    axmin = min(min(y_true), min(y_pred)) - 0.1*(max(y_true)-min(y_true))\n",
    "    axmax = max(max(y_true), max(y_pred)) + 0.1*(max(y_true)-min(y_true))\n",
    "    \n",
    "    mae = mean_absolute_error(y_true, y_pred)\n",
    "    rmse = mean_squared_error(y_true, y_pred, squared=False)\n",
    "    \n",
    "    plt.plot([axmin, axmax], [axmin, axmax], '--k')\n",
    "\n",
    "    plt.errorbar(y_true, y_pred, yerr=y_pred_unc, linewidth=0, marker='o', markeredgecolor='w', alpha=1, elinewidth=1)\n",
    "    \n",
    "    plt.xlim((axmin, axmax))\n",
    "    plt.ylim((axmin, axmax))\n",
    "    \n",
    "    ax = plt.gca()\n",
    "    ax.set_aspect('equal')\n",
    "    \n",
    "    at = AnchoredText(\n",
    "    f\"MAE = {mae:.2f}\\nRMSE = {rmse:.2f}\", prop=dict(size=10), frameon=True, loc='upper left')\n",
    "    at.patch.set_boxstyle(\"round,pad=0.,rounding_size=0.2\")\n",
    "    ax.add_artist(at)\n",
    "    \n",
    "    plt.xlabel('True')\n",
    "    plt.ylabel('Chemprop Predicted')\n",
    "    \n",
    "    plt.show()\n",
    "    \n",
    "    return"
   ]
  },
  {
   "cell_type": "code",
   "execution_count": 3,
   "metadata": {},
   "outputs": [
    {
     "data": {
      "text/html": [
       "<div>\n",
       "<style scoped>\n",
       "    .dataframe tbody tr th:only-of-type {\n",
       "        vertical-align: middle;\n",
       "    }\n",
       "\n",
       "    .dataframe tbody tr th {\n",
       "        vertical-align: top;\n",
       "    }\n",
       "\n",
       "    .dataframe thead th {\n",
       "        text-align: right;\n",
       "    }\n",
       "</style>\n",
       "<table border=\"1\" class=\"dataframe\">\n",
       "  <thead>\n",
       "    <tr style=\"text-align: right;\">\n",
       "      <th></th>\n",
       "      <th>p(SMILES)</th>\n",
       "      <th>n(SMILES)</th>\n",
       "    </tr>\n",
       "  </thead>\n",
       "  <tbody>\n",
       "    <tr>\n",
       "      <th>0</th>\n",
       "      <td>CC1=CC(CCCCCC)=C(C)S1</td>\n",
       "      <td>O=C1N(CCCCCC)C(C2=C1N=CC(C#CC3=CC=C(C#CC(C=C4)...</td>\n",
       "    </tr>\n",
       "    <tr>\n",
       "      <th>1</th>\n",
       "      <td>O=C(OCC(CC)CCCC)C1=C(F)C2=C(C)SC(C3=CC4=C(C(C5...</td>\n",
       "      <td>O=C(N(C(CCCCC)CCCCC)C1=O)C2=CC3=C(C4=C5C=CC1C4...</td>\n",
       "    </tr>\n",
       "    <tr>\n",
       "      <th>2</th>\n",
       "      <td>CC1=CC(CCCCCC)=C(C)S1</td>\n",
       "      <td>CCCCCCC(C=C1)=CC=C1C2(C3=CC=C(CCCCCC)C=C3)C4=C...</td>\n",
       "    </tr>\n",
       "    <tr>\n",
       "      <th>3</th>\n",
       "      <td>CC1=CC(C(S1)=C2C3=CC(Cl)=C(CC(CC)CCCC)S3)=C(C4...</td>\n",
       "      <td>CCCCCCC(C=C1)=CC=C1C2(C3=CC=C(CCCCCC)C=C3)C4=C...</td>\n",
       "    </tr>\n",
       "    <tr>\n",
       "      <th>4</th>\n",
       "      <td>CC1=CC2=C(S1)C(C3=CC=C(SCCCCCCCC)S3)=C4C(OC(C5...</td>\n",
       "      <td>O=C(/C(S1)=C/C(C2=NSN=C32)=CC=C3C(S4)=CC5=C4C6...</td>\n",
       "    </tr>\n",
       "    <tr>\n",
       "      <th>...</th>\n",
       "      <td>...</td>\n",
       "      <td>...</td>\n",
       "    </tr>\n",
       "    <tr>\n",
       "      <th>127</th>\n",
       "      <td>O=C(OCC(CC)CCCC)C1=C(F)C2=C(C)SC(C3=CC4=C(C(C5...</td>\n",
       "      <td>CCCCCCC(C=C1)=CC=C1C(C2=C3SC(C4=C(CC(CC)CCCC)C...</td>\n",
       "    </tr>\n",
       "    <tr>\n",
       "      <th>128</th>\n",
       "      <td>CC(SC1=C2C3=CC=C(CC(CC)CCCC)S3)=CC1=C(C4=CC=C(...</td>\n",
       "      <td>O=C1C2=C(C(/C1=C/C3=CC4=C(C5=CC6=C(C=C5C4(C7=C...</td>\n",
       "    </tr>\n",
       "    <tr>\n",
       "      <th>129</th>\n",
       "      <td>CC1=CC(CCCCCC)=C(C)S1</td>\n",
       "      <td>O=C1C(C2=C(C3=CC=CS3)N1CCCCCCCCCCCC)=C(C4=CC=C...</td>\n",
       "    </tr>\n",
       "    <tr>\n",
       "      <th>130</th>\n",
       "      <td>CC(SC1=C2C3=CC=C(CC(CC)CCCC)S3)=CC1=C(C4=CC=C(...</td>\n",
       "      <td>CCCCCCC(C=C1)=CC=C1C(C2=CC=C(CCCCCC)C=C2)(O3)C...</td>\n",
       "    </tr>\n",
       "    <tr>\n",
       "      <th>131</th>\n",
       "      <td>CC1=CC(CC(CC)CCCC)=C(C2=NC(SC(C3=C(CC(CCCC)CC)...</td>\n",
       "      <td>O=C(N(CC(CCCCCCCCCC)CCCCCCCCCCCC)C1=O)C2=CC=C3...</td>\n",
       "    </tr>\n",
       "  </tbody>\n",
       "</table>\n",
       "<p>132 rows × 2 columns</p>\n",
       "</div>"
      ],
      "text/plain": [
       "                                             p(SMILES)  \\\n",
       "0                                CC1=CC(CCCCCC)=C(C)S1   \n",
       "1    O=C(OCC(CC)CCCC)C1=C(F)C2=C(C)SC(C3=CC4=C(C(C5...   \n",
       "2                                CC1=CC(CCCCCC)=C(C)S1   \n",
       "3    CC1=CC(C(S1)=C2C3=CC(Cl)=C(CC(CC)CCCC)S3)=C(C4...   \n",
       "4    CC1=CC2=C(S1)C(C3=CC=C(SCCCCCCCC)S3)=C4C(OC(C5...   \n",
       "..                                                 ...   \n",
       "127  O=C(OCC(CC)CCCC)C1=C(F)C2=C(C)SC(C3=CC4=C(C(C5...   \n",
       "128  CC(SC1=C2C3=CC=C(CC(CC)CCCC)S3)=CC1=C(C4=CC=C(...   \n",
       "129                              CC1=CC(CCCCCC)=C(C)S1   \n",
       "130  CC(SC1=C2C3=CC=C(CC(CC)CCCC)S3)=CC1=C(C4=CC=C(...   \n",
       "131  CC1=CC(CC(CC)CCCC)=C(C2=NC(SC(C3=C(CC(CCCC)CC)...   \n",
       "\n",
       "                                             n(SMILES)  \n",
       "0    O=C1N(CCCCCC)C(C2=C1N=CC(C#CC3=CC=C(C#CC(C=C4)...  \n",
       "1    O=C(N(C(CCCCC)CCCCC)C1=O)C2=CC3=C(C4=C5C=CC1C4...  \n",
       "2    CCCCCCC(C=C1)=CC=C1C2(C3=CC=C(CCCCCC)C=C3)C4=C...  \n",
       "3    CCCCCCC(C=C1)=CC=C1C2(C3=CC=C(CCCCCC)C=C3)C4=C...  \n",
       "4    O=C(/C(S1)=C/C(C2=NSN=C32)=CC=C3C(S4)=CC5=C4C6...  \n",
       "..                                                 ...  \n",
       "127  CCCCCCC(C=C1)=CC=C1C(C2=C3SC(C4=C(CC(CC)CCCC)C...  \n",
       "128  O=C1C2=C(C(/C1=C/C3=CC4=C(C5=CC6=C(C=C5C4(C7=C...  \n",
       "129  O=C1C(C2=C(C3=CC=CS3)N1CCCCCCCCCCCC)=C(C4=CC=C...  \n",
       "130  CCCCCCC(C=C1)=CC=C1C(C2=CC=C(CCCCCC)C=C2)(O3)C...  \n",
       "131  O=C(N(CC(CCCCCCCCCC)CCCCCCCCCCCC)C1=O)C2=CC=C3...  \n",
       "\n",
       "[132 rows x 2 columns]"
      ]
     },
     "execution_count": 3,
     "metadata": {},
     "output_type": "execute_result"
    }
   ],
   "source": [
    "import pandas as pd\n",
    "import numpy as np\n",
    "\n",
    "X_train = pd.read_csv('test_checkpoints_reg/fold_0/train_full.csv')\n",
    "X_train = X_train.drop(['PCE_max(%)'], axis = 1)\n",
    "X_train = X_train.drop([191])  # Mordred is  not able to calculate descriptors for acceptor at this posotion\n",
    "X_train\n",
    "\n",
    "X_val=pd.read_csv('test_checkpoints_reg/fold_0/val_full.csv')\n",
    "X_val = X_val.drop(['PCE_max(%)'], axis = 1)\n",
    "X_val\n",
    "\n",
    "X_test=pd.read_csv('test_checkpoints_reg/fold_0/test_full.csv')\n",
    "X_test = X_test.drop(['PCE_max(%)'], axis = 1)\n",
    "X_test"
   ]
  },
  {
   "cell_type": "code",
   "execution_count": 4,
   "metadata": {},
   "outputs": [
    {
     "name": "stderr",
     "output_type": "stream",
     "text": [
      "  0%|                                                                                         | 0/1053 [00:00<?, ?it/s]C:\\Users\\prate\\anaconda3\\envs\\chemprop\\lib\\site-packages\\ipykernel_launcher.py:14: DeprecationWarning: `np.int` is a deprecated alias for the builtin `int`. To silence this warning, use `int` by itself. Doing this will not modify any behavior and is safe. When replacing `np.int`, you may wish to use e.g. `np.int64` or `np.int32` to specify the precision. If you wish to review your current use, check the release note link for additional information.\n",
      "Deprecated in NumPy 1.20; for more details and guidance: https://numpy.org/devdocs/release/1.20.0-notes.html#deprecations\n",
      "  \n",
      "100%|█████████████████████████████████████████████████████████████████████████████| 1053/1053 [00:01<00:00, 904.45it/s]\n",
      "100%|██████████████████████████████████████████████████████████████████████████████| 1053/1053 [00:13<00:00, 80.85it/s]\n",
      "100%|███████████████████████████████████████████████████████████████████████████████| 132/132 [00:00<00:00, 952.18it/s]\n",
      "100%|███████████████████████████████████████████████████████████████████████████████| 132/132 [00:00<00:00, 517.20it/s]\n",
      "100%|███████████████████████████████████████████████████████████████████████████████| 132/132 [00:00<00:00, 904.96it/s]\n",
      "100%|███████████████████████████████████████████████████████████████████████████████| 132/132 [00:00<00:00, 554.28it/s]\n"
     ]
    }
   ],
   "source": [
    "from rdkit import Chem, DataStructs\n",
    "from rdkit.Chem import AllChem\n",
    "from tqdm import tqdm\n",
    "\n",
    "def fp_list_from_smiles_list(smiles_list,n_bits=512):                        # This code snippet is taken from http://practicalcheminformatics.blogspot.com/2019/11/visualizing-chemical-space.html\n",
    "    fp_list = []\n",
    "    for smiles in tqdm(smiles_list):\n",
    "        mol = Chem.MolFromSmiles(smiles)\n",
    "        fp_list.append(fp_as_array(mol,n_bits))\n",
    "    return fp_list\n",
    "\n",
    "def fp_as_array(mol,n_bits=512):\n",
    "    fp = AllChem.GetMorganFingerprintAsBitVect(mol, 2, nBits=n_bits)\n",
    "    arr = np.zeros((1,), np.int)\n",
    "    DataStructs.ConvertToNumpyArray(fp, arr)\n",
    "    return arr\n",
    "\n",
    "donor_morgan_fp = fp_list_from_smiles_list(X_train['p(SMILES)'])\n",
    "donor_morgan_fp_train = pd.DataFrame(donor_morgan_fp)\n",
    "\n",
    "acceptor_morgan_fp = fp_list_from_smiles_list(X_train['n(SMILES)'])\n",
    "acceptor_morgan_fp_train = pd.DataFrame(acceptor_morgan_fp)\n",
    "\n",
    "frames_train = [donor_morgan_fp_train, acceptor_morgan_fp_train]\n",
    "X_train_morgan = pd.concat(frames_train, axis =1)\n",
    "\n",
    "\n",
    "\n",
    "donor_morgan_fp = fp_list_from_smiles_list(X_val['p(SMILES)'])\n",
    "donor_morgan_fp_val = pd.DataFrame(donor_morgan_fp)\n",
    "\n",
    "acceptor_morgan_fp = fp_list_from_smiles_list(X_val['n(SMILES)'])\n",
    "acceptor_morgan_fp_val = pd.DataFrame(acceptor_morgan_fp)\n",
    "\n",
    "frames_val = [donor_morgan_fp_val, acceptor_morgan_fp_val]\n",
    "X_val_morgan = pd.concat(frames_val, axis =1)\n",
    "\n",
    "\n",
    "\n",
    "\n",
    "donor_morgan_fp = fp_list_from_smiles_list(X_test['p(SMILES)'])\n",
    "donor_morgan_fp_test = pd.DataFrame(donor_morgan_fp)\n",
    "\n",
    "acceptor_morgan_fp = fp_list_from_smiles_list(X_test['n(SMILES)'])\n",
    "acceptor_morgan_fp_test = pd.DataFrame(acceptor_morgan_fp)\n",
    "\n",
    "frames_test = [donor_morgan_fp_test, acceptor_morgan_fp_test]\n",
    "X_test_morgan = pd.concat(frames_test, axis =1)\n",
    "\n",
    "X_train_morgan.to_csv('X_train_morgan.csv')\n",
    "X_val_morgan.to_csv('X_val_morgan.csv')\n",
    "X_test_morgan.to_csv('X_test_morgan.csv')\n"
   ]
  },
  {
   "cell_type": "code",
   "execution_count": 5,
   "metadata": {},
   "outputs": [],
   "source": [
    "# X_train_morgan = pd.read_csv('X_train_morgan.csv')\n",
    "# X_val_morgan = pd.read_csv('X_val_morgan.csv')\n",
    "# X_test_morgan = pd.read_csv('X_test_morgan.csv')"
   ]
  },
  {
   "cell_type": "code",
   "execution_count": 6,
   "metadata": {},
   "outputs": [],
   "source": [
    "all_data = pd.concat([X_train_morgan,X_val_morgan,X_test_morgan])"
   ]
  },
  {
   "cell_type": "code",
   "execution_count": 7,
   "metadata": {},
   "outputs": [
    {
     "name": "stdout",
     "output_type": "stream",
     "text": [
      "Features with zero standard deviation : 86\n",
      "Features selected by using variance threshold of 0.8 : 126\n"
     ]
    }
   ],
   "source": [
    "all_data=all_data.select_dtypes(exclude=object)\n",
    "all_data= all_data.replace([np.inf, -np.inf], np.nan)\n",
    "all_data=all_data.dropna()\n",
    "all_data= all_data.replace(np.nan,0)\n",
    "print('Features with zero standard deviation :',len(all_data.std()[all_data.std() == 0]))\n",
    "all_data=all_data.drop(all_data.std()[all_data.std() == 0].index.values, axis=1)   #To remove columns with std deviation equals to zero\n",
    "\n",
    "from sklearn.feature_selection import VarianceThreshold\n",
    "sel = VarianceThreshold(threshold=(.8 * (1 - .8)))\n",
    "a=sel.fit_transform(all_data)\n",
    "sel.get_support()\n",
    "features = all_data.columns[sel.get_support()]\n",
    "print('Features selected by using variance threshold of 0.8 :',len(features))\n",
    "f = features\n",
    "\n",
    "\n",
    "X_train_morgan = X_train_morgan[f]\n",
    "X_val_morgan = X_val_morgan[f]\n",
    "X_test_morgan = X_test_morgan[f]"
   ]
  },
  {
   "cell_type": "code",
   "execution_count": 8,
   "metadata": {},
   "outputs": [],
   "source": [
    "y_train=pd.read_csv('test_checkpoints_reg/fold_0/train_full.csv')\n",
    "y_train = y_train.drop(['p(SMILES)', 'n(SMILES)'], axis = 1)\n",
    "y_train=y_train.drop([191])  # Mordred is  not able to calculate descriptors for acceptor at this posotion\n",
    "\n",
    "y_val=pd.read_csv('test_checkpoints_reg/fold_0/val_full.csv')\n",
    "y_val = y_val.drop(['p(SMILES)', 'n(SMILES)'], axis = 1)\n",
    "\n",
    "y_test=pd.read_csv('test_checkpoints_reg/fold_0/test_full.csv')\n",
    "y_test = y_test.drop(['p(SMILES)', 'n(SMILES)'], axis = 1)"
   ]
  },
  {
   "cell_type": "code",
   "execution_count": 9,
   "metadata": {},
   "outputs": [],
   "source": [
    "# Defining Metrics\n",
    "def R2Score(X,Y):\n",
    "    r2=metrics.r2_score(X,Y)\n",
    "    return r2\n",
    "def PearsonCoefficient(X, Y):\n",
    "    corr, _ = pearsonr(X,Y)\n",
    "    return corr\n",
    "def MSE(X,Y):\n",
    "    mse=mean_squared_error(X,Y)\n",
    "    return mse\n",
    "def RMSE(X,Y):\n",
    "    rmse=np.sqrt(mean_squared_error(X,Y))\n",
    "    return rmse\n",
    "def MAPE(X,Y):\n",
    "    mape=np.average(abs(np.array(X)-np.array(Y))/np.array(Y))*100\n",
    "    return mape\n",
    "\n",
    "\n",
    "from sklearn.metrics import r2_score\n",
    "import sklearn.metrics as metrics\n",
    "from scipy.stats.stats import pearsonr"
   ]
  },
  {
   "cell_type": "code",
   "execution_count": 10,
   "metadata": {},
   "outputs": [
    {
     "name": "stdout",
     "output_type": "stream",
     "text": [
      "{'n_estimators': [50, 100, 150, 200, 250, 300], 'max_features': ['auto', 'sqrt'], 'min_samples_split': [2, 5, 10], 'min_samples_leaf': [1, 2, 4], 'bootstrap': [True, False]}\n"
     ]
    }
   ],
   "source": [
    "from sklearn.model_selection import GridSearchCV\n",
    "# Number of trees in random forest\n",
    "n_estimators = [int(x) for x in np.linspace(start = 50, stop = 300, num = 6)]\n",
    "# Number of features to consider at every split\n",
    "max_features = ['auto', 'sqrt']\n",
    "# Maximum number of levels in tree\n",
    "# max_depth = [int(x) for x in np.linspace(10, 100, num = 5)]\n",
    "# max_depth.append(None)\n",
    "# Minimum number of samples required to split a node\n",
    "min_samples_split = [2, 5, 10]\n",
    "# Minimum number of samples required at each leaf node\n",
    "min_samples_leaf = [1, 2, 4]\n",
    "# Method of selecting samples for training each tree\n",
    "bootstrap = [True, False]\n",
    "# Create the random grid\n",
    "param_grid = {'n_estimators': n_estimators,\n",
    "               'max_features': max_features,\n",
    "#                'max_depth': max_depth,\n",
    "               'min_samples_split': min_samples_split,\n",
    "               'min_samples_leaf': min_samples_leaf,\n",
    "               'bootstrap': bootstrap}\n",
    "print(param_grid)"
   ]
  },
  {
   "cell_type": "code",
   "execution_count": 11,
   "metadata": {},
   "outputs": [
    {
     "name": "stdout",
     "output_type": "stream",
     "text": [
      "Fitting 5 folds for each of 216 candidates, totalling 1080 fits\n"
     ]
    },
    {
     "name": "stderr",
     "output_type": "stream",
     "text": [
      "C:\\Users\\prate\\anaconda3\\envs\\chemprop\\lib\\site-packages\\sklearn\\model_selection\\_search.py:926: DataConversionWarning: A column-vector y was passed when a 1d array was expected. Please change the shape of y to (n_samples,), for example using ravel().\n",
      "  self.best_estimator_.fit(X, y, **fit_params)\n"
     ]
    },
    {
     "data": {
      "text/plain": [
       "{'bootstrap': True,\n",
       " 'max_features': 'auto',\n",
       " 'min_samples_leaf': 1,\n",
       " 'min_samples_split': 5,\n",
       " 'n_estimators': 200}"
      ]
     },
     "execution_count": 11,
     "metadata": {},
     "output_type": "execute_result"
    }
   ],
   "source": [
    "from sklearn.ensemble import RandomForestRegressor\n",
    "rf = RandomForestRegressor()\n",
    "tune_rf = GridSearchCV(estimator=rf, param_grid=param_grid, scoring='neg_mean_squared_error', n_jobs=-1, verbose=3)\n",
    "tune_rf.fit(X_train_morgan, y_train)\n",
    "# print clf.best_score_\n",
    "tune_rf.best_params_"
   ]
  },
  {
   "cell_type": "code",
   "execution_count": 12,
   "metadata": {},
   "outputs": [
    {
     "name": "stderr",
     "output_type": "stream",
     "text": [
      "C:\\Users\\prate\\anaconda3\\envs\\chemprop\\lib\\site-packages\\ipykernel_launcher.py:7: DataConversionWarning: A column-vector y was passed when a 1d array was expected. Please change the shape of y to (n_samples,), for example using ravel().\n",
      "  import sys\n"
     ]
    }
   ],
   "source": [
    "from sklearn.ensemble import RandomForestRegressor\n",
    " \n",
    " # create regressor object\n",
    "regressor = RandomForestRegressor(**tune_rf.best_params_,random_state = 42)\n",
    " \n",
    "# fit the regressor with x and y data\n",
    "regressor.fit(X_train_morgan, y_train) \n",
    "\n",
    "pred = regressor.predict(X_test_morgan)\n",
    "\n",
    "y_test = y_test.to_numpy().ravel()"
   ]
  },
  {
   "cell_type": "code",
   "execution_count": 13,
   "metadata": {},
   "outputs": [
    {
     "data": {
      "image/png": "[encoded data removed]",
      "text/plain": [
       "<Figure size 432x288 with 1 Axes>"
      ]
     },
     "metadata": {
      "needs_background": "light"
     },
     "output_type": "display_data"
    }
   ],
   "source": [
    "plot_parity(y_test, pred)"
   ]
  },
  {
   "cell_type": "code",
   "execution_count": 14,
   "metadata": {},
   "outputs": [
    {
     "data": {
      "text/plain": [
       "0.8302681148146205"
      ]
     },
     "execution_count": 14,
     "metadata": {},
     "output_type": "execute_result"
    }
   ],
   "source": [
    "PearsonCoefficient(y_test, pred)"
   ]
  },
  {
   "cell_type": "code",
   "execution_count": 15,
   "metadata": {},
   "outputs": [
    {
     "data": {
      "text/plain": [
       "0.6876637743344653"
      ]
     },
     "execution_count": 15,
     "metadata": {},
     "output_type": "execute_result"
    }
   ],
   "source": [
    "R2Score(y_test, pred)"
   ]
  },
  {
   "cell_type": "code",
   "execution_count": 16,
   "metadata": {},
   "outputs": [
    {
     "data": {
      "text/plain": [
       "2.1345287873045526"
      ]
     },
     "execution_count": 16,
     "metadata": {},
     "output_type": "execute_result"
    }
   ],
   "source": [
    "import numpy as np\n",
    "RMSE(y_test, pred)"
   ]
  },
  {
   "cell_type": "code",
   "execution_count": 17,
   "metadata": {},
   "outputs": [
    {
     "data": {
      "text/html": [
       "        <script type=\"text/javascript\">\n",
       "        window.PlotlyConfig = {MathJaxConfig: 'local'};\n",
       "        if (window.MathJax && window.MathJax.Hub && window.MathJax.Hub.Config) {window.MathJax.Hub.Config({SVG: {font: \"STIX-Web\"}});}\n",
       "        if (typeof require !== 'undefined') {\n",
       "        require.undef(\"plotly\");\n",
       "        requirejs.config({\n",
       "            paths: {\n",
       "                'plotly': ['https://cdn.plot.ly/plotly-2.16.1.min']\n",
       "            }\n",
       "        });\n",
       "        require(['plotly'], function(Plotly) {\n",
       "            window._Plotly = Plotly;\n",
       "        });\n",
       "        }\n",
       "        </script>\n",
       "        "
      ]
     },
     "metadata": {},
     "output_type": "display_data"
    },
    {
     "data": {
      "application/vnd.plotly.v1+json": {
       "config": {
        "linkText": "Export to plot.ly",
        "plotlyServerURL": "https://plot.ly",
        "showLink": false
       },
       "data": [
        {
         "marker": {
          "color": "blue",
          "size": 12
         },
         "mode": "markers",
         "name": "Test Data",
         "type": "scatter",
         "x": [
          0.32,
          7.9,
          5.24,
          11.53,
          8.67,
          10.62,
          11.5,
          6.91,
          13.13,
          1.6,
          11.91,
          7.3,
          8.12,
          4.03,
          9.2,
          11,
          1.87,
          2.28,
          6.3,
          11.02,
          13.2,
          13.15,
          1.71,
          2.93,
          9.19,
          7.4,
          12.1,
          10.81,
          4.39,
          12.6,
          10.1,
          7.92,
          1.3,
          13.46,
          2.06,
          6.69,
          11.82,
          12.05,
          11.29,
          4.3,
          1.1,
          12.74,
          11.03,
          11.25,
          9.3,
          10.27,
          10.52,
          8.61,
          10.8,
          2.76,
          6.32,
          12.02,
          12.12,
          5.8,
          3.38,
          10.2,
          7.6,
          13.13,
          4.69,
          5.45,
          6.61,
          13.46,
          12.87,
          9.81,
          10.24,
          5.95,
          10.42,
          8.9,
          9.24,
          12.8,
          10.05,
          13.16,
          3.3,
          15.6,
          6,
          15.3,
          13.1,
          2.11,
          0.1,
          3.83,
          11.87,
          13.1,
          8.64,
          5.3,
          11.93,
          10.9,
          3.7,
          7.11,
          13.9,
          5.48,
          6.3,
          13.41,
          6.5,
          12.21,
          11.53,
          6.09,
          4.11,
          3.68,
          7.13,
          7.86,
          8.42,
          10.51,
          0.57,
          10.51,
          9.16,
          3.95,
          9.36,
          8.33,
          7.4,
          5.59,
          10.41,
          8.13,
          11.22,
          11.1,
          13,
          12.86,
          11.06,
          11.08,
          10.04,
          7.52,
          13.5,
          7.57,
          16.1,
          8.34,
          10.5,
          11.41,
          11.9,
          6.31,
          8.27,
          0.45,
          7.73,
          1.26
         ],
         "y": [
          0.7360509758297259,
          6.72081136544011,
          4.8959707738095215,
          7.186871997997212,
          4.63246405844156,
          11.503756210317452,
          12.062930801282043,
          8.158757031995782,
          11.32414472582973,
          3.5215891071428613,
          12.715047840909097,
          5.739038730158735,
          10.120272806637807,
          4.664843531746031,
          8.64305655122655,
          7.921189384920634,
          1.6161254329004322,
          3.4496678210678198,
          4.848866511127762,
          11.410571771284271,
          8.793385468975469,
          10.72413143217893,
          2.539242460317461,
          6.595904682539684,
          9.927145398582116,
          7.995059922438673,
          10.977048573648576,
          8.70991837301586,
          5.252911468253968,
          12.212455337301584,
          10.27664162157288,
          9.398235330837473,
          0.2743517947330451,
          12.074599296120548,
          4.674589171661674,
          8.233490873015867,
          5.8818025685425654,
          10.068225230759312,
          10.715852414162633,
          4.636618234126982,
          2.522109372294372,
          7.747212519841267,
          9.227513105921854,
          8.468495283189032,
          9.927145398582116,
          9.69552788170162,
          7.485111855500822,
          11.008092991363206,
          12.187005530719285,
          5.501683908730157,
          10.61965180555556,
          12.573663866182828,
          11.667690099206345,
          6.060272002164505,
          7.076931917388165,
          9.485241446608951,
          9.183600554029308,
          9.674566040903539,
          5.132679067460317,
          6.225369384920628,
          8.346434126984123,
          10.780854821428566,
          12.855416571067817,
          11.0558281213925,
          13.268908216089466,
          8.367483105921854,
          9.391933441697189,
          9.156202426924818,
          12.34248466630592,
          8.557985696248197,
          9.927145398582116,
          10.077279404761898,
          6.367483641774892,
          15.65436106771497,
          4.227250753552002,
          15.65436106771497,
          12.980512873802962,
          1.8441520454545475,
          1.6511718849206343,
          9.33336347895161,
          9.097586119281047,
          12.328388139629972,
          6.751609583333329,
          5.33022345238095,
          12.855577936507942,
          11.406994749278494,
          6.515433818542575,
          8.105249007936507,
          11.369678566711066,
          5.9997653878066375,
          6.883571964285713,
          12.212455337301584,
          7.137235932539687,
          9.646929135309133,
          11.32414472582973,
          9.330106167027415,
          4.3657293141580675,
          4.422189072871573,
          5.42088760822511,
          7.590089599567097,
          7.364517142857145,
          12.142736009721272,
          3.522033042929293,
          12.855577936507942,
          5.47394976190476,
          5.843027146464649,
          12.158369258658007,
          10.8115433008658,
          8.478404128510377,
          3.8565768849206377,
          12.03843655393218,
          8.79744441919192,
          10.043022003968241,
          4.882882380952379,
          11.694250801690144,
          12.811767483766237,
          7.250673988095235,
          10.670501755050504,
          8.704409379925629,
          10.150559433621932,
          12.129917480158719,
          7.477630488608615,
          13.527236084054842,
          10.16801630591631,
          15.286318566017322,
          10.670501755050504,
          10.917024140720379,
          6.5794959786047205,
          8.202641994949495,
          0.8385643145743147,
          7.958388005784546,
          2.475829563492064
         ]
        },
        {
         "marker": {
          "color": "black",
          "size": 12
         },
         "mode": "lines",
         "name": "Linear Fit",
         "text": "Fit",
         "type": "scatter",
         "x": [
          0.1,
          0.42653061224489797,
          0.7530612244897958,
          1.079591836734694,
          1.4061224489795918,
          1.7326530612244897,
          2.059183673469388,
          2.3857142857142857,
          2.7122448979591836,
          3.0387755102040814,
          3.3653061224489793,
          3.691836734693877,
          4.018367346938775,
          4.3448979591836725,
          4.671428571428571,
          4.997959183673468,
          5.324489795918367,
          5.651020408163265,
          5.977551020408162,
          6.304081632653061,
          6.630612244897958,
          6.957142857142856,
          7.283673469387754,
          7.610204081632652,
          7.9367346938775505,
          8.263265306122449,
          8.589795918367345,
          8.916326530612244,
          9.242857142857142,
          9.56938775510204,
          9.895918367346937,
          10.222448979591835,
          10.548979591836734,
          10.875510204081632,
          11.20204081632653,
          11.528571428571427,
          11.855102040816325,
          12.181632653061223,
          12.508163265306122,
          12.834693877551018,
          13.161224489795917,
          13.487755102040815,
          13.814285714285713,
          14.140816326530611,
          14.467346938775508,
          14.793877551020406,
          15.120408163265305,
          15.446938775510203,
          15.773469387755101,
          16.1
         ],
         "y": [
          0.1,
          0.42653061224489797,
          0.7530612244897958,
          1.079591836734694,
          1.4061224489795918,
          1.7326530612244897,
          2.059183673469388,
          2.3857142857142857,
          2.7122448979591836,
          3.0387755102040814,
          3.3653061224489793,
          3.691836734693877,
          4.018367346938775,
          4.3448979591836725,
          4.671428571428571,
          4.997959183673468,
          5.324489795918367,
          5.651020408163265,
          5.977551020408162,
          6.304081632653061,
          6.630612244897958,
          6.957142857142856,
          7.283673469387754,
          7.610204081632652,
          7.9367346938775505,
          8.263265306122449,
          8.589795918367345,
          8.916326530612244,
          9.242857142857142,
          9.56938775510204,
          9.895918367346937,
          10.222448979591835,
          10.548979591836734,
          10.875510204081632,
          11.20204081632653,
          11.528571428571427,
          11.855102040816325,
          12.181632653061223,
          12.508163265306122,
          12.834693877551018,
          13.161224489795917,
          13.487755102040815,
          13.814285714285713,
          14.140816326530611,
          14.467346938775508,
          14.793877551020406,
          15.120408163265305,
          15.446938775510203,
          15.773469387755101,
          16.1
         ]
        }
       ],
       "layout": {
        "font": {
         "family": "Times New Roman",
         "size": 28
        },
        "height": 600,
        "hovermode": "closest",
        "showlegend": true,
        "template": {
         "data": {
          "bar": [
           {
            "error_x": {
             "color": "#2a3f5f"
            },
            "error_y": {
             "color": "#2a3f5f"
            },
            "marker": {
             "line": {
              "color": "#E5ECF6",
              "width": 0.5
             },
             "pattern": {
              "fillmode": "overlay",
              "size": 10,
              "solidity": 0.2
             }
            },
            "type": "bar"
           }
          ],
          "barpolar": [
           {
            "marker": {
             "line": {
              "color": "#E5ECF6",
              "width": 0.5
             },
             "pattern": {
              "fillmode": "overlay",
              "size": 10,
              "solidity": 0.2
             }
            },
            "type": "barpolar"
           }
          ],
          "carpet": [
           {
            "aaxis": {
             "endlinecolor": "#2a3f5f",
             "gridcolor": "white",
             "linecolor": "white",
             "minorgridcolor": "white",
             "startlinecolor": "#2a3f5f"
            },
            "baxis": {
             "endlinecolor": "#2a3f5f",
             "gridcolor": "white",
             "linecolor": "white",
             "minorgridcolor": "white",
             "startlinecolor": "#2a3f5f"
            },
            "type": "carpet"
           }
          ],
          "choropleth": [
           {
            "colorbar": {
             "outlinewidth": 0,
             "ticks": ""
            },
            "type": "choropleth"
           }
          ],
          "contour": [
           {
            "colorbar": {
             "outlinewidth": 0,
             "ticks": ""
            },
            "colorscale": [
             [
              0,
              "#0d0887"
             ],
             [
              0.1111111111111111,
              "#46039f"
             ],
             [
              0.2222222222222222,
              "#7201a8"
             ],
             [
              0.3333333333333333,
              "#9c179e"
             ],
             [
              0.4444444444444444,
              "#bd3786"
             ],
             [
              0.5555555555555556,
              "#d8576b"
             ],
             [
              0.6666666666666666,
              "#ed7953"
             ],
             [
              0.7777777777777778,
              "#fb9f3a"
             ],
             [
              0.8888888888888888,
              "#fdca26"
             ],
             [
              1,
              "#f0f921"
             ]
            ],
            "type": "contour"
           }
          ],
          "contourcarpet": [
           {
            "colorbar": {
             "outlinewidth": 0,
             "ticks": ""
            },
            "type": "contourcarpet"
           }
          ],
          "heatmap": [
           {
            "colorbar": {
             "outlinewidth": 0,
             "ticks": ""
            },
            "colorscale": [
             [
              0,
              "#0d0887"
             ],
             [
              0.1111111111111111,
              "#46039f"
             ],
             [
              0.2222222222222222,
              "#7201a8"
             ],
             [
              0.3333333333333333,
              "#9c179e"
             ],
             [
              0.4444444444444444,
              "#bd3786"
             ],
             [
              0.5555555555555556,
              "#d8576b"
             ],
             [
              0.6666666666666666,
              "#ed7953"
             ],
             [
              0.7777777777777778,
              "#fb9f3a"
             ],
             [
              0.8888888888888888,
              "#fdca26"
             ],
             [
              1,
              "#f0f921"
             ]
            ],
            "type": "heatmap"
           }
          ],
          "heatmapgl": [
           {
            "colorbar": {
             "outlinewidth": 0,
             "ticks": ""
            },
            "colorscale": [
             [
              0,
              "#0d0887"
             ],
             [
              0.1111111111111111,
              "#46039f"
             ],
             [
              0.2222222222222222,
              "#7201a8"
             ],
             [
              0.3333333333333333,
              "#9c179e"
             ],
             [
              0.4444444444444444,
              "#bd3786"
             ],
             [
              0.5555555555555556,
              "#d8576b"
             ],
             [
              0.6666666666666666,
              "#ed7953"
             ],
             [
              0.7777777777777778,
              "#fb9f3a"
             ],
             [
              0.8888888888888888,
              "#fdca26"
             ],
             [
              1,
              "#f0f921"
             ]
            ],
            "type": "heatmapgl"
           }
          ],
          "histogram": [
           {
            "marker": {
             "pattern": {
              "fillmode": "overlay",
              "size": 10,
              "solidity": 0.2
             }
            },
            "type": "histogram"
           }
          ],
          "histogram2d": [
           {
            "colorbar": {
             "outlinewidth": 0,
             "ticks": ""
            },
            "colorscale": [
             [
              0,
              "#0d0887"
             ],
             [
              0.1111111111111111,
              "#46039f"
             ],
             [
              0.2222222222222222,
              "#7201a8"
             ],
             [
              0.3333333333333333,
              "#9c179e"
             ],
             [
              0.4444444444444444,
              "#bd3786"
             ],
             [
              0.5555555555555556,
              "#d8576b"
             ],
             [
              0.6666666666666666,
              "#ed7953"
             ],
             [
              0.7777777777777778,
              "#fb9f3a"
             ],
             [
              0.8888888888888888,
              "#fdca26"
             ],
             [
              1,
              "#f0f921"
             ]
            ],
            "type": "histogram2d"
           }
          ],
          "histogram2dcontour": [
           {
            "colorbar": {
             "outlinewidth": 0,
             "ticks": ""
            },
            "colorscale": [
             [
              0,
              "#0d0887"
             ],
             [
              0.1111111111111111,
              "#46039f"
             ],
             [
              0.2222222222222222,
              "#7201a8"
             ],
             [
              0.3333333333333333,
              "#9c179e"
             ],
             [
              0.4444444444444444,
              "#bd3786"
             ],
             [
              0.5555555555555556,
              "#d8576b"
             ],
             [
              0.6666666666666666,
              "#ed7953"
             ],
             [
              0.7777777777777778,
              "#fb9f3a"
             ],
             [
              0.8888888888888888,
              "#fdca26"
             ],
             [
              1,
              "#f0f921"
             ]
            ],
            "type": "histogram2dcontour"
           }
          ],
          "mesh3d": [
           {
            "colorbar": {
             "outlinewidth": 0,
             "ticks": ""
            },
            "type": "mesh3d"
           }
          ],
          "parcoords": [
           {
            "line": {
             "colorbar": {
              "outlinewidth": 0,
              "ticks": ""
             }
            },
            "type": "parcoords"
           }
          ],
          "pie": [
           {
            "automargin": true,
            "type": "pie"
           }
          ],
          "scatter": [
           {
            "fillpattern": {
             "fillmode": "overlay",
             "size": 10,
             "solidity": 0.2
            },
            "type": "scatter"
           }
          ],
          "scatter3d": [
           {
            "line": {
             "colorbar": {
              "outlinewidth": 0,
              "ticks": ""
             }
            },
            "marker": {
             "colorbar": {
              "outlinewidth": 0,
              "ticks": ""
             }
            },
            "type": "scatter3d"
           }
          ],
          "scattercarpet": [
           {
            "marker": {
             "colorbar": {
              "outlinewidth": 0,
              "ticks": ""
             }
            },
            "type": "scattercarpet"
           }
          ],
          "scattergeo": [
           {
            "marker": {
             "colorbar": {
              "outlinewidth": 0,
              "ticks": ""
             }
            },
            "type": "scattergeo"
           }
          ],
          "scattergl": [
           {
            "marker": {
             "colorbar": {
              "outlinewidth": 0,
              "ticks": ""
             }
            },
            "type": "scattergl"
           }
          ],
          "scattermapbox": [
           {
            "marker": {
             "colorbar": {
              "outlinewidth": 0,
              "ticks": ""
             }
            },
            "type": "scattermapbox"
           }
          ],
          "scatterpolar": [
           {
            "marker": {
             "colorbar": {
              "outlinewidth": 0,
              "ticks": ""
             }
            },
            "type": "scatterpolar"
           }
          ],
          "scatterpolargl": [
           {
            "marker": {
             "colorbar": {
              "outlinewidth": 0,
              "ticks": ""
             }
            },
            "type": "scatterpolargl"
           }
          ],
          "scatterternary": [
           {
            "marker": {
             "colorbar": {
              "outlinewidth": 0,
              "ticks": ""
             }
            },
            "type": "scatterternary"
           }
          ],
          "surface": [
           {
            "colorbar": {
             "outlinewidth": 0,
             "ticks": ""
            },
            "colorscale": [
             [
              0,
              "#0d0887"
             ],
             [
              0.1111111111111111,
              "#46039f"
             ],
             [
              0.2222222222222222,
              "#7201a8"
             ],
             [
              0.3333333333333333,
              "#9c179e"
             ],
             [
              0.4444444444444444,
              "#bd3786"
             ],
             [
              0.5555555555555556,
              "#d8576b"
             ],
             [
              0.6666666666666666,
              "#ed7953"
             ],
             [
              0.7777777777777778,
              "#fb9f3a"
             ],
             [
              0.8888888888888888,
              "#fdca26"
             ],
             [
              1,
              "#f0f921"
             ]
            ],
            "type": "surface"
           }
          ],
          "table": [
           {
            "cells": {
             "fill": {
              "color": "#EBF0F8"
             },
             "line": {
              "color": "white"
             }
            },
            "header": {
             "fill": {
              "color": "#C8D4E3"
             },
             "line": {
              "color": "white"
             }
            },
            "type": "table"
           }
          ]
         },
         "layout": {
          "annotationdefaults": {
           "arrowcolor": "#2a3f5f",
           "arrowhead": 0,
           "arrowwidth": 1
          },
          "autotypenumbers": "strict",
          "coloraxis": {
           "colorbar": {
            "outlinewidth": 0,
            "ticks": ""
           }
          },
          "colorscale": {
           "diverging": [
            [
             0,
             "#8e0152"
            ],
            [
             0.1,
             "#c51b7d"
            ],
            [
             0.2,
             "#de77ae"
            ],
            [
             0.3,
             "#f1b6da"
            ],
            [
             0.4,
             "#fde0ef"
            ],
            [
             0.5,
             "#f7f7f7"
            ],
            [
             0.6,
             "#e6f5d0"
            ],
            [
             0.7,
             "#b8e186"
            ],
            [
             0.8,
             "#7fbc41"
            ],
            [
             0.9,
             "#4d9221"
            ],
            [
             1,
             "#276419"
            ]
           ],
           "sequential": [
            [
             0,
             "#0d0887"
            ],
            [
             0.1111111111111111,
             "#46039f"
            ],
            [
             0.2222222222222222,
             "#7201a8"
            ],
            [
             0.3333333333333333,
             "#9c179e"
            ],
            [
             0.4444444444444444,
             "#bd3786"
            ],
            [
             0.5555555555555556,
             "#d8576b"
            ],
            [
             0.6666666666666666,
             "#ed7953"
            ],
            [
             0.7777777777777778,
             "#fb9f3a"
            ],
            [
             0.8888888888888888,
             "#fdca26"
            ],
            [
             1,
             "#f0f921"
            ]
           ],
           "sequentialminus": [
            [
             0,
             "#0d0887"
            ],
            [
             0.1111111111111111,
             "#46039f"
            ],
            [
             0.2222222222222222,
             "#7201a8"
            ],
            [
             0.3333333333333333,
             "#9c179e"
            ],
            [
             0.4444444444444444,
             "#bd3786"
            ],
            [
             0.5555555555555556,
             "#d8576b"
            ],
            [
             0.6666666666666666,
             "#ed7953"
            ],
            [
             0.7777777777777778,
             "#fb9f3a"
            ],
            [
             0.8888888888888888,
             "#fdca26"
            ],
            [
             1,
             "#f0f921"
            ]
           ]
          },
          "colorway": [
           "#636efa",
           "#EF553B",
           "#00cc96",
           "#ab63fa",
           "#FFA15A",
           "#19d3f3",
           "#FF6692",
           "#B6E880",
           "#FF97FF",
           "#FECB52"
          ],
          "font": {
           "color": "#2a3f5f"
          },
          "geo": {
           "bgcolor": "white",
           "lakecolor": "white",
           "landcolor": "#E5ECF6",
           "showlakes": true,
           "showland": true,
           "subunitcolor": "white"
          },
          "hoverlabel": {
           "align": "left"
          },
          "hovermode": "closest",
          "mapbox": {
           "style": "light"
          },
          "paper_bgcolor": "white",
          "plot_bgcolor": "#E5ECF6",
          "polar": {
           "angularaxis": {
            "gridcolor": "white",
            "linecolor": "white",
            "ticks": ""
           },
           "bgcolor": "#E5ECF6",
           "radialaxis": {
            "gridcolor": "white",
            "linecolor": "white",
            "ticks": ""
           }
          },
          "scene": {
           "xaxis": {
            "backgroundcolor": "#E5ECF6",
            "gridcolor": "white",
            "gridwidth": 2,
            "linecolor": "white",
            "showbackground": true,
            "ticks": "",
            "zerolinecolor": "white"
           },
           "yaxis": {
            "backgroundcolor": "#E5ECF6",
            "gridcolor": "white",
            "gridwidth": 2,
            "linecolor": "white",
            "showbackground": true,
            "ticks": "",
            "zerolinecolor": "white"
           },
           "zaxis": {
            "backgroundcolor": "#E5ECF6",
            "gridcolor": "white",
            "gridwidth": 2,
            "linecolor": "white",
            "showbackground": true,
            "ticks": "",
            "zerolinecolor": "white"
           }
          },
          "shapedefaults": {
           "line": {
            "color": "#2a3f5f"
           }
          },
          "ternary": {
           "aaxis": {
            "gridcolor": "white",
            "linecolor": "white",
            "ticks": ""
           },
           "baxis": {
            "gridcolor": "white",
            "linecolor": "white",
            "ticks": ""
           },
           "bgcolor": "#E5ECF6",
           "caxis": {
            "gridcolor": "white",
            "linecolor": "white",
            "ticks": ""
           }
          },
          "title": {
           "x": 0.05
          },
          "xaxis": {
           "automargin": true,
           "gridcolor": "white",
           "linecolor": "white",
           "ticks": "",
           "title": {
            "standoff": 15
           },
           "zerolinecolor": "white",
           "zerolinewidth": 2
          },
          "yaxis": {
           "automargin": true,
           "gridcolor": "white",
           "linecolor": "white",
           "ticks": "",
           "title": {
            "standoff": 15
           },
           "zerolinecolor": "white",
           "zerolinewidth": 2
          }
         }
        },
        "title": {
         "text": "PCE"
        },
        "width": 800,
        "xaxis": {
         "dtick": 2,
         "gridwidth": 2,
         "title": {
          "text": "Reported PCE (%)"
         },
         "zeroline": false
        },
        "yaxis": {
         "gridwidth": 2,
         "title": {
          "text": "Predicted PCE (%)"
         },
         "zeroline": false
        }
       }
      },
      "text/html": [
       "<div>                            <div id=\"58ae75be-3c3d-41ba-a136-cb132597459e\" class=\"plotly-graph-div\" style=\"height:600px; width:800px;\"></div>            <script type=\"text/javascript\">                require([\"plotly\"], function(Plotly) {                    window.PLOTLYENV=window.PLOTLYENV || {};                                    if (document.getElementById(\"58ae75be-3c3d-41ba-a136-cb132597459e\")) {                    Plotly.newPlot(                        \"58ae75be-3c3d-41ba-a136-cb132597459e\",                        [{\"marker\":{\"color\":\"blue\",\"size\":12},\"mode\":\"markers\",\"name\":\"Test Data\",\"x\":[0.32,7.9,5.24,11.53,8.67,10.62,11.5,6.91,13.13,1.6,11.91,7.3,8.12,4.03,9.2,11.0,1.87,2.28,6.3,11.02,13.2,13.15,1.71,2.93,9.19,7.4,12.1,10.81,4.39,12.6,10.1,7.92,1.3,13.46,2.06,6.69,11.82,12.05,11.29,4.3,1.1,12.74,11.03,11.25,9.3,10.27,10.52,8.61,10.8,2.76,6.32,12.02,12.12,5.8,3.38,10.2,7.6,13.13,4.69,5.45,6.61,13.46,12.87,9.81,10.24,5.95,10.42,8.9,9.24,12.8,10.05,13.16,3.3,15.6,6.0,15.3,13.1,2.11,0.1,3.83,11.87,13.1,8.64,5.3,11.93,10.9,3.7,7.11,13.9,5.48,6.3,13.41,6.5,12.21,11.53,6.09,4.11,3.68,7.13,7.86,8.42,10.51,0.57,10.51,9.16,3.95,9.36,8.33,7.4,5.59,10.41,8.13,11.22,11.1,13.0,12.86,11.06,11.08,10.04,7.52,13.5,7.57,16.1,8.34,10.5,11.41,11.9,6.31,8.27,0.45,7.73,1.26],\"y\":[0.7360509758297259,6.72081136544011,4.8959707738095215,7.186871997997212,4.63246405844156,11.503756210317452,12.062930801282043,8.158757031995782,11.32414472582973,3.5215891071428613,12.715047840909097,5.739038730158735,10.120272806637807,4.664843531746031,8.64305655122655,7.921189384920634,1.6161254329004322,3.4496678210678198,4.848866511127762,11.410571771284271,8.793385468975469,10.72413143217893,2.539242460317461,6.595904682539684,9.927145398582116,7.995059922438673,10.977048573648576,8.70991837301586,5.252911468253968,12.212455337301584,10.27664162157288,9.398235330837473,0.2743517947330451,12.074599296120548,4.674589171661674,8.233490873015867,5.8818025685425654,10.068225230759312,10.715852414162633,4.636618234126982,2.522109372294372,7.747212519841267,9.227513105921854,8.468495283189032,9.927145398582116,9.69552788170162,7.485111855500822,11.008092991363206,12.187005530719285,5.501683908730157,10.61965180555556,12.573663866182828,11.667690099206345,6.060272002164505,7.076931917388165,9.485241446608951,9.183600554029308,9.674566040903539,5.132679067460317,6.225369384920628,8.346434126984123,10.780854821428566,12.855416571067817,11.0558281213925,13.268908216089466,8.367483105921854,9.391933441697189,9.156202426924818,12.34248466630592,8.557985696248197,9.927145398582116,10.077279404761898,6.367483641774892,15.65436106771497,4.227250753552002,15.65436106771497,12.980512873802962,1.8441520454545475,1.6511718849206343,9.33336347895161,9.097586119281047,12.328388139629972,6.751609583333329,5.33022345238095,12.855577936507942,11.406994749278494,6.515433818542575,8.105249007936507,11.369678566711066,5.9997653878066375,6.883571964285713,12.212455337301584,7.137235932539687,9.646929135309133,11.32414472582973,9.330106167027415,4.3657293141580675,4.422189072871573,5.42088760822511,7.590089599567097,7.364517142857145,12.142736009721272,3.522033042929293,12.855577936507942,5.47394976190476,5.843027146464649,12.158369258658007,10.8115433008658,8.478404128510377,3.8565768849206377,12.03843655393218,8.79744441919192,10.043022003968241,4.882882380952379,11.694250801690144,12.811767483766237,7.250673988095235,10.670501755050504,8.704409379925629,10.150559433621932,12.129917480158719,7.477630488608615,13.527236084054842,10.16801630591631,15.286318566017322,10.670501755050504,10.917024140720379,6.5794959786047205,8.202641994949495,0.8385643145743147,7.958388005784546,2.475829563492064],\"type\":\"scatter\"},{\"marker\":{\"color\":\"black\",\"size\":12},\"mode\":\"lines\",\"name\":\"Linear Fit\",\"text\":\"Fit\",\"x\":[0.1,0.42653061224489797,0.7530612244897958,1.079591836734694,1.4061224489795918,1.7326530612244897,2.059183673469388,2.3857142857142857,2.7122448979591836,3.0387755102040814,3.3653061224489793,3.691836734693877,4.018367346938775,4.3448979591836725,4.671428571428571,4.997959183673468,5.324489795918367,5.651020408163265,5.977551020408162,6.304081632653061,6.630612244897958,6.957142857142856,7.283673469387754,7.610204081632652,7.9367346938775505,8.263265306122449,8.589795918367345,8.916326530612244,9.242857142857142,9.56938775510204,9.895918367346937,10.222448979591835,10.548979591836734,10.875510204081632,11.20204081632653,11.528571428571427,11.855102040816325,12.181632653061223,12.508163265306122,12.834693877551018,13.161224489795917,13.487755102040815,13.814285714285713,14.140816326530611,14.467346938775508,14.793877551020406,15.120408163265305,15.446938775510203,15.773469387755101,16.1],\"y\":[0.1,0.42653061224489797,0.7530612244897958,1.079591836734694,1.4061224489795918,1.7326530612244897,2.059183673469388,2.3857142857142857,2.7122448979591836,3.0387755102040814,3.3653061224489793,3.691836734693877,4.018367346938775,4.3448979591836725,4.671428571428571,4.997959183673468,5.324489795918367,5.651020408163265,5.977551020408162,6.304081632653061,6.630612244897958,6.957142857142856,7.283673469387754,7.610204081632652,7.9367346938775505,8.263265306122449,8.589795918367345,8.916326530612244,9.242857142857142,9.56938775510204,9.895918367346937,10.222448979591835,10.548979591836734,10.875510204081632,11.20204081632653,11.528571428571427,11.855102040816325,12.181632653061223,12.508163265306122,12.834693877551018,13.161224489795917,13.487755102040815,13.814285714285713,14.140816326530611,14.467346938775508,14.793877551020406,15.120408163265305,15.446938775510203,15.773469387755101,16.1],\"type\":\"scatter\"}],                        {\"font\":{\"family\":\"Times New Roman\",\"size\":28},\"height\":600,\"hovermode\":\"closest\",\"showlegend\":true,\"template\":{\"data\":{\"barpolar\":[{\"marker\":{\"line\":{\"color\":\"#E5ECF6\",\"width\":0.5},\"pattern\":{\"fillmode\":\"overlay\",\"size\":10,\"solidity\":0.2}},\"type\":\"barpolar\"}],\"bar\":[{\"error_x\":{\"color\":\"#2a3f5f\"},\"error_y\":{\"color\":\"#2a3f5f\"},\"marker\":{\"line\":{\"color\":\"#E5ECF6\",\"width\":0.5},\"pattern\":{\"fillmode\":\"overlay\",\"size\":10,\"solidity\":0.2}},\"type\":\"bar\"}],\"carpet\":[{\"aaxis\":{\"endlinecolor\":\"#2a3f5f\",\"gridcolor\":\"white\",\"linecolor\":\"white\",\"minorgridcolor\":\"white\",\"startlinecolor\":\"#2a3f5f\"},\"baxis\":{\"endlinecolor\":\"#2a3f5f\",\"gridcolor\":\"white\",\"linecolor\":\"white\",\"minorgridcolor\":\"white\",\"startlinecolor\":\"#2a3f5f\"},\"type\":\"carpet\"}],\"choropleth\":[{\"colorbar\":{\"outlinewidth\":0,\"ticks\":\"\"},\"type\":\"choropleth\"}],\"contourcarpet\":[{\"colorbar\":{\"outlinewidth\":0,\"ticks\":\"\"},\"type\":\"contourcarpet\"}],\"contour\":[{\"colorbar\":{\"outlinewidth\":0,\"ticks\":\"\"},\"colorscale\":[[0.0,\"#0d0887\"],[0.1111111111111111,\"#46039f\"],[0.2222222222222222,\"#7201a8\"],[0.3333333333333333,\"#9c179e\"],[0.4444444444444444,\"#bd3786\"],[0.5555555555555556,\"#d8576b\"],[0.6666666666666666,\"#ed7953\"],[0.7777777777777778,\"#fb9f3a\"],[0.8888888888888888,\"#fdca26\"],[1.0,\"#f0f921\"]],\"type\":\"contour\"}],\"heatmapgl\":[{\"colorbar\":{\"outlinewidth\":0,\"ticks\":\"\"},\"colorscale\":[[0.0,\"#0d0887\"],[0.1111111111111111,\"#46039f\"],[0.2222222222222222,\"#7201a8\"],[0.3333333333333333,\"#9c179e\"],[0.4444444444444444,\"#bd3786\"],[0.5555555555555556,\"#d8576b\"],[0.6666666666666666,\"#ed7953\"],[0.7777777777777778,\"#fb9f3a\"],[0.8888888888888888,\"#fdca26\"],[1.0,\"#f0f921\"]],\"type\":\"heatmapgl\"}],\"heatmap\":[{\"colorbar\":{\"outlinewidth\":0,\"ticks\":\"\"},\"colorscale\":[[0.0,\"#0d0887\"],[0.1111111111111111,\"#46039f\"],[0.2222222222222222,\"#7201a8\"],[0.3333333333333333,\"#9c179e\"],[0.4444444444444444,\"#bd3786\"],[0.5555555555555556,\"#d8576b\"],[0.6666666666666666,\"#ed7953\"],[0.7777777777777778,\"#fb9f3a\"],[0.8888888888888888,\"#fdca26\"],[1.0,\"#f0f921\"]],\"type\":\"heatmap\"}],\"histogram2dcontour\":[{\"colorbar\":{\"outlinewidth\":0,\"ticks\":\"\"},\"colorscale\":[[0.0,\"#0d0887\"],[0.1111111111111111,\"#46039f\"],[0.2222222222222222,\"#7201a8\"],[0.3333333333333333,\"#9c179e\"],[0.4444444444444444,\"#bd3786\"],[0.5555555555555556,\"#d8576b\"],[0.6666666666666666,\"#ed7953\"],[0.7777777777777778,\"#fb9f3a\"],[0.8888888888888888,\"#fdca26\"],[1.0,\"#f0f921\"]],\"type\":\"histogram2dcontour\"}],\"histogram2d\":[{\"colorbar\":{\"outlinewidth\":0,\"ticks\":\"\"},\"colorscale\":[[0.0,\"#0d0887\"],[0.1111111111111111,\"#46039f\"],[0.2222222222222222,\"#7201a8\"],[0.3333333333333333,\"#9c179e\"],[0.4444444444444444,\"#bd3786\"],[0.5555555555555556,\"#d8576b\"],[0.6666666666666666,\"#ed7953\"],[0.7777777777777778,\"#fb9f3a\"],[0.8888888888888888,\"#fdca26\"],[1.0,\"#f0f921\"]],\"type\":\"histogram2d\"}],\"histogram\":[{\"marker\":{\"pattern\":{\"fillmode\":\"overlay\",\"size\":10,\"solidity\":0.2}},\"type\":\"histogram\"}],\"mesh3d\":[{\"colorbar\":{\"outlinewidth\":0,\"ticks\":\"\"},\"type\":\"mesh3d\"}],\"parcoords\":[{\"line\":{\"colorbar\":{\"outlinewidth\":0,\"ticks\":\"\"}},\"type\":\"parcoords\"}],\"pie\":[{\"automargin\":true,\"type\":\"pie\"}],\"scatter3d\":[{\"line\":{\"colorbar\":{\"outlinewidth\":0,\"ticks\":\"\"}},\"marker\":{\"colorbar\":{\"outlinewidth\":0,\"ticks\":\"\"}},\"type\":\"scatter3d\"}],\"scattercarpet\":[{\"marker\":{\"colorbar\":{\"outlinewidth\":0,\"ticks\":\"\"}},\"type\":\"scattercarpet\"}],\"scattergeo\":[{\"marker\":{\"colorbar\":{\"outlinewidth\":0,\"ticks\":\"\"}},\"type\":\"scattergeo\"}],\"scattergl\":[{\"marker\":{\"colorbar\":{\"outlinewidth\":0,\"ticks\":\"\"}},\"type\":\"scattergl\"}],\"scattermapbox\":[{\"marker\":{\"colorbar\":{\"outlinewidth\":0,\"ticks\":\"\"}},\"type\":\"scattermapbox\"}],\"scatterpolargl\":[{\"marker\":{\"colorbar\":{\"outlinewidth\":0,\"ticks\":\"\"}},\"type\":\"scatterpolargl\"}],\"scatterpolar\":[{\"marker\":{\"colorbar\":{\"outlinewidth\":0,\"ticks\":\"\"}},\"type\":\"scatterpolar\"}],\"scatter\":[{\"fillpattern\":{\"fillmode\":\"overlay\",\"size\":10,\"solidity\":0.2},\"type\":\"scatter\"}],\"scatterternary\":[{\"marker\":{\"colorbar\":{\"outlinewidth\":0,\"ticks\":\"\"}},\"type\":\"scatterternary\"}],\"surface\":[{\"colorbar\":{\"outlinewidth\":0,\"ticks\":\"\"},\"colorscale\":[[0.0,\"#0d0887\"],[0.1111111111111111,\"#46039f\"],[0.2222222222222222,\"#7201a8\"],[0.3333333333333333,\"#9c179e\"],[0.4444444444444444,\"#bd3786\"],[0.5555555555555556,\"#d8576b\"],[0.6666666666666666,\"#ed7953\"],[0.7777777777777778,\"#fb9f3a\"],[0.8888888888888888,\"#fdca26\"],[1.0,\"#f0f921\"]],\"type\":\"surface\"}],\"table\":[{\"cells\":{\"fill\":{\"color\":\"#EBF0F8\"},\"line\":{\"color\":\"white\"}},\"header\":{\"fill\":{\"color\":\"#C8D4E3\"},\"line\":{\"color\":\"white\"}},\"type\":\"table\"}]},\"layout\":{\"annotationdefaults\":{\"arrowcolor\":\"#2a3f5f\",\"arrowhead\":0,\"arrowwidth\":1},\"autotypenumbers\":\"strict\",\"coloraxis\":{\"colorbar\":{\"outlinewidth\":0,\"ticks\":\"\"}},\"colorscale\":{\"diverging\":[[0,\"#8e0152\"],[0.1,\"#c51b7d\"],[0.2,\"#de77ae\"],[0.3,\"#f1b6da\"],[0.4,\"#fde0ef\"],[0.5,\"#f7f7f7\"],[0.6,\"#e6f5d0\"],[0.7,\"#b8e186\"],[0.8,\"#7fbc41\"],[0.9,\"#4d9221\"],[1,\"#276419\"]],\"sequential\":[[0.0,\"#0d0887\"],[0.1111111111111111,\"#46039f\"],[0.2222222222222222,\"#7201a8\"],[0.3333333333333333,\"#9c179e\"],[0.4444444444444444,\"#bd3786\"],[0.5555555555555556,\"#d8576b\"],[0.6666666666666666,\"#ed7953\"],[0.7777777777777778,\"#fb9f3a\"],[0.8888888888888888,\"#fdca26\"],[1.0,\"#f0f921\"]],\"sequentialminus\":[[0.0,\"#0d0887\"],[0.1111111111111111,\"#46039f\"],[0.2222222222222222,\"#7201a8\"],[0.3333333333333333,\"#9c179e\"],[0.4444444444444444,\"#bd3786\"],[0.5555555555555556,\"#d8576b\"],[0.6666666666666666,\"#ed7953\"],[0.7777777777777778,\"#fb9f3a\"],[0.8888888888888888,\"#fdca26\"],[1.0,\"#f0f921\"]]},\"colorway\":[\"#636efa\",\"#EF553B\",\"#00cc96\",\"#ab63fa\",\"#FFA15A\",\"#19d3f3\",\"#FF6692\",\"#B6E880\",\"#FF97FF\",\"#FECB52\"],\"font\":{\"color\":\"#2a3f5f\"},\"geo\":{\"bgcolor\":\"white\",\"lakecolor\":\"white\",\"landcolor\":\"#E5ECF6\",\"showlakes\":true,\"showland\":true,\"subunitcolor\":\"white\"},\"hoverlabel\":{\"align\":\"left\"},\"hovermode\":\"closest\",\"mapbox\":{\"style\":\"light\"},\"paper_bgcolor\":\"white\",\"plot_bgcolor\":\"#E5ECF6\",\"polar\":{\"angularaxis\":{\"gridcolor\":\"white\",\"linecolor\":\"white\",\"ticks\":\"\"},\"bgcolor\":\"#E5ECF6\",\"radialaxis\":{\"gridcolor\":\"white\",\"linecolor\":\"white\",\"ticks\":\"\"}},\"scene\":{\"xaxis\":{\"backgroundcolor\":\"#E5ECF6\",\"gridcolor\":\"white\",\"gridwidth\":2,\"linecolor\":\"white\",\"showbackground\":true,\"ticks\":\"\",\"zerolinecolor\":\"white\"},\"yaxis\":{\"backgroundcolor\":\"#E5ECF6\",\"gridcolor\":\"white\",\"gridwidth\":2,\"linecolor\":\"white\",\"showbackground\":true,\"ticks\":\"\",\"zerolinecolor\":\"white\"},\"zaxis\":{\"backgroundcolor\":\"#E5ECF6\",\"gridcolor\":\"white\",\"gridwidth\":2,\"linecolor\":\"white\",\"showbackground\":true,\"ticks\":\"\",\"zerolinecolor\":\"white\"}},\"shapedefaults\":{\"line\":{\"color\":\"#2a3f5f\"}},\"ternary\":{\"aaxis\":{\"gridcolor\":\"white\",\"linecolor\":\"white\",\"ticks\":\"\"},\"baxis\":{\"gridcolor\":\"white\",\"linecolor\":\"white\",\"ticks\":\"\"},\"bgcolor\":\"#E5ECF6\",\"caxis\":{\"gridcolor\":\"white\",\"linecolor\":\"white\",\"ticks\":\"\"}},\"title\":{\"x\":0.05},\"xaxis\":{\"automargin\":true,\"gridcolor\":\"white\",\"linecolor\":\"white\",\"ticks\":\"\",\"title\":{\"standoff\":15},\"zerolinecolor\":\"white\",\"zerolinewidth\":2},\"yaxis\":{\"automargin\":true,\"gridcolor\":\"white\",\"linecolor\":\"white\",\"ticks\":\"\",\"title\":{\"standoff\":15},\"zerolinecolor\":\"white\",\"zerolinewidth\":2}}},\"title\":{\"text\":\"PCE\"},\"width\":800,\"xaxis\":{\"dtick\":2,\"gridwidth\":2,\"title\":{\"text\":\"Reported PCE (%)\"},\"zeroline\":false},\"yaxis\":{\"gridwidth\":2,\"title\":{\"text\":\"Predicted PCE (%)\"},\"zeroline\":false}},                        {\"responsive\": true}                    ).then(function(){\n",
       "                            \n",
       "var gd = document.getElementById('58ae75be-3c3d-41ba-a136-cb132597459e');\n",
       "var x = new MutationObserver(function (mutations, observer) {{\n",
       "        var display = window.getComputedStyle(gd).display;\n",
       "        if (!display || display === 'none') {{\n",
       "            console.log([gd, 'removed!']);\n",
       "            Plotly.purge(gd);\n",
       "            observer.disconnect();\n",
       "        }}\n",
       "}});\n",
       "\n",
       "// Listen for the removal of the full notebook cells\n",
       "var notebookContainer = gd.closest('#notebook-container');\n",
       "if (notebookContainer) {{\n",
       "    x.observe(notebookContainer, {childList: true});\n",
       "}}\n",
       "\n",
       "// Listen for the clearing of the current output cell\n",
       "var outputEl = gd.closest('.output');\n",
       "if (outputEl) {{\n",
       "    x.observe(outputEl, {childList: true});\n",
       "}}\n",
       "\n",
       "                        })                };                });            </script>        </div>"
      ]
     },
     "metadata": {},
     "output_type": "display_data"
    }
   ],
   "source": [
    "import plotly\n",
    "import plotly.graph_objs as go\n",
    "from plotly.offline import iplot\n",
    "plotly.offline.init_notebook_mode(connected=True)\n",
    "\n",
    "layout0= go.Layout(title= \"PCE\", hovermode= 'closest',\n",
    "                   font = dict(family='Times New Roman',size=28),\n",
    "                   xaxis= dict(title= 'Reported PCE (%)',zeroline= False, gridwidth= 2, dtick=2),\n",
    "                   yaxis= dict(title= 'Predicted PCE (%)',zeroline= False, gridwidth= 2),#range=[-350,3750]),\n",
    "                   height=600,\n",
    "                   width=800,\n",
    "                   showlegend= True                 \n",
    ")\n",
    "\n",
    "fit  = np.linspace(min(y_test), max(y_test))\n",
    "trace0 = go.Scatter(x = y_test, y = pred, mode = 'markers', marker= dict(size= 12, color= 'blue'),name='Test Data')\n",
    "# trace1 = go.Scatter(x = test_outputs ,y = y_pred, mode = 'markers', text=test_inputs.index,marker= dict(size= 12, color= 'red'), \n",
    "#                     error_y = dict(type='data',array=y_std,visible=True),name='Testing Data')\n",
    "trace2 = go.Scatter(x = fit ,y = fit, mode = 'lines', marker= dict(size= 12, color= 'black'), text = 'Fit',name='Linear Fit')\n",
    "\n",
    "data = [trace0,trace2]\n",
    "fig= go.Figure(data, layout=layout0)\n",
    "iplot(fig)"
   ]
  },
  {
   "cell_type": "code",
   "execution_count": null,
   "metadata": {},
   "outputs": [],
   "source": []
  },
  {
   "cell_type": "code",
   "execution_count": null,
   "metadata": {},
   "outputs": [],
   "source": []
  }
 ],
 "metadata": {
  "accelerator": "GPU",
  "colab": {
   "collapsed_sections": [],
   "machine_shape": "hm",
   "name": "Untitled6.ipynb",
   "provenance": []
  },
  "hide_input": false,
  "kernelspec": {
   "display_name": "Python 3 (ipykernel)",
   "language": "python",
   "name": "python3"
  },
  "language_info": {
   "codemirror_mode": {
    "name": "ipython",
    "version": 3
   },
   "file_extension": ".py",
   "mimetype": "text/x-python",
   "name": "python",
   "nbconvert_exporter": "python",
   "pygments_lexer": "ipython3",
   "version": "3.7.13"
  }
 },
 "nbformat": 4,
 "nbformat_minor": 1
}
