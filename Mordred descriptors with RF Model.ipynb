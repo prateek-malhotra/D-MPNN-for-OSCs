{
 "cells": [
  {
   "cell_type": "markdown",
   "metadata": {},
   "source": [
    "# Importing libraries"
   ]
  },
  {
   "cell_type": "code",
   "execution_count": 1,
   "metadata": {},
   "outputs": [
    {
     "name": "stderr",
     "output_type": "stream",
     "text": [
      "C:\\Users\\prate\\anaconda3\\envs\\chemprop\\lib\\site-packages\\tqdm\\auto.py:22: TqdmWarning: IProgress not found. Please update jupyter and ipywidgets. See https://ipywidgets.readthedocs.io/en/stable/user_install.html\n",
      "  from .autonotebook import tqdm as notebook_tqdm\n",
      "WARNING:root:No normalization for BCUT2D_MWHI\n",
      "WARNING:root:No normalization for BCUT2D_MWLOW\n",
      "WARNING:root:No normalization for BCUT2D_CHGHI\n",
      "WARNING:root:No normalization for BCUT2D_CHGLO\n",
      "WARNING:root:No normalization for BCUT2D_LOGPHI\n",
      "WARNING:root:No normalization for BCUT2D_LOGPLOW\n",
      "WARNING:root:No normalization for BCUT2D_MRHI\n",
      "WARNING:root:No normalization for BCUT2D_MRLOW\n"
     ]
    }
   ],
   "source": [
    "import os\n",
    "import chemprop\n",
    "import pandas as pd\n",
    "import numpy as np\n",
    "import matplotlib.pyplot as plt\n",
    "from matplotlib.offsetbox import AnchoredText\n",
    "from sklearn.metrics import mean_absolute_error, mean_squared_error\n",
    "from sklearn.decomposition import PCA"
   ]
  },
  {
   "cell_type": "code",
   "execution_count": 2,
   "metadata": {},
   "outputs": [],
   "source": [
    "def plot_parity(y_true, y_pred, y_pred_unc=None):\n",
    "    \n",
    "    axmin = min(min(y_true), min(y_pred)) - 0.1*(max(y_true)-min(y_true))\n",
    "    axmax = max(max(y_true), max(y_pred)) + 0.1*(max(y_true)-min(y_true))\n",
    "    \n",
    "    mae = mean_absolute_error(y_true, y_pred)\n",
    "    rmse = mean_squared_error(y_true, y_pred, squared=False)\n",
    "    \n",
    "    plt.plot([axmin, axmax], [axmin, axmax], '--k')\n",
    "\n",
    "    plt.errorbar(y_true, y_pred, yerr=y_pred_unc, linewidth=0, marker='o', markeredgecolor='w', alpha=1, elinewidth=1)\n",
    "    \n",
    "    plt.xlim((axmin, axmax))\n",
    "    plt.ylim((axmin, axmax))\n",
    "    \n",
    "    ax = plt.gca()\n",
    "    ax.set_aspect('equal')\n",
    "    \n",
    "    at = AnchoredText(\n",
    "    f\"MAE = {mae:.2f}\\nRMSE = {rmse:.2f}\", prop=dict(size=10), frameon=True, loc='upper left')\n",
    "    at.patch.set_boxstyle(\"round,pad=0.,rounding_size=0.2\")\n",
    "    ax.add_artist(at)\n",
    "    \n",
    "    plt.xlabel('True')\n",
    "    plt.ylabel('Chemprop Predicted')\n",
    "    \n",
    "    plt.show()\n",
    "    \n",
    "    return"
   ]
  },
  {
   "cell_type": "markdown",
   "metadata": {},
   "source": [
    "# Generate Mordred descriptors"
   ]
  },
  {
   "cell_type": "code",
   "execution_count": 3,
   "metadata": {},
   "outputs": [],
   "source": [
    "# import pandas as pd\n",
    "# import numpy as np\n",
    "\n",
    "# X_train = pd.read_csv('test_checkpoints_reg/fold_0/train_full.csv')\n",
    "# X_train = X_train.drop(['PCE_max(%)'], axis = 1)\n",
    "# X_train = X_train.drop([191])  # Mordred is  not able to calculate descriptors for acceptor at this posotion\n",
    "# X_train\n",
    "\n",
    "# X_val=pd.read_csv('test_checkpoints_reg/fold_0/val_full.csv')\n",
    "# X_val = X_val.drop(['PCE_max(%)'], axis = 1)\n",
    "# X_val\n",
    "\n",
    "# X_test=pd.read_csv('test_checkpoints_reg/fold_0/test_full.csv')\n",
    "# X_test = X_test.drop(['PCE_max(%)'], axis = 1)\n",
    "# X_test\n",
    "\n",
    "\n",
    "# from rdkit.Chem import Descriptors\n",
    "# from rdkit import Chem\n",
    "# from rdkit.Chem import Draw\n",
    "# from rdkit.Chem.Draw import IPythonConsole\n",
    "# from mordred import Calculator,descriptors\n",
    "\n",
    "\n",
    "# from rdkit.ML.Descriptors import MoleculeDescriptors\n",
    "# des_list = [x[0] for x in Descriptors._descList]\n",
    "\n",
    "# # Calculating Mordred descriptors for donors and acceptors\n",
    "# def mordred_des(d,a):\n",
    "\n",
    "#     smis = d   \n",
    "#     mols = []\n",
    "#     for smi in smis:\n",
    "#         mols.append(Chem.MolFromSmiles(smi))\n",
    "        \n",
    "#     calc_d = Calculator(descriptors,ignore_3D=True)\n",
    "    \n",
    "# #     return calc_d.pandas(mols)\n",
    "\n",
    "\n",
    "#     smis = a   \n",
    "#     mols = []\n",
    "#     for smi in smis:\n",
    "#         mols.append(Chem.MolFromSmiles(smi))\n",
    "        \n",
    "#     calc_a = Calculator(descriptors,ignore_3D=True)\n",
    "    \n",
    "#     return pd.concat([calc_d.pandas(mols),calc_a.pandas(mols)], axis=1)\n",
    "\n",
    "\n",
    "# D_smiles = X_train[\"p(SMILES)\"]\n",
    "# A_smiles = X_train[\"n(SMILES)\"]\n",
    "# X_train_mordred = mordred_des(D_smiles,A_smiles)\n",
    "\n",
    "# D_smiles = X_val[\"p(SMILES)\"]\n",
    "# A_smiles = X_val[\"n(SMILES)\"]\n",
    "# X_val_mordred = mordred_des(D_smiles,A_smiles)\n",
    "\n",
    "# D_smiles = X_test[\"p(SMILES)\"]\n",
    "# A_smiles = X_test[\"n(SMILES)\"]\n",
    "# X_test_mordred = mordred_des(D_smiles,A_smiles)\n",
    "\n",
    "# X_train_mordred.to_csv('X_train_mordred.csv')\n",
    "# X_val_mordred.to_csv('X_val_mordred.csv')\n",
    "# X_test_mordred.to_csv('X_test_mordred.csv')\n"
   ]
  },
  {
   "cell_type": "markdown",
   "metadata": {},
   "source": [
    "# Read saved mordred descriptors file"
   ]
  },
  {
   "cell_type": "code",
   "execution_count": 4,
   "metadata": {},
   "outputs": [
    {
     "name": "stderr",
     "output_type": "stream",
     "text": [
      "C:\\Users\\prate\\anaconda3\\envs\\chemprop\\lib\\site-packages\\IPython\\core\\interactiveshell.py:3457: DtypeWarning: Columns (234,235,236,237,238,239,240,241,242,342,343,344,345,346,347,348,349,350,450,451,452,453,454,455,456,457,546,547,548,549,550,551,552,553,642,643,781,782,2669,2671,2674,2679,2697,2748,2750,2753,2758,2776,2839,2840,2841,2842,2843,2844,2845,2846,2847,2848,2849,2850,2851,2852,2855,2858,2860,2973,2974,2975,2983,3196) have mixed types.Specify dtype option on import or set low_memory=False.\n",
      "  exec(code_obj, self.user_global_ns, self.user_ns)\n"
     ]
    }
   ],
   "source": [
    "X_train_mordred = pd.read_csv('X_train_mordred.csv')\n",
    "X_val_mordred = pd.read_csv('X_val_mordred.csv')\n",
    "X_test_mordred = pd.read_csv('X_test_mordred.csv')"
   ]
  },
  {
   "cell_type": "code",
   "execution_count": 5,
   "metadata": {},
   "outputs": [],
   "source": [
    "y_train=pd.read_csv('test_checkpoints_reg/fold_0/train_full.csv')\n",
    "y_train = y_train.drop(['p(SMILES)', 'n(SMILES)'], axis = 1)\n",
    "y_train=y_train.drop([191])  # Mordred is  not able to calculate descriptors for acceptor at this posotion\n",
    "\n",
    "y_val=pd.read_csv('test_checkpoints_reg/fold_0/val_full.csv')\n",
    "y_val = y_val.drop(['p(SMILES)', 'n(SMILES)'], axis = 1)\n",
    "\n",
    "y_test=pd.read_csv('test_checkpoints_reg/fold_0/test_full.csv')\n",
    "y_test = y_test.drop(['p(SMILES)', 'n(SMILES)'], axis = 1)"
   ]
  },
  {
   "cell_type": "code",
   "execution_count": 6,
   "metadata": {},
   "outputs": [
    {
     "name": "stdout",
     "output_type": "stream",
     "text": [
      "Features with zero standard deviation : 367\n",
      "Features with correlation more than 0.8 : 2068\n"
     ]
    }
   ],
   "source": [
    "all_data = pd.concat([X_train_mordred,X_val_mordred,X_test_mordred])\n",
    "\n",
    "all_data=all_data.select_dtypes(include='number')  \n",
    "print('Features with zero standard deviation :',len(all_data.std()[all_data.std() == 0])) #displaying features with zero std deviation\n",
    "all_data=all_data.drop(all_data.std()[all_data.std() == 0].index.values, axis=1)  # Dropping features with zero std deviation\n",
    "all_data = all_data.replace([np.inf, -np.inf], np.nan)\n",
    "all_data = all_data.replace(np.nan,0)  #replace null values with zero\n",
    "\n",
    "def correlation(dataset, threshold):\n",
    "    col_corr = set()  # Set of all the names of correlated columns\n",
    "    corr_matrix = dataset.corr()\n",
    "    for i in range(len(corr_matrix.columns)):\n",
    "        for j in range(i):\n",
    "            if (corr_matrix.iloc[i, j]) > threshold: # we are interested in absolute coeff value\n",
    "                colname = corr_matrix.columns[i]  # getting the name of column\n",
    "                col_corr.add(colname)\n",
    "    return col_corr\n",
    "corr_features = correlation(all_data, 0.8)\n",
    "print('Features with correlation more than 0.8 :',len(set(corr_features)))\n",
    "all_data=all_data.drop(corr_features,axis=1)   # Dropping features with correlation more than 0.8\n",
    "\n",
    "X_train_mordred=X_train_mordred[all_data.columns]\n",
    "X_val_mordred=X_val_mordred[all_data.columns]\n",
    "X_test_mordred=X_test_mordred[all_data.columns]"
   ]
  },
  {
   "cell_type": "code",
   "execution_count": 7,
   "metadata": {},
   "outputs": [],
   "source": [
    "# Defining Metrics\n",
    "def R2Score(X,Y):\n",
    "    r2=metrics.r2_score(X,Y)\n",
    "    return r2\n",
    "def PearsonCoefficient(X, Y):\n",
    "    corr, _ = pearsonr(X,Y)\n",
    "    return corr\n",
    "def MSE(X,Y):\n",
    "    mse=mean_squared_error(X,Y)\n",
    "    return mse\n",
    "def RMSE(X,Y):\n",
    "    rmse=np.sqrt(mean_squared_error(X,Y))\n",
    "    return rmse\n",
    "def MAPE(X,Y):\n",
    "    mape=np.average(abs(np.array(X)-np.array(Y))/np.array(Y))*100\n",
    "    return mape\n",
    "\n",
    "\n",
    "from sklearn.metrics import r2_score\n",
    "import sklearn.metrics as metrics\n",
    "from scipy.stats.stats import pearsonr"
   ]
  },
  {
   "cell_type": "code",
   "execution_count": 8,
   "metadata": {},
   "outputs": [
    {
     "name": "stdout",
     "output_type": "stream",
     "text": [
      "{'n_estimators': [50, 100, 150, 200, 250, 300], 'max_features': ['auto', 'sqrt'], 'min_samples_split': [2, 5, 10], 'min_samples_leaf': [1, 2, 4], 'bootstrap': [True, False]}\n"
     ]
    }
   ],
   "source": [
    "from sklearn.model_selection import GridSearchCV\n",
    "# Number of trees in random forest\n",
    "n_estimators = [int(x) for x in np.linspace(start = 50, stop = 300, num = 6)]\n",
    "# Number of features to consider at every split\n",
    "max_features = ['auto', 'sqrt']\n",
    "# Maximum number of levels in tree\n",
    "# max_depth = [int(x) for x in np.linspace(10, 100, num = 5)]\n",
    "# max_depth.append(None)\n",
    "# Minimum number of samples required to split a node\n",
    "min_samples_split = [2, 5, 10]\n",
    "# Minimum number of samples required at each leaf node\n",
    "min_samples_leaf = [1, 2, 4]\n",
    "# Method of selecting samples for training each tree\n",
    "bootstrap = [True, False]\n",
    "# Create the random grid\n",
    "param_grid = {'n_estimators': n_estimators,\n",
    "               'max_features': max_features,\n",
    "#                'max_depth': max_depth,\n",
    "               'min_samples_split': min_samples_split,\n",
    "               'min_samples_leaf': min_samples_leaf,\n",
    "               'bootstrap': bootstrap}\n",
    "print(param_grid)"
   ]
  },
  {
   "cell_type": "code",
   "execution_count": 9,
   "metadata": {},
   "outputs": [],
   "source": [
    "from sklearn.ensemble import RandomForestRegressor"
   ]
  },
  {
   "cell_type": "code",
   "execution_count": 10,
   "metadata": {},
   "outputs": [
    {
     "name": "stdout",
     "output_type": "stream",
     "text": [
      "Fitting 5 folds for each of 216 candidates, totalling 1080 fits\n"
     ]
    },
    {
     "name": "stderr",
     "output_type": "stream",
     "text": [
      "C:\\Users\\prate\\anaconda3\\envs\\chemprop\\lib\\site-packages\\sklearn\\model_selection\\_search.py:926: DataConversionWarning: A column-vector y was passed when a 1d array was expected. Please change the shape of y to (n_samples,), for example using ravel().\n",
      "  self.best_estimator_.fit(X, y, **fit_params)\n"
     ]
    },
    {
     "data": {
      "text/plain": [
       "{'bootstrap': False,\n",
       " 'max_features': 'sqrt',\n",
       " 'min_samples_leaf': 1,\n",
       " 'min_samples_split': 10,\n",
       " 'n_estimators': 300}"
      ]
     },
     "execution_count": 10,
     "metadata": {},
     "output_type": "execute_result"
    }
   ],
   "source": [
    "rf = RandomForestRegressor()\n",
    "tune_rf = GridSearchCV(estimator=rf, param_grid=param_grid, scoring='neg_mean_squared_error', n_jobs=-1, verbose=3)\n",
    "tune_rf.fit(X_train_mordred, y_train)\n",
    "# print clf.best_score_\n",
    "tune_rf.best_params_"
   ]
  },
  {
   "cell_type": "code",
   "execution_count": 11,
   "metadata": {},
   "outputs": [],
   "source": [
    "# from sklearn.ensemble import RandomForestRegressor\n",
    " \n",
    "#  # create regressor object\n",
    "# regressor = RandomForestRegressor(random_state = 42)\n",
    " \n",
    "# # fit the regressor with x and y data\n",
    "# regressor.fit(X_train_mordred, y_train) \n",
    "\n",
    "# pred = regressor.predict(X_test_mordred)\n",
    "\n",
    "# y_test = y_test.to_numpy().ravel()"
   ]
  },
  {
   "cell_type": "code",
   "execution_count": 12,
   "metadata": {},
   "outputs": [
    {
     "name": "stderr",
     "output_type": "stream",
     "text": [
      "C:\\Users\\prate\\anaconda3\\envs\\chemprop\\lib\\site-packages\\ipykernel_launcher.py:7: DataConversionWarning: A column-vector y was passed when a 1d array was expected. Please change the shape of y to (n_samples,), for example using ravel().\n",
      "  import sys\n"
     ]
    }
   ],
   "source": [
    "from sklearn.ensemble import RandomForestRegressor\n",
    " \n",
    " # create regressor object\n",
    "regressor = RandomForestRegressor(**tune_rf.best_params_,random_state = 42)\n",
    " \n",
    "# fit the regressor with x and y data\n",
    "regressor.fit(X_train_mordred, y_train) \n",
    "\n",
    "pred = regressor.predict(X_test_mordred)\n",
    "\n",
    "y_test = y_test.to_numpy().ravel()"
   ]
  },
  {
   "cell_type": "code",
   "execution_count": 15,
   "metadata": {},
   "outputs": [
    {
     "data": {
      "image/png": "[encoded data removed]",
      "text/plain": [
       "<Figure size 432x288 with 1 Axes>"
      ]
     },
     "metadata": {
      "needs_background": "light"
     },
     "output_type": "display_data"
    }
   ],
   "source": [
    "plot_parity(y_test, pred)"
   ]
  },
  {
   "cell_type": "code",
   "execution_count": 16,
   "metadata": {},
   "outputs": [
    {
     "data": {
      "text/plain": [
       "0.8175258751167327"
      ]
     },
     "execution_count": 16,
     "metadata": {},
     "output_type": "execute_result"
    }
   ],
   "source": [
    "PearsonCoefficient(y_test, pred)"
   ]
  },
  {
   "cell_type": "code",
   "execution_count": 17,
   "metadata": {},
   "outputs": [
    {
     "data": {
      "text/plain": [
       "0.6642568399806956"
      ]
     },
     "execution_count": 17,
     "metadata": {},
     "output_type": "execute_result"
    }
   ],
   "source": [
    "R2Score(y_test, pred)"
   ]
  },
  {
   "cell_type": "code",
   "execution_count": 18,
   "metadata": {},
   "outputs": [
    {
     "data": {
      "text/plain": [
       "2.213066296367535"
      ]
     },
     "execution_count": 18,
     "metadata": {},
     "output_type": "execute_result"
    }
   ],
   "source": [
    "import numpy as np\n",
    "RMSE(y_test, pred)"
   ]
  },
  {
   "cell_type": "code",
   "execution_count": 20,
   "metadata": {},
   "outputs": [
    {
     "data": {
      "text/html": [
       "        <script type=\"text/javascript\">\n",
       "        window.PlotlyConfig = {MathJaxConfig: 'local'};\n",
       "        if (window.MathJax && window.MathJax.Hub && window.MathJax.Hub.Config) {window.MathJax.Hub.Config({SVG: {font: \"STIX-Web\"}});}\n",
       "        if (typeof require !== 'undefined') {\n",
       "        require.undef(\"plotly\");\n",
       "        requirejs.config({\n",
       "            paths: {\n",
       "                'plotly': ['https://cdn.plot.ly/plotly-2.16.1.min']\n",
       "            }\n",
       "        });\n",
       "        require(['plotly'], function(Plotly) {\n",
       "            window._Plotly = Plotly;\n",
       "        });\n",
       "        }\n",
       "        </script>\n",
       "        "
      ]
     },
     "metadata": {},
     "output_type": "display_data"
    },
    {
     "data": {
      "application/vnd.plotly.v1+json": {
       "config": {
        "linkText": "Export to plot.ly",
        "plotlyServerURL": "https://plot.ly",
        "showLink": false
       },
       "data": [
        {
         "marker": {
          "color": "blue",
          "size": 12
         },
         "mode": "markers",
         "name": "Test Data",
         "type": "scatter",
         "x": [
          0.32,
          7.9,
          5.24,
          11.53,
          8.67,
          10.62,
          11.5,
          6.91,
          13.13,
          1.6,
          11.91,
          7.3,
          8.12,
          4.03,
          9.2,
          11,
          1.87,
          2.28,
          6.3,
          11.02,
          13.2,
          13.15,
          1.71,
          2.93,
          9.19,
          7.4,
          12.1,
          10.81,
          4.39,
          12.6,
          10.1,
          7.92,
          1.3,
          13.46,
          2.06,
          6.69,
          11.82,
          12.05,
          11.29,
          4.3,
          1.1,
          12.74,
          11.03,
          11.25,
          9.3,
          10.27,
          10.52,
          8.61,
          10.8,
          2.76,
          6.32,
          12.02,
          12.12,
          5.8,
          3.38,
          10.2,
          7.6,
          13.13,
          4.69,
          5.45,
          6.61,
          13.46,
          12.87,
          9.81,
          10.24,
          5.95,
          10.42,
          8.9,
          9.24,
          12.8,
          10.05,
          13.16,
          3.3,
          15.6,
          6,
          15.3,
          13.1,
          2.11,
          0.1,
          3.83,
          11.87,
          13.1,
          8.64,
          5.3,
          11.93,
          10.9,
          3.7,
          7.11,
          13.9,
          5.48,
          6.3,
          13.41,
          6.5,
          12.21,
          11.53,
          6.09,
          4.11,
          3.68,
          7.13,
          7.86,
          8.42,
          10.51,
          0.57,
          10.51,
          9.16,
          3.95,
          9.36,
          8.33,
          7.4,
          5.59,
          10.41,
          8.13,
          11.22,
          11.1,
          13,
          12.86,
          11.06,
          11.08,
          10.04,
          7.52,
          13.5,
          7.57,
          16.1,
          8.34,
          10.5,
          11.41,
          11.9,
          6.31,
          8.27,
          0.45,
          7.73,
          1.26
         ],
         "y": [
          1.2452054497354497,
          6.477362050264552,
          4.8215536243386214,
          7.964224325396822,
          5.969245000000003,
          11.73419133597883,
          11.856286071428569,
          5.6616764285714325,
          11.376817499999994,
          2.4673941137566144,
          12.329525780423278,
          5.070000317460318,
          9.611979060846561,
          3.73630119047619,
          9.841402976190475,
          9.275629775132273,
          2.3174958201058207,
          3.9731987698412716,
          5.033632156084653,
          11.094844854497364,
          7.950532473544976,
          11.005672632275123,
          2.410957222222222,
          7.483057579365071,
          9.32830435185189,
          8.390353055555552,
          8.73360096560846,
          9.886743584656083,
          4.737614801587303,
          11.715797804232812,
          10.048875317460322,
          9.158968597883593,
          0.4012364814814809,
          10.342786375661369,
          4.784349788359788,
          7.422702645502647,
          4.167532989417985,
          7.635605873015879,
          11.126737182539683,
          3.254617698412699,
          4.5759118386243385,
          8.200034682539687,
          10.658053769841272,
          8.728727447089945,
          9.328071018518559,
          7.577622870370374,
          8.853350449735442,
          9.786017354497357,
          12.179686164021161,
          6.751878796296295,
          10.449744841269839,
          12.055286838624337,
          12.66119671957672,
          6.0911932539682505,
          8.582825462962962,
          9.503817910052915,
          7.462015648148148,
          8.300348439153437,
          5.3594124735449755,
          7.486477407407403,
          7.5403128968253945,
          9.742900634920636,
          13.317621084656084,
          10.507149047619043,
          13.339074021164011,
          8.381315780423277,
          9.752372870370369,
          10.23959730158731,
          12.545058439153426,
          8.937812526455026,
          9.38256189153443,
          9.571822883597887,
          7.30215947089947,
          15.530031944444445,
          4.091540079365078,
          15.530031944444445,
          12.127250000000055,
          2.0491867989417982,
          1.033347222222223,
          6.245679933862437,
          10.711898518518508,
          11.357539179894179,
          6.265594285714291,
          5.400761507936508,
          13.226846177248673,
          10.786945608465603,
          6.741065608465606,
          6.695311746031743,
          11.010297182539691,
          5.583766230158732,
          8.024605251322749,
          11.728722804232815,
          6.899048597883603,
          9.910353571428574,
          11.463362407407402,
          7.181508888888887,
          3.6831206349206354,
          4.616600462962962,
          5.897862407407412,
          7.449603333333329,
          7.602796851851852,
          12.055346124338618,
          2.471798187830688,
          13.226846177248673,
          5.490523280423281,
          5.864658730158724,
          10.657275912698411,
          10.790341732804247,
          8.534980304232807,
          4.945690171957669,
          12.068481283068783,
          8.315629074074081,
          10.75086054232805,
          5.6108311243386275,
          10.686760595238097,
          12.297410013227498,
          6.525692261904755,
          10.881806521164034,
          8.96071933862434,
          10.410952195767187,
          11.970858981481479,
          8.247445767195765,
          11.131114603174588,
          9.783384642857142,
          7.939226957671961,
          10.881806521164034,
          11.505696137566138,
          6.330913703703699,
          8.29144817460318,
          1.8473665608465604,
          7.518928968253975,
          2.0811266798941794
         ]
        },
        {
         "marker": {
          "color": "black",
          "size": 12
         },
         "mode": "lines",
         "name": "Linear Fit",
         "text": "Fit",
         "type": "scatter",
         "x": [
          0.1,
          0.42653061224489797,
          0.7530612244897958,
          1.079591836734694,
          1.4061224489795918,
          1.7326530612244897,
          2.059183673469388,
          2.3857142857142857,
          2.7122448979591836,
          3.0387755102040814,
          3.3653061224489793,
          3.691836734693877,
          4.018367346938775,
          4.3448979591836725,
          4.671428571428571,
          4.997959183673468,
          5.324489795918367,
          5.651020408163265,
          5.977551020408162,
          6.304081632653061,
          6.630612244897958,
          6.957142857142856,
          7.283673469387754,
          7.610204081632652,
          7.9367346938775505,
          8.263265306122449,
          8.589795918367345,
          8.916326530612244,
          9.242857142857142,
          9.56938775510204,
          9.895918367346937,
          10.222448979591835,
          10.548979591836734,
          10.875510204081632,
          11.20204081632653,
          11.528571428571427,
          11.855102040816325,
          12.181632653061223,
          12.508163265306122,
          12.834693877551018,
          13.161224489795917,
          13.487755102040815,
          13.814285714285713,
          14.140816326530611,
          14.467346938775508,
          14.793877551020406,
          15.120408163265305,
          15.446938775510203,
          15.773469387755101,
          16.1
         ],
         "y": [
          0.1,
          0.42653061224489797,
          0.7530612244897958,
          1.079591836734694,
          1.4061224489795918,
          1.7326530612244897,
          2.059183673469388,
          2.3857142857142857,
          2.7122448979591836,
          3.0387755102040814,
          3.3653061224489793,
          3.691836734693877,
          4.018367346938775,
          4.3448979591836725,
          4.671428571428571,
          4.997959183673468,
          5.324489795918367,
          5.651020408163265,
          5.977551020408162,
          6.304081632653061,
          6.630612244897958,
          6.957142857142856,
          7.283673469387754,
          7.610204081632652,
          7.9367346938775505,
          8.263265306122449,
          8.589795918367345,
          8.916326530612244,
          9.242857142857142,
          9.56938775510204,
          9.895918367346937,
          10.222448979591835,
          10.548979591836734,
          10.875510204081632,
          11.20204081632653,
          11.528571428571427,
          11.855102040816325,
          12.181632653061223,
          12.508163265306122,
          12.834693877551018,
          13.161224489795917,
          13.487755102040815,
          13.814285714285713,
          14.140816326530611,
          14.467346938775508,
          14.793877551020406,
          15.120408163265305,
          15.446938775510203,
          15.773469387755101,
          16.1
         ]
        }
       ],
       "layout": {
        "font": {
         "family": "Times New Roman",
         "size": 28
        },
        "height": 600,
        "hovermode": "closest",
        "showlegend": true,
        "template": {
         "data": {
          "bar": [
           {
            "error_x": {
             "color": "#2a3f5f"
            },
            "error_y": {
             "color": "#2a3f5f"
            },
            "marker": {
             "line": {
              "color": "#E5ECF6",
              "width": 0.5
             },
             "pattern": {
              "fillmode": "overlay",
              "size": 10,
              "solidity": 0.2
             }
            },
            "type": "bar"
           }
          ],
          "barpolar": [
           {
            "marker": {
             "line": {
              "color": "#E5ECF6",
              "width": 0.5
             },
             "pattern": {
              "fillmode": "overlay",
              "size": 10,
              "solidity": 0.2
             }
            },
            "type": "barpolar"
           }
          ],
          "carpet": [
           {
            "aaxis": {
             "endlinecolor": "#2a3f5f",
             "gridcolor": "white",
             "linecolor": "white",
             "minorgridcolor": "white",
             "startlinecolor": "#2a3f5f"
            },
            "baxis": {
             "endlinecolor": "#2a3f5f",
             "gridcolor": "white",
             "linecolor": "white",
             "minorgridcolor": "white",
             "startlinecolor": "#2a3f5f"
            },
            "type": "carpet"
           }
          ],
          "choropleth": [
           {
            "colorbar": {
             "outlinewidth": 0,
             "ticks": ""
            },
            "type": "choropleth"
           }
          ],
          "contour": [
           {
            "colorbar": {
             "outlinewidth": 0,
             "ticks": ""
            },
            "colorscale": [
             [
              0,
              "#0d0887"
             ],
             [
              0.1111111111111111,
              "#46039f"
             ],
             [
              0.2222222222222222,
              "#7201a8"
             ],
             [
              0.3333333333333333,
              "#9c179e"
             ],
             [
              0.4444444444444444,
              "#bd3786"
             ],
             [
              0.5555555555555556,
              "#d8576b"
             ],
             [
              0.6666666666666666,
              "#ed7953"
             ],
             [
              0.7777777777777778,
              "#fb9f3a"
             ],
             [
              0.8888888888888888,
              "#fdca26"
             ],
             [
              1,
              "#f0f921"
             ]
            ],
            "type": "contour"
           }
          ],
          "contourcarpet": [
           {
            "colorbar": {
             "outlinewidth": 0,
             "ticks": ""
            },
            "type": "contourcarpet"
           }
          ],
          "heatmap": [
           {
            "colorbar": {
             "outlinewidth": 0,
             "ticks": ""
            },
            "colorscale": [
             [
              0,
              "#0d0887"
             ],
             [
              0.1111111111111111,
              "#46039f"
             ],
             [
              0.2222222222222222,
              "#7201a8"
             ],
             [
              0.3333333333333333,
              "#9c179e"
             ],
             [
              0.4444444444444444,
              "#bd3786"
             ],
             [
              0.5555555555555556,
              "#d8576b"
             ],
             [
              0.6666666666666666,
              "#ed7953"
             ],
             [
              0.7777777777777778,
              "#fb9f3a"
             ],
             [
              0.8888888888888888,
              "#fdca26"
             ],
             [
              1,
              "#f0f921"
             ]
            ],
            "type": "heatmap"
           }
          ],
          "heatmapgl": [
           {
            "colorbar": {
             "outlinewidth": 0,
             "ticks": ""
            },
            "colorscale": [
             [
              0,
              "#0d0887"
             ],
             [
              0.1111111111111111,
              "#46039f"
             ],
             [
              0.2222222222222222,
              "#7201a8"
             ],
             [
              0.3333333333333333,
              "#9c179e"
             ],
             [
              0.4444444444444444,
              "#bd3786"
             ],
             [
              0.5555555555555556,
              "#d8576b"
             ],
             [
              0.6666666666666666,
              "#ed7953"
             ],
             [
              0.7777777777777778,
              "#fb9f3a"
             ],
             [
              0.8888888888888888,
              "#fdca26"
             ],
             [
              1,
              "#f0f921"
             ]
            ],
            "type": "heatmapgl"
           }
          ],
          "histogram": [
           {
            "marker": {
             "pattern": {
              "fillmode": "overlay",
              "size": 10,
              "solidity": 0.2
             }
            },
            "type": "histogram"
           }
          ],
          "histogram2d": [
           {
            "colorbar": {
             "outlinewidth": 0,
             "ticks": ""
            },
            "colorscale": [
             [
              0,
              "#0d0887"
             ],
             [
              0.1111111111111111,
              "#46039f"
             ],
             [
              0.2222222222222222,
              "#7201a8"
             ],
             [
              0.3333333333333333,
              "#9c179e"
             ],
             [
              0.4444444444444444,
              "#bd3786"
             ],
             [
              0.5555555555555556,
              "#d8576b"
             ],
             [
              0.6666666666666666,
              "#ed7953"
             ],
             [
              0.7777777777777778,
              "#fb9f3a"
             ],
             [
              0.8888888888888888,
              "#fdca26"
             ],
             [
              1,
              "#f0f921"
             ]
            ],
            "type": "histogram2d"
           }
          ],
          "histogram2dcontour": [
           {
            "colorbar": {
             "outlinewidth": 0,
             "ticks": ""
            },
            "colorscale": [
             [
              0,
              "#0d0887"
             ],
             [
              0.1111111111111111,
              "#46039f"
             ],
             [
              0.2222222222222222,
              "#7201a8"
             ],
             [
              0.3333333333333333,
              "#9c179e"
             ],
             [
              0.4444444444444444,
              "#bd3786"
             ],
             [
              0.5555555555555556,
              "#d8576b"
             ],
             [
              0.6666666666666666,
              "#ed7953"
             ],
             [
              0.7777777777777778,
              "#fb9f3a"
             ],
             [
              0.8888888888888888,
              "#fdca26"
             ],
             [
              1,
              "#f0f921"
             ]
            ],
            "type": "histogram2dcontour"
           }
          ],
          "mesh3d": [
           {
            "colorbar": {
             "outlinewidth": 0,
             "ticks": ""
            },
            "type": "mesh3d"
           }
          ],
          "parcoords": [
           {
            "line": {
             "colorbar": {
              "outlinewidth": 0,
              "ticks": ""
             }
            },
            "type": "parcoords"
           }
          ],
          "pie": [
           {
            "automargin": true,
            "type": "pie"
           }
          ],
          "scatter": [
           {
            "fillpattern": {
             "fillmode": "overlay",
             "size": 10,
             "solidity": 0.2
            },
            "type": "scatter"
           }
          ],
          "scatter3d": [
           {
            "line": {
             "colorbar": {
              "outlinewidth": 0,
              "ticks": ""
             }
            },
            "marker": {
             "colorbar": {
              "outlinewidth": 0,
              "ticks": ""
             }
            },
            "type": "scatter3d"
           }
          ],
          "scattercarpet": [
           {
            "marker": {
             "colorbar": {
              "outlinewidth": 0,
              "ticks": ""
             }
            },
            "type": "scattercarpet"
           }
          ],
          "scattergeo": [
           {
            "marker": {
             "colorbar": {
              "outlinewidth": 0,
              "ticks": ""
             }
            },
            "type": "scattergeo"
           }
          ],
          "scattergl": [
           {
            "marker": {
             "colorbar": {
              "outlinewidth": 0,
              "ticks": ""
             }
            },
            "type": "scattergl"
           }
          ],
          "scattermapbox": [
           {
            "marker": {
             "colorbar": {
              "outlinewidth": 0,
              "ticks": ""
             }
            },
            "type": "scattermapbox"
           }
          ],
          "scatterpolar": [
           {
            "marker": {
             "colorbar": {
              "outlinewidth": 0,
              "ticks": ""
             }
            },
            "type": "scatterpolar"
           }
          ],
          "scatterpolargl": [
           {
            "marker": {
             "colorbar": {
              "outlinewidth": 0,
              "ticks": ""
             }
            },
            "type": "scatterpolargl"
           }
          ],
          "scatterternary": [
           {
            "marker": {
             "colorbar": {
              "outlinewidth": 0,
              "ticks": ""
             }
            },
            "type": "scatterternary"
           }
          ],
          "surface": [
           {
            "colorbar": {
             "outlinewidth": 0,
             "ticks": ""
            },
            "colorscale": [
             [
              0,
              "#0d0887"
             ],
             [
              0.1111111111111111,
              "#46039f"
             ],
             [
              0.2222222222222222,
              "#7201a8"
             ],
             [
              0.3333333333333333,
              "#9c179e"
             ],
             [
              0.4444444444444444,
              "#bd3786"
             ],
             [
              0.5555555555555556,
              "#d8576b"
             ],
             [
              0.6666666666666666,
              "#ed7953"
             ],
             [
              0.7777777777777778,
              "#fb9f3a"
             ],
             [
              0.8888888888888888,
              "#fdca26"
             ],
             [
              1,
              "#f0f921"
             ]
            ],
            "type": "surface"
           }
          ],
          "table": [
           {
            "cells": {
             "fill": {
              "color": "#EBF0F8"
             },
             "line": {
              "color": "white"
             }
            },
            "header": {
             "fill": {
              "color": "#C8D4E3"
             },
             "line": {
              "color": "white"
             }
            },
            "type": "table"
           }
          ]
         },
         "layout": {
          "annotationdefaults": {
           "arrowcolor": "#2a3f5f",
           "arrowhead": 0,
           "arrowwidth": 1
          },
          "autotypenumbers": "strict",
          "coloraxis": {
           "colorbar": {
            "outlinewidth": 0,
            "ticks": ""
           }
          },
          "colorscale": {
           "diverging": [
            [
             0,
             "#8e0152"
            ],
            [
             0.1,
             "#c51b7d"
            ],
            [
             0.2,
             "#de77ae"
            ],
            [
             0.3,
             "#f1b6da"
            ],
            [
             0.4,
             "#fde0ef"
            ],
            [
             0.5,
             "#f7f7f7"
            ],
            [
             0.6,
             "#e6f5d0"
            ],
            [
             0.7,
             "#b8e186"
            ],
            [
             0.8,
             "#7fbc41"
            ],
            [
             0.9,
             "#4d9221"
            ],
            [
             1,
             "#276419"
            ]
           ],
           "sequential": [
            [
             0,
             "#0d0887"
            ],
            [
             0.1111111111111111,
             "#46039f"
            ],
            [
             0.2222222222222222,
             "#7201a8"
            ],
            [
             0.3333333333333333,
             "#9c179e"
            ],
            [
             0.4444444444444444,
             "#bd3786"
            ],
            [
             0.5555555555555556,
             "#d8576b"
            ],
            [
             0.6666666666666666,
             "#ed7953"
            ],
            [
             0.7777777777777778,
             "#fb9f3a"
            ],
            [
             0.8888888888888888,
             "#fdca26"
            ],
            [
             1,
             "#f0f921"
            ]
           ],
           "sequentialminus": [
            [
             0,
             "#0d0887"
            ],
            [
             0.1111111111111111,
             "#46039f"
            ],
            [
             0.2222222222222222,
             "#7201a8"
            ],
            [
             0.3333333333333333,
             "#9c179e"
            ],
            [
             0.4444444444444444,
             "#bd3786"
            ],
            [
             0.5555555555555556,
             "#d8576b"
            ],
            [
             0.6666666666666666,
             "#ed7953"
            ],
            [
             0.7777777777777778,
             "#fb9f3a"
            ],
            [
             0.8888888888888888,
             "#fdca26"
            ],
            [
             1,
             "#f0f921"
            ]
           ]
          },
          "colorway": [
           "#636efa",
           "#EF553B",
           "#00cc96",
           "#ab63fa",
           "#FFA15A",
           "#19d3f3",
           "#FF6692",
           "#B6E880",
           "#FF97FF",
           "#FECB52"
          ],
          "font": {
           "color": "#2a3f5f"
          },
          "geo": {
           "bgcolor": "white",
           "lakecolor": "white",
           "landcolor": "#E5ECF6",
           "showlakes": true,
           "showland": true,
           "subunitcolor": "white"
          },
          "hoverlabel": {
           "align": "left"
          },
          "hovermode": "closest",
          "mapbox": {
           "style": "light"
          },
          "paper_bgcolor": "white",
          "plot_bgcolor": "#E5ECF6",
          "polar": {
           "angularaxis": {
            "gridcolor": "white",
            "linecolor": "white",
            "ticks": ""
           },
           "bgcolor": "#E5ECF6",
           "radialaxis": {
            "gridcolor": "white",
            "linecolor": "white",
            "ticks": ""
           }
          },
          "scene": {
           "xaxis": {
            "backgroundcolor": "#E5ECF6",
            "gridcolor": "white",
            "gridwidth": 2,
            "linecolor": "white",
            "showbackground": true,
            "ticks": "",
            "zerolinecolor": "white"
           },
           "yaxis": {
            "backgroundcolor": "#E5ECF6",
            "gridcolor": "white",
            "gridwidth": 2,
            "linecolor": "white",
            "showbackground": true,
            "ticks": "",
            "zerolinecolor": "white"
           },
           "zaxis": {
            "backgroundcolor": "#E5ECF6",
            "gridcolor": "white",
            "gridwidth": 2,
            "linecolor": "white",
            "showbackground": true,
            "ticks": "",
            "zerolinecolor": "white"
           }
          },
          "shapedefaults": {
           "line": {
            "color": "#2a3f5f"
           }
          },
          "ternary": {
           "aaxis": {
            "gridcolor": "white",
            "linecolor": "white",
            "ticks": ""
           },
           "baxis": {
            "gridcolor": "white",
            "linecolor": "white",
            "ticks": ""
           },
           "bgcolor": "#E5ECF6",
           "caxis": {
            "gridcolor": "white",
            "linecolor": "white",
            "ticks": ""
           }
          },
          "title": {
           "x": 0.05
          },
          "xaxis": {
           "automargin": true,
           "gridcolor": "white",
           "linecolor": "white",
           "ticks": "",
           "title": {
            "standoff": 15
           },
           "zerolinecolor": "white",
           "zerolinewidth": 2
          },
          "yaxis": {
           "automargin": true,
           "gridcolor": "white",
           "linecolor": "white",
           "ticks": "",
           "title": {
            "standoff": 15
           },
           "zerolinecolor": "white",
           "zerolinewidth": 2
          }
         }
        },
        "title": {
         "text": "PCE"
        },
        "width": 800,
        "xaxis": {
         "dtick": 2,
         "gridwidth": 2,
         "title": {
          "text": "Reported PCE (%)"
         },
         "zeroline": false
        },
        "yaxis": {
         "gridwidth": 2,
         "title": {
          "text": "Predicted PCE (%)"
         },
         "zeroline": false
        }
       }
      },
      "text/html": [
       "<div>                            <div id=\"14836930-dd26-476c-8839-67242b1376ee\" class=\"plotly-graph-div\" style=\"height:600px; width:800px;\"></div>            <script type=\"text/javascript\">                require([\"plotly\"], function(Plotly) {                    window.PLOTLYENV=window.PLOTLYENV || {};                                    if (document.getElementById(\"14836930-dd26-476c-8839-67242b1376ee\")) {                    Plotly.newPlot(                        \"14836930-dd26-476c-8839-67242b1376ee\",                        [{\"marker\":{\"color\":\"blue\",\"size\":12},\"mode\":\"markers\",\"name\":\"Test Data\",\"x\":[0.32,7.9,5.24,11.53,8.67,10.62,11.5,6.91,13.13,1.6,11.91,7.3,8.12,4.03,9.2,11.0,1.87,2.28,6.3,11.02,13.2,13.15,1.71,2.93,9.19,7.4,12.1,10.81,4.39,12.6,10.1,7.92,1.3,13.46,2.06,6.69,11.82,12.05,11.29,4.3,1.1,12.74,11.03,11.25,9.3,10.27,10.52,8.61,10.8,2.76,6.32,12.02,12.12,5.8,3.38,10.2,7.6,13.13,4.69,5.45,6.61,13.46,12.87,9.81,10.24,5.95,10.42,8.9,9.24,12.8,10.05,13.16,3.3,15.6,6.0,15.3,13.1,2.11,0.1,3.83,11.87,13.1,8.64,5.3,11.93,10.9,3.7,7.11,13.9,5.48,6.3,13.41,6.5,12.21,11.53,6.09,4.11,3.68,7.13,7.86,8.42,10.51,0.57,10.51,9.16,3.95,9.36,8.33,7.4,5.59,10.41,8.13,11.22,11.1,13.0,12.86,11.06,11.08,10.04,7.52,13.5,7.57,16.1,8.34,10.5,11.41,11.9,6.31,8.27,0.45,7.73,1.26],\"y\":[1.2452054497354497,6.477362050264552,4.8215536243386214,7.964224325396822,5.969245000000003,11.73419133597883,11.856286071428569,5.6616764285714325,11.376817499999994,2.4673941137566144,12.329525780423278,5.070000317460318,9.611979060846561,3.73630119047619,9.841402976190475,9.275629775132273,2.3174958201058207,3.9731987698412716,5.033632156084653,11.094844854497364,7.950532473544976,11.005672632275123,2.410957222222222,7.483057579365071,9.32830435185189,8.390353055555552,8.73360096560846,9.886743584656083,4.737614801587303,11.715797804232812,10.048875317460322,9.158968597883593,0.4012364814814809,10.342786375661369,4.784349788359788,7.422702645502647,4.167532989417985,7.635605873015879,11.126737182539683,3.254617698412699,4.5759118386243385,8.200034682539687,10.658053769841272,8.728727447089945,9.328071018518559,7.577622870370374,8.853350449735442,9.786017354497357,12.179686164021161,6.751878796296295,10.449744841269839,12.055286838624337,12.66119671957672,6.0911932539682505,8.582825462962962,9.503817910052915,7.462015648148148,8.300348439153437,5.3594124735449755,7.486477407407403,7.5403128968253945,9.742900634920636,13.317621084656084,10.507149047619043,13.339074021164011,8.381315780423277,9.752372870370369,10.23959730158731,12.545058439153426,8.937812526455026,9.38256189153443,9.571822883597887,7.30215947089947,15.530031944444445,4.091540079365078,15.530031944444445,12.127250000000055,2.0491867989417982,1.033347222222223,6.245679933862437,10.711898518518508,11.357539179894179,6.265594285714291,5.400761507936508,13.226846177248673,10.786945608465603,6.741065608465606,6.695311746031743,11.010297182539691,5.583766230158732,8.024605251322749,11.728722804232815,6.899048597883603,9.910353571428574,11.463362407407402,7.181508888888887,3.6831206349206354,4.616600462962962,5.897862407407412,7.449603333333329,7.602796851851852,12.055346124338618,2.471798187830688,13.226846177248673,5.490523280423281,5.864658730158724,10.657275912698411,10.790341732804247,8.534980304232807,4.945690171957669,12.068481283068783,8.315629074074081,10.75086054232805,5.6108311243386275,10.686760595238097,12.297410013227498,6.525692261904755,10.881806521164034,8.96071933862434,10.410952195767187,11.970858981481479,8.247445767195765,11.131114603174588,9.783384642857142,7.939226957671961,10.881806521164034,11.505696137566138,6.330913703703699,8.29144817460318,1.8473665608465604,7.518928968253975,2.0811266798941794],\"type\":\"scatter\"},{\"marker\":{\"color\":\"black\",\"size\":12},\"mode\":\"lines\",\"name\":\"Linear Fit\",\"text\":\"Fit\",\"x\":[0.1,0.42653061224489797,0.7530612244897958,1.079591836734694,1.4061224489795918,1.7326530612244897,2.059183673469388,2.3857142857142857,2.7122448979591836,3.0387755102040814,3.3653061224489793,3.691836734693877,4.018367346938775,4.3448979591836725,4.671428571428571,4.997959183673468,5.324489795918367,5.651020408163265,5.977551020408162,6.304081632653061,6.630612244897958,6.957142857142856,7.283673469387754,7.610204081632652,7.9367346938775505,8.263265306122449,8.589795918367345,8.916326530612244,9.242857142857142,9.56938775510204,9.895918367346937,10.222448979591835,10.548979591836734,10.875510204081632,11.20204081632653,11.528571428571427,11.855102040816325,12.181632653061223,12.508163265306122,12.834693877551018,13.161224489795917,13.487755102040815,13.814285714285713,14.140816326530611,14.467346938775508,14.793877551020406,15.120408163265305,15.446938775510203,15.773469387755101,16.1],\"y\":[0.1,0.42653061224489797,0.7530612244897958,1.079591836734694,1.4061224489795918,1.7326530612244897,2.059183673469388,2.3857142857142857,2.7122448979591836,3.0387755102040814,3.3653061224489793,3.691836734693877,4.018367346938775,4.3448979591836725,4.671428571428571,4.997959183673468,5.324489795918367,5.651020408163265,5.977551020408162,6.304081632653061,6.630612244897958,6.957142857142856,7.283673469387754,7.610204081632652,7.9367346938775505,8.263265306122449,8.589795918367345,8.916326530612244,9.242857142857142,9.56938775510204,9.895918367346937,10.222448979591835,10.548979591836734,10.875510204081632,11.20204081632653,11.528571428571427,11.855102040816325,12.181632653061223,12.508163265306122,12.834693877551018,13.161224489795917,13.487755102040815,13.814285714285713,14.140816326530611,14.467346938775508,14.793877551020406,15.120408163265305,15.446938775510203,15.773469387755101,16.1],\"type\":\"scatter\"}],                        {\"font\":{\"family\":\"Times New Roman\",\"size\":28},\"height\":600,\"hovermode\":\"closest\",\"showlegend\":true,\"template\":{\"data\":{\"barpolar\":[{\"marker\":{\"line\":{\"color\":\"#E5ECF6\",\"width\":0.5},\"pattern\":{\"fillmode\":\"overlay\",\"size\":10,\"solidity\":0.2}},\"type\":\"barpolar\"}],\"bar\":[{\"error_x\":{\"color\":\"#2a3f5f\"},\"error_y\":{\"color\":\"#2a3f5f\"},\"marker\":{\"line\":{\"color\":\"#E5ECF6\",\"width\":0.5},\"pattern\":{\"fillmode\":\"overlay\",\"size\":10,\"solidity\":0.2}},\"type\":\"bar\"}],\"carpet\":[{\"aaxis\":{\"endlinecolor\":\"#2a3f5f\",\"gridcolor\":\"white\",\"linecolor\":\"white\",\"minorgridcolor\":\"white\",\"startlinecolor\":\"#2a3f5f\"},\"baxis\":{\"endlinecolor\":\"#2a3f5f\",\"gridcolor\":\"white\",\"linecolor\":\"white\",\"minorgridcolor\":\"white\",\"startlinecolor\":\"#2a3f5f\"},\"type\":\"carpet\"}],\"choropleth\":[{\"colorbar\":{\"outlinewidth\":0,\"ticks\":\"\"},\"type\":\"choropleth\"}],\"contourcarpet\":[{\"colorbar\":{\"outlinewidth\":0,\"ticks\":\"\"},\"type\":\"contourcarpet\"}],\"contour\":[{\"colorbar\":{\"outlinewidth\":0,\"ticks\":\"\"},\"colorscale\":[[0.0,\"#0d0887\"],[0.1111111111111111,\"#46039f\"],[0.2222222222222222,\"#7201a8\"],[0.3333333333333333,\"#9c179e\"],[0.4444444444444444,\"#bd3786\"],[0.5555555555555556,\"#d8576b\"],[0.6666666666666666,\"#ed7953\"],[0.7777777777777778,\"#fb9f3a\"],[0.8888888888888888,\"#fdca26\"],[1.0,\"#f0f921\"]],\"type\":\"contour\"}],\"heatmapgl\":[{\"colorbar\":{\"outlinewidth\":0,\"ticks\":\"\"},\"colorscale\":[[0.0,\"#0d0887\"],[0.1111111111111111,\"#46039f\"],[0.2222222222222222,\"#7201a8\"],[0.3333333333333333,\"#9c179e\"],[0.4444444444444444,\"#bd3786\"],[0.5555555555555556,\"#d8576b\"],[0.6666666666666666,\"#ed7953\"],[0.7777777777777778,\"#fb9f3a\"],[0.8888888888888888,\"#fdca26\"],[1.0,\"#f0f921\"]],\"type\":\"heatmapgl\"}],\"heatmap\":[{\"colorbar\":{\"outlinewidth\":0,\"ticks\":\"\"},\"colorscale\":[[0.0,\"#0d0887\"],[0.1111111111111111,\"#46039f\"],[0.2222222222222222,\"#7201a8\"],[0.3333333333333333,\"#9c179e\"],[0.4444444444444444,\"#bd3786\"],[0.5555555555555556,\"#d8576b\"],[0.6666666666666666,\"#ed7953\"],[0.7777777777777778,\"#fb9f3a\"],[0.8888888888888888,\"#fdca26\"],[1.0,\"#f0f921\"]],\"type\":\"heatmap\"}],\"histogram2dcontour\":[{\"colorbar\":{\"outlinewidth\":0,\"ticks\":\"\"},\"colorscale\":[[0.0,\"#0d0887\"],[0.1111111111111111,\"#46039f\"],[0.2222222222222222,\"#7201a8\"],[0.3333333333333333,\"#9c179e\"],[0.4444444444444444,\"#bd3786\"],[0.5555555555555556,\"#d8576b\"],[0.6666666666666666,\"#ed7953\"],[0.7777777777777778,\"#fb9f3a\"],[0.8888888888888888,\"#fdca26\"],[1.0,\"#f0f921\"]],\"type\":\"histogram2dcontour\"}],\"histogram2d\":[{\"colorbar\":{\"outlinewidth\":0,\"ticks\":\"\"},\"colorscale\":[[0.0,\"#0d0887\"],[0.1111111111111111,\"#46039f\"],[0.2222222222222222,\"#7201a8\"],[0.3333333333333333,\"#9c179e\"],[0.4444444444444444,\"#bd3786\"],[0.5555555555555556,\"#d8576b\"],[0.6666666666666666,\"#ed7953\"],[0.7777777777777778,\"#fb9f3a\"],[0.8888888888888888,\"#fdca26\"],[1.0,\"#f0f921\"]],\"type\":\"histogram2d\"}],\"histogram\":[{\"marker\":{\"pattern\":{\"fillmode\":\"overlay\",\"size\":10,\"solidity\":0.2}},\"type\":\"histogram\"}],\"mesh3d\":[{\"colorbar\":{\"outlinewidth\":0,\"ticks\":\"\"},\"type\":\"mesh3d\"}],\"parcoords\":[{\"line\":{\"colorbar\":{\"outlinewidth\":0,\"ticks\":\"\"}},\"type\":\"parcoords\"}],\"pie\":[{\"automargin\":true,\"type\":\"pie\"}],\"scatter3d\":[{\"line\":{\"colorbar\":{\"outlinewidth\":0,\"ticks\":\"\"}},\"marker\":{\"colorbar\":{\"outlinewidth\":0,\"ticks\":\"\"}},\"type\":\"scatter3d\"}],\"scattercarpet\":[{\"marker\":{\"colorbar\":{\"outlinewidth\":0,\"ticks\":\"\"}},\"type\":\"scattercarpet\"}],\"scattergeo\":[{\"marker\":{\"colorbar\":{\"outlinewidth\":0,\"ticks\":\"\"}},\"type\":\"scattergeo\"}],\"scattergl\":[{\"marker\":{\"colorbar\":{\"outlinewidth\":0,\"ticks\":\"\"}},\"type\":\"scattergl\"}],\"scattermapbox\":[{\"marker\":{\"colorbar\":{\"outlinewidth\":0,\"ticks\":\"\"}},\"type\":\"scattermapbox\"}],\"scatterpolargl\":[{\"marker\":{\"colorbar\":{\"outlinewidth\":0,\"ticks\":\"\"}},\"type\":\"scatterpolargl\"}],\"scatterpolar\":[{\"marker\":{\"colorbar\":{\"outlinewidth\":0,\"ticks\":\"\"}},\"type\":\"scatterpolar\"}],\"scatter\":[{\"fillpattern\":{\"fillmode\":\"overlay\",\"size\":10,\"solidity\":0.2},\"type\":\"scatter\"}],\"scatterternary\":[{\"marker\":{\"colorbar\":{\"outlinewidth\":0,\"ticks\":\"\"}},\"type\":\"scatterternary\"}],\"surface\":[{\"colorbar\":{\"outlinewidth\":0,\"ticks\":\"\"},\"colorscale\":[[0.0,\"#0d0887\"],[0.1111111111111111,\"#46039f\"],[0.2222222222222222,\"#7201a8\"],[0.3333333333333333,\"#9c179e\"],[0.4444444444444444,\"#bd3786\"],[0.5555555555555556,\"#d8576b\"],[0.6666666666666666,\"#ed7953\"],[0.7777777777777778,\"#fb9f3a\"],[0.8888888888888888,\"#fdca26\"],[1.0,\"#f0f921\"]],\"type\":\"surface\"}],\"table\":[{\"cells\":{\"fill\":{\"color\":\"#EBF0F8\"},\"line\":{\"color\":\"white\"}},\"header\":{\"fill\":{\"color\":\"#C8D4E3\"},\"line\":{\"color\":\"white\"}},\"type\":\"table\"}]},\"layout\":{\"annotationdefaults\":{\"arrowcolor\":\"#2a3f5f\",\"arrowhead\":0,\"arrowwidth\":1},\"autotypenumbers\":\"strict\",\"coloraxis\":{\"colorbar\":{\"outlinewidth\":0,\"ticks\":\"\"}},\"colorscale\":{\"diverging\":[[0,\"#8e0152\"],[0.1,\"#c51b7d\"],[0.2,\"#de77ae\"],[0.3,\"#f1b6da\"],[0.4,\"#fde0ef\"],[0.5,\"#f7f7f7\"],[0.6,\"#e6f5d0\"],[0.7,\"#b8e186\"],[0.8,\"#7fbc41\"],[0.9,\"#4d9221\"],[1,\"#276419\"]],\"sequential\":[[0.0,\"#0d0887\"],[0.1111111111111111,\"#46039f\"],[0.2222222222222222,\"#7201a8\"],[0.3333333333333333,\"#9c179e\"],[0.4444444444444444,\"#bd3786\"],[0.5555555555555556,\"#d8576b\"],[0.6666666666666666,\"#ed7953\"],[0.7777777777777778,\"#fb9f3a\"],[0.8888888888888888,\"#fdca26\"],[1.0,\"#f0f921\"]],\"sequentialminus\":[[0.0,\"#0d0887\"],[0.1111111111111111,\"#46039f\"],[0.2222222222222222,\"#7201a8\"],[0.3333333333333333,\"#9c179e\"],[0.4444444444444444,\"#bd3786\"],[0.5555555555555556,\"#d8576b\"],[0.6666666666666666,\"#ed7953\"],[0.7777777777777778,\"#fb9f3a\"],[0.8888888888888888,\"#fdca26\"],[1.0,\"#f0f921\"]]},\"colorway\":[\"#636efa\",\"#EF553B\",\"#00cc96\",\"#ab63fa\",\"#FFA15A\",\"#19d3f3\",\"#FF6692\",\"#B6E880\",\"#FF97FF\",\"#FECB52\"],\"font\":{\"color\":\"#2a3f5f\"},\"geo\":{\"bgcolor\":\"white\",\"lakecolor\":\"white\",\"landcolor\":\"#E5ECF6\",\"showlakes\":true,\"showland\":true,\"subunitcolor\":\"white\"},\"hoverlabel\":{\"align\":\"left\"},\"hovermode\":\"closest\",\"mapbox\":{\"style\":\"light\"},\"paper_bgcolor\":\"white\",\"plot_bgcolor\":\"#E5ECF6\",\"polar\":{\"angularaxis\":{\"gridcolor\":\"white\",\"linecolor\":\"white\",\"ticks\":\"\"},\"bgcolor\":\"#E5ECF6\",\"radialaxis\":{\"gridcolor\":\"white\",\"linecolor\":\"white\",\"ticks\":\"\"}},\"scene\":{\"xaxis\":{\"backgroundcolor\":\"#E5ECF6\",\"gridcolor\":\"white\",\"gridwidth\":2,\"linecolor\":\"white\",\"showbackground\":true,\"ticks\":\"\",\"zerolinecolor\":\"white\"},\"yaxis\":{\"backgroundcolor\":\"#E5ECF6\",\"gridcolor\":\"white\",\"gridwidth\":2,\"linecolor\":\"white\",\"showbackground\":true,\"ticks\":\"\",\"zerolinecolor\":\"white\"},\"zaxis\":{\"backgroundcolor\":\"#E5ECF6\",\"gridcolor\":\"white\",\"gridwidth\":2,\"linecolor\":\"white\",\"showbackground\":true,\"ticks\":\"\",\"zerolinecolor\":\"white\"}},\"shapedefaults\":{\"line\":{\"color\":\"#2a3f5f\"}},\"ternary\":{\"aaxis\":{\"gridcolor\":\"white\",\"linecolor\":\"white\",\"ticks\":\"\"},\"baxis\":{\"gridcolor\":\"white\",\"linecolor\":\"white\",\"ticks\":\"\"},\"bgcolor\":\"#E5ECF6\",\"caxis\":{\"gridcolor\":\"white\",\"linecolor\":\"white\",\"ticks\":\"\"}},\"title\":{\"x\":0.05},\"xaxis\":{\"automargin\":true,\"gridcolor\":\"white\",\"linecolor\":\"white\",\"ticks\":\"\",\"title\":{\"standoff\":15},\"zerolinecolor\":\"white\",\"zerolinewidth\":2},\"yaxis\":{\"automargin\":true,\"gridcolor\":\"white\",\"linecolor\":\"white\",\"ticks\":\"\",\"title\":{\"standoff\":15},\"zerolinecolor\":\"white\",\"zerolinewidth\":2}}},\"title\":{\"text\":\"PCE\"},\"width\":800,\"xaxis\":{\"dtick\":2,\"gridwidth\":2,\"title\":{\"text\":\"Reported PCE (%)\"},\"zeroline\":false},\"yaxis\":{\"gridwidth\":2,\"title\":{\"text\":\"Predicted PCE (%)\"},\"zeroline\":false}},                        {\"responsive\": true}                    ).then(function(){\n",
       "                            \n",
       "var gd = document.getElementById('14836930-dd26-476c-8839-67242b1376ee');\n",
       "var x = new MutationObserver(function (mutations, observer) {{\n",
       "        var display = window.getComputedStyle(gd).display;\n",
       "        if (!display || display === 'none') {{\n",
       "            console.log([gd, 'removed!']);\n",
       "            Plotly.purge(gd);\n",
       "            observer.disconnect();\n",
       "        }}\n",
       "}});\n",
       "\n",
       "// Listen for the removal of the full notebook cells\n",
       "var notebookContainer = gd.closest('#notebook-container');\n",
       "if (notebookContainer) {{\n",
       "    x.observe(notebookContainer, {childList: true});\n",
       "}}\n",
       "\n",
       "// Listen for the clearing of the current output cell\n",
       "var outputEl = gd.closest('.output');\n",
       "if (outputEl) {{\n",
       "    x.observe(outputEl, {childList: true});\n",
       "}}\n",
       "\n",
       "                        })                };                });            </script>        </div>"
      ]
     },
     "metadata": {},
     "output_type": "display_data"
    }
   ],
   "source": [
    "import plotly\n",
    "import plotly.graph_objs as go\n",
    "from plotly.offline import iplot\n",
    "plotly.offline.init_notebook_mode(connected=True)\n",
    "\n",
    "layout0= go.Layout(title= \"PCE\", hovermode= 'closest',\n",
    "                   font = dict(family='Times New Roman',size=28),\n",
    "                   xaxis= dict(title= 'Reported PCE (%)',zeroline= False, gridwidth= 2, dtick=2),\n",
    "                   yaxis= dict(title= 'Predicted PCE (%)',zeroline= False, gridwidth= 2),#range=[-350,3750]),\n",
    "                   height=600,\n",
    "                   width=800,\n",
    "                   showlegend= True                 \n",
    ")\n",
    "\n",
    "fit  = np.linspace(min(y_test), max(y_test))\n",
    "trace0 = go.Scatter(x = y_test, y = pred, mode = 'markers', marker= dict(size= 12, color= 'blue'),name='Test Data')\n",
    "# trace1 = go.Scatter(x = test_outputs ,y = y_pred, mode = 'markers', text=test_inputs.index,marker= dict(size= 12, color= 'red'), \n",
    "#                     error_y = dict(type='data',array=y_std,visible=True),name='Testing Data')\n",
    "trace2 = go.Scatter(x = fit ,y = fit, mode = 'lines', marker= dict(size= 12, color= 'black'), text = 'Fit',name='Linear Fit')\n",
    "\n",
    "data = [trace0,trace2]\n",
    "fig= go.Figure(data, layout=layout0)\n",
    "iplot(fig)"
   ]
  }
 ],
 "metadata": {
  "accelerator": "GPU",
  "colab": {
   "collapsed_sections": [],
   "machine_shape": "hm",
   "name": "Untitled6.ipynb",
   "provenance": []
  },
  "hide_input": false,
  "kernelspec": {
   "display_name": "Python 3 (ipykernel)",
   "language": "python",
   "name": "python3"
  },
  "language_info": {
   "codemirror_mode": {
    "name": "ipython",
    "version": 3
   },
   "file_extension": ".py",
   "mimetype": "text/x-python",
   "name": "python",
   "nbconvert_exporter": "python",
   "pygments_lexer": "ipython3",
   "version": "3.7.13"
  }
 },
 "nbformat": 4,
 "nbformat_minor": 1
}
